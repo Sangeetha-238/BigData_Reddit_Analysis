{
 "cells": [
  {
   "cell_type": "code",
   "execution_count": 20,
   "metadata": {},
   "outputs": [],
   "source": [
    "import pandas as pd\n",
    "import warnings\n",
    "warnings.filterwarnings('ignore')"
   ]
  },
  {
   "cell_type": "code",
   "execution_count": 21,
   "metadata": {},
   "outputs": [],
   "source": [
    "df = pd.read_csv(\"../../data/csv/anime_data.csv\")"
   ]
  },
  {
   "cell_type": "code",
   "execution_count": 22,
   "metadata": {},
   "outputs": [
    {
     "data": {
      "text/html": [
       "<div>\n",
       "<style scoped>\n",
       "    .dataframe tbody tr th:only-of-type {\n",
       "        vertical-align: middle;\n",
       "    }\n",
       "\n",
       "    .dataframe tbody tr th {\n",
       "        vertical-align: top;\n",
       "    }\n",
       "\n",
       "    .dataframe thead th {\n",
       "        text-align: right;\n",
       "    }\n",
       "</style>\n",
       "<table border=\"1\" class=\"dataframe\">\n",
       "  <thead>\n",
       "    <tr style=\"text-align: right;\">\n",
       "      <th></th>\n",
       "      <th>Unnamed: 0</th>\n",
       "      <th>title</th>\n",
       "      <th>genre</th>\n",
       "      <th>episodes</th>\n",
       "      <th>popularity</th>\n",
       "      <th>score</th>\n",
       "    </tr>\n",
       "  </thead>\n",
       "  <tbody>\n",
       "    <tr>\n",
       "      <th>0</th>\n",
       "      <td>0</td>\n",
       "      <td>\"0\"</td>\n",
       "      <td>['Music']</td>\n",
       "      <td>1.0</td>\n",
       "      <td>7345.0</td>\n",
       "      <td>4.77</td>\n",
       "    </tr>\n",
       "    <tr>\n",
       "      <th>1</th>\n",
       "      <td>1</td>\n",
       "      <td>\"Aesop\" no Ohanashi yori: Ushi to Kaeru, Yokub...</td>\n",
       "      <td>['Kids']</td>\n",
       "      <td>1.0</td>\n",
       "      <td>12413.0</td>\n",
       "      <td>5.61</td>\n",
       "    </tr>\n",
       "    <tr>\n",
       "      <th>2</th>\n",
       "      <td>2</td>\n",
       "      <td>\"Bungaku Shoujo\" Kyou no Oyatsu: Hatsukoi</td>\n",
       "      <td>['Comedy', 'Fantasy', 'School']</td>\n",
       "      <td>1.0</td>\n",
       "      <td>3466.0</td>\n",
       "      <td>6.96</td>\n",
       "    </tr>\n",
       "    <tr>\n",
       "      <th>3</th>\n",
       "      <td>3</td>\n",
       "      <td>\"Bungaku Shoujo\" Memoire</td>\n",
       "      <td>['Drama', 'Romance', 'School']</td>\n",
       "      <td>3.0</td>\n",
       "      <td>2943.0</td>\n",
       "      <td>7.40</td>\n",
       "    </tr>\n",
       "    <tr>\n",
       "      <th>4</th>\n",
       "      <td>4</td>\n",
       "      <td>\"Bungaku Shoujo\" Movie</td>\n",
       "      <td>['Mystery', 'Drama', 'Romance', 'School']</td>\n",
       "      <td>1.0</td>\n",
       "      <td>1799.0</td>\n",
       "      <td>7.48</td>\n",
       "    </tr>\n",
       "    <tr>\n",
       "      <th>...</th>\n",
       "      <td>...</td>\n",
       "      <td>...</td>\n",
       "      <td>...</td>\n",
       "      <td>...</td>\n",
       "      <td>...</td>\n",
       "      <td>...</td>\n",
       "    </tr>\n",
       "    <tr>\n",
       "      <th>15868</th>\n",
       "      <td>15868</td>\n",
       "      <td>xxxHOLiC Rou</td>\n",
       "      <td>['Mystery', 'Supernatural']</td>\n",
       "      <td>2.0</td>\n",
       "      <td>1869.0</td>\n",
       "      <td>8.21</td>\n",
       "    </tr>\n",
       "    <tr>\n",
       "      <th>15869</th>\n",
       "      <td>15869</td>\n",
       "      <td>xxxHOLiC Shunmuki</td>\n",
       "      <td>['Mystery', 'Comedy', 'Psychological', 'Supern...</td>\n",
       "      <td>2.0</td>\n",
       "      <td>1813.0</td>\n",
       "      <td>8.13</td>\n",
       "    </tr>\n",
       "    <tr>\n",
       "      <th>15870</th>\n",
       "      <td>15870</td>\n",
       "      <td>Üks Uks</td>\n",
       "      <td>['Dementia']</td>\n",
       "      <td>1.0</td>\n",
       "      <td>14107.0</td>\n",
       "      <td>5.71</td>\n",
       "    </tr>\n",
       "    <tr>\n",
       "      <th>15871</th>\n",
       "      <td>15871</td>\n",
       "      <td>ēlDLIVE</td>\n",
       "      <td>['Action', 'Sci-Fi', 'Space', 'Police', 'Shoun...</td>\n",
       "      <td>12.0</td>\n",
       "      <td>2260.0</td>\n",
       "      <td>6.23</td>\n",
       "    </tr>\n",
       "    <tr>\n",
       "      <th>15872</th>\n",
       "      <td>15872</td>\n",
       "      <td>◯</td>\n",
       "      <td>['Dementia', 'Music']</td>\n",
       "      <td>1.0</td>\n",
       "      <td>8820.0</td>\n",
       "      <td>3.80</td>\n",
       "    </tr>\n",
       "  </tbody>\n",
       "</table>\n",
       "<p>15873 rows × 6 columns</p>\n",
       "</div>"
      ],
      "text/plain": [
       "       Unnamed: 0                                              title  \\\n",
       "0               0                                                \"0\"   \n",
       "1               1  \"Aesop\" no Ohanashi yori: Ushi to Kaeru, Yokub...   \n",
       "2               2          \"Bungaku Shoujo\" Kyou no Oyatsu: Hatsukoi   \n",
       "3               3                           \"Bungaku Shoujo\" Memoire   \n",
       "4               4                             \"Bungaku Shoujo\" Movie   \n",
       "...           ...                                                ...   \n",
       "15868       15868                                       xxxHOLiC Rou   \n",
       "15869       15869                                  xxxHOLiC Shunmuki   \n",
       "15870       15870                                            Üks Uks   \n",
       "15871       15871                                            ēlDLIVE   \n",
       "15872       15872                                                  ◯   \n",
       "\n",
       "                                                   genre episodes  popularity  \\\n",
       "0                                              ['Music']      1.0      7345.0   \n",
       "1                                               ['Kids']      1.0     12413.0   \n",
       "2                        ['Comedy', 'Fantasy', 'School']      1.0      3466.0   \n",
       "3                         ['Drama', 'Romance', 'School']      3.0      2943.0   \n",
       "4              ['Mystery', 'Drama', 'Romance', 'School']      1.0      1799.0   \n",
       "...                                                  ...      ...         ...   \n",
       "15868                        ['Mystery', 'Supernatural']      2.0      1869.0   \n",
       "15869  ['Mystery', 'Comedy', 'Psychological', 'Supern...      2.0      1813.0   \n",
       "15870                                       ['Dementia']      1.0     14107.0   \n",
       "15871  ['Action', 'Sci-Fi', 'Space', 'Police', 'Shoun...     12.0      2260.0   \n",
       "15872                              ['Dementia', 'Music']      1.0      8820.0   \n",
       "\n",
       "       score  \n",
       "0       4.77  \n",
       "1       5.61  \n",
       "2       6.96  \n",
       "3       7.40  \n",
       "4       7.48  \n",
       "...      ...  \n",
       "15868   8.21  \n",
       "15869   8.13  \n",
       "15870   5.71  \n",
       "15871   6.23  \n",
       "15872   3.80  \n",
       "\n",
       "[15873 rows x 6 columns]"
      ]
     },
     "execution_count": 22,
     "metadata": {},
     "output_type": "execute_result"
    }
   ],
   "source": [
    "df"
   ]
  },
  {
   "cell_type": "code",
   "execution_count": 23,
   "metadata": {},
   "outputs": [],
   "source": [
    "df.drop(columns=[\"Unnamed: 0\"], inplace=True)"
   ]
  },
  {
   "cell_type": "code",
   "execution_count": 24,
   "metadata": {},
   "outputs": [],
   "source": [
    "df_new = df[df[\"episodes\"] != \"Not specified\"]"
   ]
  },
  {
   "cell_type": "code",
   "execution_count": 25,
   "metadata": {},
   "outputs": [
    {
     "data": {
      "text/html": [
       "<div>\n",
       "<style scoped>\n",
       "    .dataframe tbody tr th:only-of-type {\n",
       "        vertical-align: middle;\n",
       "    }\n",
       "\n",
       "    .dataframe tbody tr th {\n",
       "        vertical-align: top;\n",
       "    }\n",
       "\n",
       "    .dataframe thead th {\n",
       "        text-align: right;\n",
       "    }\n",
       "</style>\n",
       "<table border=\"1\" class=\"dataframe\">\n",
       "  <thead>\n",
       "    <tr style=\"text-align: right;\">\n",
       "      <th></th>\n",
       "      <th>title</th>\n",
       "      <th>genre</th>\n",
       "      <th>episodes</th>\n",
       "      <th>popularity</th>\n",
       "      <th>score</th>\n",
       "    </tr>\n",
       "  </thead>\n",
       "  <tbody>\n",
       "    <tr>\n",
       "      <th>0</th>\n",
       "      <td>\"0\"</td>\n",
       "      <td>['Music']</td>\n",
       "      <td>1.0</td>\n",
       "      <td>7345.0</td>\n",
       "      <td>4.77</td>\n",
       "    </tr>\n",
       "    <tr>\n",
       "      <th>1</th>\n",
       "      <td>\"Aesop\" no Ohanashi yori: Ushi to Kaeru, Yokub...</td>\n",
       "      <td>['Kids']</td>\n",
       "      <td>1.0</td>\n",
       "      <td>12413.0</td>\n",
       "      <td>5.61</td>\n",
       "    </tr>\n",
       "    <tr>\n",
       "      <th>2</th>\n",
       "      <td>\"Bungaku Shoujo\" Kyou no Oyatsu: Hatsukoi</td>\n",
       "      <td>['Comedy', 'Fantasy', 'School']</td>\n",
       "      <td>1.0</td>\n",
       "      <td>3466.0</td>\n",
       "      <td>6.96</td>\n",
       "    </tr>\n",
       "    <tr>\n",
       "      <th>3</th>\n",
       "      <td>\"Bungaku Shoujo\" Memoire</td>\n",
       "      <td>['Drama', 'Romance', 'School']</td>\n",
       "      <td>3.0</td>\n",
       "      <td>2943.0</td>\n",
       "      <td>7.40</td>\n",
       "    </tr>\n",
       "    <tr>\n",
       "      <th>4</th>\n",
       "      <td>\"Bungaku Shoujo\" Movie</td>\n",
       "      <td>['Mystery', 'Drama', 'Romance', 'School']</td>\n",
       "      <td>1.0</td>\n",
       "      <td>1799.0</td>\n",
       "      <td>7.48</td>\n",
       "    </tr>\n",
       "    <tr>\n",
       "      <th>...</th>\n",
       "      <td>...</td>\n",
       "      <td>...</td>\n",
       "      <td>...</td>\n",
       "      <td>...</td>\n",
       "      <td>...</td>\n",
       "    </tr>\n",
       "    <tr>\n",
       "      <th>15868</th>\n",
       "      <td>xxxHOLiC Rou</td>\n",
       "      <td>['Mystery', 'Supernatural']</td>\n",
       "      <td>2.0</td>\n",
       "      <td>1869.0</td>\n",
       "      <td>8.21</td>\n",
       "    </tr>\n",
       "    <tr>\n",
       "      <th>15869</th>\n",
       "      <td>xxxHOLiC Shunmuki</td>\n",
       "      <td>['Mystery', 'Comedy', 'Psychological', 'Supern...</td>\n",
       "      <td>2.0</td>\n",
       "      <td>1813.0</td>\n",
       "      <td>8.13</td>\n",
       "    </tr>\n",
       "    <tr>\n",
       "      <th>15870</th>\n",
       "      <td>Üks Uks</td>\n",
       "      <td>['Dementia']</td>\n",
       "      <td>1.0</td>\n",
       "      <td>14107.0</td>\n",
       "      <td>5.71</td>\n",
       "    </tr>\n",
       "    <tr>\n",
       "      <th>15871</th>\n",
       "      <td>ēlDLIVE</td>\n",
       "      <td>['Action', 'Sci-Fi', 'Space', 'Police', 'Shoun...</td>\n",
       "      <td>12.0</td>\n",
       "      <td>2260.0</td>\n",
       "      <td>6.23</td>\n",
       "    </tr>\n",
       "    <tr>\n",
       "      <th>15872</th>\n",
       "      <td>◯</td>\n",
       "      <td>['Dementia', 'Music']</td>\n",
       "      <td>1.0</td>\n",
       "      <td>8820.0</td>\n",
       "      <td>3.80</td>\n",
       "    </tr>\n",
       "  </tbody>\n",
       "</table>\n",
       "<p>15611 rows × 5 columns</p>\n",
       "</div>"
      ],
      "text/plain": [
       "                                                   title  \\\n",
       "0                                                    \"0\"   \n",
       "1      \"Aesop\" no Ohanashi yori: Ushi to Kaeru, Yokub...   \n",
       "2              \"Bungaku Shoujo\" Kyou no Oyatsu: Hatsukoi   \n",
       "3                               \"Bungaku Shoujo\" Memoire   \n",
       "4                                 \"Bungaku Shoujo\" Movie   \n",
       "...                                                  ...   \n",
       "15868                                       xxxHOLiC Rou   \n",
       "15869                                  xxxHOLiC Shunmuki   \n",
       "15870                                            Üks Uks   \n",
       "15871                                            ēlDLIVE   \n",
       "15872                                                  ◯   \n",
       "\n",
       "                                                   genre episodes  popularity  \\\n",
       "0                                              ['Music']      1.0      7345.0   \n",
       "1                                               ['Kids']      1.0     12413.0   \n",
       "2                        ['Comedy', 'Fantasy', 'School']      1.0      3466.0   \n",
       "3                         ['Drama', 'Romance', 'School']      3.0      2943.0   \n",
       "4              ['Mystery', 'Drama', 'Romance', 'School']      1.0      1799.0   \n",
       "...                                                  ...      ...         ...   \n",
       "15868                        ['Mystery', 'Supernatural']      2.0      1869.0   \n",
       "15869  ['Mystery', 'Comedy', 'Psychological', 'Supern...      2.0      1813.0   \n",
       "15870                                       ['Dementia']      1.0     14107.0   \n",
       "15871  ['Action', 'Sci-Fi', 'Space', 'Police', 'Shoun...     12.0      2260.0   \n",
       "15872                              ['Dementia', 'Music']      1.0      8820.0   \n",
       "\n",
       "       score  \n",
       "0       4.77  \n",
       "1       5.61  \n",
       "2       6.96  \n",
       "3       7.40  \n",
       "4       7.48  \n",
       "...      ...  \n",
       "15868   8.21  \n",
       "15869   8.13  \n",
       "15870   5.71  \n",
       "15871   6.23  \n",
       "15872   3.80  \n",
       "\n",
       "[15611 rows x 5 columns]"
      ]
     },
     "execution_count": 25,
     "metadata": {},
     "output_type": "execute_result"
    }
   ],
   "source": [
    "df_new"
   ]
  },
  {
   "cell_type": "code",
   "execution_count": 26,
   "metadata": {},
   "outputs": [],
   "source": [
    "import pandas as pd\n",
    "import ast\n",
    "\n",
    "# Convert 'genre' to a list\n",
    "df_new['genre'] = df_new['genre'].apply(ast.literal_eval)\n",
    "\n",
    "# Explode the DataFrame\n",
    "df_exploded = df_new.explode('genre')"
   ]
  },
  {
   "cell_type": "code",
   "execution_count": 27,
   "metadata": {},
   "outputs": [],
   "source": [
    "# Define the genres and their corresponding broad categories\n",
    "genre_categories = {\n",
    "    'Action and Adventure': ['Action', 'Adventure', 'Super Power', 'Martial Arts', 'Samurai', 'Military'],\n",
    "    'Fantasy and Supernatural': ['Fantasy', 'Supernatural', 'Magic', 'Vampire', 'Demons'],\n",
    "    'Science Fiction and Technology': ['Sci-Fi', 'Mecha', 'Space', 'Cars'],\n",
    "    'Comedy and Slice of Life': ['Comedy', 'Slice of Life', 'Parody'],\n",
    "    'Drama and Romance': ['Drama', 'Romance', 'Shoujo', 'Shounen Ai', 'Josei', 'Shoujo Ai', 'Yaoi'],\n",
    "    'Horror and Thriller': ['Horror', 'Thriller', 'Psychological', 'Mystery'],\n",
    "    'Historical and Cultural': ['Historical', 'Samurai', 'Seinen'],\n",
    "    'Youth and School Life': ['School', 'Shounen', 'Kids', 'Shoujo'],\n",
    "    'Special Interests': ['Ecchi', 'Harem', 'Hentai', 'Yaoi', 'Yuri'],\n",
    "    'Miscellaneous': ['Music', 'Sports', 'Game', 'Police', 'Dementia']\n",
    "}\n",
    "\n",
    "# Function to map each genre to its broader category\n",
    "def map_genre_to_category(genre):\n",
    "    for category, genres in genre_categories.items():\n",
    "        if genre in genres:\n",
    "            return category\n",
    "    return 'Miscellaneous'\n",
    "\n",
    "# Map each genre to its broader category\n",
    "df_exploded['category'] = df_exploded['genre'].apply(map_genre_to_category)"
   ]
  },
  {
   "cell_type": "code",
   "execution_count": 28,
   "metadata": {},
   "outputs": [],
   "source": [
    "df_exploded['title'] = df_exploded['title'].str.replace(r\"[^\\w\\s]\", '', regex=True)\n"
   ]
  },
  {
   "cell_type": "code",
   "execution_count": 29,
   "metadata": {},
   "outputs": [],
   "source": [
    "df_exploded = df_exploded.groupby([\"category\", \"title\"], as_index=False)[[\"popularity\", \"score\"]].mean()"
   ]
  },
  {
   "cell_type": "code",
   "execution_count": 30,
   "metadata": {},
   "outputs": [],
   "source": [
    "# Group by genre and sort\n",
    "top_score = df_exploded.groupby('category', as_index=False).apply(lambda x: x.nlargest(10, 'score'))\n",
    "top_popularity = df_exploded.groupby('category', as_index=False).apply(lambda x: x.nlargest(10, 'popularity'))"
   ]
  },
  {
   "cell_type": "code",
   "execution_count": 31,
   "metadata": {},
   "outputs": [],
   "source": [
    "top_score.reset_index(drop=True, inplace=True)"
   ]
  },
  {
   "cell_type": "code",
   "execution_count": 32,
   "metadata": {},
   "outputs": [],
   "source": [
    "top_score_final = top_score.groupby([\"category\", \"title\"], as_index=False)[\"score\"].mean()"
   ]
  },
  {
   "cell_type": "code",
   "execution_count": 33,
   "metadata": {},
   "outputs": [
    {
     "data": {
      "text/html": [
       "<div>\n",
       "<style scoped>\n",
       "    .dataframe tbody tr th:only-of-type {\n",
       "        vertical-align: middle;\n",
       "    }\n",
       "\n",
       "    .dataframe tbody tr th {\n",
       "        vertical-align: top;\n",
       "    }\n",
       "\n",
       "    .dataframe thead th {\n",
       "        text-align: right;\n",
       "    }\n",
       "</style>\n",
       "<table border=\"1\" class=\"dataframe\">\n",
       "  <thead>\n",
       "    <tr style=\"text-align: right;\">\n",
       "      <th></th>\n",
       "      <th>category</th>\n",
       "      <th>title</th>\n",
       "      <th>score</th>\n",
       "    </tr>\n",
       "  </thead>\n",
       "  <tbody>\n",
       "    <tr>\n",
       "      <th>0</th>\n",
       "      <td>Action and Adventure</td>\n",
       "      <td>Code Geass Hangyaku no Lelouch R2</td>\n",
       "      <td>8.93</td>\n",
       "    </tr>\n",
       "    <tr>\n",
       "      <th>1</th>\n",
       "      <td>Action and Adventure</td>\n",
       "      <td>Fullmetal Alchemist Brotherhood</td>\n",
       "      <td>9.23</td>\n",
       "    </tr>\n",
       "    <tr>\n",
       "      <th>2</th>\n",
       "      <td>Action and Adventure</td>\n",
       "      <td>Ginga Eiyuu Densetsu</td>\n",
       "      <td>9.03</td>\n",
       "    </tr>\n",
       "    <tr>\n",
       "      <th>3</th>\n",
       "      <td>Action and Adventure</td>\n",
       "      <td>Gintama</td>\n",
       "      <td>9.00</td>\n",
       "    </tr>\n",
       "    <tr>\n",
       "      <th>4</th>\n",
       "      <td>Action and Adventure</td>\n",
       "      <td>Gintama Enchousen</td>\n",
       "      <td>8.98</td>\n",
       "    </tr>\n",
       "    <tr>\n",
       "      <th>...</th>\n",
       "      <td>...</td>\n",
       "      <td>...</td>\n",
       "      <td>...</td>\n",
       "    </tr>\n",
       "    <tr>\n",
       "      <th>95</th>\n",
       "      <td>Youth and School Life</td>\n",
       "      <td>Hunter x Hunter 2011</td>\n",
       "      <td>9.11</td>\n",
       "    </tr>\n",
       "    <tr>\n",
       "      <th>96</th>\n",
       "      <td>Youth and School Life</td>\n",
       "      <td>Kimi no Na wa</td>\n",
       "      <td>9.09</td>\n",
       "    </tr>\n",
       "    <tr>\n",
       "      <th>97</th>\n",
       "      <td>Youth and School Life</td>\n",
       "      <td>Koe no Katachi</td>\n",
       "      <td>9.01</td>\n",
       "    </tr>\n",
       "    <tr>\n",
       "      <th>98</th>\n",
       "      <td>Youth and School Life</td>\n",
       "      <td>Quiz de Manabu Pinocchio no Koutsuu Ansen</td>\n",
       "      <td>9.08</td>\n",
       "    </tr>\n",
       "    <tr>\n",
       "      <th>99</th>\n",
       "      <td>Youth and School Life</td>\n",
       "      <td>Shingeki no Kyojin Season 3 Part 2</td>\n",
       "      <td>9.07</td>\n",
       "    </tr>\n",
       "  </tbody>\n",
       "</table>\n",
       "<p>100 rows × 3 columns</p>\n",
       "</div>"
      ],
      "text/plain": [
       "                 category                                      title  score\n",
       "0    Action and Adventure          Code Geass Hangyaku no Lelouch R2   8.93\n",
       "1    Action and Adventure            Fullmetal Alchemist Brotherhood   9.23\n",
       "2    Action and Adventure                       Ginga Eiyuu Densetsu   9.03\n",
       "3    Action and Adventure                                    Gintama   9.00\n",
       "4    Action and Adventure                          Gintama Enchousen   8.98\n",
       "..                    ...                                        ...    ...\n",
       "95  Youth and School Life                       Hunter x Hunter 2011   9.11\n",
       "96  Youth and School Life                              Kimi no Na wa   9.09\n",
       "97  Youth and School Life                             Koe no Katachi   9.01\n",
       "98  Youth and School Life  Quiz de Manabu Pinocchio no Koutsuu Ansen   9.08\n",
       "99  Youth and School Life         Shingeki no Kyojin Season 3 Part 2   9.07\n",
       "\n",
       "[100 rows x 3 columns]"
      ]
     },
     "execution_count": 33,
     "metadata": {},
     "output_type": "execute_result"
    }
   ],
   "source": [
    "top_score_final"
   ]
  },
  {
   "cell_type": "code",
   "execution_count": 34,
   "metadata": {},
   "outputs": [],
   "source": [
    "top_popularity.reset_index(drop=True, inplace=True)"
   ]
  },
  {
   "cell_type": "code",
   "execution_count": 35,
   "metadata": {},
   "outputs": [],
   "source": [
    "top_popularity_final = top_popularity.groupby([\"category\", \"title\"], as_index=False)[\"popularity\"].mean()"
   ]
  },
  {
   "cell_type": "code",
   "execution_count": 36,
   "metadata": {},
   "outputs": [
    {
     "data": {
      "text/html": [
       "<div>\n",
       "<style scoped>\n",
       "    .dataframe tbody tr th:only-of-type {\n",
       "        vertical-align: middle;\n",
       "    }\n",
       "\n",
       "    .dataframe tbody tr th {\n",
       "        vertical-align: top;\n",
       "    }\n",
       "\n",
       "    .dataframe thead th {\n",
       "        text-align: right;\n",
       "    }\n",
       "</style>\n",
       "<table border=\"1\" class=\"dataframe\">\n",
       "  <thead>\n",
       "    <tr style=\"text-align: right;\">\n",
       "      <th></th>\n",
       "      <th>category</th>\n",
       "      <th>title</th>\n",
       "      <th>popularity</th>\n",
       "    </tr>\n",
       "  </thead>\n",
       "  <tbody>\n",
       "    <tr>\n",
       "      <th>0</th>\n",
       "      <td>Action and Adventure</td>\n",
       "      <td>Boy General</td>\n",
       "      <td>16308.0</td>\n",
       "    </tr>\n",
       "    <tr>\n",
       "      <th>1</th>\n",
       "      <td>Action and Adventure</td>\n",
       "      <td>Jumbagi Hanbandoui gongryong 3D</td>\n",
       "      <td>16238.0</td>\n",
       "    </tr>\n",
       "    <tr>\n",
       "      <th>2</th>\n",
       "      <td>Action and Adventure</td>\n",
       "      <td>Mabeob Chunjamun Season 2</td>\n",
       "      <td>16305.0</td>\n",
       "    </tr>\n",
       "    <tr>\n",
       "      <th>3</th>\n",
       "      <td>Action and Adventure</td>\n",
       "      <td>Miniforce</td>\n",
       "      <td>16166.0</td>\n",
       "    </tr>\n",
       "    <tr>\n",
       "      <th>4</th>\n",
       "      <td>Action and Adventure</td>\n",
       "      <td>Ninja Tamamaru no Hi no Youjin</td>\n",
       "      <td>16225.0</td>\n",
       "    </tr>\n",
       "    <tr>\n",
       "      <th>...</th>\n",
       "      <td>...</td>\n",
       "      <td>...</td>\n",
       "      <td>...</td>\n",
       "    </tr>\n",
       "    <tr>\n",
       "      <th>95</th>\n",
       "      <td>Youth and School Life</td>\n",
       "      <td>Robot Trains</td>\n",
       "      <td>16315.0</td>\n",
       "    </tr>\n",
       "    <tr>\n",
       "      <th>96</th>\n",
       "      <td>Youth and School Life</td>\n",
       "      <td>Usagi no Mofy TV 2014</td>\n",
       "      <td>16317.0</td>\n",
       "    </tr>\n",
       "    <tr>\n",
       "      <th>97</th>\n",
       "      <td>Youth and School Life</td>\n",
       "      <td>Usagi no Mofy TV 2016</td>\n",
       "      <td>16319.0</td>\n",
       "    </tr>\n",
       "    <tr>\n",
       "      <th>98</th>\n",
       "      <td>Youth and School Life</td>\n",
       "      <td>Watashi no Ningyou</td>\n",
       "      <td>16310.0</td>\n",
       "    </tr>\n",
       "    <tr>\n",
       "      <th>99</th>\n",
       "      <td>Youth and School Life</td>\n",
       "      <td>Watashi to Piano</td>\n",
       "      <td>16313.0</td>\n",
       "    </tr>\n",
       "  </tbody>\n",
       "</table>\n",
       "<p>100 rows × 3 columns</p>\n",
       "</div>"
      ],
      "text/plain": [
       "                 category                            title  popularity\n",
       "0    Action and Adventure                      Boy General     16308.0\n",
       "1    Action and Adventure  Jumbagi Hanbandoui gongryong 3D     16238.0\n",
       "2    Action and Adventure        Mabeob Chunjamun Season 2     16305.0\n",
       "3    Action and Adventure                        Miniforce     16166.0\n",
       "4    Action and Adventure   Ninja Tamamaru no Hi no Youjin     16225.0\n",
       "..                    ...                              ...         ...\n",
       "95  Youth and School Life                     Robot Trains     16315.0\n",
       "96  Youth and School Life            Usagi no Mofy TV 2014     16317.0\n",
       "97  Youth and School Life            Usagi no Mofy TV 2016     16319.0\n",
       "98  Youth and School Life               Watashi no Ningyou     16310.0\n",
       "99  Youth and School Life                 Watashi to Piano     16313.0\n",
       "\n",
       "[100 rows x 3 columns]"
      ]
     },
     "execution_count": 36,
     "metadata": {},
     "output_type": "execute_result"
    }
   ],
   "source": [
    "top_popularity_final"
   ]
  },
  {
   "cell_type": "code",
   "execution_count": 37,
   "metadata": {},
   "outputs": [
    {
     "data": {
      "application/vnd.plotly.v1+json": {
       "config": {
        "plotlyServerURL": "https://plot.ly"
       },
       "data": [
        {
         "marker": {
          "color": "#df6200"
         },
         "name": "Action and Adventure",
         "orientation": "h",
         "type": "bar",
         "visible": true,
         "x": [
          8.9,
          8.92,
          8.93,
          8.95,
          8.98,
          9,
          9.03,
          9.07,
          9.11,
          9.23
         ],
         "y": [
          "Sen to Chihiro no Kamikakushi",
          "Kimetsu no Yaiba",
          "Code Geass Hangyaku no Lelouch R2",
          "Gintama Movie 2 Kanketsuhen  Yorozuya yo Eien Nare",
          "Gintama Enchousen",
          "Gintama",
          "Ginga Eiyuu Densetsu",
          "Shingeki no Kyojin Season 3 Part 2",
          "Hunter x Hunter 2011",
          "Fullmetal Alchemist Brotherhood"
         ]
        },
        {
         "marker": {
          "color": "#df6200"
         },
         "name": "Comedy and Slice of Life",
         "orientation": "h",
         "type": "bar",
         "visible": false,
         "x": [
          8.82,
          8.89,
          8.93,
          8.94,
          8.95,
          8.97,
          8.98,
          9,
          9.02,
          9.23
         ],
         "y": [
          "Haikyuu Second Season",
          "Mob Psycho 100 II",
          "Owarimonogatari 2nd Season",
          "Haikyuu Karasuno Koukou vs Shiratorizawa Gakuen Koukou",
          "Gintama Movie 2 Kanketsuhen  Yorozuya yo Eien Nare",
          "Clannad After Story",
          "Gintama Enchousen",
          "Gintama",
          "3gatsu no Lion 2nd Season",
          "Fullmetal Alchemist Brotherhood"
         ]
        },
        {
         "marker": {
          "color": "#df6200"
         },
         "name": "Drama and Romance",
         "orientation": "h",
         "type": "bar",
         "visible": false,
         "x": [
          8.9,
          8.93,
          8.94,
          8.97,
          9.01,
          9.02,
          9.03,
          9.07,
          9.09,
          9.23
         ],
         "y": [
          "Sen to Chihiro no Kamikakushi",
          "Code Geass Hangyaku no Lelouch R2",
          "Haikyuu Karasuno Koukou vs Shiratorizawa Gakuen Koukou",
          "Clannad After Story",
          "Koe no Katachi",
          "3gatsu no Lion 2nd Season",
          "Ginga Eiyuu Densetsu",
          "Shingeki no Kyojin Season 3 Part 2",
          "Kimi no Na wa",
          "Fullmetal Alchemist Brotherhood"
         ]
        },
        {
         "marker": {
          "color": "#df6200"
         },
         "name": "Fantasy and Supernatural",
         "orientation": "h",
         "type": "bar",
         "visible": false,
         "x": [
          8.88,
          8.89,
          8.9,
          8.92,
          8.93,
          8.97,
          9.07,
          9.09,
          9.11,
          9.23
         ],
         "y": [
          "Kaiteikoku no Koutsu Anzen",
          "Mob Psycho 100 II",
          "Sen to Chihiro no Kamikakushi",
          "Kimetsu no Yaiba",
          "Owarimonogatari 2nd Season",
          "Clannad After Story",
          "Shingeki no Kyojin Season 3 Part 2",
          "Kimi no Na wa",
          "Hunter x Hunter 2011",
          "Fullmetal Alchemist Brotherhood"
         ]
        },
        {
         "marker": {
          "color": "#df6200"
         },
         "name": "Historical and Cultural",
         "orientation": "h",
         "type": "bar",
         "visible": false,
         "x": [
          8.75,
          8.76,
          8.76,
          8.78,
          8.78,
          8.92,
          8.95,
          8.98,
          9,
          9.02
         ],
         "y": [
          "Rurouni Kenshin Meiji Kenkaku Romantan  Tsuiokuhen",
          "Gintama Shirogane no Tamashiihen  Kouhansen",
          "Mushishi Zoku Shou 2nd Season",
          "Shouwa Genroku Rakugo Shinjuu Sukeroku Futatabihen",
          "Vinland Saga",
          "Kimetsu no Yaiba",
          "Gintama Movie 2 Kanketsuhen  Yorozuya yo Eien Nare",
          "Gintama Enchousen",
          "Gintama",
          "3gatsu no Lion 2nd Season"
         ]
        },
        {
         "marker": {
          "color": "#df6200"
         },
         "name": "Horror and Thriller",
         "orientation": "h",
         "type": "bar",
         "visible": false,
         "x": [
          8.69,
          8.71,
          8.72,
          8.76,
          8.76,
          8.83,
          8.83,
          8.93,
          9.07,
          9.11
         ],
         "y": [
          "Monster",
          "Mushishi",
          "Mushishi Zoku Shou",
          "Monogatari Series Second Season",
          "Mushishi Zoku Shou 2nd Season",
          "Kizumonogatari III Reiketsuhen",
          "Made in Abyss",
          "Owarimonogatari 2nd Season",
          "Shingeki no Kyojin Season 3 Part 2",
          "SteinsGate"
         ]
        },
        {
         "marker": {
          "color": "#df6200"
         },
         "name": "Miscellaneous",
         "orientation": "h",
         "type": "bar",
         "visible": false,
         "x": [
          8.62,
          8.62,
          8.65,
          8.69,
          8.69,
          8.77,
          8.82,
          8.83,
          8.94,
          9.02
         ],
         "y": [
          "Haikyuu",
          "Hajime no Ippo Rising",
          "Death Note",
          "Hajime no Ippo New Challenger",
          "Monster",
          "Hajime no Ippo",
          "Haikyuu Second Season",
          "Shigatsu wa Kimi no Uso",
          "Haikyuu Karasuno Koukou vs Shiratorizawa Gakuen Koukou",
          "3gatsu no Lion 2nd Season"
         ]
        },
        {
         "marker": {
          "color": "#df6200"
         },
         "name": "Science Fiction and Technology",
         "orientation": "h",
         "type": "bar",
         "visible": false,
         "x": [
          8.76,
          8.76,
          8.81,
          8.83,
          8.93,
          8.95,
          8.98,
          9,
          9.03,
          9.11
         ],
         "y": [
          "Code Geass Hangyaku no Lelouch",
          "Gintama Shirogane no Tamashiihen  Kouhansen",
          "Cowboy Bebop",
          "Made in Abyss",
          "Code Geass Hangyaku no Lelouch R2",
          "Gintama Movie 2 Kanketsuhen  Yorozuya yo Eien Nare",
          "Gintama Enchousen",
          "Gintama",
          "Ginga Eiyuu Densetsu",
          "SteinsGate"
         ]
        },
        {
         "marker": {
          "color": "#df6200"
         },
         "name": "Special Interests",
         "orientation": "h",
         "type": "bar",
         "visible": false,
         "x": [
          8.16,
          8.17,
          8.18,
          8.2,
          8.28,
          8.3,
          8.34,
          8.36,
          8.38,
          8.46
         ],
         "y": [
          "Kami nomi zo Shiru Sekai Megamihen",
          "Tsukimonogatari",
          "Itsumo Kokoro ni Taiyou wo",
          "Nisemonogatari",
          "Ouran Koukou Host Club",
          "Shokugeki no Souma San no Sara  Tootsuki Resshahen",
          "No Game No Life",
          "Shokugeki no Souma San no Sara",
          "Shokugeki no Souma Ni no Sara",
          "Shokugeki no Souma"
         ]
        },
        {
         "marker": {
          "color": "#df6200"
         },
         "name": "Youth and School Life",
         "orientation": "h",
         "type": "bar",
         "visible": false,
         "x": [
          8.94,
          8.95,
          8.98,
          9,
          9.01,
          9.07,
          9.08,
          9.09,
          9.11,
          9.23
         ],
         "y": [
          "Haikyuu Karasuno Koukou vs Shiratorizawa Gakuen Koukou",
          "Gintama Movie 2 Kanketsuhen  Yorozuya yo Eien Nare",
          "Gintama Enchousen",
          "Gintama",
          "Koe no Katachi",
          "Shingeki no Kyojin Season 3 Part 2",
          "Quiz de Manabu Pinocchio no Koutsuu Ansen",
          "Kimi no Na wa",
          "Hunter x Hunter 2011",
          "Fullmetal Alchemist Brotherhood"
         ]
        }
       ],
       "layout": {
        "template": {
         "data": {
          "bar": [
           {
            "error_x": {
             "color": "#2a3f5f"
            },
            "error_y": {
             "color": "#2a3f5f"
            },
            "marker": {
             "line": {
              "color": "#E5ECF6",
              "width": 0.5
             },
             "pattern": {
              "fillmode": "overlay",
              "size": 10,
              "solidity": 0.2
             }
            },
            "type": "bar"
           }
          ],
          "barpolar": [
           {
            "marker": {
             "line": {
              "color": "#E5ECF6",
              "width": 0.5
             },
             "pattern": {
              "fillmode": "overlay",
              "size": 10,
              "solidity": 0.2
             }
            },
            "type": "barpolar"
           }
          ],
          "carpet": [
           {
            "aaxis": {
             "endlinecolor": "#2a3f5f",
             "gridcolor": "white",
             "linecolor": "white",
             "minorgridcolor": "white",
             "startlinecolor": "#2a3f5f"
            },
            "baxis": {
             "endlinecolor": "#2a3f5f",
             "gridcolor": "white",
             "linecolor": "white",
             "minorgridcolor": "white",
             "startlinecolor": "#2a3f5f"
            },
            "type": "carpet"
           }
          ],
          "choropleth": [
           {
            "colorbar": {
             "outlinewidth": 0,
             "ticks": ""
            },
            "type": "choropleth"
           }
          ],
          "contour": [
           {
            "colorbar": {
             "outlinewidth": 0,
             "ticks": ""
            },
            "colorscale": [
             [
              0,
              "#0d0887"
             ],
             [
              0.1111111111111111,
              "#46039f"
             ],
             [
              0.2222222222222222,
              "#7201a8"
             ],
             [
              0.3333333333333333,
              "#9c179e"
             ],
             [
              0.4444444444444444,
              "#bd3786"
             ],
             [
              0.5555555555555556,
              "#d8576b"
             ],
             [
              0.6666666666666666,
              "#ed7953"
             ],
             [
              0.7777777777777778,
              "#fb9f3a"
             ],
             [
              0.8888888888888888,
              "#fdca26"
             ],
             [
              1,
              "#f0f921"
             ]
            ],
            "type": "contour"
           }
          ],
          "contourcarpet": [
           {
            "colorbar": {
             "outlinewidth": 0,
             "ticks": ""
            },
            "type": "contourcarpet"
           }
          ],
          "heatmap": [
           {
            "colorbar": {
             "outlinewidth": 0,
             "ticks": ""
            },
            "colorscale": [
             [
              0,
              "#0d0887"
             ],
             [
              0.1111111111111111,
              "#46039f"
             ],
             [
              0.2222222222222222,
              "#7201a8"
             ],
             [
              0.3333333333333333,
              "#9c179e"
             ],
             [
              0.4444444444444444,
              "#bd3786"
             ],
             [
              0.5555555555555556,
              "#d8576b"
             ],
             [
              0.6666666666666666,
              "#ed7953"
             ],
             [
              0.7777777777777778,
              "#fb9f3a"
             ],
             [
              0.8888888888888888,
              "#fdca26"
             ],
             [
              1,
              "#f0f921"
             ]
            ],
            "type": "heatmap"
           }
          ],
          "heatmapgl": [
           {
            "colorbar": {
             "outlinewidth": 0,
             "ticks": ""
            },
            "colorscale": [
             [
              0,
              "#0d0887"
             ],
             [
              0.1111111111111111,
              "#46039f"
             ],
             [
              0.2222222222222222,
              "#7201a8"
             ],
             [
              0.3333333333333333,
              "#9c179e"
             ],
             [
              0.4444444444444444,
              "#bd3786"
             ],
             [
              0.5555555555555556,
              "#d8576b"
             ],
             [
              0.6666666666666666,
              "#ed7953"
             ],
             [
              0.7777777777777778,
              "#fb9f3a"
             ],
             [
              0.8888888888888888,
              "#fdca26"
             ],
             [
              1,
              "#f0f921"
             ]
            ],
            "type": "heatmapgl"
           }
          ],
          "histogram": [
           {
            "marker": {
             "pattern": {
              "fillmode": "overlay",
              "size": 10,
              "solidity": 0.2
             }
            },
            "type": "histogram"
           }
          ],
          "histogram2d": [
           {
            "colorbar": {
             "outlinewidth": 0,
             "ticks": ""
            },
            "colorscale": [
             [
              0,
              "#0d0887"
             ],
             [
              0.1111111111111111,
              "#46039f"
             ],
             [
              0.2222222222222222,
              "#7201a8"
             ],
             [
              0.3333333333333333,
              "#9c179e"
             ],
             [
              0.4444444444444444,
              "#bd3786"
             ],
             [
              0.5555555555555556,
              "#d8576b"
             ],
             [
              0.6666666666666666,
              "#ed7953"
             ],
             [
              0.7777777777777778,
              "#fb9f3a"
             ],
             [
              0.8888888888888888,
              "#fdca26"
             ],
             [
              1,
              "#f0f921"
             ]
            ],
            "type": "histogram2d"
           }
          ],
          "histogram2dcontour": [
           {
            "colorbar": {
             "outlinewidth": 0,
             "ticks": ""
            },
            "colorscale": [
             [
              0,
              "#0d0887"
             ],
             [
              0.1111111111111111,
              "#46039f"
             ],
             [
              0.2222222222222222,
              "#7201a8"
             ],
             [
              0.3333333333333333,
              "#9c179e"
             ],
             [
              0.4444444444444444,
              "#bd3786"
             ],
             [
              0.5555555555555556,
              "#d8576b"
             ],
             [
              0.6666666666666666,
              "#ed7953"
             ],
             [
              0.7777777777777778,
              "#fb9f3a"
             ],
             [
              0.8888888888888888,
              "#fdca26"
             ],
             [
              1,
              "#f0f921"
             ]
            ],
            "type": "histogram2dcontour"
           }
          ],
          "mesh3d": [
           {
            "colorbar": {
             "outlinewidth": 0,
             "ticks": ""
            },
            "type": "mesh3d"
           }
          ],
          "parcoords": [
           {
            "line": {
             "colorbar": {
              "outlinewidth": 0,
              "ticks": ""
             }
            },
            "type": "parcoords"
           }
          ],
          "pie": [
           {
            "automargin": true,
            "type": "pie"
           }
          ],
          "scatter": [
           {
            "fillpattern": {
             "fillmode": "overlay",
             "size": 10,
             "solidity": 0.2
            },
            "type": "scatter"
           }
          ],
          "scatter3d": [
           {
            "line": {
             "colorbar": {
              "outlinewidth": 0,
              "ticks": ""
             }
            },
            "marker": {
             "colorbar": {
              "outlinewidth": 0,
              "ticks": ""
             }
            },
            "type": "scatter3d"
           }
          ],
          "scattercarpet": [
           {
            "marker": {
             "colorbar": {
              "outlinewidth": 0,
              "ticks": ""
             }
            },
            "type": "scattercarpet"
           }
          ],
          "scattergeo": [
           {
            "marker": {
             "colorbar": {
              "outlinewidth": 0,
              "ticks": ""
             }
            },
            "type": "scattergeo"
           }
          ],
          "scattergl": [
           {
            "marker": {
             "colorbar": {
              "outlinewidth": 0,
              "ticks": ""
             }
            },
            "type": "scattergl"
           }
          ],
          "scattermapbox": [
           {
            "marker": {
             "colorbar": {
              "outlinewidth": 0,
              "ticks": ""
             }
            },
            "type": "scattermapbox"
           }
          ],
          "scatterpolar": [
           {
            "marker": {
             "colorbar": {
              "outlinewidth": 0,
              "ticks": ""
             }
            },
            "type": "scatterpolar"
           }
          ],
          "scatterpolargl": [
           {
            "marker": {
             "colorbar": {
              "outlinewidth": 0,
              "ticks": ""
             }
            },
            "type": "scatterpolargl"
           }
          ],
          "scatterternary": [
           {
            "marker": {
             "colorbar": {
              "outlinewidth": 0,
              "ticks": ""
             }
            },
            "type": "scatterternary"
           }
          ],
          "surface": [
           {
            "colorbar": {
             "outlinewidth": 0,
             "ticks": ""
            },
            "colorscale": [
             [
              0,
              "#0d0887"
             ],
             [
              0.1111111111111111,
              "#46039f"
             ],
             [
              0.2222222222222222,
              "#7201a8"
             ],
             [
              0.3333333333333333,
              "#9c179e"
             ],
             [
              0.4444444444444444,
              "#bd3786"
             ],
             [
              0.5555555555555556,
              "#d8576b"
             ],
             [
              0.6666666666666666,
              "#ed7953"
             ],
             [
              0.7777777777777778,
              "#fb9f3a"
             ],
             [
              0.8888888888888888,
              "#fdca26"
             ],
             [
              1,
              "#f0f921"
             ]
            ],
            "type": "surface"
           }
          ],
          "table": [
           {
            "cells": {
             "fill": {
              "color": "#EBF0F8"
             },
             "line": {
              "color": "white"
             }
            },
            "header": {
             "fill": {
              "color": "#C8D4E3"
             },
             "line": {
              "color": "white"
             }
            },
            "type": "table"
           }
          ]
         },
         "layout": {
          "annotationdefaults": {
           "arrowcolor": "#2a3f5f",
           "arrowhead": 0,
           "arrowwidth": 1
          },
          "autotypenumbers": "strict",
          "coloraxis": {
           "colorbar": {
            "outlinewidth": 0,
            "ticks": ""
           }
          },
          "colorscale": {
           "diverging": [
            [
             0,
             "#8e0152"
            ],
            [
             0.1,
             "#c51b7d"
            ],
            [
             0.2,
             "#de77ae"
            ],
            [
             0.3,
             "#f1b6da"
            ],
            [
             0.4,
             "#fde0ef"
            ],
            [
             0.5,
             "#f7f7f7"
            ],
            [
             0.6,
             "#e6f5d0"
            ],
            [
             0.7,
             "#b8e186"
            ],
            [
             0.8,
             "#7fbc41"
            ],
            [
             0.9,
             "#4d9221"
            ],
            [
             1,
             "#276419"
            ]
           ],
           "sequential": [
            [
             0,
             "#0d0887"
            ],
            [
             0.1111111111111111,
             "#46039f"
            ],
            [
             0.2222222222222222,
             "#7201a8"
            ],
            [
             0.3333333333333333,
             "#9c179e"
            ],
            [
             0.4444444444444444,
             "#bd3786"
            ],
            [
             0.5555555555555556,
             "#d8576b"
            ],
            [
             0.6666666666666666,
             "#ed7953"
            ],
            [
             0.7777777777777778,
             "#fb9f3a"
            ],
            [
             0.8888888888888888,
             "#fdca26"
            ],
            [
             1,
             "#f0f921"
            ]
           ],
           "sequentialminus": [
            [
             0,
             "#0d0887"
            ],
            [
             0.1111111111111111,
             "#46039f"
            ],
            [
             0.2222222222222222,
             "#7201a8"
            ],
            [
             0.3333333333333333,
             "#9c179e"
            ],
            [
             0.4444444444444444,
             "#bd3786"
            ],
            [
             0.5555555555555556,
             "#d8576b"
            ],
            [
             0.6666666666666666,
             "#ed7953"
            ],
            [
             0.7777777777777778,
             "#fb9f3a"
            ],
            [
             0.8888888888888888,
             "#fdca26"
            ],
            [
             1,
             "#f0f921"
            ]
           ]
          },
          "colorway": [
           "#636efa",
           "#EF553B",
           "#00cc96",
           "#ab63fa",
           "#FFA15A",
           "#19d3f3",
           "#FF6692",
           "#B6E880",
           "#FF97FF",
           "#FECB52"
          ],
          "font": {
           "color": "#2a3f5f"
          },
          "geo": {
           "bgcolor": "white",
           "lakecolor": "white",
           "landcolor": "#E5ECF6",
           "showlakes": true,
           "showland": true,
           "subunitcolor": "white"
          },
          "hoverlabel": {
           "align": "left"
          },
          "hovermode": "closest",
          "mapbox": {
           "style": "light"
          },
          "paper_bgcolor": "white",
          "plot_bgcolor": "#E5ECF6",
          "polar": {
           "angularaxis": {
            "gridcolor": "white",
            "linecolor": "white",
            "ticks": ""
           },
           "bgcolor": "#E5ECF6",
           "radialaxis": {
            "gridcolor": "white",
            "linecolor": "white",
            "ticks": ""
           }
          },
          "scene": {
           "xaxis": {
            "backgroundcolor": "#E5ECF6",
            "gridcolor": "white",
            "gridwidth": 2,
            "linecolor": "white",
            "showbackground": true,
            "ticks": "",
            "zerolinecolor": "white"
           },
           "yaxis": {
            "backgroundcolor": "#E5ECF6",
            "gridcolor": "white",
            "gridwidth": 2,
            "linecolor": "white",
            "showbackground": true,
            "ticks": "",
            "zerolinecolor": "white"
           },
           "zaxis": {
            "backgroundcolor": "#E5ECF6",
            "gridcolor": "white",
            "gridwidth": 2,
            "linecolor": "white",
            "showbackground": true,
            "ticks": "",
            "zerolinecolor": "white"
           }
          },
          "shapedefaults": {
           "line": {
            "color": "#2a3f5f"
           }
          },
          "ternary": {
           "aaxis": {
            "gridcolor": "white",
            "linecolor": "white",
            "ticks": ""
           },
           "baxis": {
            "gridcolor": "white",
            "linecolor": "white",
            "ticks": ""
           },
           "bgcolor": "#E5ECF6",
           "caxis": {
            "gridcolor": "white",
            "linecolor": "white",
            "ticks": ""
           }
          },
          "title": {
           "x": 0.05
          },
          "xaxis": {
           "automargin": true,
           "gridcolor": "white",
           "linecolor": "white",
           "ticks": "",
           "title": {
            "standoff": 15
           },
           "zerolinecolor": "white",
           "zerolinewidth": 2
          },
          "yaxis": {
           "automargin": true,
           "gridcolor": "white",
           "linecolor": "white",
           "ticks": "",
           "title": {
            "standoff": 15
           },
           "zerolinecolor": "white",
           "zerolinewidth": 2
          }
         }
        },
        "title": {
         "text": "Top Animes (Score) for Genre: Action and Adventure"
        },
        "updatemenus": [
         {
          "active": 0,
          "buttons": [
           {
            "args": [
             {
              "visible": [
               true,
               false,
               false,
               false,
               false,
               false,
               false,
               false,
               false,
               false
              ]
             },
             {
              "title": "Top Animes (Score) for Genre: Action and Adventure"
             }
            ],
            "label": "Action and Adventure",
            "method": "update"
           },
           {
            "args": [
             {
              "visible": [
               false,
               true,
               false,
               false,
               false,
               false,
               false,
               false,
               false,
               false
              ]
             },
             {
              "title": "Top Animes (Score) for Genre: Comedy and Slice of Life"
             }
            ],
            "label": "Comedy and Slice of Life",
            "method": "update"
           },
           {
            "args": [
             {
              "visible": [
               false,
               false,
               true,
               false,
               false,
               false,
               false,
               false,
               false,
               false
              ]
             },
             {
              "title": "Top Animes (Score) for Genre: Drama and Romance"
             }
            ],
            "label": "Drama and Romance",
            "method": "update"
           },
           {
            "args": [
             {
              "visible": [
               false,
               false,
               false,
               true,
               false,
               false,
               false,
               false,
               false,
               false
              ]
             },
             {
              "title": "Top Animes (Score) for Genre: Fantasy and Supernatural"
             }
            ],
            "label": "Fantasy and Supernatural",
            "method": "update"
           },
           {
            "args": [
             {
              "visible": [
               false,
               false,
               false,
               false,
               true,
               false,
               false,
               false,
               false,
               false
              ]
             },
             {
              "title": "Top Animes (Score) for Genre: Historical and Cultural"
             }
            ],
            "label": "Historical and Cultural",
            "method": "update"
           },
           {
            "args": [
             {
              "visible": [
               false,
               false,
               false,
               false,
               false,
               true,
               false,
               false,
               false,
               false
              ]
             },
             {
              "title": "Top Animes (Score) for Genre: Horror and Thriller"
             }
            ],
            "label": "Horror and Thriller",
            "method": "update"
           },
           {
            "args": [
             {
              "visible": [
               false,
               false,
               false,
               false,
               false,
               false,
               true,
               false,
               false,
               false
              ]
             },
             {
              "title": "Top Animes (Score) for Genre: Miscellaneous"
             }
            ],
            "label": "Miscellaneous",
            "method": "update"
           },
           {
            "args": [
             {
              "visible": [
               false,
               false,
               false,
               false,
               false,
               false,
               false,
               true,
               false,
               false
              ]
             },
             {
              "title": "Top Animes (Score) for Genre: Science Fiction and Technology"
             }
            ],
            "label": "Science Fiction and Technology",
            "method": "update"
           },
           {
            "args": [
             {
              "visible": [
               false,
               false,
               false,
               false,
               false,
               false,
               false,
               false,
               true,
               false
              ]
             },
             {
              "title": "Top Animes (Score) for Genre: Special Interests"
             }
            ],
            "label": "Special Interests",
            "method": "update"
           },
           {
            "args": [
             {
              "visible": [
               false,
               false,
               false,
               false,
               false,
               false,
               false,
               false,
               false,
               true
              ]
             },
             {
              "title": "Top Animes (Score) for Genre: Youth and School Life"
             }
            ],
            "label": "Youth and School Life",
            "method": "update"
           }
          ],
          "direction": "down",
          "pad": {
           "r": 10,
           "t": 10
          },
          "showactive": true,
          "x": 0.77,
          "xanchor": "left",
          "y": 1.25,
          "yanchor": "top"
         }
        ],
        "xaxis": {
         "anchor": "y",
         "domain": [
          0,
          1
         ],
         "range": [
          8,
          10
         ],
         "title": {
          "text": "Score"
         }
        },
        "yaxis": {
         "anchor": "x",
         "domain": [
          0,
          1
         ],
         "title": {
          "text": "Title"
         }
        }
       }
      }
     },
     "metadata": {},
     "output_type": "display_data"
    }
   ],
   "source": [
    "import pandas as pd\n",
    "import plotly.graph_objs as go\n",
    "from plotly.subplots import make_subplots\n",
    "\n",
    "# Create a subplot\n",
    "fig = make_subplots()\n",
    "\n",
    "# Group data by category\n",
    "categories = top_score_final['category'].unique()\n",
    "\n",
    "# Add a trace for each anime title, making bars horizontal\n",
    "# Start with the first category visible\n",
    "first = True\n",
    "for category in categories:\n",
    "    category_df = top_score_final[top_score_final['category'] == category]\n",
    "    category_df.sort_values(by='score', inplace=True)\n",
    "    fig.add_trace(\n",
    "        go.Bar(y=category_df['title'], x=category_df['score'], name=category, \n",
    "               orientation='h', visible=first, marker_color='#df6200')  # Set bar color to crimson\n",
    "    )\n",
    "    first = False  # Set the rest of the categories to invisible\n",
    "\n",
    "# Create a dropdown menu\n",
    "buttons = []\n",
    "for i, category in enumerate(categories):\n",
    "    button = dict(\n",
    "        label=category,\n",
    "        method=\"update\",\n",
    "        args=[{\"visible\": [i == j for j in range(len(categories))]},  # Only the selected category is visible\n",
    "              {\"title\": f\"Top Animes (Score) for Genre: {category}\"}])\n",
    "    buttons.append(button)\n",
    "\n",
    "# Update layout for dropdown, axes, and xaxis range\n",
    "fig.update_layout(\n",
    "    updatemenus=[dict(\n",
    "        active=0,  # First category is active\n",
    "        buttons=buttons,\n",
    "        direction=\"down\",\n",
    "        pad={\"r\": 10, \"t\": 10},\n",
    "        showactive=True,\n",
    "        x=0.77,\n",
    "        xanchor=\"left\",\n",
    "        y=1.25,\n",
    "        yanchor=\"top\"\n",
    "    )],\n",
    "    title=\"Top Animes (Score) for Genre: Action and Adventure\",\n",
    "    xaxis_title=\"Score\",\n",
    "    yaxis_title=\"Title\",\n",
    "    xaxis=dict(range=[8, 10])  # Set the range for x-axis\n",
    ")\n",
    "fig.write_html(\"../../data/plots/top_animes_score.html\")\n",
    "# Show the plot\n",
    "fig.show()\n"
   ]
  },
  {
   "cell_type": "code",
   "execution_count": 38,
   "metadata": {},
   "outputs": [
    {
     "data": {
      "application/vnd.plotly.v1+json": {
       "config": {
        "plotlyServerURL": "https://plot.ly"
       },
       "data": [
        {
         "marker": {
          "color": "#ccb716"
         },
         "name": "Action and Adventure",
         "orientation": "h",
         "type": "bar",
         "visible": true,
         "x": [
          16166,
          16176,
          16177,
          16203,
          16225,
          16229,
          16238,
          16278,
          16305,
          16308
         ],
         "y": [
          "Miniforce",
          "Shaolin Chuanqi",
          "Tayoui Jangnangam Eodeubencheo",
          "Skyers 5 EX",
          "Ninja Tamamaru no Hi no Youjin",
          "Tian Shu Qi Tan",
          "Jumbagi Hanbandoui gongryong 3D",
          "Te Ke Dong Ji Pian",
          "Mabeob Chunjamun Season 2",
          "Boy General"
         ]
        },
        {
         "marker": {
          "color": "#ccb716"
         },
         "name": "Comedy and Slice of Life",
         "orientation": "h",
         "type": "bar",
         "visible": false,
         "x": [
          16185,
          16186,
          16193,
          16198,
          16210,
          16212,
          16224,
          16231,
          16275,
          16307
         ],
         "y": [
          "Tabibito no You ni",
          "Anata no Koe",
          "Uchi no 3 Shimai Movie",
          "Kokoro no Tokyo Kakumei",
          "Replicant",
          "The Planet of Stray Cats",
          "Melon no Kirime",
          "Wang Zhe Wai Chuan",
          "Osu no Buuchan",
          "Ryoku Tama Shinshi 10 Short Stories"
         ]
        },
        {
         "marker": {
          "color": "#ccb716"
         },
         "name": "Drama and Romance",
         "orientation": "h",
         "type": "bar",
         "visible": false,
         "x": [
          16096,
          16164,
          16174,
          16192,
          16210,
          16215,
          16238,
          16259,
          16267,
          16308
         ],
         "y": [
          "Piercing I",
          "Inamura no Hi",
          "My Boy",
          "Suppon Pon Pon",
          "Replicant",
          "Fushouji no Mizen Boushi Saihatsu Boushi Series",
          "Jumbagi Hanbandoui gongryong 3D",
          "Yakusoku 2011",
          "Seishun",
          "Boy General"
         ]
        },
        {
         "marker": {
          "color": "#ccb716"
         },
         "name": "Fantasy and Supernatural",
         "orientation": "h",
         "type": "bar",
         "visible": false,
         "x": [
          16222,
          16234,
          16250,
          16259,
          16275,
          16277,
          16283,
          16287,
          16305,
          16307
         ],
         "y": [
          "Kyonshii Kyon Dai no Koutsuu Anzen",
          "Googuri Googuri",
          "Kogitsune no Koutsuu Anzen",
          "Yakusoku 2011",
          "Osu no Buuchan",
          "Sore Ike Anpanman no Hiragana Asobi Hajimete no AIUEO",
          "Kaiteikoku no Koutsu Anzen",
          "The Peak",
          "Mabeob Chunjamun Season 2",
          "Ryoku Tama Shinshi 10 Short Stories"
         ]
        },
        {
         "marker": {
          "color": "#ccb716"
         },
         "name": "Historical and Cultural",
         "orientation": "h",
         "type": "bar",
         "visible": false,
         "x": [
          15999,
          16082,
          16129,
          16138,
          16164,
          16171,
          16230,
          16238,
          16302,
          16308
         ],
         "y": [
          "Tian Xin Ge Ge 3rd Season",
          "Kakusenou Gakushuu Animation",
          "Mizu no Yume",
          "Manga Furusato Mukashibanashi",
          "Inamura no Hi",
          "Issunboushi 2007",
          "Ushiwakamaru",
          "Jumbagi Hanbandoui gongryong 3D",
          "Tayoui Gonglyong Eodeubencheo",
          "Boy General"
         ]
        },
        {
         "marker": {
          "color": "#ccb716"
         },
         "name": "Horror and Thriller",
         "orientation": "h",
         "type": "bar",
         "visible": false,
         "x": [
          15278,
          15308,
          15568,
          15572,
          15640,
          15963,
          16101,
          16167,
          16169,
          16197
         ],
         "y": [
          "Nihon no Obakebanashi",
          "Yuurei Yashiki",
          "Taka no Tsume Yoshidakun Batten File Natsuyasumi Mystery Adventure",
          "Ushinawareta Choushoku",
          "The Lamp Man",
          "Witch Hat Majo to Boushi no Waltz",
          "Junk Head",
          "Oshiri Tantei Movie Curry Naru Jiken",
          "Shuuen no Shiori",
          "Itekoma Hits"
         ]
        },
        {
         "marker": {
          "color": "#ccb716"
         },
         "name": "Miscellaneous",
         "orientation": "h",
         "type": "bar",
         "visible": false,
         "x": [
          16286,
          16289,
          16291,
          16301,
          16310,
          16311,
          16312,
          16313,
          16316,
          16320
         ],
         "y": [
          "Smile",
          "Doubutsu Mura no World Cup Yoiko no Koutsuu Anzen",
          "Ichigo no Hanayomesan",
          "Soushunfu",
          "Watashi no Ningyou",
          "Furusato no Gogatsu",
          "Omoide Onigiri",
          "Watashi to Piano",
          "Tokyo Mikansei",
          "Nantoka Tengoku"
         ]
        },
        {
         "marker": {
          "color": "#ccb716"
         },
         "name": "Science Fiction and Technology",
         "orientation": "h",
         "type": "bar",
         "visible": false,
         "x": [
          16086,
          16101,
          16177,
          16194,
          16203,
          16204,
          16212,
          16214,
          16252,
          16302
         ],
         "y": [
          "Shin Skyers 5 EX",
          "Junk Head",
          "Tayoui Jangnangam Eodeubencheo",
          "Yatchan to Kasei no Ko",
          "Skyers 5 EX",
          "UFOkoku no Koutsuu Anzen",
          "The Planet of Stray Cats",
          "Fire Robo 119 tai Kyonshii Kyon Dai",
          "Wan Wan Kajida Wan",
          "Tayoui Gonglyong Eodeubencheo"
         ]
        },
        {
         "marker": {
          "color": "#ccb716"
         },
         "name": "Special Interests",
         "orientation": "h",
         "type": "bar",
         "visible": false,
         "x": [
          13631,
          13651,
          14110,
          14445,
          14670,
          14710,
          14724,
          14875,
          15172,
          16147
         ],
         "y": [
          "Mandalaya no Ryouta Kukidani Onsen Enshou Soudou Tan",
          "Nou Nen feat Utae",
          "Gaki Deka OVA",
          "Na Bbeun Sang Sa",
          "Suzumibune",
          "Spunky Afro Tiger Jet",
          "Kung Fu Liaoli Niang",
          "Flying Luna Clipper",
          "Junjou Juugeki Cosplay Shoujo",
          "Magical Halloween MiracleQuartet"
         ]
        },
        {
         "marker": {
          "color": "#ccb716"
         },
         "name": "Youth and School Life",
         "orientation": "h",
         "type": "bar",
         "visible": false,
         "x": [
          16306,
          16309,
          16310,
          16311,
          16312,
          16313,
          16314,
          16315,
          16317,
          16319
         ],
         "y": [
          "Pandachan no Koutsuu Anzen",
          "Nanchan no Koutsuu Anzen",
          "Watashi no Ningyou",
          "Furusato no Gogatsu",
          "Omoide Onigiri",
          "Watashi to Piano",
          "Koutsuu Anzen Inu Signal no Oyako Nikki Tobidashi Chuui",
          "Robot Trains",
          "Usagi no Mofy TV 2014",
          "Usagi no Mofy TV 2016"
         ]
        }
       ],
       "layout": {
        "template": {
         "data": {
          "bar": [
           {
            "error_x": {
             "color": "#2a3f5f"
            },
            "error_y": {
             "color": "#2a3f5f"
            },
            "marker": {
             "line": {
              "color": "#E5ECF6",
              "width": 0.5
             },
             "pattern": {
              "fillmode": "overlay",
              "size": 10,
              "solidity": 0.2
             }
            },
            "type": "bar"
           }
          ],
          "barpolar": [
           {
            "marker": {
             "line": {
              "color": "#E5ECF6",
              "width": 0.5
             },
             "pattern": {
              "fillmode": "overlay",
              "size": 10,
              "solidity": 0.2
             }
            },
            "type": "barpolar"
           }
          ],
          "carpet": [
           {
            "aaxis": {
             "endlinecolor": "#2a3f5f",
             "gridcolor": "white",
             "linecolor": "white",
             "minorgridcolor": "white",
             "startlinecolor": "#2a3f5f"
            },
            "baxis": {
             "endlinecolor": "#2a3f5f",
             "gridcolor": "white",
             "linecolor": "white",
             "minorgridcolor": "white",
             "startlinecolor": "#2a3f5f"
            },
            "type": "carpet"
           }
          ],
          "choropleth": [
           {
            "colorbar": {
             "outlinewidth": 0,
             "ticks": ""
            },
            "type": "choropleth"
           }
          ],
          "contour": [
           {
            "colorbar": {
             "outlinewidth": 0,
             "ticks": ""
            },
            "colorscale": [
             [
              0,
              "#0d0887"
             ],
             [
              0.1111111111111111,
              "#46039f"
             ],
             [
              0.2222222222222222,
              "#7201a8"
             ],
             [
              0.3333333333333333,
              "#9c179e"
             ],
             [
              0.4444444444444444,
              "#bd3786"
             ],
             [
              0.5555555555555556,
              "#d8576b"
             ],
             [
              0.6666666666666666,
              "#ed7953"
             ],
             [
              0.7777777777777778,
              "#fb9f3a"
             ],
             [
              0.8888888888888888,
              "#fdca26"
             ],
             [
              1,
              "#f0f921"
             ]
            ],
            "type": "contour"
           }
          ],
          "contourcarpet": [
           {
            "colorbar": {
             "outlinewidth": 0,
             "ticks": ""
            },
            "type": "contourcarpet"
           }
          ],
          "heatmap": [
           {
            "colorbar": {
             "outlinewidth": 0,
             "ticks": ""
            },
            "colorscale": [
             [
              0,
              "#0d0887"
             ],
             [
              0.1111111111111111,
              "#46039f"
             ],
             [
              0.2222222222222222,
              "#7201a8"
             ],
             [
              0.3333333333333333,
              "#9c179e"
             ],
             [
              0.4444444444444444,
              "#bd3786"
             ],
             [
              0.5555555555555556,
              "#d8576b"
             ],
             [
              0.6666666666666666,
              "#ed7953"
             ],
             [
              0.7777777777777778,
              "#fb9f3a"
             ],
             [
              0.8888888888888888,
              "#fdca26"
             ],
             [
              1,
              "#f0f921"
             ]
            ],
            "type": "heatmap"
           }
          ],
          "heatmapgl": [
           {
            "colorbar": {
             "outlinewidth": 0,
             "ticks": ""
            },
            "colorscale": [
             [
              0,
              "#0d0887"
             ],
             [
              0.1111111111111111,
              "#46039f"
             ],
             [
              0.2222222222222222,
              "#7201a8"
             ],
             [
              0.3333333333333333,
              "#9c179e"
             ],
             [
              0.4444444444444444,
              "#bd3786"
             ],
             [
              0.5555555555555556,
              "#d8576b"
             ],
             [
              0.6666666666666666,
              "#ed7953"
             ],
             [
              0.7777777777777778,
              "#fb9f3a"
             ],
             [
              0.8888888888888888,
              "#fdca26"
             ],
             [
              1,
              "#f0f921"
             ]
            ],
            "type": "heatmapgl"
           }
          ],
          "histogram": [
           {
            "marker": {
             "pattern": {
              "fillmode": "overlay",
              "size": 10,
              "solidity": 0.2
             }
            },
            "type": "histogram"
           }
          ],
          "histogram2d": [
           {
            "colorbar": {
             "outlinewidth": 0,
             "ticks": ""
            },
            "colorscale": [
             [
              0,
              "#0d0887"
             ],
             [
              0.1111111111111111,
              "#46039f"
             ],
             [
              0.2222222222222222,
              "#7201a8"
             ],
             [
              0.3333333333333333,
              "#9c179e"
             ],
             [
              0.4444444444444444,
              "#bd3786"
             ],
             [
              0.5555555555555556,
              "#d8576b"
             ],
             [
              0.6666666666666666,
              "#ed7953"
             ],
             [
              0.7777777777777778,
              "#fb9f3a"
             ],
             [
              0.8888888888888888,
              "#fdca26"
             ],
             [
              1,
              "#f0f921"
             ]
            ],
            "type": "histogram2d"
           }
          ],
          "histogram2dcontour": [
           {
            "colorbar": {
             "outlinewidth": 0,
             "ticks": ""
            },
            "colorscale": [
             [
              0,
              "#0d0887"
             ],
             [
              0.1111111111111111,
              "#46039f"
             ],
             [
              0.2222222222222222,
              "#7201a8"
             ],
             [
              0.3333333333333333,
              "#9c179e"
             ],
             [
              0.4444444444444444,
              "#bd3786"
             ],
             [
              0.5555555555555556,
              "#d8576b"
             ],
             [
              0.6666666666666666,
              "#ed7953"
             ],
             [
              0.7777777777777778,
              "#fb9f3a"
             ],
             [
              0.8888888888888888,
              "#fdca26"
             ],
             [
              1,
              "#f0f921"
             ]
            ],
            "type": "histogram2dcontour"
           }
          ],
          "mesh3d": [
           {
            "colorbar": {
             "outlinewidth": 0,
             "ticks": ""
            },
            "type": "mesh3d"
           }
          ],
          "parcoords": [
           {
            "line": {
             "colorbar": {
              "outlinewidth": 0,
              "ticks": ""
             }
            },
            "type": "parcoords"
           }
          ],
          "pie": [
           {
            "automargin": true,
            "type": "pie"
           }
          ],
          "scatter": [
           {
            "fillpattern": {
             "fillmode": "overlay",
             "size": 10,
             "solidity": 0.2
            },
            "type": "scatter"
           }
          ],
          "scatter3d": [
           {
            "line": {
             "colorbar": {
              "outlinewidth": 0,
              "ticks": ""
             }
            },
            "marker": {
             "colorbar": {
              "outlinewidth": 0,
              "ticks": ""
             }
            },
            "type": "scatter3d"
           }
          ],
          "scattercarpet": [
           {
            "marker": {
             "colorbar": {
              "outlinewidth": 0,
              "ticks": ""
             }
            },
            "type": "scattercarpet"
           }
          ],
          "scattergeo": [
           {
            "marker": {
             "colorbar": {
              "outlinewidth": 0,
              "ticks": ""
             }
            },
            "type": "scattergeo"
           }
          ],
          "scattergl": [
           {
            "marker": {
             "colorbar": {
              "outlinewidth": 0,
              "ticks": ""
             }
            },
            "type": "scattergl"
           }
          ],
          "scattermapbox": [
           {
            "marker": {
             "colorbar": {
              "outlinewidth": 0,
              "ticks": ""
             }
            },
            "type": "scattermapbox"
           }
          ],
          "scatterpolar": [
           {
            "marker": {
             "colorbar": {
              "outlinewidth": 0,
              "ticks": ""
             }
            },
            "type": "scatterpolar"
           }
          ],
          "scatterpolargl": [
           {
            "marker": {
             "colorbar": {
              "outlinewidth": 0,
              "ticks": ""
             }
            },
            "type": "scatterpolargl"
           }
          ],
          "scatterternary": [
           {
            "marker": {
             "colorbar": {
              "outlinewidth": 0,
              "ticks": ""
             }
            },
            "type": "scatterternary"
           }
          ],
          "surface": [
           {
            "colorbar": {
             "outlinewidth": 0,
             "ticks": ""
            },
            "colorscale": [
             [
              0,
              "#0d0887"
             ],
             [
              0.1111111111111111,
              "#46039f"
             ],
             [
              0.2222222222222222,
              "#7201a8"
             ],
             [
              0.3333333333333333,
              "#9c179e"
             ],
             [
              0.4444444444444444,
              "#bd3786"
             ],
             [
              0.5555555555555556,
              "#d8576b"
             ],
             [
              0.6666666666666666,
              "#ed7953"
             ],
             [
              0.7777777777777778,
              "#fb9f3a"
             ],
             [
              0.8888888888888888,
              "#fdca26"
             ],
             [
              1,
              "#f0f921"
             ]
            ],
            "type": "surface"
           }
          ],
          "table": [
           {
            "cells": {
             "fill": {
              "color": "#EBF0F8"
             },
             "line": {
              "color": "white"
             }
            },
            "header": {
             "fill": {
              "color": "#C8D4E3"
             },
             "line": {
              "color": "white"
             }
            },
            "type": "table"
           }
          ]
         },
         "layout": {
          "annotationdefaults": {
           "arrowcolor": "#2a3f5f",
           "arrowhead": 0,
           "arrowwidth": 1
          },
          "autotypenumbers": "strict",
          "coloraxis": {
           "colorbar": {
            "outlinewidth": 0,
            "ticks": ""
           }
          },
          "colorscale": {
           "diverging": [
            [
             0,
             "#8e0152"
            ],
            [
             0.1,
             "#c51b7d"
            ],
            [
             0.2,
             "#de77ae"
            ],
            [
             0.3,
             "#f1b6da"
            ],
            [
             0.4,
             "#fde0ef"
            ],
            [
             0.5,
             "#f7f7f7"
            ],
            [
             0.6,
             "#e6f5d0"
            ],
            [
             0.7,
             "#b8e186"
            ],
            [
             0.8,
             "#7fbc41"
            ],
            [
             0.9,
             "#4d9221"
            ],
            [
             1,
             "#276419"
            ]
           ],
           "sequential": [
            [
             0,
             "#0d0887"
            ],
            [
             0.1111111111111111,
             "#46039f"
            ],
            [
             0.2222222222222222,
             "#7201a8"
            ],
            [
             0.3333333333333333,
             "#9c179e"
            ],
            [
             0.4444444444444444,
             "#bd3786"
            ],
            [
             0.5555555555555556,
             "#d8576b"
            ],
            [
             0.6666666666666666,
             "#ed7953"
            ],
            [
             0.7777777777777778,
             "#fb9f3a"
            ],
            [
             0.8888888888888888,
             "#fdca26"
            ],
            [
             1,
             "#f0f921"
            ]
           ],
           "sequentialminus": [
            [
             0,
             "#0d0887"
            ],
            [
             0.1111111111111111,
             "#46039f"
            ],
            [
             0.2222222222222222,
             "#7201a8"
            ],
            [
             0.3333333333333333,
             "#9c179e"
            ],
            [
             0.4444444444444444,
             "#bd3786"
            ],
            [
             0.5555555555555556,
             "#d8576b"
            ],
            [
             0.6666666666666666,
             "#ed7953"
            ],
            [
             0.7777777777777778,
             "#fb9f3a"
            ],
            [
             0.8888888888888888,
             "#fdca26"
            ],
            [
             1,
             "#f0f921"
            ]
           ]
          },
          "colorway": [
           "#636efa",
           "#EF553B",
           "#00cc96",
           "#ab63fa",
           "#FFA15A",
           "#19d3f3",
           "#FF6692",
           "#B6E880",
           "#FF97FF",
           "#FECB52"
          ],
          "font": {
           "color": "#2a3f5f"
          },
          "geo": {
           "bgcolor": "white",
           "lakecolor": "white",
           "landcolor": "#E5ECF6",
           "showlakes": true,
           "showland": true,
           "subunitcolor": "white"
          },
          "hoverlabel": {
           "align": "left"
          },
          "hovermode": "closest",
          "mapbox": {
           "style": "light"
          },
          "paper_bgcolor": "white",
          "plot_bgcolor": "#E5ECF6",
          "polar": {
           "angularaxis": {
            "gridcolor": "white",
            "linecolor": "white",
            "ticks": ""
           },
           "bgcolor": "#E5ECF6",
           "radialaxis": {
            "gridcolor": "white",
            "linecolor": "white",
            "ticks": ""
           }
          },
          "scene": {
           "xaxis": {
            "backgroundcolor": "#E5ECF6",
            "gridcolor": "white",
            "gridwidth": 2,
            "linecolor": "white",
            "showbackground": true,
            "ticks": "",
            "zerolinecolor": "white"
           },
           "yaxis": {
            "backgroundcolor": "#E5ECF6",
            "gridcolor": "white",
            "gridwidth": 2,
            "linecolor": "white",
            "showbackground": true,
            "ticks": "",
            "zerolinecolor": "white"
           },
           "zaxis": {
            "backgroundcolor": "#E5ECF6",
            "gridcolor": "white",
            "gridwidth": 2,
            "linecolor": "white",
            "showbackground": true,
            "ticks": "",
            "zerolinecolor": "white"
           }
          },
          "shapedefaults": {
           "line": {
            "color": "#2a3f5f"
           }
          },
          "ternary": {
           "aaxis": {
            "gridcolor": "white",
            "linecolor": "white",
            "ticks": ""
           },
           "baxis": {
            "gridcolor": "white",
            "linecolor": "white",
            "ticks": ""
           },
           "bgcolor": "#E5ECF6",
           "caxis": {
            "gridcolor": "white",
            "linecolor": "white",
            "ticks": ""
           }
          },
          "title": {
           "x": 0.05
          },
          "xaxis": {
           "automargin": true,
           "gridcolor": "white",
           "linecolor": "white",
           "ticks": "",
           "title": {
            "standoff": 15
           },
           "zerolinecolor": "white",
           "zerolinewidth": 2
          },
          "yaxis": {
           "automargin": true,
           "gridcolor": "white",
           "linecolor": "white",
           "ticks": "",
           "title": {
            "standoff": 15
           },
           "zerolinecolor": "white",
           "zerolinewidth": 2
          }
         }
        },
        "title": {
         "text": "Top Animes (Popularity) for Genre: Action and Adventure"
        },
        "updatemenus": [
         {
          "active": 0,
          "buttons": [
           {
            "args": [
             {
              "visible": [
               true,
               false,
               false,
               false,
               false,
               false,
               false,
               false,
               false,
               false
              ]
             },
             {
              "title": "Top Animes (Popularity) for Genre: Action and Adventure"
             }
            ],
            "label": "Action and Adventure",
            "method": "update"
           },
           {
            "args": [
             {
              "visible": [
               false,
               true,
               false,
               false,
               false,
               false,
               false,
               false,
               false,
               false
              ]
             },
             {
              "title": "Top Animes (Popularity) for Genre: Comedy and Slice of Life"
             }
            ],
            "label": "Comedy and Slice of Life",
            "method": "update"
           },
           {
            "args": [
             {
              "visible": [
               false,
               false,
               true,
               false,
               false,
               false,
               false,
               false,
               false,
               false
              ]
             },
             {
              "title": "Top Animes (Popularity) for Genre: Drama and Romance"
             }
            ],
            "label": "Drama and Romance",
            "method": "update"
           },
           {
            "args": [
             {
              "visible": [
               false,
               false,
               false,
               true,
               false,
               false,
               false,
               false,
               false,
               false
              ]
             },
             {
              "title": "Top Animes (Popularity) for Genre: Fantasy and Supernatural"
             }
            ],
            "label": "Fantasy and Supernatural",
            "method": "update"
           },
           {
            "args": [
             {
              "visible": [
               false,
               false,
               false,
               false,
               true,
               false,
               false,
               false,
               false,
               false
              ]
             },
             {
              "title": "Top Animes (Popularity) for Genre: Historical and Cultural"
             }
            ],
            "label": "Historical and Cultural",
            "method": "update"
           },
           {
            "args": [
             {
              "visible": [
               false,
               false,
               false,
               false,
               false,
               true,
               false,
               false,
               false,
               false
              ]
             },
             {
              "title": "Top Animes (Popularity) for Genre: Horror and Thriller"
             }
            ],
            "label": "Horror and Thriller",
            "method": "update"
           },
           {
            "args": [
             {
              "visible": [
               false,
               false,
               false,
               false,
               false,
               false,
               true,
               false,
               false,
               false
              ]
             },
             {
              "title": "Top Animes (Popularity) for Genre: Miscellaneous"
             }
            ],
            "label": "Miscellaneous",
            "method": "update"
           },
           {
            "args": [
             {
              "visible": [
               false,
               false,
               false,
               false,
               false,
               false,
               false,
               true,
               false,
               false
              ]
             },
             {
              "title": "Top Animes (Popularity) for Genre: Science Fiction and Technology"
             }
            ],
            "label": "Science Fiction and Technology",
            "method": "update"
           },
           {
            "args": [
             {
              "visible": [
               false,
               false,
               false,
               false,
               false,
               false,
               false,
               false,
               true,
               false
              ]
             },
             {
              "title": "Top Animes (Popularity) for Genre: Special Interests"
             }
            ],
            "label": "Special Interests",
            "method": "update"
           },
           {
            "args": [
             {
              "visible": [
               false,
               false,
               false,
               false,
               false,
               false,
               false,
               false,
               false,
               true
              ]
             },
             {
              "title": "Top Animes (Popularity) for Genre: Youth and School Life"
             }
            ],
            "label": "Youth and School Life",
            "method": "update"
           }
          ],
          "direction": "down",
          "pad": {
           "r": 10,
           "t": 10
          },
          "showactive": true,
          "x": 0.77,
          "xanchor": "left",
          "y": 1.25,
          "yanchor": "top"
         }
        ],
        "xaxis": {
         "anchor": "y",
         "domain": [
          0,
          1
         ],
         "range": [
          13500,
          16500
         ],
         "title": {
          "text": "Score"
         }
        },
        "yaxis": {
         "anchor": "x",
         "domain": [
          0,
          1
         ],
         "title": {
          "text": "Title"
         }
        }
       }
      }
     },
     "metadata": {},
     "output_type": "display_data"
    }
   ],
   "source": [
    "import pandas as pd\n",
    "import plotly.graph_objs as go\n",
    "from plotly.subplots import make_subplots\n",
    "\n",
    "# Create a subplot\n",
    "fig = make_subplots()\n",
    "\n",
    "# Group data by category\n",
    "categories = top_popularity_final['category'].unique()\n",
    "\n",
    "# Add a trace for each anime title, making bars horizontal\n",
    "# Start with the first category visible\n",
    "first = True\n",
    "for category in categories:\n",
    "    category_df = top_popularity_final[top_popularity_final['category'] == category]\n",
    "    category_df.sort_values(by='popularity', inplace=True)\n",
    "    fig.add_trace(\n",
    "        go.Bar(y=category_df['title'], x=category_df['popularity'], name=category, \n",
    "               orientation='h', visible=first, marker_color='#ccb716')  # Set bar color to crimson\n",
    "    )\n",
    "    first = False  # Set the rest of the categories to invisible\n",
    "\n",
    "# Create a dropdown menu\n",
    "buttons = []\n",
    "for i, category in enumerate(categories):\n",
    "    button = dict(\n",
    "        label=category,\n",
    "        method=\"update\",\n",
    "        args=[{\"visible\": [i == j for j in range(len(categories))]},  # Only the selected category is visible\n",
    "              {\"title\": f\"Top Animes (Popularity) for Genre: {category}\"}])\n",
    "    buttons.append(button)\n",
    "\n",
    "# Update layout for dropdown, axes, and xaxis range\n",
    "fig.update_layout(\n",
    "    updatemenus=[dict(\n",
    "        active=0,  # First category is active\n",
    "        buttons=buttons,\n",
    "        direction=\"down\",\n",
    "        pad={\"r\": 10, \"t\": 10},\n",
    "        showactive=True,\n",
    "        x=0.77,\n",
    "        xanchor=\"left\",\n",
    "        y=1.25,\n",
    "        yanchor=\"top\"\n",
    "    )],\n",
    "    title=\"Top Animes (Popularity) for Genre: Action and Adventure\",\n",
    "    xaxis_title=\"Score\",\n",
    "    yaxis_title=\"Title\",\n",
    "    xaxis=dict(range=[13500, 16500])  # Set the range for x-axis\n",
    ")\n",
    "\n",
    "fig.write_html(\"../../data/plots/top_animes_popularity.html\")\n",
    "\n",
    "# Show the plot\n",
    "fig.show()\n"
   ]
  }
 ],
 "metadata": {
  "kernelspec": {
   "display_name": "dsan6600",
   "language": "python",
   "name": "python3"
  },
  "language_info": {
   "codemirror_mode": {
    "name": "ipython",
    "version": 3
   },
   "file_extension": ".py",
   "mimetype": "text/x-python",
   "name": "python",
   "nbconvert_exporter": "python",
   "pygments_lexer": "ipython3",
   "version": "3.11.4"
  }
 },
 "nbformat": 4,
 "nbformat_minor": 2
}
