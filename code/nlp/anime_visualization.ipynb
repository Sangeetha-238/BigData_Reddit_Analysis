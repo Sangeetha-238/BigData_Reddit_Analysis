{
 "cells": [
  {
   "cell_type": "code",
   "execution_count": 3,
   "metadata": {},
   "outputs": [],
   "source": [
    "import pandas as pd\n",
    "import warnings\n",
    "warnings.filterwarnings('ignore')"
   ]
  },
  {
   "cell_type": "code",
   "execution_count": 4,
   "metadata": {},
   "outputs": [],
   "source": [
    "df = pd.read_csv(\"../../data/csv/anime_data.csv\")"
   ]
  },
  {
   "cell_type": "code",
   "execution_count": 5,
   "metadata": {},
   "outputs": [
    {
     "data": {
      "text/html": [
       "<div>\n",
       "<style scoped>\n",
       "    .dataframe tbody tr th:only-of-type {\n",
       "        vertical-align: middle;\n",
       "    }\n",
       "\n",
       "    .dataframe tbody tr th {\n",
       "        vertical-align: top;\n",
       "    }\n",
       "\n",
       "    .dataframe thead th {\n",
       "        text-align: right;\n",
       "    }\n",
       "</style>\n",
       "<table border=\"1\" class=\"dataframe\">\n",
       "  <thead>\n",
       "    <tr style=\"text-align: right;\">\n",
       "      <th></th>\n",
       "      <th>Unnamed: 0</th>\n",
       "      <th>title</th>\n",
       "      <th>genre</th>\n",
       "      <th>episodes</th>\n",
       "      <th>popularity</th>\n",
       "      <th>score</th>\n",
       "    </tr>\n",
       "  </thead>\n",
       "  <tbody>\n",
       "    <tr>\n",
       "      <th>0</th>\n",
       "      <td>0</td>\n",
       "      <td>\"0\"</td>\n",
       "      <td>['Music']</td>\n",
       "      <td>1.0</td>\n",
       "      <td>7345.0</td>\n",
       "      <td>4.77</td>\n",
       "    </tr>\n",
       "    <tr>\n",
       "      <th>1</th>\n",
       "      <td>1</td>\n",
       "      <td>\"Aesop\" no Ohanashi yori: Ushi to Kaeru, Yokub...</td>\n",
       "      <td>['Kids']</td>\n",
       "      <td>1.0</td>\n",
       "      <td>12413.0</td>\n",
       "      <td>5.61</td>\n",
       "    </tr>\n",
       "    <tr>\n",
       "      <th>2</th>\n",
       "      <td>2</td>\n",
       "      <td>\"Bungaku Shoujo\" Kyou no Oyatsu: Hatsukoi</td>\n",
       "      <td>['Comedy', 'Fantasy', 'School']</td>\n",
       "      <td>1.0</td>\n",
       "      <td>3466.0</td>\n",
       "      <td>6.96</td>\n",
       "    </tr>\n",
       "    <tr>\n",
       "      <th>3</th>\n",
       "      <td>3</td>\n",
       "      <td>\"Bungaku Shoujo\" Memoire</td>\n",
       "      <td>['Drama', 'Romance', 'School']</td>\n",
       "      <td>3.0</td>\n",
       "      <td>2943.0</td>\n",
       "      <td>7.40</td>\n",
       "    </tr>\n",
       "    <tr>\n",
       "      <th>4</th>\n",
       "      <td>4</td>\n",
       "      <td>\"Bungaku Shoujo\" Movie</td>\n",
       "      <td>['Mystery', 'Drama', 'Romance', 'School']</td>\n",
       "      <td>1.0</td>\n",
       "      <td>1799.0</td>\n",
       "      <td>7.48</td>\n",
       "    </tr>\n",
       "    <tr>\n",
       "      <th>...</th>\n",
       "      <td>...</td>\n",
       "      <td>...</td>\n",
       "      <td>...</td>\n",
       "      <td>...</td>\n",
       "      <td>...</td>\n",
       "      <td>...</td>\n",
       "    </tr>\n",
       "    <tr>\n",
       "      <th>15868</th>\n",
       "      <td>15868</td>\n",
       "      <td>xxxHOLiC Rou</td>\n",
       "      <td>['Mystery', 'Supernatural']</td>\n",
       "      <td>2.0</td>\n",
       "      <td>1869.0</td>\n",
       "      <td>8.21</td>\n",
       "    </tr>\n",
       "    <tr>\n",
       "      <th>15869</th>\n",
       "      <td>15869</td>\n",
       "      <td>xxxHOLiC Shunmuki</td>\n",
       "      <td>['Mystery', 'Comedy', 'Psychological', 'Supern...</td>\n",
       "      <td>2.0</td>\n",
       "      <td>1813.0</td>\n",
       "      <td>8.13</td>\n",
       "    </tr>\n",
       "    <tr>\n",
       "      <th>15870</th>\n",
       "      <td>15870</td>\n",
       "      <td>Üks Uks</td>\n",
       "      <td>['Dementia']</td>\n",
       "      <td>1.0</td>\n",
       "      <td>14107.0</td>\n",
       "      <td>5.71</td>\n",
       "    </tr>\n",
       "    <tr>\n",
       "      <th>15871</th>\n",
       "      <td>15871</td>\n",
       "      <td>ēlDLIVE</td>\n",
       "      <td>['Action', 'Sci-Fi', 'Space', 'Police', 'Shoun...</td>\n",
       "      <td>12.0</td>\n",
       "      <td>2260.0</td>\n",
       "      <td>6.23</td>\n",
       "    </tr>\n",
       "    <tr>\n",
       "      <th>15872</th>\n",
       "      <td>15872</td>\n",
       "      <td>◯</td>\n",
       "      <td>['Dementia', 'Music']</td>\n",
       "      <td>1.0</td>\n",
       "      <td>8820.0</td>\n",
       "      <td>3.80</td>\n",
       "    </tr>\n",
       "  </tbody>\n",
       "</table>\n",
       "<p>15873 rows × 6 columns</p>\n",
       "</div>"
      ],
      "text/plain": [
       "       Unnamed: 0                                              title  \\\n",
       "0               0                                                \"0\"   \n",
       "1               1  \"Aesop\" no Ohanashi yori: Ushi to Kaeru, Yokub...   \n",
       "2               2          \"Bungaku Shoujo\" Kyou no Oyatsu: Hatsukoi   \n",
       "3               3                           \"Bungaku Shoujo\" Memoire   \n",
       "4               4                             \"Bungaku Shoujo\" Movie   \n",
       "...           ...                                                ...   \n",
       "15868       15868                                       xxxHOLiC Rou   \n",
       "15869       15869                                  xxxHOLiC Shunmuki   \n",
       "15870       15870                                            Üks Uks   \n",
       "15871       15871                                            ēlDLIVE   \n",
       "15872       15872                                                  ◯   \n",
       "\n",
       "                                                   genre episodes  popularity  \\\n",
       "0                                              ['Music']      1.0      7345.0   \n",
       "1                                               ['Kids']      1.0     12413.0   \n",
       "2                        ['Comedy', 'Fantasy', 'School']      1.0      3466.0   \n",
       "3                         ['Drama', 'Romance', 'School']      3.0      2943.0   \n",
       "4              ['Mystery', 'Drama', 'Romance', 'School']      1.0      1799.0   \n",
       "...                                                  ...      ...         ...   \n",
       "15868                        ['Mystery', 'Supernatural']      2.0      1869.0   \n",
       "15869  ['Mystery', 'Comedy', 'Psychological', 'Supern...      2.0      1813.0   \n",
       "15870                                       ['Dementia']      1.0     14107.0   \n",
       "15871  ['Action', 'Sci-Fi', 'Space', 'Police', 'Shoun...     12.0      2260.0   \n",
       "15872                              ['Dementia', 'Music']      1.0      8820.0   \n",
       "\n",
       "       score  \n",
       "0       4.77  \n",
       "1       5.61  \n",
       "2       6.96  \n",
       "3       7.40  \n",
       "4       7.48  \n",
       "...      ...  \n",
       "15868   8.21  \n",
       "15869   8.13  \n",
       "15870   5.71  \n",
       "15871   6.23  \n",
       "15872   3.80  \n",
       "\n",
       "[15873 rows x 6 columns]"
      ]
     },
     "execution_count": 5,
     "metadata": {},
     "output_type": "execute_result"
    }
   ],
   "source": [
    "df"
   ]
  },
  {
   "cell_type": "code",
   "execution_count": 6,
   "metadata": {},
   "outputs": [],
   "source": [
    "df.drop(columns=[\"Unnamed: 0\"], inplace=True)"
   ]
  },
  {
   "cell_type": "code",
   "execution_count": 7,
   "metadata": {},
   "outputs": [],
   "source": [
    "df_new = df[df[\"episodes\"] != \"Not specified\"]"
   ]
  },
  {
   "cell_type": "code",
   "execution_count": 8,
   "metadata": {},
   "outputs": [
    {
     "data": {
      "text/html": [
       "<div>\n",
       "<style scoped>\n",
       "    .dataframe tbody tr th:only-of-type {\n",
       "        vertical-align: middle;\n",
       "    }\n",
       "\n",
       "    .dataframe tbody tr th {\n",
       "        vertical-align: top;\n",
       "    }\n",
       "\n",
       "    .dataframe thead th {\n",
       "        text-align: right;\n",
       "    }\n",
       "</style>\n",
       "<table border=\"1\" class=\"dataframe\">\n",
       "  <thead>\n",
       "    <tr style=\"text-align: right;\">\n",
       "      <th></th>\n",
       "      <th>title</th>\n",
       "      <th>genre</th>\n",
       "      <th>episodes</th>\n",
       "      <th>popularity</th>\n",
       "      <th>score</th>\n",
       "    </tr>\n",
       "  </thead>\n",
       "  <tbody>\n",
       "    <tr>\n",
       "      <th>0</th>\n",
       "      <td>\"0\"</td>\n",
       "      <td>['Music']</td>\n",
       "      <td>1.0</td>\n",
       "      <td>7345.0</td>\n",
       "      <td>4.77</td>\n",
       "    </tr>\n",
       "    <tr>\n",
       "      <th>1</th>\n",
       "      <td>\"Aesop\" no Ohanashi yori: Ushi to Kaeru, Yokub...</td>\n",
       "      <td>['Kids']</td>\n",
       "      <td>1.0</td>\n",
       "      <td>12413.0</td>\n",
       "      <td>5.61</td>\n",
       "    </tr>\n",
       "    <tr>\n",
       "      <th>2</th>\n",
       "      <td>\"Bungaku Shoujo\" Kyou no Oyatsu: Hatsukoi</td>\n",
       "      <td>['Comedy', 'Fantasy', 'School']</td>\n",
       "      <td>1.0</td>\n",
       "      <td>3466.0</td>\n",
       "      <td>6.96</td>\n",
       "    </tr>\n",
       "    <tr>\n",
       "      <th>3</th>\n",
       "      <td>\"Bungaku Shoujo\" Memoire</td>\n",
       "      <td>['Drama', 'Romance', 'School']</td>\n",
       "      <td>3.0</td>\n",
       "      <td>2943.0</td>\n",
       "      <td>7.40</td>\n",
       "    </tr>\n",
       "    <tr>\n",
       "      <th>4</th>\n",
       "      <td>\"Bungaku Shoujo\" Movie</td>\n",
       "      <td>['Mystery', 'Drama', 'Romance', 'School']</td>\n",
       "      <td>1.0</td>\n",
       "      <td>1799.0</td>\n",
       "      <td>7.48</td>\n",
       "    </tr>\n",
       "    <tr>\n",
       "      <th>...</th>\n",
       "      <td>...</td>\n",
       "      <td>...</td>\n",
       "      <td>...</td>\n",
       "      <td>...</td>\n",
       "      <td>...</td>\n",
       "    </tr>\n",
       "    <tr>\n",
       "      <th>15868</th>\n",
       "      <td>xxxHOLiC Rou</td>\n",
       "      <td>['Mystery', 'Supernatural']</td>\n",
       "      <td>2.0</td>\n",
       "      <td>1869.0</td>\n",
       "      <td>8.21</td>\n",
       "    </tr>\n",
       "    <tr>\n",
       "      <th>15869</th>\n",
       "      <td>xxxHOLiC Shunmuki</td>\n",
       "      <td>['Mystery', 'Comedy', 'Psychological', 'Supern...</td>\n",
       "      <td>2.0</td>\n",
       "      <td>1813.0</td>\n",
       "      <td>8.13</td>\n",
       "    </tr>\n",
       "    <tr>\n",
       "      <th>15870</th>\n",
       "      <td>Üks Uks</td>\n",
       "      <td>['Dementia']</td>\n",
       "      <td>1.0</td>\n",
       "      <td>14107.0</td>\n",
       "      <td>5.71</td>\n",
       "    </tr>\n",
       "    <tr>\n",
       "      <th>15871</th>\n",
       "      <td>ēlDLIVE</td>\n",
       "      <td>['Action', 'Sci-Fi', 'Space', 'Police', 'Shoun...</td>\n",
       "      <td>12.0</td>\n",
       "      <td>2260.0</td>\n",
       "      <td>6.23</td>\n",
       "    </tr>\n",
       "    <tr>\n",
       "      <th>15872</th>\n",
       "      <td>◯</td>\n",
       "      <td>['Dementia', 'Music']</td>\n",
       "      <td>1.0</td>\n",
       "      <td>8820.0</td>\n",
       "      <td>3.80</td>\n",
       "    </tr>\n",
       "  </tbody>\n",
       "</table>\n",
       "<p>15611 rows × 5 columns</p>\n",
       "</div>"
      ],
      "text/plain": [
       "                                                   title  \\\n",
       "0                                                    \"0\"   \n",
       "1      \"Aesop\" no Ohanashi yori: Ushi to Kaeru, Yokub...   \n",
       "2              \"Bungaku Shoujo\" Kyou no Oyatsu: Hatsukoi   \n",
       "3                               \"Bungaku Shoujo\" Memoire   \n",
       "4                                 \"Bungaku Shoujo\" Movie   \n",
       "...                                                  ...   \n",
       "15868                                       xxxHOLiC Rou   \n",
       "15869                                  xxxHOLiC Shunmuki   \n",
       "15870                                            Üks Uks   \n",
       "15871                                            ēlDLIVE   \n",
       "15872                                                  ◯   \n",
       "\n",
       "                                                   genre episodes  popularity  \\\n",
       "0                                              ['Music']      1.0      7345.0   \n",
       "1                                               ['Kids']      1.0     12413.0   \n",
       "2                        ['Comedy', 'Fantasy', 'School']      1.0      3466.0   \n",
       "3                         ['Drama', 'Romance', 'School']      3.0      2943.0   \n",
       "4              ['Mystery', 'Drama', 'Romance', 'School']      1.0      1799.0   \n",
       "...                                                  ...      ...         ...   \n",
       "15868                        ['Mystery', 'Supernatural']      2.0      1869.0   \n",
       "15869  ['Mystery', 'Comedy', 'Psychological', 'Supern...      2.0      1813.0   \n",
       "15870                                       ['Dementia']      1.0     14107.0   \n",
       "15871  ['Action', 'Sci-Fi', 'Space', 'Police', 'Shoun...     12.0      2260.0   \n",
       "15872                              ['Dementia', 'Music']      1.0      8820.0   \n",
       "\n",
       "       score  \n",
       "0       4.77  \n",
       "1       5.61  \n",
       "2       6.96  \n",
       "3       7.40  \n",
       "4       7.48  \n",
       "...      ...  \n",
       "15868   8.21  \n",
       "15869   8.13  \n",
       "15870   5.71  \n",
       "15871   6.23  \n",
       "15872   3.80  \n",
       "\n",
       "[15611 rows x 5 columns]"
      ]
     },
     "execution_count": 8,
     "metadata": {},
     "output_type": "execute_result"
    }
   ],
   "source": [
    "df_new"
   ]
  },
  {
   "cell_type": "code",
   "execution_count": 9,
   "metadata": {},
   "outputs": [],
   "source": [
    "import pandas as pd\n",
    "import ast\n",
    "\n",
    "# Convert 'genre' to a list\n",
    "df_new['genre'] = df_new['genre'].apply(ast.literal_eval)\n",
    "\n",
    "# Explode the DataFrame\n",
    "df_exploded = df_new.explode('genre')"
   ]
  },
  {
   "cell_type": "code",
   "execution_count": 10,
   "metadata": {},
   "outputs": [],
   "source": [
    "# Define the genres and their corresponding broad categories\n",
    "genre_categories = {\n",
    "    'Action and Adventure': ['Action', 'Adventure', 'Super Power', 'Martial Arts', 'Samurai', 'Military'],\n",
    "    'Fantasy and Supernatural': ['Fantasy', 'Supernatural', 'Magic', 'Vampire', 'Demons'],\n",
    "    'Science Fiction and Technology': ['Sci-Fi', 'Mecha', 'Space', 'Cars'],\n",
    "    'Comedy and Slice of Life': ['Comedy', 'Slice of Life', 'Parody'],\n",
    "    'Drama and Romance': ['Drama', 'Romance', 'Shoujo', 'Shounen Ai', 'Josei', 'Shoujo Ai', 'Yaoi'],\n",
    "    'Horror and Thriller': ['Horror', 'Thriller', 'Psychological', 'Mystery'],\n",
    "    'Historical and Cultural': ['Historical', 'Samurai', 'Seinen'],\n",
    "    'Youth and School Life': ['School', 'Shounen', 'Kids', 'Shoujo'],\n",
    "    'Special Interests': ['Ecchi', 'Harem', 'Hentai', 'Yaoi', 'Yuri'],\n",
    "    'Miscellaneous': ['Music', 'Sports', 'Game', 'Police', 'Dementia']\n",
    "}\n",
    "\n",
    "# Function to map each genre to its broader category\n",
    "def map_genre_to_category(genre):\n",
    "    for category, genres in genre_categories.items():\n",
    "        if genre in genres:\n",
    "            return category\n",
    "    return 'Miscellaneous'\n",
    "\n",
    "# Map each genre to its broader category\n",
    "df_exploded['category'] = df_exploded['genre'].apply(map_genre_to_category)"
   ]
  },
  {
   "cell_type": "code",
   "execution_count": 11,
   "metadata": {},
   "outputs": [],
   "source": [
    "df_exploded['title'] = df_exploded['title'].str.replace(r\"[^\\w\\s]\", '', regex=True)\n"
   ]
  },
  {
   "cell_type": "code",
   "execution_count": 12,
   "metadata": {},
   "outputs": [],
   "source": [
    "df_exploded = df_exploded.groupby([\"category\", \"title\"], as_index=False)[[\"popularity\", \"score\"]].mean()"
   ]
  },
  {
   "cell_type": "code",
   "execution_count": 13,
   "metadata": {},
   "outputs": [],
   "source": [
    "# Group by genre and sort\n",
    "top_score = df_exploded.groupby('category', as_index=False).apply(lambda x: x.nlargest(10, 'score'))\n",
    "top_popularity = df_exploded.groupby('category', as_index=False).apply(lambda x: x.nlargest(10, 'popularity'))"
   ]
  },
  {
   "cell_type": "code",
   "execution_count": 14,
   "metadata": {},
   "outputs": [],
   "source": [
    "top_score.reset_index(drop=True, inplace=True)"
   ]
  },
  {
   "cell_type": "code",
   "execution_count": 15,
   "metadata": {},
   "outputs": [],
   "source": [
    "top_score_final = top_score.groupby([\"category\", \"title\"], as_index=False)[\"score\"].mean()"
   ]
  },
  {
   "cell_type": "code",
   "execution_count": 16,
   "metadata": {},
   "outputs": [
    {
     "data": {
      "text/html": [
       "<div>\n",
       "<style scoped>\n",
       "    .dataframe tbody tr th:only-of-type {\n",
       "        vertical-align: middle;\n",
       "    }\n",
       "\n",
       "    .dataframe tbody tr th {\n",
       "        vertical-align: top;\n",
       "    }\n",
       "\n",
       "    .dataframe thead th {\n",
       "        text-align: right;\n",
       "    }\n",
       "</style>\n",
       "<table border=\"1\" class=\"dataframe\">\n",
       "  <thead>\n",
       "    <tr style=\"text-align: right;\">\n",
       "      <th></th>\n",
       "      <th>category</th>\n",
       "      <th>title</th>\n",
       "      <th>score</th>\n",
       "    </tr>\n",
       "  </thead>\n",
       "  <tbody>\n",
       "    <tr>\n",
       "      <th>0</th>\n",
       "      <td>Action and Adventure</td>\n",
       "      <td>Code Geass Hangyaku no Lelouch R2</td>\n",
       "      <td>8.93</td>\n",
       "    </tr>\n",
       "    <tr>\n",
       "      <th>1</th>\n",
       "      <td>Action and Adventure</td>\n",
       "      <td>Fullmetal Alchemist Brotherhood</td>\n",
       "      <td>9.23</td>\n",
       "    </tr>\n",
       "    <tr>\n",
       "      <th>2</th>\n",
       "      <td>Action and Adventure</td>\n",
       "      <td>Ginga Eiyuu Densetsu</td>\n",
       "      <td>9.03</td>\n",
       "    </tr>\n",
       "    <tr>\n",
       "      <th>3</th>\n",
       "      <td>Action and Adventure</td>\n",
       "      <td>Gintama</td>\n",
       "      <td>9.00</td>\n",
       "    </tr>\n",
       "    <tr>\n",
       "      <th>4</th>\n",
       "      <td>Action and Adventure</td>\n",
       "      <td>Gintama Enchousen</td>\n",
       "      <td>8.98</td>\n",
       "    </tr>\n",
       "    <tr>\n",
       "      <th>...</th>\n",
       "      <td>...</td>\n",
       "      <td>...</td>\n",
       "      <td>...</td>\n",
       "    </tr>\n",
       "    <tr>\n",
       "      <th>95</th>\n",
       "      <td>Youth and School Life</td>\n",
       "      <td>Hunter x Hunter 2011</td>\n",
       "      <td>9.11</td>\n",
       "    </tr>\n",
       "    <tr>\n",
       "      <th>96</th>\n",
       "      <td>Youth and School Life</td>\n",
       "      <td>Kimi no Na wa</td>\n",
       "      <td>9.09</td>\n",
       "    </tr>\n",
       "    <tr>\n",
       "      <th>97</th>\n",
       "      <td>Youth and School Life</td>\n",
       "      <td>Koe no Katachi</td>\n",
       "      <td>9.01</td>\n",
       "    </tr>\n",
       "    <tr>\n",
       "      <th>98</th>\n",
       "      <td>Youth and School Life</td>\n",
       "      <td>Quiz de Manabu Pinocchio no Koutsuu Ansen</td>\n",
       "      <td>9.08</td>\n",
       "    </tr>\n",
       "    <tr>\n",
       "      <th>99</th>\n",
       "      <td>Youth and School Life</td>\n",
       "      <td>Shingeki no Kyojin Season 3 Part 2</td>\n",
       "      <td>9.07</td>\n",
       "    </tr>\n",
       "  </tbody>\n",
       "</table>\n",
       "<p>100 rows × 3 columns</p>\n",
       "</div>"
      ],
      "text/plain": [
       "                 category                                      title  score\n",
       "0    Action and Adventure          Code Geass Hangyaku no Lelouch R2   8.93\n",
       "1    Action and Adventure            Fullmetal Alchemist Brotherhood   9.23\n",
       "2    Action and Adventure                       Ginga Eiyuu Densetsu   9.03\n",
       "3    Action and Adventure                                    Gintama   9.00\n",
       "4    Action and Adventure                          Gintama Enchousen   8.98\n",
       "..                    ...                                        ...    ...\n",
       "95  Youth and School Life                       Hunter x Hunter 2011   9.11\n",
       "96  Youth and School Life                              Kimi no Na wa   9.09\n",
       "97  Youth and School Life                             Koe no Katachi   9.01\n",
       "98  Youth and School Life  Quiz de Manabu Pinocchio no Koutsuu Ansen   9.08\n",
       "99  Youth and School Life         Shingeki no Kyojin Season 3 Part 2   9.07\n",
       "\n",
       "[100 rows x 3 columns]"
      ]
     },
     "execution_count": 16,
     "metadata": {},
     "output_type": "execute_result"
    }
   ],
   "source": [
    "top_score_final"
   ]
  },
  {
   "cell_type": "code",
   "execution_count": 16,
   "metadata": {},
   "outputs": [],
   "source": [
    "top_popularity.reset_index(drop=True, inplace=True)"
   ]
  },
  {
   "cell_type": "code",
   "execution_count": 17,
   "metadata": {},
   "outputs": [],
   "source": [
    "top_popularity_final = top_popularity.groupby([\"category\", \"title\"], as_index=False)[\"popularity\"].mean()"
   ]
  },
  {
   "cell_type": "code",
   "execution_count": 18,
   "metadata": {},
   "outputs": [
    {
     "data": {
      "text/html": [
       "<div>\n",
       "<style scoped>\n",
       "    .dataframe tbody tr th:only-of-type {\n",
       "        vertical-align: middle;\n",
       "    }\n",
       "\n",
       "    .dataframe tbody tr th {\n",
       "        vertical-align: top;\n",
       "    }\n",
       "\n",
       "    .dataframe thead th {\n",
       "        text-align: right;\n",
       "    }\n",
       "</style>\n",
       "<table border=\"1\" class=\"dataframe\">\n",
       "  <thead>\n",
       "    <tr style=\"text-align: right;\">\n",
       "      <th></th>\n",
       "      <th>category</th>\n",
       "      <th>title</th>\n",
       "      <th>popularity</th>\n",
       "    </tr>\n",
       "  </thead>\n",
       "  <tbody>\n",
       "    <tr>\n",
       "      <th>0</th>\n",
       "      <td>Action and Adventure</td>\n",
       "      <td>Boy General</td>\n",
       "      <td>16308.0</td>\n",
       "    </tr>\n",
       "    <tr>\n",
       "      <th>1</th>\n",
       "      <td>Action and Adventure</td>\n",
       "      <td>Jumbagi Hanbandoui gongryong 3D</td>\n",
       "      <td>16238.0</td>\n",
       "    </tr>\n",
       "    <tr>\n",
       "      <th>2</th>\n",
       "      <td>Action and Adventure</td>\n",
       "      <td>Mabeob Chunjamun Season 2</td>\n",
       "      <td>16305.0</td>\n",
       "    </tr>\n",
       "    <tr>\n",
       "      <th>3</th>\n",
       "      <td>Action and Adventure</td>\n",
       "      <td>Miniforce</td>\n",
       "      <td>16166.0</td>\n",
       "    </tr>\n",
       "    <tr>\n",
       "      <th>4</th>\n",
       "      <td>Action and Adventure</td>\n",
       "      <td>Ninja Tamamaru no Hi no Youjin</td>\n",
       "      <td>16225.0</td>\n",
       "    </tr>\n",
       "    <tr>\n",
       "      <th>...</th>\n",
       "      <td>...</td>\n",
       "      <td>...</td>\n",
       "      <td>...</td>\n",
       "    </tr>\n",
       "    <tr>\n",
       "      <th>95</th>\n",
       "      <td>Youth and School Life</td>\n",
       "      <td>Robot Trains</td>\n",
       "      <td>16315.0</td>\n",
       "    </tr>\n",
       "    <tr>\n",
       "      <th>96</th>\n",
       "      <td>Youth and School Life</td>\n",
       "      <td>Usagi no Mofy TV 2014</td>\n",
       "      <td>16317.0</td>\n",
       "    </tr>\n",
       "    <tr>\n",
       "      <th>97</th>\n",
       "      <td>Youth and School Life</td>\n",
       "      <td>Usagi no Mofy TV 2016</td>\n",
       "      <td>16319.0</td>\n",
       "    </tr>\n",
       "    <tr>\n",
       "      <th>98</th>\n",
       "      <td>Youth and School Life</td>\n",
       "      <td>Watashi no Ningyou</td>\n",
       "      <td>16310.0</td>\n",
       "    </tr>\n",
       "    <tr>\n",
       "      <th>99</th>\n",
       "      <td>Youth and School Life</td>\n",
       "      <td>Watashi to Piano</td>\n",
       "      <td>16313.0</td>\n",
       "    </tr>\n",
       "  </tbody>\n",
       "</table>\n",
       "<p>100 rows × 3 columns</p>\n",
       "</div>"
      ],
      "text/plain": [
       "                 category                            title  popularity\n",
       "0    Action and Adventure                      Boy General     16308.0\n",
       "1    Action and Adventure  Jumbagi Hanbandoui gongryong 3D     16238.0\n",
       "2    Action and Adventure        Mabeob Chunjamun Season 2     16305.0\n",
       "3    Action and Adventure                        Miniforce     16166.0\n",
       "4    Action and Adventure   Ninja Tamamaru no Hi no Youjin     16225.0\n",
       "..                    ...                              ...         ...\n",
       "95  Youth and School Life                     Robot Trains     16315.0\n",
       "96  Youth and School Life            Usagi no Mofy TV 2014     16317.0\n",
       "97  Youth and School Life            Usagi no Mofy TV 2016     16319.0\n",
       "98  Youth and School Life               Watashi no Ningyou     16310.0\n",
       "99  Youth and School Life                 Watashi to Piano     16313.0\n",
       "\n",
       "[100 rows x 3 columns]"
      ]
     },
     "execution_count": 18,
     "metadata": {},
     "output_type": "execute_result"
    }
   ],
   "source": [
    "top_popularity_final"
   ]
  },
  {
   "cell_type": "code",
   "execution_count": 25,
   "metadata": {},
   "outputs": [
    {
     "data": {
      "application/vnd.plotly.v1+json": {
       "config": {
        "plotlyServerURL": "https://plot.ly"
       },
       "data": [
        {
         "marker": {
          "color": "#df6200"
         },
         "name": "Action and Adventure",
         "orientation": "h",
         "type": "bar",
         "visible": true,
         "x": [
          8.9,
          8.92,
          8.93,
          8.95,
          8.98,
          9,
          9.03,
          9.07,
          9.11,
          9.23
         ],
         "y": [
          "Sen to Chihiro no Kamikakushi",
          "Kimetsu no Yaiba",
          "Code Geass Hangyaku no Lelouch R2",
          "Gintama Movie 2 Kanketsuhen  Yorozuya yo Eien Nare",
          "Gintama Enchousen",
          "Gintama",
          "Ginga Eiyuu Densetsu",
          "Shingeki no Kyojin Season 3 Part 2",
          "Hunter x Hunter 2011",
          "Fullmetal Alchemist Brotherhood"
         ]
        },
        {
         "marker": {
          "color": "#df6200"
         },
         "name": "Comedy and Slice of Life",
         "orientation": "h",
         "type": "bar",
         "visible": false,
         "x": [
          8.82,
          8.89,
          8.93,
          8.94,
          8.95,
          8.97,
          8.98,
          9,
          9.02,
          9.23
         ],
         "y": [
          "Haikyuu Second Season",
          "Mob Psycho 100 II",
          "Owarimonogatari 2nd Season",
          "Haikyuu Karasuno Koukou vs Shiratorizawa Gakuen Koukou",
          "Gintama Movie 2 Kanketsuhen  Yorozuya yo Eien Nare",
          "Clannad After Story",
          "Gintama Enchousen",
          "Gintama",
          "3gatsu no Lion 2nd Season",
          "Fullmetal Alchemist Brotherhood"
         ]
        },
        {
         "marker": {
          "color": "#df6200"
         },
         "name": "Drama and Romance",
         "orientation": "h",
         "type": "bar",
         "visible": false,
         "x": [
          8.9,
          8.93,
          8.94,
          8.97,
          9.01,
          9.02,
          9.03,
          9.07,
          9.09,
          9.23
         ],
         "y": [
          "Sen to Chihiro no Kamikakushi",
          "Code Geass Hangyaku no Lelouch R2",
          "Haikyuu Karasuno Koukou vs Shiratorizawa Gakuen Koukou",
          "Clannad After Story",
          "Koe no Katachi",
          "3gatsu no Lion 2nd Season",
          "Ginga Eiyuu Densetsu",
          "Shingeki no Kyojin Season 3 Part 2",
          "Kimi no Na wa",
          "Fullmetal Alchemist Brotherhood"
         ]
        },
        {
         "marker": {
          "color": "#df6200"
         },
         "name": "Fantasy and Supernatural",
         "orientation": "h",
         "type": "bar",
         "visible": false,
         "x": [
          8.88,
          8.89,
          8.9,
          8.92,
          8.93,
          8.97,
          9.07,
          9.09,
          9.11,
          9.23
         ],
         "y": [
          "Kaiteikoku no Koutsu Anzen",
          "Mob Psycho 100 II",
          "Sen to Chihiro no Kamikakushi",
          "Kimetsu no Yaiba",
          "Owarimonogatari 2nd Season",
          "Clannad After Story",
          "Shingeki no Kyojin Season 3 Part 2",
          "Kimi no Na wa",
          "Hunter x Hunter 2011",
          "Fullmetal Alchemist Brotherhood"
         ]
        },
        {
         "marker": {
          "color": "#df6200"
         },
         "name": "Historical and Cultural",
         "orientation": "h",
         "type": "bar",
         "visible": false,
         "x": [
          8.75,
          8.76,
          8.76,
          8.78,
          8.78,
          8.92,
          8.95,
          8.98,
          9,
          9.02
         ],
         "y": [
          "Rurouni Kenshin Meiji Kenkaku Romantan  Tsuiokuhen",
          "Gintama Shirogane no Tamashiihen  Kouhansen",
          "Mushishi Zoku Shou 2nd Season",
          "Shouwa Genroku Rakugo Shinjuu Sukeroku Futatabihen",
          "Vinland Saga",
          "Kimetsu no Yaiba",
          "Gintama Movie 2 Kanketsuhen  Yorozuya yo Eien Nare",
          "Gintama Enchousen",
          "Gintama",
          "3gatsu no Lion 2nd Season"
         ]
        },
        {
         "marker": {
          "color": "#df6200"
         },
         "name": "Horror and Thriller",
         "orientation": "h",
         "type": "bar",
         "visible": false,
         "x": [
          8.69,
          8.71,
          8.72,
          8.76,
          8.76,
          8.83,
          8.83,
          8.93,
          9.07,
          9.11
         ],
         "y": [
          "Monster",
          "Mushishi",
          "Mushishi Zoku Shou",
          "Monogatari Series Second Season",
          "Mushishi Zoku Shou 2nd Season",
          "Kizumonogatari III Reiketsuhen",
          "Made in Abyss",
          "Owarimonogatari 2nd Season",
          "Shingeki no Kyojin Season 3 Part 2",
          "SteinsGate"
         ]
        },
        {
         "marker": {
          "color": "#df6200"
         },
         "name": "Miscellaneous",
         "orientation": "h",
         "type": "bar",
         "visible": false,
         "x": [
          8.62,
          8.62,
          8.65,
          8.69,
          8.69,
          8.77,
          8.82,
          8.83,
          8.94,
          9.02
         ],
         "y": [
          "Haikyuu",
          "Hajime no Ippo Rising",
          "Death Note",
          "Hajime no Ippo New Challenger",
          "Monster",
          "Hajime no Ippo",
          "Haikyuu Second Season",
          "Shigatsu wa Kimi no Uso",
          "Haikyuu Karasuno Koukou vs Shiratorizawa Gakuen Koukou",
          "3gatsu no Lion 2nd Season"
         ]
        },
        {
         "marker": {
          "color": "#df6200"
         },
         "name": "Science Fiction and Technology",
         "orientation": "h",
         "type": "bar",
         "visible": false,
         "x": [
          8.76,
          8.76,
          8.81,
          8.83,
          8.93,
          8.95,
          8.98,
          9,
          9.03,
          9.11
         ],
         "y": [
          "Code Geass Hangyaku no Lelouch",
          "Gintama Shirogane no Tamashiihen  Kouhansen",
          "Cowboy Bebop",
          "Made in Abyss",
          "Code Geass Hangyaku no Lelouch R2",
          "Gintama Movie 2 Kanketsuhen  Yorozuya yo Eien Nare",
          "Gintama Enchousen",
          "Gintama",
          "Ginga Eiyuu Densetsu",
          "SteinsGate"
         ]
        },
        {
         "marker": {
          "color": "#df6200"
         },
         "name": "Special Interests",
         "orientation": "h",
         "type": "bar",
         "visible": false,
         "x": [
          8.16,
          8.17,
          8.18,
          8.2,
          8.28,
          8.3,
          8.34,
          8.36,
          8.38,
          8.46
         ],
         "y": [
          "Kami nomi zo Shiru Sekai Megamihen",
          "Tsukimonogatari",
          "Itsumo Kokoro ni Taiyou wo",
          "Nisemonogatari",
          "Ouran Koukou Host Club",
          "Shokugeki no Souma San no Sara  Tootsuki Resshahen",
          "No Game No Life",
          "Shokugeki no Souma San no Sara",
          "Shokugeki no Souma Ni no Sara",
          "Shokugeki no Souma"
         ]
        },
        {
         "marker": {
          "color": "#df6200"
         },
         "name": "Youth and School Life",
         "orientation": "h",
         "type": "bar",
         "visible": false,
         "x": [
          8.94,
          8.95,
          8.98,
          9,
          9.01,
          9.07,
          9.08,
          9.09,
          9.11,
          9.23
         ],
         "y": [
          "Haikyuu Karasuno Koukou vs Shiratorizawa Gakuen Koukou",
          "Gintama Movie 2 Kanketsuhen  Yorozuya yo Eien Nare",
          "Gintama Enchousen",
          "Gintama",
          "Koe no Katachi",
          "Shingeki no Kyojin Season 3 Part 2",
          "Quiz de Manabu Pinocchio no Koutsuu Ansen",
          "Kimi no Na wa",
          "Hunter x Hunter 2011",
          "Fullmetal Alchemist Brotherhood"
         ]
        }
       ],
       "layout": {
        "template": {
         "data": {
          "bar": [
           {
            "error_x": {
             "color": "#2a3f5f"
            },
            "error_y": {
             "color": "#2a3f5f"
            },
            "marker": {
             "line": {
              "color": "#E5ECF6",
              "width": 0.5
             },
             "pattern": {
              "fillmode": "overlay",
              "size": 10,
              "solidity": 0.2
             }
            },
            "type": "bar"
           }
          ],
          "barpolar": [
           {
            "marker": {
             "line": {
              "color": "#E5ECF6",
              "width": 0.5
             },
             "pattern": {
              "fillmode": "overlay",
              "size": 10,
              "solidity": 0.2
             }
            },
            "type": "barpolar"
           }
          ],
          "carpet": [
           {
            "aaxis": {
             "endlinecolor": "#2a3f5f",
             "gridcolor": "white",
             "linecolor": "white",
             "minorgridcolor": "white",
             "startlinecolor": "#2a3f5f"
            },
            "baxis": {
             "endlinecolor": "#2a3f5f",
             "gridcolor": "white",
             "linecolor": "white",
             "minorgridcolor": "white",
             "startlinecolor": "#2a3f5f"
            },
            "type": "carpet"
           }
          ],
          "choropleth": [
           {
            "colorbar": {
             "outlinewidth": 0,
             "ticks": ""
            },
            "type": "choropleth"
           }
          ],
          "contour": [
           {
            "colorbar": {
             "outlinewidth": 0,
             "ticks": ""
            },
            "colorscale": [
             [
              0,
              "#0d0887"
             ],
             [
              0.1111111111111111,
              "#46039f"
             ],
             [
              0.2222222222222222,
              "#7201a8"
             ],
             [
              0.3333333333333333,
              "#9c179e"
             ],
             [
              0.4444444444444444,
              "#bd3786"
             ],
             [
              0.5555555555555556,
              "#d8576b"
             ],
             [
              0.6666666666666666,
              "#ed7953"
             ],
             [
              0.7777777777777778,
              "#fb9f3a"
             ],
             [
              0.8888888888888888,
              "#fdca26"
             ],
             [
              1,
              "#f0f921"
             ]
            ],
            "type": "contour"
           }
          ],
          "contourcarpet": [
           {
            "colorbar": {
             "outlinewidth": 0,
             "ticks": ""
            },
            "type": "contourcarpet"
           }
          ],
          "heatmap": [
           {
            "colorbar": {
             "outlinewidth": 0,
             "ticks": ""
            },
            "colorscale": [
             [
              0,
              "#0d0887"
             ],
             [
              0.1111111111111111,
              "#46039f"
             ],
             [
              0.2222222222222222,
              "#7201a8"
             ],
             [
              0.3333333333333333,
              "#9c179e"
             ],
             [
              0.4444444444444444,
              "#bd3786"
             ],
             [
              0.5555555555555556,
              "#d8576b"
             ],
             [
              0.6666666666666666,
              "#ed7953"
             ],
             [
              0.7777777777777778,
              "#fb9f3a"
             ],
             [
              0.8888888888888888,
              "#fdca26"
             ],
             [
              1,
              "#f0f921"
             ]
            ],
            "type": "heatmap"
           }
          ],
          "heatmapgl": [
           {
            "colorbar": {
             "outlinewidth": 0,
             "ticks": ""
            },
            "colorscale": [
             [
              0,
              "#0d0887"
             ],
             [
              0.1111111111111111,
              "#46039f"
             ],
             [
              0.2222222222222222,
              "#7201a8"
             ],
             [
              0.3333333333333333,
              "#9c179e"
             ],
             [
              0.4444444444444444,
              "#bd3786"
             ],
             [
              0.5555555555555556,
              "#d8576b"
             ],
             [
              0.6666666666666666,
              "#ed7953"
             ],
             [
              0.7777777777777778,
              "#fb9f3a"
             ],
             [
              0.8888888888888888,
              "#fdca26"
             ],
             [
              1,
              "#f0f921"
             ]
            ],
            "type": "heatmapgl"
           }
          ],
          "histogram": [
           {
            "marker": {
             "pattern": {
              "fillmode": "overlay",
              "size": 10,
              "solidity": 0.2
             }
            },
            "type": "histogram"
           }
          ],
          "histogram2d": [
           {
            "colorbar": {
             "outlinewidth": 0,
             "ticks": ""
            },
            "colorscale": [
             [
              0,
              "#0d0887"
             ],
             [
              0.1111111111111111,
              "#46039f"
             ],
             [
              0.2222222222222222,
              "#7201a8"
             ],
             [
              0.3333333333333333,
              "#9c179e"
             ],
             [
              0.4444444444444444,
              "#bd3786"
             ],
             [
              0.5555555555555556,
              "#d8576b"
             ],
             [
              0.6666666666666666,
              "#ed7953"
             ],
             [
              0.7777777777777778,
              "#fb9f3a"
             ],
             [
              0.8888888888888888,
              "#fdca26"
             ],
             [
              1,
              "#f0f921"
             ]
            ],
            "type": "histogram2d"
           }
          ],
          "histogram2dcontour": [
           {
            "colorbar": {
             "outlinewidth": 0,
             "ticks": ""
            },
            "colorscale": [
             [
              0,
              "#0d0887"
             ],
             [
              0.1111111111111111,
              "#46039f"
             ],
             [
              0.2222222222222222,
              "#7201a8"
             ],
             [
              0.3333333333333333,
              "#9c179e"
             ],
             [
              0.4444444444444444,
              "#bd3786"
             ],
             [
              0.5555555555555556,
              "#d8576b"
             ],
             [
              0.6666666666666666,
              "#ed7953"
             ],
             [
              0.7777777777777778,
              "#fb9f3a"
             ],
             [
              0.8888888888888888,
              "#fdca26"
             ],
             [
              1,
              "#f0f921"
             ]
            ],
            "type": "histogram2dcontour"
           }
          ],
          "mesh3d": [
           {
            "colorbar": {
             "outlinewidth": 0,
             "ticks": ""
            },
            "type": "mesh3d"
           }
          ],
          "parcoords": [
           {
            "line": {
             "colorbar": {
              "outlinewidth": 0,
              "ticks": ""
             }
            },
            "type": "parcoords"
           }
          ],
          "pie": [
           {
            "automargin": true,
            "type": "pie"
           }
          ],
          "scatter": [
           {
            "fillpattern": {
             "fillmode": "overlay",
             "size": 10,
             "solidity": 0.2
            },
            "type": "scatter"
           }
          ],
          "scatter3d": [
           {
            "line": {
             "colorbar": {
              "outlinewidth": 0,
              "ticks": ""
             }
            },
            "marker": {
             "colorbar": {
              "outlinewidth": 0,
              "ticks": ""
             }
            },
            "type": "scatter3d"
           }
          ],
          "scattercarpet": [
           {
            "marker": {
             "colorbar": {
              "outlinewidth": 0,
              "ticks": ""
             }
            },
            "type": "scattercarpet"
           }
          ],
          "scattergeo": [
           {
            "marker": {
             "colorbar": {
              "outlinewidth": 0,
              "ticks": ""
             }
            },
            "type": "scattergeo"
           }
          ],
          "scattergl": [
           {
            "marker": {
             "colorbar": {
              "outlinewidth": 0,
              "ticks": ""
             }
            },
            "type": "scattergl"
           }
          ],
          "scattermapbox": [
           {
            "marker": {
             "colorbar": {
              "outlinewidth": 0,
              "ticks": ""
             }
            },
            "type": "scattermapbox"
           }
          ],
          "scatterpolar": [
           {
            "marker": {
             "colorbar": {
              "outlinewidth": 0,
              "ticks": ""
             }
            },
            "type": "scatterpolar"
           }
          ],
          "scatterpolargl": [
           {
            "marker": {
             "colorbar": {
              "outlinewidth": 0,
              "ticks": ""
             }
            },
            "type": "scatterpolargl"
           }
          ],
          "scatterternary": [
           {
            "marker": {
             "colorbar": {
              "outlinewidth": 0,
              "ticks": ""
             }
            },
            "type": "scatterternary"
           }
          ],
          "surface": [
           {
            "colorbar": {
             "outlinewidth": 0,
             "ticks": ""
            },
            "colorscale": [
             [
              0,
              "#0d0887"
             ],
             [
              0.1111111111111111,
              "#46039f"
             ],
             [
              0.2222222222222222,
              "#7201a8"
             ],
             [
              0.3333333333333333,
              "#9c179e"
             ],
             [
              0.4444444444444444,
              "#bd3786"
             ],
             [
              0.5555555555555556,
              "#d8576b"
             ],
             [
              0.6666666666666666,
              "#ed7953"
             ],
             [
              0.7777777777777778,
              "#fb9f3a"
             ],
             [
              0.8888888888888888,
              "#fdca26"
             ],
             [
              1,
              "#f0f921"
             ]
            ],
            "type": "surface"
           }
          ],
          "table": [
           {
            "cells": {
             "fill": {
              "color": "#EBF0F8"
             },
             "line": {
              "color": "white"
             }
            },
            "header": {
             "fill": {
              "color": "#C8D4E3"
             },
             "line": {
              "color": "white"
             }
            },
            "type": "table"
           }
          ]
         },
         "layout": {
          "annotationdefaults": {
           "arrowcolor": "#2a3f5f",
           "arrowhead": 0,
           "arrowwidth": 1
          },
          "autotypenumbers": "strict",
          "coloraxis": {
           "colorbar": {
            "outlinewidth": 0,
            "ticks": ""
           }
          },
          "colorscale": {
           "diverging": [
            [
             0,
             "#8e0152"
            ],
            [
             0.1,
             "#c51b7d"
            ],
            [
             0.2,
             "#de77ae"
            ],
            [
             0.3,
             "#f1b6da"
            ],
            [
             0.4,
             "#fde0ef"
            ],
            [
             0.5,
             "#f7f7f7"
            ],
            [
             0.6,
             "#e6f5d0"
            ],
            [
             0.7,
             "#b8e186"
            ],
            [
             0.8,
             "#7fbc41"
            ],
            [
             0.9,
             "#4d9221"
            ],
            [
             1,
             "#276419"
            ]
           ],
           "sequential": [
            [
             0,
             "#0d0887"
            ],
            [
             0.1111111111111111,
             "#46039f"
            ],
            [
             0.2222222222222222,
             "#7201a8"
            ],
            [
             0.3333333333333333,
             "#9c179e"
            ],
            [
             0.4444444444444444,
             "#bd3786"
            ],
            [
             0.5555555555555556,
             "#d8576b"
            ],
            [
             0.6666666666666666,
             "#ed7953"
            ],
            [
             0.7777777777777778,
             "#fb9f3a"
            ],
            [
             0.8888888888888888,
             "#fdca26"
            ],
            [
             1,
             "#f0f921"
            ]
           ],
           "sequentialminus": [
            [
             0,
             "#0d0887"
            ],
            [
             0.1111111111111111,
             "#46039f"
            ],
            [
             0.2222222222222222,
             "#7201a8"
            ],
            [
             0.3333333333333333,
             "#9c179e"
            ],
            [
             0.4444444444444444,
             "#bd3786"
            ],
            [
             0.5555555555555556,
             "#d8576b"
            ],
            [
             0.6666666666666666,
             "#ed7953"
            ],
            [
             0.7777777777777778,
             "#fb9f3a"
            ],
            [
             0.8888888888888888,
             "#fdca26"
            ],
            [
             1,
             "#f0f921"
            ]
           ]
          },
          "colorway": [
           "#636efa",
           "#EF553B",
           "#00cc96",
           "#ab63fa",
           "#FFA15A",
           "#19d3f3",
           "#FF6692",
           "#B6E880",
           "#FF97FF",
           "#FECB52"
          ],
          "font": {
           "color": "#2a3f5f"
          },
          "geo": {
           "bgcolor": "white",
           "lakecolor": "white",
           "landcolor": "#E5ECF6",
           "showlakes": true,
           "showland": true,
           "subunitcolor": "white"
          },
          "hoverlabel": {
           "align": "left"
          },
          "hovermode": "closest",
          "mapbox": {
           "style": "light"
          },
          "paper_bgcolor": "white",
          "plot_bgcolor": "#E5ECF6",
          "polar": {
           "angularaxis": {
            "gridcolor": "white",
            "linecolor": "white",
            "ticks": ""
           },
           "bgcolor": "#E5ECF6",
           "radialaxis": {
            "gridcolor": "white",
            "linecolor": "white",
            "ticks": ""
           }
          },
          "scene": {
           "xaxis": {
            "backgroundcolor": "#E5ECF6",
            "gridcolor": "white",
            "gridwidth": 2,
            "linecolor": "white",
            "showbackground": true,
            "ticks": "",
            "zerolinecolor": "white"
           },
           "yaxis": {
            "backgroundcolor": "#E5ECF6",
            "gridcolor": "white",
            "gridwidth": 2,
            "linecolor": "white",
            "showbackground": true,
            "ticks": "",
            "zerolinecolor": "white"
           },
           "zaxis": {
            "backgroundcolor": "#E5ECF6",
            "gridcolor": "white",
            "gridwidth": 2,
            "linecolor": "white",
            "showbackground": true,
            "ticks": "",
            "zerolinecolor": "white"
           }
          },
          "shapedefaults": {
           "line": {
            "color": "#2a3f5f"
           }
          },
          "ternary": {
           "aaxis": {
            "gridcolor": "white",
            "linecolor": "white",
            "ticks": ""
           },
           "baxis": {
            "gridcolor": "white",
            "linecolor": "white",
            "ticks": ""
           },
           "bgcolor": "#E5ECF6",
           "caxis": {
            "gridcolor": "white",
            "linecolor": "white",
            "ticks": ""
           }
          },
          "title": {
           "x": 0.05
          },
          "xaxis": {
           "automargin": true,
           "gridcolor": "white",
           "linecolor": "white",
           "ticks": "",
           "title": {
            "standoff": 15
           },
           "zerolinecolor": "white",
           "zerolinewidth": 2
          },
          "yaxis": {
           "automargin": true,
           "gridcolor": "white",
           "linecolor": "white",
           "ticks": "",
           "title": {
            "standoff": 15
           },
           "zerolinecolor": "white",
           "zerolinewidth": 2
          }
         }
        },
        "title": {
         "text": "Top Rated Anime by Genre: Action and Adventure"
        },
        "updatemenus": [
         {
          "active": 0,
          "buttons": [
           {
            "args": [
             {
              "visible": [
               true,
               false,
               false,
               false,
               false,
               false,
               false,
               false,
               false,
               false
              ]
             },
             {
              "title": "Top Anime by for Genre: Action and Adventure"
             }
            ],
            "label": "Action and Adventure",
            "method": "update"
           },
           {
            "args": [
             {
              "visible": [
               false,
               true,
               false,
               false,
               false,
               false,
               false,
               false,
               false,
               false
              ]
             },
             {
              "title": "Top Anime by for Genre: Comedy and Slice of Life"
             }
            ],
            "label": "Comedy and Slice of Life",
            "method": "update"
           },
           {
            "args": [
             {
              "visible": [
               false,
               false,
               true,
               false,
               false,
               false,
               false,
               false,
               false,
               false
              ]
             },
             {
              "title": "Top Anime by for Genre: Drama and Romance"
             }
            ],
            "label": "Drama and Romance",
            "method": "update"
           },
           {
            "args": [
             {
              "visible": [
               false,
               false,
               false,
               true,
               false,
               false,
               false,
               false,
               false,
               false
              ]
             },
             {
              "title": "Top Anime by for Genre: Fantasy and Supernatural"
             }
            ],
            "label": "Fantasy and Supernatural",
            "method": "update"
           },
           {
            "args": [
             {
              "visible": [
               false,
               false,
               false,
               false,
               true,
               false,
               false,
               false,
               false,
               false
              ]
             },
             {
              "title": "Top Anime by for Genre: Historical and Cultural"
             }
            ],
            "label": "Historical and Cultural",
            "method": "update"
           },
           {
            "args": [
             {
              "visible": [
               false,
               false,
               false,
               false,
               false,
               true,
               false,
               false,
               false,
               false
              ]
             },
             {
              "title": "Top Anime by for Genre: Horror and Thriller"
             }
            ],
            "label": "Horror and Thriller",
            "method": "update"
           },
           {
            "args": [
             {
              "visible": [
               false,
               false,
               false,
               false,
               false,
               false,
               true,
               false,
               false,
               false
              ]
             },
             {
              "title": "Top Anime by for Genre: Miscellaneous"
             }
            ],
            "label": "Miscellaneous",
            "method": "update"
           },
           {
            "args": [
             {
              "visible": [
               false,
               false,
               false,
               false,
               false,
               false,
               false,
               true,
               false,
               false
              ]
             },
             {
              "title": "Top Anime by for Genre: Science Fiction and Technology"
             }
            ],
            "label": "Science Fiction and Technology",
            "method": "update"
           },
           {
            "args": [
             {
              "visible": [
               false,
               false,
               false,
               false,
               false,
               false,
               false,
               false,
               true,
               false
              ]
             },
             {
              "title": "Top Anime by for Genre: Special Interests"
             }
            ],
            "label": "Special Interests",
            "method": "update"
           },
           {
            "args": [
             {
              "visible": [
               false,
               false,
               false,
               false,
               false,
               false,
               false,
               false,
               false,
               true
              ]
             },
             {
              "title": "Top Anime by for Genre: Youth and School Life"
             }
            ],
            "label": "Youth and School Life",
            "method": "update"
           }
          ],
          "direction": "down",
          "pad": {
           "r": 10,
           "t": 10
          },
          "showactive": true,
          "x": 0.77,
          "xanchor": "left",
          "y": 1.25,
          "yanchor": "top"
         }
        ],
        "xaxis": {
         "anchor": "y",
         "domain": [
          0,
          1
         ],
         "range": [
          8,
          10
         ],
         "title": {
          "text": "Score"
         }
        },
        "yaxis": {
         "anchor": "x",
         "domain": [
          0,
          1
         ],
         "title": {
          "text": "Title"
         }
        }
       }
      }
     },
     "metadata": {},
     "output_type": "display_data"
    }
   ],
   "source": [
    "import pandas as pd\n",
    "import plotly.graph_objs as go\n",
    "from plotly.subplots import make_subplots\n",
    "\n",
    "# Create a subplot\n",
    "fig = make_subplots()\n",
    "\n",
    "# Group data by category\n",
    "categories = top_score_final['category'].unique()\n",
    "\n",
    "# Add a trace for each anime title, making bars horizontal\n",
    "# Start with the first category visible\n",
    "first = True\n",
    "for category in categories:\n",
    "    category_df = top_score_final[top_score_final['category'] == category]\n",
    "    category_df.sort_values(by='score', inplace=True)\n",
    "    fig.add_trace(\n",
    "        go.Bar(y=category_df['title'], x=category_df['score'], name=category, \n",
    "               orientation='h', visible=first, marker_color='#df6200')  # Set bar color to crimson\n",
    "    )\n",
    "    first = False  # Set the rest of the categories to invisible\n",
    "\n",
    "# Create a dropdown menu\n",
    "buttons = []\n",
    "for i, category in enumerate(categories):\n",
    "    button = dict(\n",
    "        label=category,\n",
    "        method=\"update\",\n",
    "        args=[{\"visible\": [i == j for j in range(len(categories))]},  # Only the selected category is visible\n",
    "              {\"title\": f\"Top Anime by for Genre: {category}\"}])\n",
    "    buttons.append(button)\n",
    "\n",
    "# Update layout for dropdown, axes, and xaxis range\n",
    "fig.update_layout(\n",
    "    updatemenus=[dict(\n",
    "        active=0,  # First category is active\n",
    "        buttons=buttons,\n",
    "        direction=\"down\",\n",
    "        pad={\"r\": 10, \"t\": 10},\n",
    "        showactive=True,\n",
    "        x=0.77,\n",
    "        xanchor=\"left\",\n",
    "        y=1.25,\n",
    "        yanchor=\"top\"\n",
    "    )],\n",
    "    title=\"Top Rated Anime by Genre: Action and Adventure\",\n",
    "    xaxis_title=\"Score\",\n",
    "    yaxis_title=\"Title\",\n",
    "    xaxis=dict(range=[8, 10])  # Set the range for x-axis\n",
    ")\n",
    "fig.write_html(\"../../data/plots/top_animes_score.html\")\n",
    "# Show the plot\n",
    "fig.show()\n"
   ]
  },
  {
   "cell_type": "code",
   "execution_count": 86,
   "metadata": {},
   "outputs": [
    {
     "data": {
      "application/vnd.plotly.v1+json": {
       "config": {
        "plotlyServerURL": "https://plot.ly"
       },
       "data": [
        {
         "marker": {
          "color": "#ccb716"
         },
         "name": "Action and Adventure",
         "orientation": "h",
         "type": "bar",
         "visible": true,
         "x": [
          16166,
          16176,
          16177,
          16203,
          16225,
          16229,
          16238,
          16278,
          16305,
          16308
         ],
         "y": [
          "Miniforce",
          "Shaolin Chuanqi",
          "Tayoui Jangnangam Eodeubencheo",
          "Skyers 5 EX",
          "Ninja Tamamaru no Hi no Youjin",
          "Tian Shu Qi Tan",
          "Jumbagi Hanbandoui gongryong 3D",
          "Te Ke Dong Ji Pian",
          "Mabeob Chunjamun Season 2",
          "Boy General"
         ]
        },
        {
         "marker": {
          "color": "#ccb716"
         },
         "name": "Comedy and Slice of Life",
         "orientation": "h",
         "type": "bar",
         "visible": false,
         "x": [
          16185,
          16186,
          16193,
          16198,
          16210,
          16212,
          16224,
          16231,
          16275,
          16307
         ],
         "y": [
          "Tabibito no You ni",
          "Anata no Koe",
          "Uchi no 3 Shimai Movie",
          "Kokoro no Tokyo Kakumei",
          "Replicant",
          "The Planet of Stray Cats",
          "Melon no Kirime",
          "Wang Zhe Wai Chuan",
          "Osu no Buuchan",
          "Ryoku Tama Shinshi 10 Short Stories"
         ]
        },
        {
         "marker": {
          "color": "#ccb716"
         },
         "name": "Drama and Romance",
         "orientation": "h",
         "type": "bar",
         "visible": false,
         "x": [
          16096,
          16164,
          16174,
          16192,
          16210,
          16215,
          16238,
          16259,
          16267,
          16308
         ],
         "y": [
          "Piercing I",
          "Inamura no Hi",
          "My Boy",
          "Suppon Pon Pon",
          "Replicant",
          "Fushouji no Mizen Boushi Saihatsu Boushi Series",
          "Jumbagi Hanbandoui gongryong 3D",
          "Yakusoku 2011",
          "Seishun",
          "Boy General"
         ]
        },
        {
         "marker": {
          "color": "#ccb716"
         },
         "name": "Fantasy and Supernatural",
         "orientation": "h",
         "type": "bar",
         "visible": false,
         "x": [
          16222,
          16234,
          16250,
          16259,
          16275,
          16277,
          16283,
          16287,
          16305,
          16307
         ],
         "y": [
          "Kyonshii Kyon Dai no Koutsuu Anzen",
          "Googuri Googuri",
          "Kogitsune no Koutsuu Anzen",
          "Yakusoku 2011",
          "Osu no Buuchan",
          "Sore Ike Anpanman no Hiragana Asobi Hajimete no AIUEO",
          "Kaiteikoku no Koutsu Anzen",
          "The Peak",
          "Mabeob Chunjamun Season 2",
          "Ryoku Tama Shinshi 10 Short Stories"
         ]
        },
        {
         "marker": {
          "color": "#ccb716"
         },
         "name": "Historical and Cultural",
         "orientation": "h",
         "type": "bar",
         "visible": false,
         "x": [
          15999,
          16082,
          16129,
          16138,
          16164,
          16171,
          16230,
          16238,
          16302,
          16308
         ],
         "y": [
          "Tian Xin Ge Ge 3rd Season",
          "Kakusenou Gakushuu Animation",
          "Mizu no Yume",
          "Manga Furusato Mukashibanashi",
          "Inamura no Hi",
          "Issunboushi 2007",
          "Ushiwakamaru",
          "Jumbagi Hanbandoui gongryong 3D",
          "Tayoui Gonglyong Eodeubencheo",
          "Boy General"
         ]
        },
        {
         "marker": {
          "color": "#ccb716"
         },
         "name": "Horror and Thriller",
         "orientation": "h",
         "type": "bar",
         "visible": false,
         "x": [
          15278,
          15308,
          15568,
          15572,
          15640,
          15963,
          16101,
          16167,
          16169,
          16197
         ],
         "y": [
          "Nihon no Obakebanashi",
          "Yuurei Yashiki",
          "Taka no Tsume Yoshidakun Batten File Natsuyasumi Mystery Adventure",
          "Ushinawareta Choushoku",
          "The Lamp Man",
          "Witch Hat Majo to Boushi no Waltz",
          "Junk Head",
          "Oshiri Tantei Movie Curry Naru Jiken",
          "Shuuen no Shiori",
          "Itekoma Hits"
         ]
        },
        {
         "marker": {
          "color": "#ccb716"
         },
         "name": "Miscellaneous",
         "orientation": "h",
         "type": "bar",
         "visible": false,
         "x": [
          16286,
          16289,
          16291,
          16301,
          16310,
          16311,
          16312,
          16313,
          16316,
          16320
         ],
         "y": [
          "Smile",
          "Doubutsu Mura no World Cup Yoiko no Koutsuu Anzen",
          "Ichigo no Hanayomesan",
          "Soushunfu",
          "Watashi no Ningyou",
          "Furusato no Gogatsu",
          "Omoide Onigiri",
          "Watashi to Piano",
          "Tokyo Mikansei",
          "Nantoka Tengoku"
         ]
        },
        {
         "marker": {
          "color": "#ccb716"
         },
         "name": "Science Fiction and Technology",
         "orientation": "h",
         "type": "bar",
         "visible": false,
         "x": [
          16086,
          16101,
          16177,
          16194,
          16203,
          16204,
          16212,
          16214,
          16252,
          16302
         ],
         "y": [
          "Shin Skyers 5 EX",
          "Junk Head",
          "Tayoui Jangnangam Eodeubencheo",
          "Yatchan to Kasei no Ko",
          "Skyers 5 EX",
          "UFOkoku no Koutsuu Anzen",
          "The Planet of Stray Cats",
          "Fire Robo 119 tai Kyonshii Kyon Dai",
          "Wan Wan Kajida Wan",
          "Tayoui Gonglyong Eodeubencheo"
         ]
        },
        {
         "marker": {
          "color": "#ccb716"
         },
         "name": "Special Interests",
         "orientation": "h",
         "type": "bar",
         "visible": false,
         "x": [
          13631,
          13651,
          14110,
          14445,
          14670,
          14710,
          14724,
          14875,
          15172,
          16147
         ],
         "y": [
          "Mandalaya no Ryouta Kukidani Onsen Enshou Soudou Tan",
          "Nou Nen feat Utae",
          "Gaki Deka OVA",
          "Na Bbeun Sang Sa",
          "Suzumibune",
          "Spunky Afro Tiger Jet",
          "Kung Fu Liaoli Niang",
          "Flying Luna Clipper",
          "Junjou Juugeki Cosplay Shoujo",
          "Magical Halloween MiracleQuartet"
         ]
        },
        {
         "marker": {
          "color": "#ccb716"
         },
         "name": "Youth and School Life",
         "orientation": "h",
         "type": "bar",
         "visible": false,
         "x": [
          16306,
          16309,
          16310,
          16311,
          16312,
          16313,
          16314,
          16315,
          16317,
          16319
         ],
         "y": [
          "Pandachan no Koutsuu Anzen",
          "Nanchan no Koutsuu Anzen",
          "Watashi no Ningyou",
          "Furusato no Gogatsu",
          "Omoide Onigiri",
          "Watashi to Piano",
          "Koutsuu Anzen Inu Signal no Oyako Nikki Tobidashi Chuui",
          "Robot Trains",
          "Usagi no Mofy TV 2014",
          "Usagi no Mofy TV 2016"
         ]
        }
       ],
       "layout": {
        "template": {
         "data": {
          "bar": [
           {
            "error_x": {
             "color": "#2a3f5f"
            },
            "error_y": {
             "color": "#2a3f5f"
            },
            "marker": {
             "line": {
              "color": "#E5ECF6",
              "width": 0.5
             },
             "pattern": {
              "fillmode": "overlay",
              "size": 10,
              "solidity": 0.2
             }
            },
            "type": "bar"
           }
          ],
          "barpolar": [
           {
            "marker": {
             "line": {
              "color": "#E5ECF6",
              "width": 0.5
             },
             "pattern": {
              "fillmode": "overlay",
              "size": 10,
              "solidity": 0.2
             }
            },
            "type": "barpolar"
           }
          ],
          "carpet": [
           {
            "aaxis": {
             "endlinecolor": "#2a3f5f",
             "gridcolor": "white",
             "linecolor": "white",
             "minorgridcolor": "white",
             "startlinecolor": "#2a3f5f"
            },
            "baxis": {
             "endlinecolor": "#2a3f5f",
             "gridcolor": "white",
             "linecolor": "white",
             "minorgridcolor": "white",
             "startlinecolor": "#2a3f5f"
            },
            "type": "carpet"
           }
          ],
          "choropleth": [
           {
            "colorbar": {
             "outlinewidth": 0,
             "ticks": ""
            },
            "type": "choropleth"
           }
          ],
          "contour": [
           {
            "colorbar": {
             "outlinewidth": 0,
             "ticks": ""
            },
            "colorscale": [
             [
              0,
              "#0d0887"
             ],
             [
              0.1111111111111111,
              "#46039f"
             ],
             [
              0.2222222222222222,
              "#7201a8"
             ],
             [
              0.3333333333333333,
              "#9c179e"
             ],
             [
              0.4444444444444444,
              "#bd3786"
             ],
             [
              0.5555555555555556,
              "#d8576b"
             ],
             [
              0.6666666666666666,
              "#ed7953"
             ],
             [
              0.7777777777777778,
              "#fb9f3a"
             ],
             [
              0.8888888888888888,
              "#fdca26"
             ],
             [
              1,
              "#f0f921"
             ]
            ],
            "type": "contour"
           }
          ],
          "contourcarpet": [
           {
            "colorbar": {
             "outlinewidth": 0,
             "ticks": ""
            },
            "type": "contourcarpet"
           }
          ],
          "heatmap": [
           {
            "colorbar": {
             "outlinewidth": 0,
             "ticks": ""
            },
            "colorscale": [
             [
              0,
              "#0d0887"
             ],
             [
              0.1111111111111111,
              "#46039f"
             ],
             [
              0.2222222222222222,
              "#7201a8"
             ],
             [
              0.3333333333333333,
              "#9c179e"
             ],
             [
              0.4444444444444444,
              "#bd3786"
             ],
             [
              0.5555555555555556,
              "#d8576b"
             ],
             [
              0.6666666666666666,
              "#ed7953"
             ],
             [
              0.7777777777777778,
              "#fb9f3a"
             ],
             [
              0.8888888888888888,
              "#fdca26"
             ],
             [
              1,
              "#f0f921"
             ]
            ],
            "type": "heatmap"
           }
          ],
          "heatmapgl": [
           {
            "colorbar": {
             "outlinewidth": 0,
             "ticks": ""
            },
            "colorscale": [
             [
              0,
              "#0d0887"
             ],
             [
              0.1111111111111111,
              "#46039f"
             ],
             [
              0.2222222222222222,
              "#7201a8"
             ],
             [
              0.3333333333333333,
              "#9c179e"
             ],
             [
              0.4444444444444444,
              "#bd3786"
             ],
             [
              0.5555555555555556,
              "#d8576b"
             ],
             [
              0.6666666666666666,
              "#ed7953"
             ],
             [
              0.7777777777777778,
              "#fb9f3a"
             ],
             [
              0.8888888888888888,
              "#fdca26"
             ],
             [
              1,
              "#f0f921"
             ]
            ],
            "type": "heatmapgl"
           }
          ],
          "histogram": [
           {
            "marker": {
             "pattern": {
              "fillmode": "overlay",
              "size": 10,
              "solidity": 0.2
             }
            },
            "type": "histogram"
           }
          ],
          "histogram2d": [
           {
            "colorbar": {
             "outlinewidth": 0,
             "ticks": ""
            },
            "colorscale": [
             [
              0,
              "#0d0887"
             ],
             [
              0.1111111111111111,
              "#46039f"
             ],
             [
              0.2222222222222222,
              "#7201a8"
             ],
             [
              0.3333333333333333,
              "#9c179e"
             ],
             [
              0.4444444444444444,
              "#bd3786"
             ],
             [
              0.5555555555555556,
              "#d8576b"
             ],
             [
              0.6666666666666666,
              "#ed7953"
             ],
             [
              0.7777777777777778,
              "#fb9f3a"
             ],
             [
              0.8888888888888888,
              "#fdca26"
             ],
             [
              1,
              "#f0f921"
             ]
            ],
            "type": "histogram2d"
           }
          ],
          "histogram2dcontour": [
           {
            "colorbar": {
             "outlinewidth": 0,
             "ticks": ""
            },
            "colorscale": [
             [
              0,
              "#0d0887"
             ],
             [
              0.1111111111111111,
              "#46039f"
             ],
             [
              0.2222222222222222,
              "#7201a8"
             ],
             [
              0.3333333333333333,
              "#9c179e"
             ],
             [
              0.4444444444444444,
              "#bd3786"
             ],
             [
              0.5555555555555556,
              "#d8576b"
             ],
             [
              0.6666666666666666,
              "#ed7953"
             ],
             [
              0.7777777777777778,
              "#fb9f3a"
             ],
             [
              0.8888888888888888,
              "#fdca26"
             ],
             [
              1,
              "#f0f921"
             ]
            ],
            "type": "histogram2dcontour"
           }
          ],
          "mesh3d": [
           {
            "colorbar": {
             "outlinewidth": 0,
             "ticks": ""
            },
            "type": "mesh3d"
           }
          ],
          "parcoords": [
           {
            "line": {
             "colorbar": {
              "outlinewidth": 0,
              "ticks": ""
             }
            },
            "type": "parcoords"
           }
          ],
          "pie": [
           {
            "automargin": true,
            "type": "pie"
           }
          ],
          "scatter": [
           {
            "fillpattern": {
             "fillmode": "overlay",
             "size": 10,
             "solidity": 0.2
            },
            "type": "scatter"
           }
          ],
          "scatter3d": [
           {
            "line": {
             "colorbar": {
              "outlinewidth": 0,
              "ticks": ""
             }
            },
            "marker": {
             "colorbar": {
              "outlinewidth": 0,
              "ticks": ""
             }
            },
            "type": "scatter3d"
           }
          ],
          "scattercarpet": [
           {
            "marker": {
             "colorbar": {
              "outlinewidth": 0,
              "ticks": ""
             }
            },
            "type": "scattercarpet"
           }
          ],
          "scattergeo": [
           {
            "marker": {
             "colorbar": {
              "outlinewidth": 0,
              "ticks": ""
             }
            },
            "type": "scattergeo"
           }
          ],
          "scattergl": [
           {
            "marker": {
             "colorbar": {
              "outlinewidth": 0,
              "ticks": ""
             }
            },
            "type": "scattergl"
           }
          ],
          "scattermapbox": [
           {
            "marker": {
             "colorbar": {
              "outlinewidth": 0,
              "ticks": ""
             }
            },
            "type": "scattermapbox"
           }
          ],
          "scatterpolar": [
           {
            "marker": {
             "colorbar": {
              "outlinewidth": 0,
              "ticks": ""
             }
            },
            "type": "scatterpolar"
           }
          ],
          "scatterpolargl": [
           {
            "marker": {
             "colorbar": {
              "outlinewidth": 0,
              "ticks": ""
             }
            },
            "type": "scatterpolargl"
           }
          ],
          "scatterternary": [
           {
            "marker": {
             "colorbar": {
              "outlinewidth": 0,
              "ticks": ""
             }
            },
            "type": "scatterternary"
           }
          ],
          "surface": [
           {
            "colorbar": {
             "outlinewidth": 0,
             "ticks": ""
            },
            "colorscale": [
             [
              0,
              "#0d0887"
             ],
             [
              0.1111111111111111,
              "#46039f"
             ],
             [
              0.2222222222222222,
              "#7201a8"
             ],
             [
              0.3333333333333333,
              "#9c179e"
             ],
             [
              0.4444444444444444,
              "#bd3786"
             ],
             [
              0.5555555555555556,
              "#d8576b"
             ],
             [
              0.6666666666666666,
              "#ed7953"
             ],
             [
              0.7777777777777778,
              "#fb9f3a"
             ],
             [
              0.8888888888888888,
              "#fdca26"
             ],
             [
              1,
              "#f0f921"
             ]
            ],
            "type": "surface"
           }
          ],
          "table": [
           {
            "cells": {
             "fill": {
              "color": "#EBF0F8"
             },
             "line": {
              "color": "white"
             }
            },
            "header": {
             "fill": {
              "color": "#C8D4E3"
             },
             "line": {
              "color": "white"
             }
            },
            "type": "table"
           }
          ]
         },
         "layout": {
          "annotationdefaults": {
           "arrowcolor": "#2a3f5f",
           "arrowhead": 0,
           "arrowwidth": 1
          },
          "autotypenumbers": "strict",
          "coloraxis": {
           "colorbar": {
            "outlinewidth": 0,
            "ticks": ""
           }
          },
          "colorscale": {
           "diverging": [
            [
             0,
             "#8e0152"
            ],
            [
             0.1,
             "#c51b7d"
            ],
            [
             0.2,
             "#de77ae"
            ],
            [
             0.3,
             "#f1b6da"
            ],
            [
             0.4,
             "#fde0ef"
            ],
            [
             0.5,
             "#f7f7f7"
            ],
            [
             0.6,
             "#e6f5d0"
            ],
            [
             0.7,
             "#b8e186"
            ],
            [
             0.8,
             "#7fbc41"
            ],
            [
             0.9,
             "#4d9221"
            ],
            [
             1,
             "#276419"
            ]
           ],
           "sequential": [
            [
             0,
             "#0d0887"
            ],
            [
             0.1111111111111111,
             "#46039f"
            ],
            [
             0.2222222222222222,
             "#7201a8"
            ],
            [
             0.3333333333333333,
             "#9c179e"
            ],
            [
             0.4444444444444444,
             "#bd3786"
            ],
            [
             0.5555555555555556,
             "#d8576b"
            ],
            [
             0.6666666666666666,
             "#ed7953"
            ],
            [
             0.7777777777777778,
             "#fb9f3a"
            ],
            [
             0.8888888888888888,
             "#fdca26"
            ],
            [
             1,
             "#f0f921"
            ]
           ],
           "sequentialminus": [
            [
             0,
             "#0d0887"
            ],
            [
             0.1111111111111111,
             "#46039f"
            ],
            [
             0.2222222222222222,
             "#7201a8"
            ],
            [
             0.3333333333333333,
             "#9c179e"
            ],
            [
             0.4444444444444444,
             "#bd3786"
            ],
            [
             0.5555555555555556,
             "#d8576b"
            ],
            [
             0.6666666666666666,
             "#ed7953"
            ],
            [
             0.7777777777777778,
             "#fb9f3a"
            ],
            [
             0.8888888888888888,
             "#fdca26"
            ],
            [
             1,
             "#f0f921"
            ]
           ]
          },
          "colorway": [
           "#636efa",
           "#EF553B",
           "#00cc96",
           "#ab63fa",
           "#FFA15A",
           "#19d3f3",
           "#FF6692",
           "#B6E880",
           "#FF97FF",
           "#FECB52"
          ],
          "font": {
           "color": "#2a3f5f"
          },
          "geo": {
           "bgcolor": "white",
           "lakecolor": "white",
           "landcolor": "#E5ECF6",
           "showlakes": true,
           "showland": true,
           "subunitcolor": "white"
          },
          "hoverlabel": {
           "align": "left"
          },
          "hovermode": "closest",
          "mapbox": {
           "style": "light"
          },
          "paper_bgcolor": "white",
          "plot_bgcolor": "#E5ECF6",
          "polar": {
           "angularaxis": {
            "gridcolor": "white",
            "linecolor": "white",
            "ticks": ""
           },
           "bgcolor": "#E5ECF6",
           "radialaxis": {
            "gridcolor": "white",
            "linecolor": "white",
            "ticks": ""
           }
          },
          "scene": {
           "xaxis": {
            "backgroundcolor": "#E5ECF6",
            "gridcolor": "white",
            "gridwidth": 2,
            "linecolor": "white",
            "showbackground": true,
            "ticks": "",
            "zerolinecolor": "white"
           },
           "yaxis": {
            "backgroundcolor": "#E5ECF6",
            "gridcolor": "white",
            "gridwidth": 2,
            "linecolor": "white",
            "showbackground": true,
            "ticks": "",
            "zerolinecolor": "white"
           },
           "zaxis": {
            "backgroundcolor": "#E5ECF6",
            "gridcolor": "white",
            "gridwidth": 2,
            "linecolor": "white",
            "showbackground": true,
            "ticks": "",
            "zerolinecolor": "white"
           }
          },
          "shapedefaults": {
           "line": {
            "color": "#2a3f5f"
           }
          },
          "ternary": {
           "aaxis": {
            "gridcolor": "white",
            "linecolor": "white",
            "ticks": ""
           },
           "baxis": {
            "gridcolor": "white",
            "linecolor": "white",
            "ticks": ""
           },
           "bgcolor": "#E5ECF6",
           "caxis": {
            "gridcolor": "white",
            "linecolor": "white",
            "ticks": ""
           }
          },
          "title": {
           "x": 0.05
          },
          "xaxis": {
           "automargin": true,
           "gridcolor": "white",
           "linecolor": "white",
           "ticks": "",
           "title": {
            "standoff": 15
           },
           "zerolinecolor": "white",
           "zerolinewidth": 2
          },
          "yaxis": {
           "automargin": true,
           "gridcolor": "white",
           "linecolor": "white",
           "ticks": "",
           "title": {
            "standoff": 15
           },
           "zerolinecolor": "white",
           "zerolinewidth": 2
          }
         }
        },
        "title": {
         "text": "Most Popular Anime by Genre: Action and Adventure",
         "x": 0.5
        },
        "updatemenus": [
         {
          "active": 0,
          "buttons": [
           {
            "args": [
             {
              "visible": [
               true,
               false,
               false,
               false,
               false,
               false,
               false,
               false,
               false,
               false
              ]
             },
             {
              "title": "Most Popular Anime by Genre: Action and Adventure"
             }
            ],
            "label": "Action and Adventure",
            "method": "update"
           },
           {
            "args": [
             {
              "visible": [
               false,
               true,
               false,
               false,
               false,
               false,
               false,
               false,
               false,
               false
              ]
             },
             {
              "title": "Most Popular Anime by Genre: Comedy and Slice of Life"
             }
            ],
            "label": "Comedy and Slice of Life",
            "method": "update"
           },
           {
            "args": [
             {
              "visible": [
               false,
               false,
               true,
               false,
               false,
               false,
               false,
               false,
               false,
               false
              ]
             },
             {
              "title": "Most Popular Anime by Genre: Drama and Romance"
             }
            ],
            "label": "Drama and Romance",
            "method": "update"
           },
           {
            "args": [
             {
              "visible": [
               false,
               false,
               false,
               true,
               false,
               false,
               false,
               false,
               false,
               false
              ]
             },
             {
              "title": "Most Popular Anime by Genre: Fantasy and Supernatural"
             }
            ],
            "label": "Fantasy and Supernatural",
            "method": "update"
           },
           {
            "args": [
             {
              "visible": [
               false,
               false,
               false,
               false,
               true,
               false,
               false,
               false,
               false,
               false
              ]
             },
             {
              "title": "Most Popular Anime by Genre: Historical and Cultural"
             }
            ],
            "label": "Historical and Cultural",
            "method": "update"
           },
           {
            "args": [
             {
              "visible": [
               false,
               false,
               false,
               false,
               false,
               true,
               false,
               false,
               false,
               false
              ]
             },
             {
              "title": "Most Popular Anime by Genre: Horror and Thriller"
             }
            ],
            "label": "Horror and Thriller",
            "method": "update"
           },
           {
            "args": [
             {
              "visible": [
               false,
               false,
               false,
               false,
               false,
               false,
               true,
               false,
               false,
               false
              ]
             },
             {
              "title": "Most Popular Anime by Genre: Miscellaneous"
             }
            ],
            "label": "Miscellaneous",
            "method": "update"
           },
           {
            "args": [
             {
              "visible": [
               false,
               false,
               false,
               false,
               false,
               false,
               false,
               true,
               false,
               false
              ]
             },
             {
              "title": "Most Popular Anime by Genre: Science Fiction and Technology"
             }
            ],
            "label": "Science Fiction and Technology",
            "method": "update"
           },
           {
            "args": [
             {
              "visible": [
               false,
               false,
               false,
               false,
               false,
               false,
               false,
               false,
               true,
               false
              ]
             },
             {
              "title": "Most Popular Anime by Genre: Special Interests"
             }
            ],
            "label": "Special Interests",
            "method": "update"
           },
           {
            "args": [
             {
              "visible": [
               false,
               false,
               false,
               false,
               false,
               false,
               false,
               false,
               false,
               true
              ]
             },
             {
              "title": "Most Popular Anime by Genre: Youth and School Life"
             }
            ],
            "label": "Youth and School Life",
            "method": "update"
           }
          ],
          "direction": "down",
          "pad": {
           "r": 10,
           "t": 10
          },
          "showactive": true,
          "x": 0.77,
          "xanchor": "left",
          "y": 1.25,
          "yanchor": "top"
         }
        ],
        "xaxis": {
         "anchor": "y",
         "domain": [
          0,
          1
         ],
         "range": [
          13500,
          16500
         ],
         "title": {
          "text": "Score"
         }
        },
        "yaxis": {
         "anchor": "x",
         "domain": [
          0,
          1
         ],
         "title": {
          "text": "Title"
         }
        }
       }
      }
     },
     "metadata": {},
     "output_type": "display_data"
    }
   ],
   "source": [
    "import pandas as pd\n",
    "import plotly.graph_objs as go\n",
    "from plotly.subplots import make_subplots\n",
    "\n",
    "# Create a subplot\n",
    "fig = make_subplots()\n",
    "\n",
    "# Group data by category\n",
    "categories = top_popularity_final['category'].unique()\n",
    "\n",
    "# Add a trace for each anime title, making bars horizontal\n",
    "# Start with the first category visible\n",
    "first = True\n",
    "for category in categories:\n",
    "    category_df = top_popularity_final[top_popularity_final['category'] == category]\n",
    "    category_df.sort_values(by='popularity', inplace=True)\n",
    "    fig.add_trace(\n",
    "        go.Bar(y=category_df['title'], x=category_df['popularity'], name=category, \n",
    "               orientation='h', visible=first, marker_color='#ccb716')  # Set bar color to crimson\n",
    "    )\n",
    "    first = False  # Set the rest of the categories to invisible\n",
    "\n",
    "# Create a dropdown menu\n",
    "buttons = []\n",
    "for i, category in enumerate(categories):\n",
    "    button = dict(\n",
    "        label=category,\n",
    "        method=\"update\",\n",
    "        args=[{\"visible\": [i == j for j in range(len(categories))]},  # Only the selected category is visible\n",
    "              {\"title\": f\"Most Popular Anime by Genre: {category}\"}])\n",
    "    buttons.append(button)\n",
    "\n",
    "# Update layout for dropdown, axes, and xaxis range\n",
    "fig.update_layout(\n",
    "    updatemenus=[dict(\n",
    "        active=0,  # First category is active\n",
    "        buttons=buttons,\n",
    "        direction=\"down\",\n",
    "        pad={\"r\": 10, \"t\": 10},\n",
    "        showactive=True,\n",
    "        x=0.77,\n",
    "        xanchor=\"left\",\n",
    "        y=1.25,\n",
    "        yanchor=\"top\"\n",
    "    )],\n",
    "    title=\"Most Popular Anime by Genre: Action and Adventure\",\n",
    "    title_x=0.5,\n",
    "    xaxis_title=\"Score\",\n",
    "    yaxis_title=\"Title\",\n",
    "    xaxis=dict(range=[13500, 16500])  # Set the range for x-axis\n",
    ")\n",
    "\n",
    "fig.write_html(\"../../data/plots/top_animes_popularity.html\")\n",
    "\n",
    "# Show the plot\n",
    "fig.show()\n"
   ]
  },
  {
   "cell_type": "code",
   "execution_count": 98,
   "metadata": {},
   "outputs": [],
   "source": [
    "suggested_anime = pd.read_csv(\"../../data/csv/top20_animes_with_scores.csv\")\n"
   ]
  },
  {
   "cell_type": "code",
   "execution_count": 99,
   "metadata": {},
   "outputs": [
    {
     "data": {
      "text/html": [
       "<div>\n",
       "<style scoped>\n",
       "    .dataframe tbody tr th:only-of-type {\n",
       "        vertical-align: middle;\n",
       "    }\n",
       "\n",
       "    .dataframe tbody tr th {\n",
       "        vertical-align: top;\n",
       "    }\n",
       "\n",
       "    .dataframe thead th {\n",
       "        text-align: right;\n",
       "    }\n",
       "</style>\n",
       "<table border=\"1\" class=\"dataframe\">\n",
       "  <thead>\n",
       "    <tr style=\"text-align: right;\">\n",
       "      <th></th>\n",
       "      <th>anime_name</th>\n",
       "      <th>japanese_title</th>\n",
       "      <th>count</th>\n",
       "      <th>matched_score</th>\n",
       "    </tr>\n",
       "  </thead>\n",
       "  <tbody>\n",
       "    <tr>\n",
       "      <th>0</th>\n",
       "      <td>Steins Gate</td>\n",
       "      <td>Steins;Gate</td>\n",
       "      <td>19606</td>\n",
       "      <td>9.11</td>\n",
       "    </tr>\n",
       "    <tr>\n",
       "      <th>1</th>\n",
       "      <td>Attack on Titan</td>\n",
       "      <td>Shingeki no Kyojin</td>\n",
       "      <td>16722</td>\n",
       "      <td>8.47</td>\n",
       "    </tr>\n",
       "    <tr>\n",
       "      <th>2</th>\n",
       "      <td>One Piece</td>\n",
       "      <td>Wan Pisu</td>\n",
       "      <td>10936</td>\n",
       "      <td>8.53</td>\n",
       "    </tr>\n",
       "    <tr>\n",
       "      <th>3</th>\n",
       "      <td>Violet Evergarden</td>\n",
       "      <td>Vaioretto Evagaden</td>\n",
       "      <td>8780</td>\n",
       "      <td>8.62</td>\n",
       "    </tr>\n",
       "    <tr>\n",
       "      <th>4</th>\n",
       "      <td>Made in Abyss</td>\n",
       "      <td>Meido in Abisu</td>\n",
       "      <td>8558</td>\n",
       "      <td>8.83</td>\n",
       "    </tr>\n",
       "    <tr>\n",
       "      <th>5</th>\n",
       "      <td>Monster</td>\n",
       "      <td>Monsuta</td>\n",
       "      <td>8543</td>\n",
       "      <td>8.69</td>\n",
       "    </tr>\n",
       "    <tr>\n",
       "      <th>6</th>\n",
       "      <td>Clannad</td>\n",
       "      <td>Kuranado</td>\n",
       "      <td>7461</td>\n",
       "      <td>8.16</td>\n",
       "    </tr>\n",
       "    <tr>\n",
       "      <th>7</th>\n",
       "      <td>Zero</td>\n",
       "      <td>Zero</td>\n",
       "      <td>6724</td>\n",
       "      <td>5.98</td>\n",
       "    </tr>\n",
       "    <tr>\n",
       "      <th>8</th>\n",
       "      <td>Death Note</td>\n",
       "      <td>Desu Noto</td>\n",
       "      <td>6559</td>\n",
       "      <td>8.65</td>\n",
       "    </tr>\n",
       "    <tr>\n",
       "      <th>9</th>\n",
       "      <td>Code Geass</td>\n",
       "      <td>Code Geass</td>\n",
       "      <td>6169</td>\n",
       "      <td>7.49</td>\n",
       "    </tr>\n",
       "    <tr>\n",
       "      <th>10</th>\n",
       "      <td>Cowboy Bebop</td>\n",
       "      <td>Cowboy Bebop</td>\n",
       "      <td>5758</td>\n",
       "      <td>8.81</td>\n",
       "    </tr>\n",
       "    <tr>\n",
       "      <th>11</th>\n",
       "      <td>Horimiya</td>\n",
       "      <td>Horimiya</td>\n",
       "      <td>5710</td>\n",
       "      <td>5.30</td>\n",
       "    </tr>\n",
       "    <tr>\n",
       "      <th>12</th>\n",
       "      <td>Gintama</td>\n",
       "      <td>Gintama</td>\n",
       "      <td>5654</td>\n",
       "      <td>8.97</td>\n",
       "    </tr>\n",
       "    <tr>\n",
       "      <th>13</th>\n",
       "      <td>Berserk</td>\n",
       "      <td>Berserk</td>\n",
       "      <td>5485</td>\n",
       "      <td>6.60</td>\n",
       "    </tr>\n",
       "    <tr>\n",
       "      <th>14</th>\n",
       "      <td>Dororo</td>\n",
       "      <td>Dororo</td>\n",
       "      <td>5053</td>\n",
       "      <td>8.23</td>\n",
       "    </tr>\n",
       "    <tr>\n",
       "      <th>15</th>\n",
       "      <td>Vinland Saga</td>\n",
       "      <td>Vinland Saga</td>\n",
       "      <td>5043</td>\n",
       "      <td>8.78</td>\n",
       "    </tr>\n",
       "    <tr>\n",
       "      <th>16</th>\n",
       "      <td>Overlord</td>\n",
       "      <td>Overlord</td>\n",
       "      <td>4887</td>\n",
       "      <td>8.05</td>\n",
       "    </tr>\n",
       "    <tr>\n",
       "      <th>17</th>\n",
       "      <td>Naruto</td>\n",
       "      <td>Naruto</td>\n",
       "      <td>4778</td>\n",
       "      <td>7.93</td>\n",
       "    </tr>\n",
       "    <tr>\n",
       "      <th>18</th>\n",
       "      <td>Death Parade</td>\n",
       "      <td>Death Parade</td>\n",
       "      <td>4663</td>\n",
       "      <td>8.22</td>\n",
       "    </tr>\n",
       "    <tr>\n",
       "      <th>19</th>\n",
       "      <td>Mob Psycho</td>\n",
       "      <td>Mob Psycho</td>\n",
       "      <td>4621</td>\n",
       "      <td>8.51</td>\n",
       "    </tr>\n",
       "  </tbody>\n",
       "</table>\n",
       "</div>"
      ],
      "text/plain": [
       "           anime_name      japanese_title  count  matched_score\n",
       "0         Steins Gate         Steins;Gate  19606           9.11\n",
       "1     Attack on Titan  Shingeki no Kyojin  16722           8.47\n",
       "2           One Piece            Wan Pisu  10936           8.53\n",
       "3   Violet Evergarden  Vaioretto Evagaden   8780           8.62\n",
       "4       Made in Abyss      Meido in Abisu   8558           8.83\n",
       "5             Monster             Monsuta   8543           8.69\n",
       "6             Clannad            Kuranado   7461           8.16\n",
       "7                Zero                Zero   6724           5.98\n",
       "8          Death Note           Desu Noto   6559           8.65\n",
       "9          Code Geass          Code Geass   6169           7.49\n",
       "10       Cowboy Bebop        Cowboy Bebop   5758           8.81\n",
       "11           Horimiya            Horimiya   5710           5.30\n",
       "12            Gintama             Gintama   5654           8.97\n",
       "13            Berserk             Berserk   5485           6.60\n",
       "14             Dororo              Dororo   5053           8.23\n",
       "15       Vinland Saga        Vinland Saga   5043           8.78\n",
       "16           Overlord            Overlord   4887           8.05\n",
       "17             Naruto              Naruto   4778           7.93\n",
       "18       Death Parade        Death Parade   4663           8.22\n",
       "19         Mob Psycho          Mob Psycho   4621           8.51"
      ]
     },
     "execution_count": 99,
     "metadata": {},
     "output_type": "execute_result"
    }
   ],
   "source": [
    "suggested_anime"
   ]
  },
  {
   "cell_type": "code",
   "execution_count": 113,
   "metadata": {},
   "outputs": [
    {
     "data": {
      "application/vnd.plotly.v1+json": {
       "config": {
        "plotlyServerURL": "https://plot.ly"
       },
       "data": [
        {
         "hoverinfo": "name+text",
         "marker": {
          "color": "#dc8d23"
         },
         "name": "Steins;Gate",
         "r": [
          19606
         ],
         "text": "9.11",
         "theta": [
          0
         ],
         "type": "barpolar",
         "width": 18
        },
        {
         "hoverinfo": "name+text",
         "marker": {
          "color": "#dc8d23"
         },
         "name": "Shingeki no Kyojin",
         "r": [
          16722
         ],
         "text": "8.47",
         "theta": [
          36
         ],
         "type": "barpolar",
         "width": 18
        },
        {
         "hoverinfo": "name+text",
         "marker": {
          "color": "#dc8d23"
         },
         "name": "Wan Pisu",
         "r": [
          10936
         ],
         "text": "8.53",
         "theta": [
          72
         ],
         "type": "barpolar",
         "width": 18
        },
        {
         "hoverinfo": "name+text",
         "marker": {
          "color": "#dc8d23"
         },
         "name": "Vaioretto Evagaden",
         "r": [
          8780
         ],
         "text": "8.62",
         "theta": [
          108
         ],
         "type": "barpolar",
         "width": 18
        },
        {
         "hoverinfo": "name+text",
         "marker": {
          "color": "#dc8d23"
         },
         "name": "Meido in Abisu",
         "r": [
          8558
         ],
         "text": "8.83",
         "theta": [
          144
         ],
         "type": "barpolar",
         "width": 18
        },
        {
         "hoverinfo": "name+text",
         "marker": {
          "color": "#dc8d23"
         },
         "name": "Monsuta",
         "r": [
          8543
         ],
         "text": "8.69",
         "theta": [
          180
         ],
         "type": "barpolar",
         "width": 18
        },
        {
         "hoverinfo": "name+text",
         "marker": {
          "color": "#dc8d23"
         },
         "name": "Kuranado",
         "r": [
          7461
         ],
         "text": "8.16",
         "theta": [
          216
         ],
         "type": "barpolar",
         "width": 18
        },
        {
         "hoverinfo": "name+text",
         "marker": {
          "color": "#dc8d23"
         },
         "name": "Zero",
         "r": [
          6724
         ],
         "text": "5.98",
         "theta": [
          252
         ],
         "type": "barpolar",
         "width": 18
        },
        {
         "hoverinfo": "name+text",
         "marker": {
          "color": "#dc8d23"
         },
         "name": "Desu Noto",
         "r": [
          6559
         ],
         "text": "8.65",
         "theta": [
          288
         ],
         "type": "barpolar",
         "width": 18
        },
        {
         "hoverinfo": "name+text",
         "marker": {
          "color": "#dc8d23"
         },
         "name": "Code Geass",
         "r": [
          6169
         ],
         "text": "7.49",
         "theta": [
          324
         ],
         "type": "barpolar",
         "width": 18
        }
       ],
       "layout": {
        "height": 800,
        "paper_bgcolor": "white",
        "plot_bgcolor": "rgba(0,0,0,0)",
        "polar": {
         "angularaxis": {
          "gridcolor": "rgba(0,0,0,0)",
          "linecolor": "gray",
          "ticktext": [
           "Steins;Gate",
           "Shingeki no Kyojin",
           "Wan Pisu",
           "Vaioretto Evagaden",
           "Meido in Abisu",
           "Monsuta",
           "Kuranado",
           "Zero",
           "Desu Noto",
           "Code Geass"
          ],
          "tickvals": [
           0,
           36,
           72,
           108,
           144,
           180,
           216,
           252,
           288,
           324
          ]
         },
         "bgcolor": "white",
         "radialaxis": {
          "gridcolor": "#648b9b",
          "linecolor": "gray",
          "range": [
           0,
           19606
          ],
          "visible": true
         }
        },
        "showlegend": false,
        "template": {
         "data": {
          "bar": [
           {
            "error_x": {
             "color": "#2a3f5f"
            },
            "error_y": {
             "color": "#2a3f5f"
            },
            "marker": {
             "line": {
              "color": "#E5ECF6",
              "width": 0.5
             },
             "pattern": {
              "fillmode": "overlay",
              "size": 10,
              "solidity": 0.2
             }
            },
            "type": "bar"
           }
          ],
          "barpolar": [
           {
            "marker": {
             "line": {
              "color": "#E5ECF6",
              "width": 0.5
             },
             "pattern": {
              "fillmode": "overlay",
              "size": 10,
              "solidity": 0.2
             }
            },
            "type": "barpolar"
           }
          ],
          "carpet": [
           {
            "aaxis": {
             "endlinecolor": "#2a3f5f",
             "gridcolor": "white",
             "linecolor": "white",
             "minorgridcolor": "white",
             "startlinecolor": "#2a3f5f"
            },
            "baxis": {
             "endlinecolor": "#2a3f5f",
             "gridcolor": "white",
             "linecolor": "white",
             "minorgridcolor": "white",
             "startlinecolor": "#2a3f5f"
            },
            "type": "carpet"
           }
          ],
          "choropleth": [
           {
            "colorbar": {
             "outlinewidth": 0,
             "ticks": ""
            },
            "type": "choropleth"
           }
          ],
          "contour": [
           {
            "colorbar": {
             "outlinewidth": 0,
             "ticks": ""
            },
            "colorscale": [
             [
              0,
              "#0d0887"
             ],
             [
              0.1111111111111111,
              "#46039f"
             ],
             [
              0.2222222222222222,
              "#7201a8"
             ],
             [
              0.3333333333333333,
              "#9c179e"
             ],
             [
              0.4444444444444444,
              "#bd3786"
             ],
             [
              0.5555555555555556,
              "#d8576b"
             ],
             [
              0.6666666666666666,
              "#ed7953"
             ],
             [
              0.7777777777777778,
              "#fb9f3a"
             ],
             [
              0.8888888888888888,
              "#fdca26"
             ],
             [
              1,
              "#f0f921"
             ]
            ],
            "type": "contour"
           }
          ],
          "contourcarpet": [
           {
            "colorbar": {
             "outlinewidth": 0,
             "ticks": ""
            },
            "type": "contourcarpet"
           }
          ],
          "heatmap": [
           {
            "colorbar": {
             "outlinewidth": 0,
             "ticks": ""
            },
            "colorscale": [
             [
              0,
              "#0d0887"
             ],
             [
              0.1111111111111111,
              "#46039f"
             ],
             [
              0.2222222222222222,
              "#7201a8"
             ],
             [
              0.3333333333333333,
              "#9c179e"
             ],
             [
              0.4444444444444444,
              "#bd3786"
             ],
             [
              0.5555555555555556,
              "#d8576b"
             ],
             [
              0.6666666666666666,
              "#ed7953"
             ],
             [
              0.7777777777777778,
              "#fb9f3a"
             ],
             [
              0.8888888888888888,
              "#fdca26"
             ],
             [
              1,
              "#f0f921"
             ]
            ],
            "type": "heatmap"
           }
          ],
          "heatmapgl": [
           {
            "colorbar": {
             "outlinewidth": 0,
             "ticks": ""
            },
            "colorscale": [
             [
              0,
              "#0d0887"
             ],
             [
              0.1111111111111111,
              "#46039f"
             ],
             [
              0.2222222222222222,
              "#7201a8"
             ],
             [
              0.3333333333333333,
              "#9c179e"
             ],
             [
              0.4444444444444444,
              "#bd3786"
             ],
             [
              0.5555555555555556,
              "#d8576b"
             ],
             [
              0.6666666666666666,
              "#ed7953"
             ],
             [
              0.7777777777777778,
              "#fb9f3a"
             ],
             [
              0.8888888888888888,
              "#fdca26"
             ],
             [
              1,
              "#f0f921"
             ]
            ],
            "type": "heatmapgl"
           }
          ],
          "histogram": [
           {
            "marker": {
             "pattern": {
              "fillmode": "overlay",
              "size": 10,
              "solidity": 0.2
             }
            },
            "type": "histogram"
           }
          ],
          "histogram2d": [
           {
            "colorbar": {
             "outlinewidth": 0,
             "ticks": ""
            },
            "colorscale": [
             [
              0,
              "#0d0887"
             ],
             [
              0.1111111111111111,
              "#46039f"
             ],
             [
              0.2222222222222222,
              "#7201a8"
             ],
             [
              0.3333333333333333,
              "#9c179e"
             ],
             [
              0.4444444444444444,
              "#bd3786"
             ],
             [
              0.5555555555555556,
              "#d8576b"
             ],
             [
              0.6666666666666666,
              "#ed7953"
             ],
             [
              0.7777777777777778,
              "#fb9f3a"
             ],
             [
              0.8888888888888888,
              "#fdca26"
             ],
             [
              1,
              "#f0f921"
             ]
            ],
            "type": "histogram2d"
           }
          ],
          "histogram2dcontour": [
           {
            "colorbar": {
             "outlinewidth": 0,
             "ticks": ""
            },
            "colorscale": [
             [
              0,
              "#0d0887"
             ],
             [
              0.1111111111111111,
              "#46039f"
             ],
             [
              0.2222222222222222,
              "#7201a8"
             ],
             [
              0.3333333333333333,
              "#9c179e"
             ],
             [
              0.4444444444444444,
              "#bd3786"
             ],
             [
              0.5555555555555556,
              "#d8576b"
             ],
             [
              0.6666666666666666,
              "#ed7953"
             ],
             [
              0.7777777777777778,
              "#fb9f3a"
             ],
             [
              0.8888888888888888,
              "#fdca26"
             ],
             [
              1,
              "#f0f921"
             ]
            ],
            "type": "histogram2dcontour"
           }
          ],
          "mesh3d": [
           {
            "colorbar": {
             "outlinewidth": 0,
             "ticks": ""
            },
            "type": "mesh3d"
           }
          ],
          "parcoords": [
           {
            "line": {
             "colorbar": {
              "outlinewidth": 0,
              "ticks": ""
             }
            },
            "type": "parcoords"
           }
          ],
          "pie": [
           {
            "automargin": true,
            "type": "pie"
           }
          ],
          "scatter": [
           {
            "fillpattern": {
             "fillmode": "overlay",
             "size": 10,
             "solidity": 0.2
            },
            "type": "scatter"
           }
          ],
          "scatter3d": [
           {
            "line": {
             "colorbar": {
              "outlinewidth": 0,
              "ticks": ""
             }
            },
            "marker": {
             "colorbar": {
              "outlinewidth": 0,
              "ticks": ""
             }
            },
            "type": "scatter3d"
           }
          ],
          "scattercarpet": [
           {
            "marker": {
             "colorbar": {
              "outlinewidth": 0,
              "ticks": ""
             }
            },
            "type": "scattercarpet"
           }
          ],
          "scattergeo": [
           {
            "marker": {
             "colorbar": {
              "outlinewidth": 0,
              "ticks": ""
             }
            },
            "type": "scattergeo"
           }
          ],
          "scattergl": [
           {
            "marker": {
             "colorbar": {
              "outlinewidth": 0,
              "ticks": ""
             }
            },
            "type": "scattergl"
           }
          ],
          "scattermapbox": [
           {
            "marker": {
             "colorbar": {
              "outlinewidth": 0,
              "ticks": ""
             }
            },
            "type": "scattermapbox"
           }
          ],
          "scatterpolar": [
           {
            "marker": {
             "colorbar": {
              "outlinewidth": 0,
              "ticks": ""
             }
            },
            "type": "scatterpolar"
           }
          ],
          "scatterpolargl": [
           {
            "marker": {
             "colorbar": {
              "outlinewidth": 0,
              "ticks": ""
             }
            },
            "type": "scatterpolargl"
           }
          ],
          "scatterternary": [
           {
            "marker": {
             "colorbar": {
              "outlinewidth": 0,
              "ticks": ""
             }
            },
            "type": "scatterternary"
           }
          ],
          "surface": [
           {
            "colorbar": {
             "outlinewidth": 0,
             "ticks": ""
            },
            "colorscale": [
             [
              0,
              "#0d0887"
             ],
             [
              0.1111111111111111,
              "#46039f"
             ],
             [
              0.2222222222222222,
              "#7201a8"
             ],
             [
              0.3333333333333333,
              "#9c179e"
             ],
             [
              0.4444444444444444,
              "#bd3786"
             ],
             [
              0.5555555555555556,
              "#d8576b"
             ],
             [
              0.6666666666666666,
              "#ed7953"
             ],
             [
              0.7777777777777778,
              "#fb9f3a"
             ],
             [
              0.8888888888888888,
              "#fdca26"
             ],
             [
              1,
              "#f0f921"
             ]
            ],
            "type": "surface"
           }
          ],
          "table": [
           {
            "cells": {
             "fill": {
              "color": "#EBF0F8"
             },
             "line": {
              "color": "white"
             }
            },
            "header": {
             "fill": {
              "color": "#C8D4E3"
             },
             "line": {
              "color": "white"
             }
            },
            "type": "table"
           }
          ]
         },
         "layout": {
          "annotationdefaults": {
           "arrowcolor": "#2a3f5f",
           "arrowhead": 0,
           "arrowwidth": 1
          },
          "autotypenumbers": "strict",
          "coloraxis": {
           "colorbar": {
            "outlinewidth": 0,
            "ticks": ""
           }
          },
          "colorscale": {
           "diverging": [
            [
             0,
             "#8e0152"
            ],
            [
             0.1,
             "#c51b7d"
            ],
            [
             0.2,
             "#de77ae"
            ],
            [
             0.3,
             "#f1b6da"
            ],
            [
             0.4,
             "#fde0ef"
            ],
            [
             0.5,
             "#f7f7f7"
            ],
            [
             0.6,
             "#e6f5d0"
            ],
            [
             0.7,
             "#b8e186"
            ],
            [
             0.8,
             "#7fbc41"
            ],
            [
             0.9,
             "#4d9221"
            ],
            [
             1,
             "#276419"
            ]
           ],
           "sequential": [
            [
             0,
             "#0d0887"
            ],
            [
             0.1111111111111111,
             "#46039f"
            ],
            [
             0.2222222222222222,
             "#7201a8"
            ],
            [
             0.3333333333333333,
             "#9c179e"
            ],
            [
             0.4444444444444444,
             "#bd3786"
            ],
            [
             0.5555555555555556,
             "#d8576b"
            ],
            [
             0.6666666666666666,
             "#ed7953"
            ],
            [
             0.7777777777777778,
             "#fb9f3a"
            ],
            [
             0.8888888888888888,
             "#fdca26"
            ],
            [
             1,
             "#f0f921"
            ]
           ],
           "sequentialminus": [
            [
             0,
             "#0d0887"
            ],
            [
             0.1111111111111111,
             "#46039f"
            ],
            [
             0.2222222222222222,
             "#7201a8"
            ],
            [
             0.3333333333333333,
             "#9c179e"
            ],
            [
             0.4444444444444444,
             "#bd3786"
            ],
            [
             0.5555555555555556,
             "#d8576b"
            ],
            [
             0.6666666666666666,
             "#ed7953"
            ],
            [
             0.7777777777777778,
             "#fb9f3a"
            ],
            [
             0.8888888888888888,
             "#fdca26"
            ],
            [
             1,
             "#f0f921"
            ]
           ]
          },
          "colorway": [
           "#636efa",
           "#EF553B",
           "#00cc96",
           "#ab63fa",
           "#FFA15A",
           "#19d3f3",
           "#FF6692",
           "#B6E880",
           "#FF97FF",
           "#FECB52"
          ],
          "font": {
           "color": "#2a3f5f"
          },
          "geo": {
           "bgcolor": "white",
           "lakecolor": "white",
           "landcolor": "#E5ECF6",
           "showlakes": true,
           "showland": true,
           "subunitcolor": "white"
          },
          "hoverlabel": {
           "align": "left"
          },
          "hovermode": "closest",
          "mapbox": {
           "style": "light"
          },
          "paper_bgcolor": "white",
          "plot_bgcolor": "#E5ECF6",
          "polar": {
           "angularaxis": {
            "gridcolor": "white",
            "linecolor": "white",
            "ticks": ""
           },
           "bgcolor": "#E5ECF6",
           "radialaxis": {
            "gridcolor": "white",
            "linecolor": "white",
            "ticks": ""
           }
          },
          "scene": {
           "xaxis": {
            "backgroundcolor": "#E5ECF6",
            "gridcolor": "white",
            "gridwidth": 2,
            "linecolor": "white",
            "showbackground": true,
            "ticks": "",
            "zerolinecolor": "white"
           },
           "yaxis": {
            "backgroundcolor": "#E5ECF6",
            "gridcolor": "white",
            "gridwidth": 2,
            "linecolor": "white",
            "showbackground": true,
            "ticks": "",
            "zerolinecolor": "white"
           },
           "zaxis": {
            "backgroundcolor": "#E5ECF6",
            "gridcolor": "white",
            "gridwidth": 2,
            "linecolor": "white",
            "showbackground": true,
            "ticks": "",
            "zerolinecolor": "white"
           }
          },
          "shapedefaults": {
           "line": {
            "color": "#2a3f5f"
           }
          },
          "ternary": {
           "aaxis": {
            "gridcolor": "white",
            "linecolor": "white",
            "ticks": ""
           },
           "baxis": {
            "gridcolor": "white",
            "linecolor": "white",
            "ticks": ""
           },
           "bgcolor": "#E5ECF6",
           "caxis": {
            "gridcolor": "white",
            "linecolor": "white",
            "ticks": ""
           }
          },
          "title": {
           "x": 0.05
          },
          "xaxis": {
           "automargin": true,
           "gridcolor": "white",
           "linecolor": "white",
           "ticks": "",
           "title": {
            "standoff": 15
           },
           "zerolinecolor": "white",
           "zerolinewidth": 2
          },
          "yaxis": {
           "automargin": true,
           "gridcolor": "white",
           "linecolor": "white",
           "ticks": "",
           "title": {
            "standoff": 15
           },
           "zerolinecolor": "white",
           "zerolinewidth": 2
          }
         }
        },
        "title": {
         "text": "Most Suggested Anime on Reddit",
         "x": 0.5
        },
        "width": 800
       }
      }
     },
     "metadata": {},
     "output_type": "display_data"
    }
   ],
   "source": [
    "import plotly.graph_objects as go\n",
    "import pandas as pd\n",
    "import numpy as np\n",
    "\n",
    "# Assuming df is your DataFrame\n",
    "df = suggested_anime.nlargest(10, 'count')\n",
    "\n",
    "# Number of variables\n",
    "num_vars = len(df['anime_name'])\n",
    "\n",
    "# Compute angle for each bar\n",
    "angles = np.linspace(0, 360, num_vars, endpoint=False).tolist()\n",
    "\n",
    "# Create Plotly Figure\n",
    "fig = go.Figure()\n",
    "\n",
    "# Add bars\n",
    "for angle, value, score, name in zip(angles, df['count'], df['matched_score'], df['japanese_title']):\n",
    "    fig.add_trace(go.Barpolar(\n",
    "        r=[value],\n",
    "        theta=[angle],\n",
    "        width=18,\n",
    "        name=name,\n",
    "        marker_color='#dc8d23',\n",
    "        # opacity=0.5,\n",
    "        text=f\"{score:.2f}\",\n",
    "        hoverinfo=\"name+text\"\n",
    "    ))\n",
    "\n",
    "# Update the layout to set background color to white\n",
    "fig.update_layout(\n",
    "    title='Most Suggested Anime on Reddit',\n",
    "    title_x=0.5,\n",
    "    polar=dict(\n",
    "        radialaxis=dict(\n",
    "            visible=True,\n",
    "            range=[0, max(df['count'])],\n",
    "            gridcolor='#648b9b'  # Make radial gridlines transparent\n",
    "        ),\n",
    "        angularaxis=dict(\n",
    "            tickvals=angles,\n",
    "            ticktext=df['japanese_title'],\n",
    "            gridcolor='rgba(0,0,0,0)'  # Make angular gridlines transparent\n",
    "        ),\n",
    "        radialaxis_linecolor='gray',\n",
    "        angularaxis_linecolor='gray',\n",
    "    ),\n",
    "    paper_bgcolor='white',  # Set the background color of the paper to white\n",
    "    plot_bgcolor='rgba(0,0,0,0)', \n",
    "    showlegend=False,\n",
    "    width=800,\n",
    "    height=800\n",
    ")\n",
    "\n",
    "# Set the color of the polar background to white\n",
    "fig.update_polars(bgcolor='white')\n",
    "\n",
    "#write to html\n",
    "fig.write_html(\"../../data/plots/top_anime_suggested.html\")\n",
    "\n",
    "# Show the plot\n",
    "fig.show()\n"
   ]
  },
  {
   "cell_type": "code",
   "execution_count": 112,
   "metadata": {},
   "outputs": [
    {
     "data": {
      "image/png": "[encoded data removed]",
      "text/plain": [
       "<Figure size 1800x420 with 1 Axes>"
      ]
     },
     "metadata": {},
     "output_type": "display_data"
    }
   ],
   "source": [
    "import matplotlib.pyplot as plt\n",
    "import pandas as pd\n",
    "from matplotlib.offsetbox import OffsetImage, AnnotationBbox\n",
    "from PIL import Image\n",
    "\n",
    "# Sample data - replace with your actual data\n",
    "data = suggested_anime.nlargest(10, 'count')\n",
    "df = data.sort_values(by='count', ascending=False)\n",
    "\n",
    "# Load movie icon\n",
    "icon_path = 'review-icon.png'  # Path to your icon image\n",
    "movie_icon = Image.open(icon_path)\n",
    "imagebox = OffsetImage(movie_icon, zoom=0.03)  # Adjust the zoom level\n",
    "\n",
    "# Creating the lollipop plot\n",
    "fig, ax = plt.subplots(figsize=(18, 4.2))  # Adjust the size as needed\n",
    "\n",
    "# Add lines (sticks) for each lollipop\n",
    "for title, rating in zip(df['japanese_title'], df['matched_score']):\n",
    "    ax.plot([title, title], [5, rating], color='#dc8d23', linewidth=5)\n",
    "\n",
    "# Add custom icons as lollipop heads\n",
    "for title, rating in zip(df['japanese_title'], df['matched_score']):\n",
    "    ab = AnnotationBbox(imagebox, (title, rating), frameon=False)\n",
    "    ax.add_artist(ab)\n",
    "\n",
    "# Customize the layout\n",
    "ax.set_title('Review Ratings for Top Suggested Anime')\n",
    "ax.set_xlabel('Anime Title')\n",
    "ax.set_ylabel('Anime Rating')\n",
    "ax.set_ylim(5, 10)\n",
    "ax.set_facecolor('white')\n",
    "ax.grid(False)\n",
    "\n",
    "#save the plot\n",
    "plt.savefig('../../data/plots/review_rating_of_top_anime.png', dpi =300)\n",
    "\n",
    "# Show the plot\n",
    "plt.show()\n"
   ]
  },
  {
   "cell_type": "code",
   "execution_count": 101,
   "metadata": {},
   "outputs": [
    {
     "data": {
      "text/html": [
       "<div>\n",
       "<style scoped>\n",
       "    .dataframe tbody tr th:only-of-type {\n",
       "        vertical-align: middle;\n",
       "    }\n",
       "\n",
       "    .dataframe tbody tr th {\n",
       "        vertical-align: top;\n",
       "    }\n",
       "\n",
       "    .dataframe thead th {\n",
       "        text-align: right;\n",
       "    }\n",
       "</style>\n",
       "<table border=\"1\" class=\"dataframe\">\n",
       "  <thead>\n",
       "    <tr style=\"text-align: right;\">\n",
       "      <th></th>\n",
       "      <th>anime_name</th>\n",
       "      <th>japanese_title</th>\n",
       "      <th>count</th>\n",
       "      <th>matched_score</th>\n",
       "    </tr>\n",
       "  </thead>\n",
       "  <tbody>\n",
       "    <tr>\n",
       "      <th>0</th>\n",
       "      <td>Steins Gate</td>\n",
       "      <td>Steins;Gate</td>\n",
       "      <td>19606</td>\n",
       "      <td>9.11</td>\n",
       "    </tr>\n",
       "    <tr>\n",
       "      <th>1</th>\n",
       "      <td>Attack on Titan</td>\n",
       "      <td>Shingeki no Kyojin</td>\n",
       "      <td>16722</td>\n",
       "      <td>8.47</td>\n",
       "    </tr>\n",
       "    <tr>\n",
       "      <th>2</th>\n",
       "      <td>One Piece</td>\n",
       "      <td>Wan Pisu</td>\n",
       "      <td>10936</td>\n",
       "      <td>8.53</td>\n",
       "    </tr>\n",
       "    <tr>\n",
       "      <th>3</th>\n",
       "      <td>Violet Evergarden</td>\n",
       "      <td>Vaioretto Evagaden</td>\n",
       "      <td>8780</td>\n",
       "      <td>8.62</td>\n",
       "    </tr>\n",
       "    <tr>\n",
       "      <th>4</th>\n",
       "      <td>Made in Abyss</td>\n",
       "      <td>Meido in Abisu</td>\n",
       "      <td>8558</td>\n",
       "      <td>8.83</td>\n",
       "    </tr>\n",
       "    <tr>\n",
       "      <th>5</th>\n",
       "      <td>Monster</td>\n",
       "      <td>Monsuta</td>\n",
       "      <td>8543</td>\n",
       "      <td>8.69</td>\n",
       "    </tr>\n",
       "    <tr>\n",
       "      <th>6</th>\n",
       "      <td>Clannad</td>\n",
       "      <td>Kuranado</td>\n",
       "      <td>7461</td>\n",
       "      <td>8.16</td>\n",
       "    </tr>\n",
       "    <tr>\n",
       "      <th>7</th>\n",
       "      <td>Zero</td>\n",
       "      <td>Zero</td>\n",
       "      <td>6724</td>\n",
       "      <td>5.98</td>\n",
       "    </tr>\n",
       "    <tr>\n",
       "      <th>8</th>\n",
       "      <td>Death Note</td>\n",
       "      <td>Desu Noto</td>\n",
       "      <td>6559</td>\n",
       "      <td>8.65</td>\n",
       "    </tr>\n",
       "    <tr>\n",
       "      <th>9</th>\n",
       "      <td>Code Geass</td>\n",
       "      <td>Code Geass</td>\n",
       "      <td>6169</td>\n",
       "      <td>7.49</td>\n",
       "    </tr>\n",
       "    <tr>\n",
       "      <th>10</th>\n",
       "      <td>Cowboy Bebop</td>\n",
       "      <td>Cowboy Bebop</td>\n",
       "      <td>5758</td>\n",
       "      <td>8.81</td>\n",
       "    </tr>\n",
       "    <tr>\n",
       "      <th>11</th>\n",
       "      <td>Horimiya</td>\n",
       "      <td>Horimiya</td>\n",
       "      <td>5710</td>\n",
       "      <td>5.30</td>\n",
       "    </tr>\n",
       "    <tr>\n",
       "      <th>12</th>\n",
       "      <td>Gintama</td>\n",
       "      <td>Gintama</td>\n",
       "      <td>5654</td>\n",
       "      <td>8.97</td>\n",
       "    </tr>\n",
       "    <tr>\n",
       "      <th>13</th>\n",
       "      <td>Berserk</td>\n",
       "      <td>Berserk</td>\n",
       "      <td>5485</td>\n",
       "      <td>6.60</td>\n",
       "    </tr>\n",
       "    <tr>\n",
       "      <th>14</th>\n",
       "      <td>Dororo</td>\n",
       "      <td>Dororo</td>\n",
       "      <td>5053</td>\n",
       "      <td>8.23</td>\n",
       "    </tr>\n",
       "    <tr>\n",
       "      <th>15</th>\n",
       "      <td>Vinland Saga</td>\n",
       "      <td>Vinland Saga</td>\n",
       "      <td>5043</td>\n",
       "      <td>8.78</td>\n",
       "    </tr>\n",
       "    <tr>\n",
       "      <th>16</th>\n",
       "      <td>Overlord</td>\n",
       "      <td>Overlord</td>\n",
       "      <td>4887</td>\n",
       "      <td>8.05</td>\n",
       "    </tr>\n",
       "    <tr>\n",
       "      <th>17</th>\n",
       "      <td>Naruto</td>\n",
       "      <td>Naruto</td>\n",
       "      <td>4778</td>\n",
       "      <td>7.93</td>\n",
       "    </tr>\n",
       "    <tr>\n",
       "      <th>18</th>\n",
       "      <td>Death Parade</td>\n",
       "      <td>Death Parade</td>\n",
       "      <td>4663</td>\n",
       "      <td>8.22</td>\n",
       "    </tr>\n",
       "    <tr>\n",
       "      <th>19</th>\n",
       "      <td>Mob Psycho</td>\n",
       "      <td>Mob Psycho</td>\n",
       "      <td>4621</td>\n",
       "      <td>8.51</td>\n",
       "    </tr>\n",
       "  </tbody>\n",
       "</table>\n",
       "</div>"
      ],
      "text/plain": [
       "           anime_name      japanese_title  count  matched_score\n",
       "0         Steins Gate         Steins;Gate  19606           9.11\n",
       "1     Attack on Titan  Shingeki no Kyojin  16722           8.47\n",
       "2           One Piece            Wan Pisu  10936           8.53\n",
       "3   Violet Evergarden  Vaioretto Evagaden   8780           8.62\n",
       "4       Made in Abyss      Meido in Abisu   8558           8.83\n",
       "5             Monster             Monsuta   8543           8.69\n",
       "6             Clannad            Kuranado   7461           8.16\n",
       "7                Zero                Zero   6724           5.98\n",
       "8          Death Note           Desu Noto   6559           8.65\n",
       "9          Code Geass          Code Geass   6169           7.49\n",
       "10       Cowboy Bebop        Cowboy Bebop   5758           8.81\n",
       "11           Horimiya            Horimiya   5710           5.30\n",
       "12            Gintama             Gintama   5654           8.97\n",
       "13            Berserk             Berserk   5485           6.60\n",
       "14             Dororo              Dororo   5053           8.23\n",
       "15       Vinland Saga        Vinland Saga   5043           8.78\n",
       "16           Overlord            Overlord   4887           8.05\n",
       "17             Naruto              Naruto   4778           7.93\n",
       "18       Death Parade        Death Parade   4663           8.22\n",
       "19         Mob Psycho          Mob Psycho   4621           8.51"
      ]
     },
     "execution_count": 101,
     "metadata": {},
     "output_type": "execute_result"
    }
   ],
   "source": [
    "suggested_anime"
   ]
  },
  {
   "cell_type": "code",
   "execution_count": 17,
   "metadata": {},
   "outputs": [
    {
     "data": {
      "text/html": [
       "<div>\n",
       "<style scoped>\n",
       "    .dataframe tbody tr th:only-of-type {\n",
       "        vertical-align: middle;\n",
       "    }\n",
       "\n",
       "    .dataframe tbody tr th {\n",
       "        vertical-align: top;\n",
       "    }\n",
       "\n",
       "    .dataframe thead th {\n",
       "        text-align: right;\n",
       "    }\n",
       "</style>\n",
       "<table border=\"1\" class=\"dataframe\">\n",
       "  <thead>\n",
       "    <tr style=\"text-align: right;\">\n",
       "      <th></th>\n",
       "      <th>category</th>\n",
       "      <th>title</th>\n",
       "      <th>score</th>\n",
       "    </tr>\n",
       "  </thead>\n",
       "  <tbody>\n",
       "    <tr>\n",
       "      <th>0</th>\n",
       "      <td>Action and Adventure</td>\n",
       "      <td>Code Geass Hangyaku no Lelouch R2</td>\n",
       "      <td>8.93</td>\n",
       "    </tr>\n",
       "    <tr>\n",
       "      <th>1</th>\n",
       "      <td>Action and Adventure</td>\n",
       "      <td>Fullmetal Alchemist Brotherhood</td>\n",
       "      <td>9.23</td>\n",
       "    </tr>\n",
       "    <tr>\n",
       "      <th>2</th>\n",
       "      <td>Action and Adventure</td>\n",
       "      <td>Ginga Eiyuu Densetsu</td>\n",
       "      <td>9.03</td>\n",
       "    </tr>\n",
       "    <tr>\n",
       "      <th>3</th>\n",
       "      <td>Action and Adventure</td>\n",
       "      <td>Gintama</td>\n",
       "      <td>9.00</td>\n",
       "    </tr>\n",
       "    <tr>\n",
       "      <th>4</th>\n",
       "      <td>Action and Adventure</td>\n",
       "      <td>Gintama Enchousen</td>\n",
       "      <td>8.98</td>\n",
       "    </tr>\n",
       "    <tr>\n",
       "      <th>...</th>\n",
       "      <td>...</td>\n",
       "      <td>...</td>\n",
       "      <td>...</td>\n",
       "    </tr>\n",
       "    <tr>\n",
       "      <th>95</th>\n",
       "      <td>Youth and School Life</td>\n",
       "      <td>Hunter x Hunter 2011</td>\n",
       "      <td>9.11</td>\n",
       "    </tr>\n",
       "    <tr>\n",
       "      <th>96</th>\n",
       "      <td>Youth and School Life</td>\n",
       "      <td>Kimi no Na wa</td>\n",
       "      <td>9.09</td>\n",
       "    </tr>\n",
       "    <tr>\n",
       "      <th>97</th>\n",
       "      <td>Youth and School Life</td>\n",
       "      <td>Koe no Katachi</td>\n",
       "      <td>9.01</td>\n",
       "    </tr>\n",
       "    <tr>\n",
       "      <th>98</th>\n",
       "      <td>Youth and School Life</td>\n",
       "      <td>Quiz de Manabu Pinocchio no Koutsuu Ansen</td>\n",
       "      <td>9.08</td>\n",
       "    </tr>\n",
       "    <tr>\n",
       "      <th>99</th>\n",
       "      <td>Youth and School Life</td>\n",
       "      <td>Shingeki no Kyojin Season 3 Part 2</td>\n",
       "      <td>9.07</td>\n",
       "    </tr>\n",
       "  </tbody>\n",
       "</table>\n",
       "<p>100 rows × 3 columns</p>\n",
       "</div>"
      ],
      "text/plain": [
       "                 category                                      title  score\n",
       "0    Action and Adventure          Code Geass Hangyaku no Lelouch R2   8.93\n",
       "1    Action and Adventure            Fullmetal Alchemist Brotherhood   9.23\n",
       "2    Action and Adventure                       Ginga Eiyuu Densetsu   9.03\n",
       "3    Action and Adventure                                    Gintama   9.00\n",
       "4    Action and Adventure                          Gintama Enchousen   8.98\n",
       "..                    ...                                        ...    ...\n",
       "95  Youth and School Life                       Hunter x Hunter 2011   9.11\n",
       "96  Youth and School Life                              Kimi no Na wa   9.09\n",
       "97  Youth and School Life                             Koe no Katachi   9.01\n",
       "98  Youth and School Life  Quiz de Manabu Pinocchio no Koutsuu Ansen   9.08\n",
       "99  Youth and School Life         Shingeki no Kyojin Season 3 Part 2   9.07\n",
       "\n",
       "[100 rows x 3 columns]"
      ]
     },
     "execution_count": 17,
     "metadata": {},
     "output_type": "execute_result"
    }
   ],
   "source": [
    "top_score_final"
   ]
  },
  {
   "cell_type": "code",
   "execution_count": 18,
   "metadata": {},
   "outputs": [
    {
     "data": {
      "text/html": [
       "<div>\n",
       "<style scoped>\n",
       "    .dataframe tbody tr th:only-of-type {\n",
       "        vertical-align: middle;\n",
       "    }\n",
       "\n",
       "    .dataframe tbody tr th {\n",
       "        vertical-align: top;\n",
       "    }\n",
       "\n",
       "    .dataframe thead th {\n",
       "        text-align: right;\n",
       "    }\n",
       "</style>\n",
       "<table border=\"1\" class=\"dataframe\">\n",
       "  <thead>\n",
       "    <tr style=\"text-align: right;\">\n",
       "      <th></th>\n",
       "      <th>Title</th>\n",
       "      <th>Genre</th>\n",
       "      <th>Score</th>\n",
       "    </tr>\n",
       "  </thead>\n",
       "  <tbody>\n",
       "    <tr>\n",
       "      <th>6</th>\n",
       "      <td>Fullmetal Alchemist Brotherhood</td>\n",
       "      <td>[Action and Adventure, Comedy and Slice of Lif...</td>\n",
       "      <td>9.23</td>\n",
       "    </tr>\n",
       "    <tr>\n",
       "      <th>18</th>\n",
       "      <td>Hunter x Hunter 2011</td>\n",
       "      <td>[Action and Adventure, Fantasy and Supernatura...</td>\n",
       "      <td>9.11</td>\n",
       "    </tr>\n",
       "    <tr>\n",
       "      <th>47</th>\n",
       "      <td>SteinsGate</td>\n",
       "      <td>[Horror and Thriller, Science Fiction and Tech...</td>\n",
       "      <td>9.11</td>\n",
       "    </tr>\n",
       "    <tr>\n",
       "      <th>23</th>\n",
       "      <td>Kimi no Na wa</td>\n",
       "      <td>[Drama and Romance, Fantasy and Supernatural, ...</td>\n",
       "      <td>9.09</td>\n",
       "    </tr>\n",
       "    <tr>\n",
       "      <th>37</th>\n",
       "      <td>Quiz de Manabu Pinocchio no Koutsuu Ansen</td>\n",
       "      <td>[Youth and School Life]</td>\n",
       "      <td>9.08</td>\n",
       "    </tr>\n",
       "    <tr>\n",
       "      <th>41</th>\n",
       "      <td>Shingeki no Kyojin Season 3 Part 2</td>\n",
       "      <td>[Action and Adventure, Drama and Romance, Fant...</td>\n",
       "      <td>9.07</td>\n",
       "    </tr>\n",
       "    <tr>\n",
       "      <th>7</th>\n",
       "      <td>Ginga Eiyuu Densetsu</td>\n",
       "      <td>[Action and Adventure, Drama and Romance, Scie...</td>\n",
       "      <td>9.03</td>\n",
       "    </tr>\n",
       "    <tr>\n",
       "      <th>0</th>\n",
       "      <td>3gatsu no Lion 2nd Season</td>\n",
       "      <td>[Comedy and Slice of Life, Drama and Romance, ...</td>\n",
       "      <td>9.02</td>\n",
       "    </tr>\n",
       "    <tr>\n",
       "      <th>25</th>\n",
       "      <td>Koe no Katachi</td>\n",
       "      <td>[Drama and Romance, Youth and School Life]</td>\n",
       "      <td>9.01</td>\n",
       "    </tr>\n",
       "    <tr>\n",
       "      <th>8</th>\n",
       "      <td>Gintama</td>\n",
       "      <td>[Action and Adventure, Comedy and Slice of Lif...</td>\n",
       "      <td>9.00</td>\n",
       "    </tr>\n",
       "  </tbody>\n",
       "</table>\n",
       "</div>"
      ],
      "text/plain": [
       "                                        Title  \\\n",
       "6             Fullmetal Alchemist Brotherhood   \n",
       "18                       Hunter x Hunter 2011   \n",
       "47                                 SteinsGate   \n",
       "23                              Kimi no Na wa   \n",
       "37  Quiz de Manabu Pinocchio no Koutsuu Ansen   \n",
       "41         Shingeki no Kyojin Season 3 Part 2   \n",
       "7                        Ginga Eiyuu Densetsu   \n",
       "0                   3gatsu no Lion 2nd Season   \n",
       "25                             Koe no Katachi   \n",
       "8                                     Gintama   \n",
       "\n",
       "                                                Genre  Score  \n",
       "6   [Action and Adventure, Comedy and Slice of Lif...   9.23  \n",
       "18  [Action and Adventure, Fantasy and Supernatura...   9.11  \n",
       "47  [Horror and Thriller, Science Fiction and Tech...   9.11  \n",
       "23  [Drama and Romance, Fantasy and Supernatural, ...   9.09  \n",
       "37                            [Youth and School Life]   9.08  \n",
       "41  [Action and Adventure, Drama and Romance, Fant...   9.07  \n",
       "7   [Action and Adventure, Drama and Romance, Scie...   9.03  \n",
       "0   [Comedy and Slice of Life, Drama and Romance, ...   9.02  \n",
       "25         [Drama and Romance, Youth and School Life]   9.01  \n",
       "8   [Action and Adventure, Comedy and Slice of Lif...   9.00  "
      ]
     },
     "execution_count": 18,
     "metadata": {},
     "output_type": "execute_result"
    }
   ],
   "source": [
    "# Group by 'title' and aggregate the 'category' values into a list\n",
    "grouped_top_score_final = top_score_final.groupby('title').agg({'category': list, 'score': 'first'}).reset_index()\n",
    "\n",
    "# Rename the 'category' column to 'Categories_list'\n",
    "grouped_top_score_final = grouped_top_score_final.rename(columns={'category': 'Genre','title': 'Title','score': 'Score'})\n",
    "\n",
    "# Display the result\n",
    "top_10_score_grouped = grouped_top_score_final.sort_values(by='Score', ascending=False).head(10)\n",
    "top_10_score_grouped"
   ]
  },
  {
   "cell_type": "code",
   "execution_count": 24,
   "metadata": {},
   "outputs": [
    {
     "data": {
      "application/vnd.plotly.v1+json": {
       "config": {
        "plotlyServerURL": "https://plot.ly"
       },
       "data": [
        {
         "alignmentgroup": "True",
         "customdata": [
          [
           [
            "Action and Adventure",
            "Comedy and Slice of Life",
            "Historical and Cultural",
            "Science Fiction and Technology",
            "Youth and School Life"
           ]
          ],
          [
           [
            "Drama and Romance",
            "Youth and School Life"
           ]
          ],
          [
           [
            "Comedy and Slice of Life",
            "Drama and Romance",
            "Historical and Cultural",
            "Miscellaneous"
           ]
          ],
          [
           [
            "Action and Adventure",
            "Drama and Romance",
            "Science Fiction and Technology"
           ]
          ],
          [
           [
            "Action and Adventure",
            "Drama and Romance",
            "Fantasy and Supernatural",
            "Horror and Thriller",
            "Youth and School Life"
           ]
          ],
          [
           [
            "Youth and School Life"
           ]
          ],
          [
           [
            "Drama and Romance",
            "Fantasy and Supernatural",
            "Youth and School Life"
           ]
          ],
          [
           [
            "Action and Adventure",
            "Fantasy and Supernatural",
            "Youth and School Life"
           ]
          ],
          [
           [
            "Horror and Thriller",
            "Science Fiction and Technology"
           ]
          ],
          [
           [
            "Action and Adventure",
            "Comedy and Slice of Life",
            "Drama and Romance",
            "Fantasy and Supernatural",
            "Youth and School Life"
           ]
          ]
         ],
         "hovertemplate": "text=%{text}<br>Genre=%{customdata[0]}<extra></extra>",
         "legendgroup": "",
         "marker": {
          "color": [
           9,
           9.01,
           9.02,
           9.03,
           9.07,
           9.08,
           9.09,
           9.11,
           9.11,
           9.23
          ],
          "coloraxis": "coloraxis",
          "pattern": {
           "shape": ""
          }
         },
         "name": "",
         "offsetgroup": "",
         "orientation": "h",
         "showlegend": false,
         "text": [
          "Title: Gintama<br>Score: 9.0",
          "Title: Koe no Katachi<br>Score: 9.01",
          "Title: 3gatsu no Lion 2nd Season<br>Score: 9.02",
          "Title: Ginga Eiyuu Densetsu<br>Score: 9.03",
          "Title: Shingeki no Kyojin Season 3 Part 2<br>Score: 9.07",
          "Title: Quiz de Manabu Pinocchio no Koutsuu Ansen<br>Score: 9.08",
          "Title: Kimi no Na wa<br>Score: 9.09",
          "Title: Hunter x Hunter 2011<br>Score: 9.11",
          "Title: SteinsGate<br>Score: 9.11",
          "Title: Fullmetal Alchemist Brotherhood<br>Score: 9.23"
         ],
         "textposition": "auto",
         "type": "bar",
         "x": [
          9,
          9.01,
          9.02,
          9.03,
          9.07,
          9.08,
          9.09,
          9.11,
          9.11,
          9.23
         ],
         "xaxis": "x",
         "y": [
          "Gintama",
          "Koe no Katachi",
          "3gatsu no Lion 2nd Season",
          "Ginga Eiyuu Densetsu",
          "Shingeki no Kyojin Season 3 Part 2",
          "Quiz de Manabu Pinocchio no Koutsuu Ansen",
          "Kimi no Na wa",
          "Hunter x Hunter 2011",
          "SteinsGate",
          "Fullmetal Alchemist Brotherhood"
         ],
         "yaxis": "y"
        }
       ],
       "layout": {
        "barmode": "stack",
        "coloraxis": {
         "colorbar": {
          "title": {
           "text": "Score"
          }
         },
         "colorscale": [
          [
           0,
           "#ffba9d"
          ],
          [
           0.5,
           "#ff8659"
          ],
          [
           1,
           "#ff4301"
          ]
         ]
        },
        "height": 600,
        "legend": {
         "tracegroupgap": 0
        },
        "margin": {
         "t": 60
        },
        "plot_bgcolor": "white",
        "showlegend": true,
        "template": {
         "data": {
          "bar": [
           {
            "error_x": {
             "color": "#2a3f5f"
            },
            "error_y": {
             "color": "#2a3f5f"
            },
            "marker": {
             "line": {
              "color": "#E5ECF6",
              "width": 0.5
             },
             "pattern": {
              "fillmode": "overlay",
              "size": 10,
              "solidity": 0.2
             }
            },
            "type": "bar"
           }
          ],
          "barpolar": [
           {
            "marker": {
             "line": {
              "color": "#E5ECF6",
              "width": 0.5
             },
             "pattern": {
              "fillmode": "overlay",
              "size": 10,
              "solidity": 0.2
             }
            },
            "type": "barpolar"
           }
          ],
          "carpet": [
           {
            "aaxis": {
             "endlinecolor": "#2a3f5f",
             "gridcolor": "white",
             "linecolor": "white",
             "minorgridcolor": "white",
             "startlinecolor": "#2a3f5f"
            },
            "baxis": {
             "endlinecolor": "#2a3f5f",
             "gridcolor": "white",
             "linecolor": "white",
             "minorgridcolor": "white",
             "startlinecolor": "#2a3f5f"
            },
            "type": "carpet"
           }
          ],
          "choropleth": [
           {
            "colorbar": {
             "outlinewidth": 0,
             "ticks": ""
            },
            "type": "choropleth"
           }
          ],
          "contour": [
           {
            "colorbar": {
             "outlinewidth": 0,
             "ticks": ""
            },
            "colorscale": [
             [
              0,
              "#0d0887"
             ],
             [
              0.1111111111111111,
              "#46039f"
             ],
             [
              0.2222222222222222,
              "#7201a8"
             ],
             [
              0.3333333333333333,
              "#9c179e"
             ],
             [
              0.4444444444444444,
              "#bd3786"
             ],
             [
              0.5555555555555556,
              "#d8576b"
             ],
             [
              0.6666666666666666,
              "#ed7953"
             ],
             [
              0.7777777777777778,
              "#fb9f3a"
             ],
             [
              0.8888888888888888,
              "#fdca26"
             ],
             [
              1,
              "#f0f921"
             ]
            ],
            "type": "contour"
           }
          ],
          "contourcarpet": [
           {
            "colorbar": {
             "outlinewidth": 0,
             "ticks": ""
            },
            "type": "contourcarpet"
           }
          ],
          "heatmap": [
           {
            "colorbar": {
             "outlinewidth": 0,
             "ticks": ""
            },
            "colorscale": [
             [
              0,
              "#0d0887"
             ],
             [
              0.1111111111111111,
              "#46039f"
             ],
             [
              0.2222222222222222,
              "#7201a8"
             ],
             [
              0.3333333333333333,
              "#9c179e"
             ],
             [
              0.4444444444444444,
              "#bd3786"
             ],
             [
              0.5555555555555556,
              "#d8576b"
             ],
             [
              0.6666666666666666,
              "#ed7953"
             ],
             [
              0.7777777777777778,
              "#fb9f3a"
             ],
             [
              0.8888888888888888,
              "#fdca26"
             ],
             [
              1,
              "#f0f921"
             ]
            ],
            "type": "heatmap"
           }
          ],
          "heatmapgl": [
           {
            "colorbar": {
             "outlinewidth": 0,
             "ticks": ""
            },
            "colorscale": [
             [
              0,
              "#0d0887"
             ],
             [
              0.1111111111111111,
              "#46039f"
             ],
             [
              0.2222222222222222,
              "#7201a8"
             ],
             [
              0.3333333333333333,
              "#9c179e"
             ],
             [
              0.4444444444444444,
              "#bd3786"
             ],
             [
              0.5555555555555556,
              "#d8576b"
             ],
             [
              0.6666666666666666,
              "#ed7953"
             ],
             [
              0.7777777777777778,
              "#fb9f3a"
             ],
             [
              0.8888888888888888,
              "#fdca26"
             ],
             [
              1,
              "#f0f921"
             ]
            ],
            "type": "heatmapgl"
           }
          ],
          "histogram": [
           {
            "marker": {
             "pattern": {
              "fillmode": "overlay",
              "size": 10,
              "solidity": 0.2
             }
            },
            "type": "histogram"
           }
          ],
          "histogram2d": [
           {
            "colorbar": {
             "outlinewidth": 0,
             "ticks": ""
            },
            "colorscale": [
             [
              0,
              "#0d0887"
             ],
             [
              0.1111111111111111,
              "#46039f"
             ],
             [
              0.2222222222222222,
              "#7201a8"
             ],
             [
              0.3333333333333333,
              "#9c179e"
             ],
             [
              0.4444444444444444,
              "#bd3786"
             ],
             [
              0.5555555555555556,
              "#d8576b"
             ],
             [
              0.6666666666666666,
              "#ed7953"
             ],
             [
              0.7777777777777778,
              "#fb9f3a"
             ],
             [
              0.8888888888888888,
              "#fdca26"
             ],
             [
              1,
              "#f0f921"
             ]
            ],
            "type": "histogram2d"
           }
          ],
          "histogram2dcontour": [
           {
            "colorbar": {
             "outlinewidth": 0,
             "ticks": ""
            },
            "colorscale": [
             [
              0,
              "#0d0887"
             ],
             [
              0.1111111111111111,
              "#46039f"
             ],
             [
              0.2222222222222222,
              "#7201a8"
             ],
             [
              0.3333333333333333,
              "#9c179e"
             ],
             [
              0.4444444444444444,
              "#bd3786"
             ],
             [
              0.5555555555555556,
              "#d8576b"
             ],
             [
              0.6666666666666666,
              "#ed7953"
             ],
             [
              0.7777777777777778,
              "#fb9f3a"
             ],
             [
              0.8888888888888888,
              "#fdca26"
             ],
             [
              1,
              "#f0f921"
             ]
            ],
            "type": "histogram2dcontour"
           }
          ],
          "mesh3d": [
           {
            "colorbar": {
             "outlinewidth": 0,
             "ticks": ""
            },
            "type": "mesh3d"
           }
          ],
          "parcoords": [
           {
            "line": {
             "colorbar": {
              "outlinewidth": 0,
              "ticks": ""
             }
            },
            "type": "parcoords"
           }
          ],
          "pie": [
           {
            "automargin": true,
            "type": "pie"
           }
          ],
          "scatter": [
           {
            "fillpattern": {
             "fillmode": "overlay",
             "size": 10,
             "solidity": 0.2
            },
            "type": "scatter"
           }
          ],
          "scatter3d": [
           {
            "line": {
             "colorbar": {
              "outlinewidth": 0,
              "ticks": ""
             }
            },
            "marker": {
             "colorbar": {
              "outlinewidth": 0,
              "ticks": ""
             }
            },
            "type": "scatter3d"
           }
          ],
          "scattercarpet": [
           {
            "marker": {
             "colorbar": {
              "outlinewidth": 0,
              "ticks": ""
             }
            },
            "type": "scattercarpet"
           }
          ],
          "scattergeo": [
           {
            "marker": {
             "colorbar": {
              "outlinewidth": 0,
              "ticks": ""
             }
            },
            "type": "scattergeo"
           }
          ],
          "scattergl": [
           {
            "marker": {
             "colorbar": {
              "outlinewidth": 0,
              "ticks": ""
             }
            },
            "type": "scattergl"
           }
          ],
          "scattermapbox": [
           {
            "marker": {
             "colorbar": {
              "outlinewidth": 0,
              "ticks": ""
             }
            },
            "type": "scattermapbox"
           }
          ],
          "scatterpolar": [
           {
            "marker": {
             "colorbar": {
              "outlinewidth": 0,
              "ticks": ""
             }
            },
            "type": "scatterpolar"
           }
          ],
          "scatterpolargl": [
           {
            "marker": {
             "colorbar": {
              "outlinewidth": 0,
              "ticks": ""
             }
            },
            "type": "scatterpolargl"
           }
          ],
          "scatterternary": [
           {
            "marker": {
             "colorbar": {
              "outlinewidth": 0,
              "ticks": ""
             }
            },
            "type": "scatterternary"
           }
          ],
          "surface": [
           {
            "colorbar": {
             "outlinewidth": 0,
             "ticks": ""
            },
            "colorscale": [
             [
              0,
              "#0d0887"
             ],
             [
              0.1111111111111111,
              "#46039f"
             ],
             [
              0.2222222222222222,
              "#7201a8"
             ],
             [
              0.3333333333333333,
              "#9c179e"
             ],
             [
              0.4444444444444444,
              "#bd3786"
             ],
             [
              0.5555555555555556,
              "#d8576b"
             ],
             [
              0.6666666666666666,
              "#ed7953"
             ],
             [
              0.7777777777777778,
              "#fb9f3a"
             ],
             [
              0.8888888888888888,
              "#fdca26"
             ],
             [
              1,
              "#f0f921"
             ]
            ],
            "type": "surface"
           }
          ],
          "table": [
           {
            "cells": {
             "fill": {
              "color": "#EBF0F8"
             },
             "line": {
              "color": "white"
             }
            },
            "header": {
             "fill": {
              "color": "#C8D4E3"
             },
             "line": {
              "color": "white"
             }
            },
            "type": "table"
           }
          ]
         },
         "layout": {
          "annotationdefaults": {
           "arrowcolor": "#2a3f5f",
           "arrowhead": 0,
           "arrowwidth": 1
          },
          "autotypenumbers": "strict",
          "coloraxis": {
           "colorbar": {
            "outlinewidth": 0,
            "ticks": ""
           }
          },
          "colorscale": {
           "diverging": [
            [
             0,
             "#8e0152"
            ],
            [
             0.1,
             "#c51b7d"
            ],
            [
             0.2,
             "#de77ae"
            ],
            [
             0.3,
             "#f1b6da"
            ],
            [
             0.4,
             "#fde0ef"
            ],
            [
             0.5,
             "#f7f7f7"
            ],
            [
             0.6,
             "#e6f5d0"
            ],
            [
             0.7,
             "#b8e186"
            ],
            [
             0.8,
             "#7fbc41"
            ],
            [
             0.9,
             "#4d9221"
            ],
            [
             1,
             "#276419"
            ]
           ],
           "sequential": [
            [
             0,
             "#0d0887"
            ],
            [
             0.1111111111111111,
             "#46039f"
            ],
            [
             0.2222222222222222,
             "#7201a8"
            ],
            [
             0.3333333333333333,
             "#9c179e"
            ],
            [
             0.4444444444444444,
             "#bd3786"
            ],
            [
             0.5555555555555556,
             "#d8576b"
            ],
            [
             0.6666666666666666,
             "#ed7953"
            ],
            [
             0.7777777777777778,
             "#fb9f3a"
            ],
            [
             0.8888888888888888,
             "#fdca26"
            ],
            [
             1,
             "#f0f921"
            ]
           ],
           "sequentialminus": [
            [
             0,
             "#0d0887"
            ],
            [
             0.1111111111111111,
             "#46039f"
            ],
            [
             0.2222222222222222,
             "#7201a8"
            ],
            [
             0.3333333333333333,
             "#9c179e"
            ],
            [
             0.4444444444444444,
             "#bd3786"
            ],
            [
             0.5555555555555556,
             "#d8576b"
            ],
            [
             0.6666666666666666,
             "#ed7953"
            ],
            [
             0.7777777777777778,
             "#fb9f3a"
            ],
            [
             0.8888888888888888,
             "#fdca26"
            ],
            [
             1,
             "#f0f921"
            ]
           ]
          },
          "colorway": [
           "#636efa",
           "#EF553B",
           "#00cc96",
           "#ab63fa",
           "#FFA15A",
           "#19d3f3",
           "#FF6692",
           "#B6E880",
           "#FF97FF",
           "#FECB52"
          ],
          "font": {
           "color": "#2a3f5f"
          },
          "geo": {
           "bgcolor": "white",
           "lakecolor": "white",
           "landcolor": "#E5ECF6",
           "showlakes": true,
           "showland": true,
           "subunitcolor": "white"
          },
          "hoverlabel": {
           "align": "left"
          },
          "hovermode": "closest",
          "mapbox": {
           "style": "light"
          },
          "paper_bgcolor": "white",
          "plot_bgcolor": "#E5ECF6",
          "polar": {
           "angularaxis": {
            "gridcolor": "white",
            "linecolor": "white",
            "ticks": ""
           },
           "bgcolor": "#E5ECF6",
           "radialaxis": {
            "gridcolor": "white",
            "linecolor": "white",
            "ticks": ""
           }
          },
          "scene": {
           "xaxis": {
            "backgroundcolor": "#E5ECF6",
            "gridcolor": "white",
            "gridwidth": 2,
            "linecolor": "white",
            "showbackground": true,
            "ticks": "",
            "zerolinecolor": "white"
           },
           "yaxis": {
            "backgroundcolor": "#E5ECF6",
            "gridcolor": "white",
            "gridwidth": 2,
            "linecolor": "white",
            "showbackground": true,
            "ticks": "",
            "zerolinecolor": "white"
           },
           "zaxis": {
            "backgroundcolor": "#E5ECF6",
            "gridcolor": "white",
            "gridwidth": 2,
            "linecolor": "white",
            "showbackground": true,
            "ticks": "",
            "zerolinecolor": "white"
           }
          },
          "shapedefaults": {
           "line": {
            "color": "#2a3f5f"
           }
          },
          "ternary": {
           "aaxis": {
            "gridcolor": "white",
            "linecolor": "white",
            "ticks": ""
           },
           "baxis": {
            "gridcolor": "white",
            "linecolor": "white",
            "ticks": ""
           },
           "bgcolor": "#E5ECF6",
           "caxis": {
            "gridcolor": "white",
            "linecolor": "white",
            "ticks": ""
           }
          },
          "title": {
           "x": 0.05
          },
          "xaxis": {
           "automargin": true,
           "gridcolor": "white",
           "linecolor": "white",
           "ticks": "",
           "title": {
            "standoff": 15
           },
           "zerolinecolor": "white",
           "zerolinewidth": 2
          },
          "yaxis": {
           "automargin": true,
           "gridcolor": "white",
           "linecolor": "white",
           "ticks": "",
           "title": {
            "standoff": 15
           },
           "zerolinecolor": "white",
           "zerolinewidth": 2
          }
         }
        },
        "title": {
         "text": "Top rated anime movies across all genre"
        },
        "xaxis": {
         "anchor": "y",
         "domain": [
          0,
          1
         ],
         "range": [
          8.5,
          9.3
         ],
         "showticklabels": true,
         "title": {
          "text": "Score"
         }
        },
        "yaxis": {
         "anchor": "x",
         "domain": [
          0,
          1
         ],
         "showticklabels": false,
         "title": {
          "text": ""
         }
        }
       }
      }
     },
     "metadata": {},
     "output_type": "display_data"
    }
   ],
   "source": [
    "import plotly.express as px\n",
    "\n",
    "# Sort the DataFrame by 'Score' column in descending order\n",
    "top_10_score_grouped = top_10_score_grouped.sort_values(by='Score', ascending=True)\n",
    "\n",
    "# Define your custom color scale\n",
    "custom_color_scale = [\n",
    "    [0.0, '#ffba9d'],\n",
    "    [0.5, '#ff8659'],\n",
    "    [1.0, '#ff4301']\n",
    "]\n",
    "\n",
    "fig = px.bar(\n",
    "    top_10_score_grouped,\n",
    "    x=\"Score\",\n",
    "    y=\"Title\",\n",
    "    color=\"Score\",\n",
    "    text=\"Title: \" +top_10_score_grouped[\"Title\"] + \"<br>Score: \" + top_10_score_grouped[\"Score\"].astype(str),  # Include both Title and Score in text\n",
    "    hover_data={'Title':False, \n",
    "                'Score':False, \n",
    "                'Genre':True,},\n",
    "    orientation=\"h\" , # Set orientation to horizontal\n",
    "    color_continuous_scale=custom_color_scale  \n",
    ")\n",
    "\n",
    "fig.update_layout(\n",
    "    title=\"Top rated anime movies across all genre\",\n",
    "    xaxis_title=\"Score\",  # Remove x-axis title\n",
    "    yaxis_title=\"\",  # Remove y-axis title\n",
    "    xaxis_showticklabels=True,  # Hide x-axis tick labels\n",
    "    yaxis_showticklabels=False,  # Hide y-axis tick labels\n",
    "    showlegend=True,\n",
    "    plot_bgcolor='white',   barmode='stack',  # Set bar mode to stack\n",
    "    height=600,  # Increase the height of the plot \n",
    "    xaxis=dict(range=[8.5, 9.3])  \n",
    ")\n",
    "#save the plot\n",
    "fig.write_html('../../data/plots/top_rated_anime_all_genre.html')\n",
    "\n",
    "fig.show()"
   ]
  }
 ],
 "metadata": {
  "kernelspec": {
   "display_name": "dsan6600",
   "language": "python",
   "name": "python3"
  },
  "language_info": {
   "codemirror_mode": {
    "name": "ipython",
    "version": 3
   },
   "file_extension": ".py",
   "mimetype": "text/x-python",
   "name": "python",
   "nbconvert_exporter": "python",
   "pygments_lexer": "ipython3",
   "version": "3.10.8"
  }
 },
 "nbformat": 4,
 "nbformat_minor": 2
}
