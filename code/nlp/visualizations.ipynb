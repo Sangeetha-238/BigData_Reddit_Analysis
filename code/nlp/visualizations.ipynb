{
 "cells": [
  {
   "cell_type": "raw",
   "metadata": {},
   "source": [
    "---\n",
    "format:\n",
    "    html:\n",
    "        self-contained: true\n",
    "        embed-resources: true\n",
    "        page-layout: full\n",
    "        theme: lumen\n",
    "---"
   ]
  },
  {
   "cell_type": "markdown",
   "metadata": {},
   "source": [
    "### Finding the most used words in the data for Movie and Anime Subreddits"
   ]
  },
  {
   "cell_type": "code",
   "execution_count": 16,
   "metadata": {},
   "outputs": [],
   "source": [
    "import plotly.io as pio\n",
    "pio.renderers.default = \"plotly_mimetype+notebook_connected\""
   ]
  },
  {
   "cell_type": "code",
   "execution_count": 17,
   "metadata": {},
   "outputs": [
    {
     "data": {
      "text/html": [
       "        <script type=\"text/javascript\">\n",
       "        window.PlotlyConfig = {MathJaxConfig: 'local'};\n",
       "        if (window.MathJax && window.MathJax.Hub && window.MathJax.Hub.Config) {window.MathJax.Hub.Config({SVG: {font: \"STIX-Web\"}});}\n",
       "        if (typeof require !== 'undefined') {\n",
       "        require.undef(\"plotly\");\n",
       "        requirejs.config({\n",
       "            paths: {\n",
       "                'plotly': ['https://cdn.plot.ly/plotly-2.12.1.min']\n",
       "            }\n",
       "        });\n",
       "        require(['plotly'], function(Plotly) {\n",
       "            window._Plotly = Plotly;\n",
       "        });\n",
       "        }\n",
       "        </script>\n",
       "        "
      ]
     },
     "metadata": {},
     "output_type": "display_data"
    },
    {
     "data": {
      "application/vnd.plotly.v1+json": {
       "config": {
        "plotlyServerURL": "https://plot.ly"
       },
       "data": [
        {
         "cells": {
          "values": [
           [
            "movie",
            "like",
            "look",
            "watch",
            "im",
            "film",
            "good",
            "see",
            "love",
            "something"
           ],
           [
            72187,
            27869,
            17926,
            17677,
            15842,
            14465,
            13604,
            10841,
            9366,
            8858
           ]
          ]
         },
         "header": {
          "fill": {
           "color": "#FF4301"
          },
          "font": {
           "color": "white",
           "size": 12
          },
          "values": [
           "Most Occured Words",
           "Word Count"
          ]
         },
         "type": "table"
        }
       ],
       "layout": {
        "height": 300,
        "margin": {
         "b": 0,
         "l": 0,
         "r": 0,
         "t": 50
        },
        "paper_bgcolor": "White",
        "template": {
         "data": {
          "bar": [
           {
            "error_x": {
             "color": "#2a3f5f"
            },
            "error_y": {
             "color": "#2a3f5f"
            },
            "marker": {
             "line": {
              "color": "#E5ECF6",
              "width": 0.5
             },
             "pattern": {
              "fillmode": "overlay",
              "size": 10,
              "solidity": 0.2
             }
            },
            "type": "bar"
           }
          ],
          "barpolar": [
           {
            "marker": {
             "line": {
              "color": "#E5ECF6",
              "width": 0.5
             },
             "pattern": {
              "fillmode": "overlay",
              "size": 10,
              "solidity": 0.2
             }
            },
            "type": "barpolar"
           }
          ],
          "carpet": [
           {
            "aaxis": {
             "endlinecolor": "#2a3f5f",
             "gridcolor": "white",
             "linecolor": "white",
             "minorgridcolor": "white",
             "startlinecolor": "#2a3f5f"
            },
            "baxis": {
             "endlinecolor": "#2a3f5f",
             "gridcolor": "white",
             "linecolor": "white",
             "minorgridcolor": "white",
             "startlinecolor": "#2a3f5f"
            },
            "type": "carpet"
           }
          ],
          "choropleth": [
           {
            "colorbar": {
             "outlinewidth": 0,
             "ticks": ""
            },
            "type": "choropleth"
           }
          ],
          "contour": [
           {
            "colorbar": {
             "outlinewidth": 0,
             "ticks": ""
            },
            "colorscale": [
             [
              0,
              "#0d0887"
             ],
             [
              0.1111111111111111,
              "#46039f"
             ],
             [
              0.2222222222222222,
              "#7201a8"
             ],
             [
              0.3333333333333333,
              "#9c179e"
             ],
             [
              0.4444444444444444,
              "#bd3786"
             ],
             [
              0.5555555555555556,
              "#d8576b"
             ],
             [
              0.6666666666666666,
              "#ed7953"
             ],
             [
              0.7777777777777778,
              "#fb9f3a"
             ],
             [
              0.8888888888888888,
              "#fdca26"
             ],
             [
              1,
              "#f0f921"
             ]
            ],
            "type": "contour"
           }
          ],
          "contourcarpet": [
           {
            "colorbar": {
             "outlinewidth": 0,
             "ticks": ""
            },
            "type": "contourcarpet"
           }
          ],
          "heatmap": [
           {
            "colorbar": {
             "outlinewidth": 0,
             "ticks": ""
            },
            "colorscale": [
             [
              0,
              "#0d0887"
             ],
             [
              0.1111111111111111,
              "#46039f"
             ],
             [
              0.2222222222222222,
              "#7201a8"
             ],
             [
              0.3333333333333333,
              "#9c179e"
             ],
             [
              0.4444444444444444,
              "#bd3786"
             ],
             [
              0.5555555555555556,
              "#d8576b"
             ],
             [
              0.6666666666666666,
              "#ed7953"
             ],
             [
              0.7777777777777778,
              "#fb9f3a"
             ],
             [
              0.8888888888888888,
              "#fdca26"
             ],
             [
              1,
              "#f0f921"
             ]
            ],
            "type": "heatmap"
           }
          ],
          "heatmapgl": [
           {
            "colorbar": {
             "outlinewidth": 0,
             "ticks": ""
            },
            "colorscale": [
             [
              0,
              "#0d0887"
             ],
             [
              0.1111111111111111,
              "#46039f"
             ],
             [
              0.2222222222222222,
              "#7201a8"
             ],
             [
              0.3333333333333333,
              "#9c179e"
             ],
             [
              0.4444444444444444,
              "#bd3786"
             ],
             [
              0.5555555555555556,
              "#d8576b"
             ],
             [
              0.6666666666666666,
              "#ed7953"
             ],
             [
              0.7777777777777778,
              "#fb9f3a"
             ],
             [
              0.8888888888888888,
              "#fdca26"
             ],
             [
              1,
              "#f0f921"
             ]
            ],
            "type": "heatmapgl"
           }
          ],
          "histogram": [
           {
            "marker": {
             "pattern": {
              "fillmode": "overlay",
              "size": 10,
              "solidity": 0.2
             }
            },
            "type": "histogram"
           }
          ],
          "histogram2d": [
           {
            "colorbar": {
             "outlinewidth": 0,
             "ticks": ""
            },
            "colorscale": [
             [
              0,
              "#0d0887"
             ],
             [
              0.1111111111111111,
              "#46039f"
             ],
             [
              0.2222222222222222,
              "#7201a8"
             ],
             [
              0.3333333333333333,
              "#9c179e"
             ],
             [
              0.4444444444444444,
              "#bd3786"
             ],
             [
              0.5555555555555556,
              "#d8576b"
             ],
             [
              0.6666666666666666,
              "#ed7953"
             ],
             [
              0.7777777777777778,
              "#fb9f3a"
             ],
             [
              0.8888888888888888,
              "#fdca26"
             ],
             [
              1,
              "#f0f921"
             ]
            ],
            "type": "histogram2d"
           }
          ],
          "histogram2dcontour": [
           {
            "colorbar": {
             "outlinewidth": 0,
             "ticks": ""
            },
            "colorscale": [
             [
              0,
              "#0d0887"
             ],
             [
              0.1111111111111111,
              "#46039f"
             ],
             [
              0.2222222222222222,
              "#7201a8"
             ],
             [
              0.3333333333333333,
              "#9c179e"
             ],
             [
              0.4444444444444444,
              "#bd3786"
             ],
             [
              0.5555555555555556,
              "#d8576b"
             ],
             [
              0.6666666666666666,
              "#ed7953"
             ],
             [
              0.7777777777777778,
              "#fb9f3a"
             ],
             [
              0.8888888888888888,
              "#fdca26"
             ],
             [
              1,
              "#f0f921"
             ]
            ],
            "type": "histogram2dcontour"
           }
          ],
          "mesh3d": [
           {
            "colorbar": {
             "outlinewidth": 0,
             "ticks": ""
            },
            "type": "mesh3d"
           }
          ],
          "parcoords": [
           {
            "line": {
             "colorbar": {
              "outlinewidth": 0,
              "ticks": ""
             }
            },
            "type": "parcoords"
           }
          ],
          "pie": [
           {
            "automargin": true,
            "type": "pie"
           }
          ],
          "scatter": [
           {
            "fillpattern": {
             "fillmode": "overlay",
             "size": 10,
             "solidity": 0.2
            },
            "type": "scatter"
           }
          ],
          "scatter3d": [
           {
            "line": {
             "colorbar": {
              "outlinewidth": 0,
              "ticks": ""
             }
            },
            "marker": {
             "colorbar": {
              "outlinewidth": 0,
              "ticks": ""
             }
            },
            "type": "scatter3d"
           }
          ],
          "scattercarpet": [
           {
            "marker": {
             "colorbar": {
              "outlinewidth": 0,
              "ticks": ""
             }
            },
            "type": "scattercarpet"
           }
          ],
          "scattergeo": [
           {
            "marker": {
             "colorbar": {
              "outlinewidth": 0,
              "ticks": ""
             }
            },
            "type": "scattergeo"
           }
          ],
          "scattergl": [
           {
            "marker": {
             "colorbar": {
              "outlinewidth": 0,
              "ticks": ""
             }
            },
            "type": "scattergl"
           }
          ],
          "scattermapbox": [
           {
            "marker": {
             "colorbar": {
              "outlinewidth": 0,
              "ticks": ""
             }
            },
            "type": "scattermapbox"
           }
          ],
          "scatterpolar": [
           {
            "marker": {
             "colorbar": {
              "outlinewidth": 0,
              "ticks": ""
             }
            },
            "type": "scatterpolar"
           }
          ],
          "scatterpolargl": [
           {
            "marker": {
             "colorbar": {
              "outlinewidth": 0,
              "ticks": ""
             }
            },
            "type": "scatterpolargl"
           }
          ],
          "scatterternary": [
           {
            "marker": {
             "colorbar": {
              "outlinewidth": 0,
              "ticks": ""
             }
            },
            "type": "scatterternary"
           }
          ],
          "surface": [
           {
            "colorbar": {
             "outlinewidth": 0,
             "ticks": ""
            },
            "colorscale": [
             [
              0,
              "#0d0887"
             ],
             [
              0.1111111111111111,
              "#46039f"
             ],
             [
              0.2222222222222222,
              "#7201a8"
             ],
             [
              0.3333333333333333,
              "#9c179e"
             ],
             [
              0.4444444444444444,
              "#bd3786"
             ],
             [
              0.5555555555555556,
              "#d8576b"
             ],
             [
              0.6666666666666666,
              "#ed7953"
             ],
             [
              0.7777777777777778,
              "#fb9f3a"
             ],
             [
              0.8888888888888888,
              "#fdca26"
             ],
             [
              1,
              "#f0f921"
             ]
            ],
            "type": "surface"
           }
          ],
          "table": [
           {
            "cells": {
             "fill": {
              "color": "#EBF0F8"
             },
             "line": {
              "color": "white"
             }
            },
            "header": {
             "fill": {
              "color": "#C8D4E3"
             },
             "line": {
              "color": "white"
             }
            },
            "type": "table"
           }
          ]
         },
         "layout": {
          "annotationdefaults": {
           "arrowcolor": "#2a3f5f",
           "arrowhead": 0,
           "arrowwidth": 1
          },
          "autotypenumbers": "strict",
          "coloraxis": {
           "colorbar": {
            "outlinewidth": 0,
            "ticks": ""
           }
          },
          "colorscale": {
           "diverging": [
            [
             0,
             "#8e0152"
            ],
            [
             0.1,
             "#c51b7d"
            ],
            [
             0.2,
             "#de77ae"
            ],
            [
             0.3,
             "#f1b6da"
            ],
            [
             0.4,
             "#fde0ef"
            ],
            [
             0.5,
             "#f7f7f7"
            ],
            [
             0.6,
             "#e6f5d0"
            ],
            [
             0.7,
             "#b8e186"
            ],
            [
             0.8,
             "#7fbc41"
            ],
            [
             0.9,
             "#4d9221"
            ],
            [
             1,
             "#276419"
            ]
           ],
           "sequential": [
            [
             0,
             "#0d0887"
            ],
            [
             0.1111111111111111,
             "#46039f"
            ],
            [
             0.2222222222222222,
             "#7201a8"
            ],
            [
             0.3333333333333333,
             "#9c179e"
            ],
            [
             0.4444444444444444,
             "#bd3786"
            ],
            [
             0.5555555555555556,
             "#d8576b"
            ],
            [
             0.6666666666666666,
             "#ed7953"
            ],
            [
             0.7777777777777778,
             "#fb9f3a"
            ],
            [
             0.8888888888888888,
             "#fdca26"
            ],
            [
             1,
             "#f0f921"
            ]
           ],
           "sequentialminus": [
            [
             0,
             "#0d0887"
            ],
            [
             0.1111111111111111,
             "#46039f"
            ],
            [
             0.2222222222222222,
             "#7201a8"
            ],
            [
             0.3333333333333333,
             "#9c179e"
            ],
            [
             0.4444444444444444,
             "#bd3786"
            ],
            [
             0.5555555555555556,
             "#d8576b"
            ],
            [
             0.6666666666666666,
             "#ed7953"
            ],
            [
             0.7777777777777778,
             "#fb9f3a"
            ],
            [
             0.8888888888888888,
             "#fdca26"
            ],
            [
             1,
             "#f0f921"
            ]
           ]
          },
          "colorway": [
           "#636efa",
           "#EF553B",
           "#00cc96",
           "#ab63fa",
           "#FFA15A",
           "#19d3f3",
           "#FF6692",
           "#B6E880",
           "#FF97FF",
           "#FECB52"
          ],
          "font": {
           "color": "#2a3f5f"
          },
          "geo": {
           "bgcolor": "white",
           "lakecolor": "white",
           "landcolor": "#E5ECF6",
           "showlakes": true,
           "showland": true,
           "subunitcolor": "white"
          },
          "hoverlabel": {
           "align": "left"
          },
          "hovermode": "closest",
          "mapbox": {
           "style": "light"
          },
          "paper_bgcolor": "white",
          "plot_bgcolor": "#E5ECF6",
          "polar": {
           "angularaxis": {
            "gridcolor": "white",
            "linecolor": "white",
            "ticks": ""
           },
           "bgcolor": "#E5ECF6",
           "radialaxis": {
            "gridcolor": "white",
            "linecolor": "white",
            "ticks": ""
           }
          },
          "scene": {
           "xaxis": {
            "backgroundcolor": "#E5ECF6",
            "gridcolor": "white",
            "gridwidth": 2,
            "linecolor": "white",
            "showbackground": true,
            "ticks": "",
            "zerolinecolor": "white"
           },
           "yaxis": {
            "backgroundcolor": "#E5ECF6",
            "gridcolor": "white",
            "gridwidth": 2,
            "linecolor": "white",
            "showbackground": true,
            "ticks": "",
            "zerolinecolor": "white"
           },
           "zaxis": {
            "backgroundcolor": "#E5ECF6",
            "gridcolor": "white",
            "gridwidth": 2,
            "linecolor": "white",
            "showbackground": true,
            "ticks": "",
            "zerolinecolor": "white"
           }
          },
          "shapedefaults": {
           "line": {
            "color": "#2a3f5f"
           }
          },
          "ternary": {
           "aaxis": {
            "gridcolor": "white",
            "linecolor": "white",
            "ticks": ""
           },
           "baxis": {
            "gridcolor": "white",
            "linecolor": "white",
            "ticks": ""
           },
           "bgcolor": "#E5ECF6",
           "caxis": {
            "gridcolor": "white",
            "linecolor": "white",
            "ticks": ""
           }
          },
          "title": {
           "x": 0.05
          },
          "xaxis": {
           "automargin": true,
           "gridcolor": "white",
           "linecolor": "white",
           "ticks": "",
           "title": {
            "standoff": 15
           },
           "zerolinecolor": "white",
           "zerolinewidth": 2
          },
          "yaxis": {
           "automargin": true,
           "gridcolor": "white",
           "linecolor": "white",
           "ticks": "",
           "title": {
            "standoff": 15
           },
           "zerolinecolor": "white",
           "zerolinewidth": 2
          }
         }
        },
        "title": {
         "text": "Word Count for Movie Reddit Submission"
        },
        "width": 800
       }
      },
      "text/html": [
       "<div>                            <div id=\"94119e49-2df0-4c5a-9355-bfd9f9435926\" class=\"plotly-graph-div\" style=\"height:300px; width:800px;\"></div>            <script type=\"text/javascript\">                require([\"plotly\"], function(Plotly) {                    window.PLOTLYENV=window.PLOTLYENV || {};                                    if (document.getElementById(\"94119e49-2df0-4c5a-9355-bfd9f9435926\")) {                    Plotly.newPlot(                        \"94119e49-2df0-4c5a-9355-bfd9f9435926\",                        [{\"cells\":{\"values\":[[\"movie\",\"like\",\"look\",\"watch\",\"im\",\"film\",\"good\",\"see\",\"love\",\"something\"],[72187,27869,17926,17677,15842,14465,13604,10841,9366,8858]]},\"header\":{\"fill\":{\"color\":\"#FF4301\"},\"font\":{\"color\":\"white\",\"size\":12},\"values\":[\"Most Occured Words\",\"Word Count\"]},\"type\":\"table\"}],                        {\"template\":{\"data\":{\"histogram2dcontour\":[{\"type\":\"histogram2dcontour\",\"colorbar\":{\"outlinewidth\":0,\"ticks\":\"\"},\"colorscale\":[[0.0,\"#0d0887\"],[0.1111111111111111,\"#46039f\"],[0.2222222222222222,\"#7201a8\"],[0.3333333333333333,\"#9c179e\"],[0.4444444444444444,\"#bd3786\"],[0.5555555555555556,\"#d8576b\"],[0.6666666666666666,\"#ed7953\"],[0.7777777777777778,\"#fb9f3a\"],[0.8888888888888888,\"#fdca26\"],[1.0,\"#f0f921\"]]}],\"choropleth\":[{\"type\":\"choropleth\",\"colorbar\":{\"outlinewidth\":0,\"ticks\":\"\"}}],\"histogram2d\":[{\"type\":\"histogram2d\",\"colorbar\":{\"outlinewidth\":0,\"ticks\":\"\"},\"colorscale\":[[0.0,\"#0d0887\"],[0.1111111111111111,\"#46039f\"],[0.2222222222222222,\"#7201a8\"],[0.3333333333333333,\"#9c179e\"],[0.4444444444444444,\"#bd3786\"],[0.5555555555555556,\"#d8576b\"],[0.6666666666666666,\"#ed7953\"],[0.7777777777777778,\"#fb9f3a\"],[0.8888888888888888,\"#fdca26\"],[1.0,\"#f0f921\"]]}],\"heatmap\":[{\"type\":\"heatmap\",\"colorbar\":{\"outlinewidth\":0,\"ticks\":\"\"},\"colorscale\":[[0.0,\"#0d0887\"],[0.1111111111111111,\"#46039f\"],[0.2222222222222222,\"#7201a8\"],[0.3333333333333333,\"#9c179e\"],[0.4444444444444444,\"#bd3786\"],[0.5555555555555556,\"#d8576b\"],[0.6666666666666666,\"#ed7953\"],[0.7777777777777778,\"#fb9f3a\"],[0.8888888888888888,\"#fdca26\"],[1.0,\"#f0f921\"]]}],\"heatmapgl\":[{\"type\":\"heatmapgl\",\"colorbar\":{\"outlinewidth\":0,\"ticks\":\"\"},\"colorscale\":[[0.0,\"#0d0887\"],[0.1111111111111111,\"#46039f\"],[0.2222222222222222,\"#7201a8\"],[0.3333333333333333,\"#9c179e\"],[0.4444444444444444,\"#bd3786\"],[0.5555555555555556,\"#d8576b\"],[0.6666666666666666,\"#ed7953\"],[0.7777777777777778,\"#fb9f3a\"],[0.8888888888888888,\"#fdca26\"],[1.0,\"#f0f921\"]]}],\"contourcarpet\":[{\"type\":\"contourcarpet\",\"colorbar\":{\"outlinewidth\":0,\"ticks\":\"\"}}],\"contour\":[{\"type\":\"contour\",\"colorbar\":{\"outlinewidth\":0,\"ticks\":\"\"},\"colorscale\":[[0.0,\"#0d0887\"],[0.1111111111111111,\"#46039f\"],[0.2222222222222222,\"#7201a8\"],[0.3333333333333333,\"#9c179e\"],[0.4444444444444444,\"#bd3786\"],[0.5555555555555556,\"#d8576b\"],[0.6666666666666666,\"#ed7953\"],[0.7777777777777778,\"#fb9f3a\"],[0.8888888888888888,\"#fdca26\"],[1.0,\"#f0f921\"]]}],\"surface\":[{\"type\":\"surface\",\"colorbar\":{\"outlinewidth\":0,\"ticks\":\"\"},\"colorscale\":[[0.0,\"#0d0887\"],[0.1111111111111111,\"#46039f\"],[0.2222222222222222,\"#7201a8\"],[0.3333333333333333,\"#9c179e\"],[0.4444444444444444,\"#bd3786\"],[0.5555555555555556,\"#d8576b\"],[0.6666666666666666,\"#ed7953\"],[0.7777777777777778,\"#fb9f3a\"],[0.8888888888888888,\"#fdca26\"],[1.0,\"#f0f921\"]]}],\"mesh3d\":[{\"type\":\"mesh3d\",\"colorbar\":{\"outlinewidth\":0,\"ticks\":\"\"}}],\"scatter\":[{\"fillpattern\":{\"fillmode\":\"overlay\",\"size\":10,\"solidity\":0.2},\"type\":\"scatter\"}],\"parcoords\":[{\"type\":\"parcoords\",\"line\":{\"colorbar\":{\"outlinewidth\":0,\"ticks\":\"\"}}}],\"scatterpolargl\":[{\"type\":\"scatterpolargl\",\"marker\":{\"colorbar\":{\"outlinewidth\":0,\"ticks\":\"\"}}}],\"bar\":[{\"error_x\":{\"color\":\"#2a3f5f\"},\"error_y\":{\"color\":\"#2a3f5f\"},\"marker\":{\"line\":{\"color\":\"#E5ECF6\",\"width\":0.5},\"pattern\":{\"fillmode\":\"overlay\",\"size\":10,\"solidity\":0.2}},\"type\":\"bar\"}],\"scattergeo\":[{\"type\":\"scattergeo\",\"marker\":{\"colorbar\":{\"outlinewidth\":0,\"ticks\":\"\"}}}],\"scatterpolar\":[{\"type\":\"scatterpolar\",\"marker\":{\"colorbar\":{\"outlinewidth\":0,\"ticks\":\"\"}}}],\"histogram\":[{\"marker\":{\"pattern\":{\"fillmode\":\"overlay\",\"size\":10,\"solidity\":0.2}},\"type\":\"histogram\"}],\"scattergl\":[{\"type\":\"scattergl\",\"marker\":{\"colorbar\":{\"outlinewidth\":0,\"ticks\":\"\"}}}],\"scatter3d\":[{\"type\":\"scatter3d\",\"line\":{\"colorbar\":{\"outlinewidth\":0,\"ticks\":\"\"}},\"marker\":{\"colorbar\":{\"outlinewidth\":0,\"ticks\":\"\"}}}],\"scattermapbox\":[{\"type\":\"scattermapbox\",\"marker\":{\"colorbar\":{\"outlinewidth\":0,\"ticks\":\"\"}}}],\"scatterternary\":[{\"type\":\"scatterternary\",\"marker\":{\"colorbar\":{\"outlinewidth\":0,\"ticks\":\"\"}}}],\"scattercarpet\":[{\"type\":\"scattercarpet\",\"marker\":{\"colorbar\":{\"outlinewidth\":0,\"ticks\":\"\"}}}],\"carpet\":[{\"aaxis\":{\"endlinecolor\":\"#2a3f5f\",\"gridcolor\":\"white\",\"linecolor\":\"white\",\"minorgridcolor\":\"white\",\"startlinecolor\":\"#2a3f5f\"},\"baxis\":{\"endlinecolor\":\"#2a3f5f\",\"gridcolor\":\"white\",\"linecolor\":\"white\",\"minorgridcolor\":\"white\",\"startlinecolor\":\"#2a3f5f\"},\"type\":\"carpet\"}],\"table\":[{\"cells\":{\"fill\":{\"color\":\"#EBF0F8\"},\"line\":{\"color\":\"white\"}},\"header\":{\"fill\":{\"color\":\"#C8D4E3\"},\"line\":{\"color\":\"white\"}},\"type\":\"table\"}],\"barpolar\":[{\"marker\":{\"line\":{\"color\":\"#E5ECF6\",\"width\":0.5},\"pattern\":{\"fillmode\":\"overlay\",\"size\":10,\"solidity\":0.2}},\"type\":\"barpolar\"}],\"pie\":[{\"automargin\":true,\"type\":\"pie\"}]},\"layout\":{\"autotypenumbers\":\"strict\",\"colorway\":[\"#636efa\",\"#EF553B\",\"#00cc96\",\"#ab63fa\",\"#FFA15A\",\"#19d3f3\",\"#FF6692\",\"#B6E880\",\"#FF97FF\",\"#FECB52\"],\"font\":{\"color\":\"#2a3f5f\"},\"hovermode\":\"closest\",\"hoverlabel\":{\"align\":\"left\"},\"paper_bgcolor\":\"white\",\"plot_bgcolor\":\"#E5ECF6\",\"polar\":{\"bgcolor\":\"#E5ECF6\",\"angularaxis\":{\"gridcolor\":\"white\",\"linecolor\":\"white\",\"ticks\":\"\"},\"radialaxis\":{\"gridcolor\":\"white\",\"linecolor\":\"white\",\"ticks\":\"\"}},\"ternary\":{\"bgcolor\":\"#E5ECF6\",\"aaxis\":{\"gridcolor\":\"white\",\"linecolor\":\"white\",\"ticks\":\"\"},\"baxis\":{\"gridcolor\":\"white\",\"linecolor\":\"white\",\"ticks\":\"\"},\"caxis\":{\"gridcolor\":\"white\",\"linecolor\":\"white\",\"ticks\":\"\"}},\"coloraxis\":{\"colorbar\":{\"outlinewidth\":0,\"ticks\":\"\"}},\"colorscale\":{\"sequential\":[[0.0,\"#0d0887\"],[0.1111111111111111,\"#46039f\"],[0.2222222222222222,\"#7201a8\"],[0.3333333333333333,\"#9c179e\"],[0.4444444444444444,\"#bd3786\"],[0.5555555555555556,\"#d8576b\"],[0.6666666666666666,\"#ed7953\"],[0.7777777777777778,\"#fb9f3a\"],[0.8888888888888888,\"#fdca26\"],[1.0,\"#f0f921\"]],\"sequentialminus\":[[0.0,\"#0d0887\"],[0.1111111111111111,\"#46039f\"],[0.2222222222222222,\"#7201a8\"],[0.3333333333333333,\"#9c179e\"],[0.4444444444444444,\"#bd3786\"],[0.5555555555555556,\"#d8576b\"],[0.6666666666666666,\"#ed7953\"],[0.7777777777777778,\"#fb9f3a\"],[0.8888888888888888,\"#fdca26\"],[1.0,\"#f0f921\"]],\"diverging\":[[0,\"#8e0152\"],[0.1,\"#c51b7d\"],[0.2,\"#de77ae\"],[0.3,\"#f1b6da\"],[0.4,\"#fde0ef\"],[0.5,\"#f7f7f7\"],[0.6,\"#e6f5d0\"],[0.7,\"#b8e186\"],[0.8,\"#7fbc41\"],[0.9,\"#4d9221\"],[1,\"#276419\"]]},\"xaxis\":{\"gridcolor\":\"white\",\"linecolor\":\"white\",\"ticks\":\"\",\"title\":{\"standoff\":15},\"zerolinecolor\":\"white\",\"automargin\":true,\"zerolinewidth\":2},\"yaxis\":{\"gridcolor\":\"white\",\"linecolor\":\"white\",\"ticks\":\"\",\"title\":{\"standoff\":15},\"zerolinecolor\":\"white\",\"automargin\":true,\"zerolinewidth\":2},\"scene\":{\"xaxis\":{\"backgroundcolor\":\"#E5ECF6\",\"gridcolor\":\"white\",\"linecolor\":\"white\",\"showbackground\":true,\"ticks\":\"\",\"zerolinecolor\":\"white\",\"gridwidth\":2},\"yaxis\":{\"backgroundcolor\":\"#E5ECF6\",\"gridcolor\":\"white\",\"linecolor\":\"white\",\"showbackground\":true,\"ticks\":\"\",\"zerolinecolor\":\"white\",\"gridwidth\":2},\"zaxis\":{\"backgroundcolor\":\"#E5ECF6\",\"gridcolor\":\"white\",\"linecolor\":\"white\",\"showbackground\":true,\"ticks\":\"\",\"zerolinecolor\":\"white\",\"gridwidth\":2}},\"shapedefaults\":{\"line\":{\"color\":\"#2a3f5f\"}},\"annotationdefaults\":{\"arrowcolor\":\"#2a3f5f\",\"arrowhead\":0,\"arrowwidth\":1},\"geo\":{\"bgcolor\":\"white\",\"landcolor\":\"#E5ECF6\",\"subunitcolor\":\"white\",\"showland\":true,\"showlakes\":true,\"lakecolor\":\"white\"},\"title\":{\"x\":0.05},\"mapbox\":{\"style\":\"light\"}}},\"margin\":{\"l\":0,\"r\":0,\"t\":50,\"b\":0},\"title\":{\"text\":\"Word Count for Movie Reddit Submission\"},\"paper_bgcolor\":\"White\",\"width\":800,\"height\":300},                        {\"responsive\": true}                    ).then(function(){\n",
       "                            \n",
       "var gd = document.getElementById('94119e49-2df0-4c5a-9355-bfd9f9435926');\n",
       "var x = new MutationObserver(function (mutations, observer) {{\n",
       "        var display = window.getComputedStyle(gd).display;\n",
       "        if (!display || display === 'none') {{\n",
       "            console.log([gd, 'removed!']);\n",
       "            Plotly.purge(gd);\n",
       "            observer.disconnect();\n",
       "        }}\n",
       "}});\n",
       "\n",
       "// Listen for the removal of the full notebook cells\n",
       "var notebookContainer = gd.closest('#notebook-container');\n",
       "if (notebookContainer) {{\n",
       "    x.observe(notebookContainer, {childList: true});\n",
       "}}\n",
       "\n",
       "// Listen for the clearing of the current output cell\n",
       "var outputEl = gd.closest('.output');\n",
       "if (outputEl) {{\n",
       "    x.observe(outputEl, {childList: true});\n",
       "}}\n",
       "\n",
       "                        })                };                });            </script>        </div>"
      ]
     },
     "metadata": {},
     "output_type": "display_data"
    }
   ],
   "source": [
    "import plotly.graph_objects as go\n",
    "import pandas as pd\n",
    "\n",
    "# Your data\n",
    "data = {'word': ['movie', 'like', 'look', 'watch', 'im', 'film', 'good', 'see', 'love', 'something'],\n",
    "        'count': [72187, 27869, 17926, 17677, 15842, 14465, 13604, 10841, 9366, 8858]}\n",
    "\n",
    "df = pd.DataFrame(data)\n",
    "\n",
    "# Create a Plotly table\n",
    "fig = go.Figure(data=[go.Table(\n",
    "    header=dict(values=['Most Occured Words', 'Word Count'],\n",
    "                fill_color='#FF4301',\n",
    "                font=dict(color='white', size=12)),\n",
    "    cells=dict(values=[df['word'], df['count']])\n",
    ")])\n",
    "\n",
    "# Update layout\n",
    "fig.update_layout(\n",
    "    title='Word Count for Movie Reddit Submission',\n",
    "    margin=dict(l=0, r=0, t=50, b=0),\n",
    "    paper_bgcolor=\"White\",\n",
    "    width=800, \n",
    "    height=300 \n",
    ")\n",
    "\n",
    "fig.write_html(f\"../../data/plots/word_count_table_movie.html\")\n",
    "\n",
    "# Show the figure\n",
    "fig.show()\n"
   ]
  },
  {
   "cell_type": "code",
   "execution_count": 18,
   "metadata": {},
   "outputs": [],
   "source": [
    "data2 = {'word': ['anime', 'like', 'watch', 'look', 'im', 'good', 'one', 'something', 'mc', 'character'],\n",
    "         'count': [73632, 45544, 34677, 23720, 23468, 19125, 17144, 16997, 15713, 14876]}\n",
    "\n",
    "df2 = pd.DataFrame(data2)"
   ]
  },
  {
   "cell_type": "code",
   "execution_count": 19,
   "metadata": {},
   "outputs": [
    {
     "data": {
      "application/vnd.plotly.v1+json": {
       "config": {
        "plotlyServerURL": "https://plot.ly"
       },
       "data": [
        {
         "cells": {
          "values": [
           [
            "anime",
            "like",
            "watch",
            "look",
            "im",
            "good",
            "one",
            "something",
            "mc",
            "character"
           ],
           [
            73632,
            45544,
            34677,
            23720,
            23468,
            19125,
            17144,
            16997,
            15713,
            14876
           ]
          ]
         },
         "header": {
          "fill": {
           "color": "#ff9200"
          },
          "font": {
           "color": "white",
           "size": 12
          },
          "values": [
           "Most Occured Words",
           "Word Count"
          ]
         },
         "type": "table"
        }
       ],
       "layout": {
        "height": 300,
        "margin": {
         "b": 0,
         "l": 0,
         "r": 0,
         "t": 50
        },
        "paper_bgcolor": "White",
        "template": {
         "data": {
          "bar": [
           {
            "error_x": {
             "color": "#2a3f5f"
            },
            "error_y": {
             "color": "#2a3f5f"
            },
            "marker": {
             "line": {
              "color": "#E5ECF6",
              "width": 0.5
             },
             "pattern": {
              "fillmode": "overlay",
              "size": 10,
              "solidity": 0.2
             }
            },
            "type": "bar"
           }
          ],
          "barpolar": [
           {
            "marker": {
             "line": {
              "color": "#E5ECF6",
              "width": 0.5
             },
             "pattern": {
              "fillmode": "overlay",
              "size": 10,
              "solidity": 0.2
             }
            },
            "type": "barpolar"
           }
          ],
          "carpet": [
           {
            "aaxis": {
             "endlinecolor": "#2a3f5f",
             "gridcolor": "white",
             "linecolor": "white",
             "minorgridcolor": "white",
             "startlinecolor": "#2a3f5f"
            },
            "baxis": {
             "endlinecolor": "#2a3f5f",
             "gridcolor": "white",
             "linecolor": "white",
             "minorgridcolor": "white",
             "startlinecolor": "#2a3f5f"
            },
            "type": "carpet"
           }
          ],
          "choropleth": [
           {
            "colorbar": {
             "outlinewidth": 0,
             "ticks": ""
            },
            "type": "choropleth"
           }
          ],
          "contour": [
           {
            "colorbar": {
             "outlinewidth": 0,
             "ticks": ""
            },
            "colorscale": [
             [
              0,
              "#0d0887"
             ],
             [
              0.1111111111111111,
              "#46039f"
             ],
             [
              0.2222222222222222,
              "#7201a8"
             ],
             [
              0.3333333333333333,
              "#9c179e"
             ],
             [
              0.4444444444444444,
              "#bd3786"
             ],
             [
              0.5555555555555556,
              "#d8576b"
             ],
             [
              0.6666666666666666,
              "#ed7953"
             ],
             [
              0.7777777777777778,
              "#fb9f3a"
             ],
             [
              0.8888888888888888,
              "#fdca26"
             ],
             [
              1,
              "#f0f921"
             ]
            ],
            "type": "contour"
           }
          ],
          "contourcarpet": [
           {
            "colorbar": {
             "outlinewidth": 0,
             "ticks": ""
            },
            "type": "contourcarpet"
           }
          ],
          "heatmap": [
           {
            "colorbar": {
             "outlinewidth": 0,
             "ticks": ""
            },
            "colorscale": [
             [
              0,
              "#0d0887"
             ],
             [
              0.1111111111111111,
              "#46039f"
             ],
             [
              0.2222222222222222,
              "#7201a8"
             ],
             [
              0.3333333333333333,
              "#9c179e"
             ],
             [
              0.4444444444444444,
              "#bd3786"
             ],
             [
              0.5555555555555556,
              "#d8576b"
             ],
             [
              0.6666666666666666,
              "#ed7953"
             ],
             [
              0.7777777777777778,
              "#fb9f3a"
             ],
             [
              0.8888888888888888,
              "#fdca26"
             ],
             [
              1,
              "#f0f921"
             ]
            ],
            "type": "heatmap"
           }
          ],
          "heatmapgl": [
           {
            "colorbar": {
             "outlinewidth": 0,
             "ticks": ""
            },
            "colorscale": [
             [
              0,
              "#0d0887"
             ],
             [
              0.1111111111111111,
              "#46039f"
             ],
             [
              0.2222222222222222,
              "#7201a8"
             ],
             [
              0.3333333333333333,
              "#9c179e"
             ],
             [
              0.4444444444444444,
              "#bd3786"
             ],
             [
              0.5555555555555556,
              "#d8576b"
             ],
             [
              0.6666666666666666,
              "#ed7953"
             ],
             [
              0.7777777777777778,
              "#fb9f3a"
             ],
             [
              0.8888888888888888,
              "#fdca26"
             ],
             [
              1,
              "#f0f921"
             ]
            ],
            "type": "heatmapgl"
           }
          ],
          "histogram": [
           {
            "marker": {
             "pattern": {
              "fillmode": "overlay",
              "size": 10,
              "solidity": 0.2
             }
            },
            "type": "histogram"
           }
          ],
          "histogram2d": [
           {
            "colorbar": {
             "outlinewidth": 0,
             "ticks": ""
            },
            "colorscale": [
             [
              0,
              "#0d0887"
             ],
             [
              0.1111111111111111,
              "#46039f"
             ],
             [
              0.2222222222222222,
              "#7201a8"
             ],
             [
              0.3333333333333333,
              "#9c179e"
             ],
             [
              0.4444444444444444,
              "#bd3786"
             ],
             [
              0.5555555555555556,
              "#d8576b"
             ],
             [
              0.6666666666666666,
              "#ed7953"
             ],
             [
              0.7777777777777778,
              "#fb9f3a"
             ],
             [
              0.8888888888888888,
              "#fdca26"
             ],
             [
              1,
              "#f0f921"
             ]
            ],
            "type": "histogram2d"
           }
          ],
          "histogram2dcontour": [
           {
            "colorbar": {
             "outlinewidth": 0,
             "ticks": ""
            },
            "colorscale": [
             [
              0,
              "#0d0887"
             ],
             [
              0.1111111111111111,
              "#46039f"
             ],
             [
              0.2222222222222222,
              "#7201a8"
             ],
             [
              0.3333333333333333,
              "#9c179e"
             ],
             [
              0.4444444444444444,
              "#bd3786"
             ],
             [
              0.5555555555555556,
              "#d8576b"
             ],
             [
              0.6666666666666666,
              "#ed7953"
             ],
             [
              0.7777777777777778,
              "#fb9f3a"
             ],
             [
              0.8888888888888888,
              "#fdca26"
             ],
             [
              1,
              "#f0f921"
             ]
            ],
            "type": "histogram2dcontour"
           }
          ],
          "mesh3d": [
           {
            "colorbar": {
             "outlinewidth": 0,
             "ticks": ""
            },
            "type": "mesh3d"
           }
          ],
          "parcoords": [
           {
            "line": {
             "colorbar": {
              "outlinewidth": 0,
              "ticks": ""
             }
            },
            "type": "parcoords"
           }
          ],
          "pie": [
           {
            "automargin": true,
            "type": "pie"
           }
          ],
          "scatter": [
           {
            "fillpattern": {
             "fillmode": "overlay",
             "size": 10,
             "solidity": 0.2
            },
            "type": "scatter"
           }
          ],
          "scatter3d": [
           {
            "line": {
             "colorbar": {
              "outlinewidth": 0,
              "ticks": ""
             }
            },
            "marker": {
             "colorbar": {
              "outlinewidth": 0,
              "ticks": ""
             }
            },
            "type": "scatter3d"
           }
          ],
          "scattercarpet": [
           {
            "marker": {
             "colorbar": {
              "outlinewidth": 0,
              "ticks": ""
             }
            },
            "type": "scattercarpet"
           }
          ],
          "scattergeo": [
           {
            "marker": {
             "colorbar": {
              "outlinewidth": 0,
              "ticks": ""
             }
            },
            "type": "scattergeo"
           }
          ],
          "scattergl": [
           {
            "marker": {
             "colorbar": {
              "outlinewidth": 0,
              "ticks": ""
             }
            },
            "type": "scattergl"
           }
          ],
          "scattermapbox": [
           {
            "marker": {
             "colorbar": {
              "outlinewidth": 0,
              "ticks": ""
             }
            },
            "type": "scattermapbox"
           }
          ],
          "scatterpolar": [
           {
            "marker": {
             "colorbar": {
              "outlinewidth": 0,
              "ticks": ""
             }
            },
            "type": "scatterpolar"
           }
          ],
          "scatterpolargl": [
           {
            "marker": {
             "colorbar": {
              "outlinewidth": 0,
              "ticks": ""
             }
            },
            "type": "scatterpolargl"
           }
          ],
          "scatterternary": [
           {
            "marker": {
             "colorbar": {
              "outlinewidth": 0,
              "ticks": ""
             }
            },
            "type": "scatterternary"
           }
          ],
          "surface": [
           {
            "colorbar": {
             "outlinewidth": 0,
             "ticks": ""
            },
            "colorscale": [
             [
              0,
              "#0d0887"
             ],
             [
              0.1111111111111111,
              "#46039f"
             ],
             [
              0.2222222222222222,
              "#7201a8"
             ],
             [
              0.3333333333333333,
              "#9c179e"
             ],
             [
              0.4444444444444444,
              "#bd3786"
             ],
             [
              0.5555555555555556,
              "#d8576b"
             ],
             [
              0.6666666666666666,
              "#ed7953"
             ],
             [
              0.7777777777777778,
              "#fb9f3a"
             ],
             [
              0.8888888888888888,
              "#fdca26"
             ],
             [
              1,
              "#f0f921"
             ]
            ],
            "type": "surface"
           }
          ],
          "table": [
           {
            "cells": {
             "fill": {
              "color": "#EBF0F8"
             },
             "line": {
              "color": "white"
             }
            },
            "header": {
             "fill": {
              "color": "#C8D4E3"
             },
             "line": {
              "color": "white"
             }
            },
            "type": "table"
           }
          ]
         },
         "layout": {
          "annotationdefaults": {
           "arrowcolor": "#2a3f5f",
           "arrowhead": 0,
           "arrowwidth": 1
          },
          "autotypenumbers": "strict",
          "coloraxis": {
           "colorbar": {
            "outlinewidth": 0,
            "ticks": ""
           }
          },
          "colorscale": {
           "diverging": [
            [
             0,
             "#8e0152"
            ],
            [
             0.1,
             "#c51b7d"
            ],
            [
             0.2,
             "#de77ae"
            ],
            [
             0.3,
             "#f1b6da"
            ],
            [
             0.4,
             "#fde0ef"
            ],
            [
             0.5,
             "#f7f7f7"
            ],
            [
             0.6,
             "#e6f5d0"
            ],
            [
             0.7,
             "#b8e186"
            ],
            [
             0.8,
             "#7fbc41"
            ],
            [
             0.9,
             "#4d9221"
            ],
            [
             1,
             "#276419"
            ]
           ],
           "sequential": [
            [
             0,
             "#0d0887"
            ],
            [
             0.1111111111111111,
             "#46039f"
            ],
            [
             0.2222222222222222,
             "#7201a8"
            ],
            [
             0.3333333333333333,
             "#9c179e"
            ],
            [
             0.4444444444444444,
             "#bd3786"
            ],
            [
             0.5555555555555556,
             "#d8576b"
            ],
            [
             0.6666666666666666,
             "#ed7953"
            ],
            [
             0.7777777777777778,
             "#fb9f3a"
            ],
            [
             0.8888888888888888,
             "#fdca26"
            ],
            [
             1,
             "#f0f921"
            ]
           ],
           "sequentialminus": [
            [
             0,
             "#0d0887"
            ],
            [
             0.1111111111111111,
             "#46039f"
            ],
            [
             0.2222222222222222,
             "#7201a8"
            ],
            [
             0.3333333333333333,
             "#9c179e"
            ],
            [
             0.4444444444444444,
             "#bd3786"
            ],
            [
             0.5555555555555556,
             "#d8576b"
            ],
            [
             0.6666666666666666,
             "#ed7953"
            ],
            [
             0.7777777777777778,
             "#fb9f3a"
            ],
            [
             0.8888888888888888,
             "#fdca26"
            ],
            [
             1,
             "#f0f921"
            ]
           ]
          },
          "colorway": [
           "#636efa",
           "#EF553B",
           "#00cc96",
           "#ab63fa",
           "#FFA15A",
           "#19d3f3",
           "#FF6692",
           "#B6E880",
           "#FF97FF",
           "#FECB52"
          ],
          "font": {
           "color": "#2a3f5f"
          },
          "geo": {
           "bgcolor": "white",
           "lakecolor": "white",
           "landcolor": "#E5ECF6",
           "showlakes": true,
           "showland": true,
           "subunitcolor": "white"
          },
          "hoverlabel": {
           "align": "left"
          },
          "hovermode": "closest",
          "mapbox": {
           "style": "light"
          },
          "paper_bgcolor": "white",
          "plot_bgcolor": "#E5ECF6",
          "polar": {
           "angularaxis": {
            "gridcolor": "white",
            "linecolor": "white",
            "ticks": ""
           },
           "bgcolor": "#E5ECF6",
           "radialaxis": {
            "gridcolor": "white",
            "linecolor": "white",
            "ticks": ""
           }
          },
          "scene": {
           "xaxis": {
            "backgroundcolor": "#E5ECF6",
            "gridcolor": "white",
            "gridwidth": 2,
            "linecolor": "white",
            "showbackground": true,
            "ticks": "",
            "zerolinecolor": "white"
           },
           "yaxis": {
            "backgroundcolor": "#E5ECF6",
            "gridcolor": "white",
            "gridwidth": 2,
            "linecolor": "white",
            "showbackground": true,
            "ticks": "",
            "zerolinecolor": "white"
           },
           "zaxis": {
            "backgroundcolor": "#E5ECF6",
            "gridcolor": "white",
            "gridwidth": 2,
            "linecolor": "white",
            "showbackground": true,
            "ticks": "",
            "zerolinecolor": "white"
           }
          },
          "shapedefaults": {
           "line": {
            "color": "#2a3f5f"
           }
          },
          "ternary": {
           "aaxis": {
            "gridcolor": "white",
            "linecolor": "white",
            "ticks": ""
           },
           "baxis": {
            "gridcolor": "white",
            "linecolor": "white",
            "ticks": ""
           },
           "bgcolor": "#E5ECF6",
           "caxis": {
            "gridcolor": "white",
            "linecolor": "white",
            "ticks": ""
           }
          },
          "title": {
           "x": 0.05
          },
          "xaxis": {
           "automargin": true,
           "gridcolor": "white",
           "linecolor": "white",
           "ticks": "",
           "title": {
            "standoff": 15
           },
           "zerolinecolor": "white",
           "zerolinewidth": 2
          },
          "yaxis": {
           "automargin": true,
           "gridcolor": "white",
           "linecolor": "white",
           "ticks": "",
           "title": {
            "standoff": 15
           },
           "zerolinecolor": "white",
           "zerolinewidth": 2
          }
         }
        },
        "title": {
         "text": "Word Count for Anime Reddit Submission"
        },
        "width": 800
       }
      },
      "text/html": [
       "<div>                            <div id=\"d6432e48-3252-41b2-a7d4-13cfbd5bb3ee\" class=\"plotly-graph-div\" style=\"height:300px; width:800px;\"></div>            <script type=\"text/javascript\">                require([\"plotly\"], function(Plotly) {                    window.PLOTLYENV=window.PLOTLYENV || {};                                    if (document.getElementById(\"d6432e48-3252-41b2-a7d4-13cfbd5bb3ee\")) {                    Plotly.newPlot(                        \"d6432e48-3252-41b2-a7d4-13cfbd5bb3ee\",                        [{\"cells\":{\"values\":[[\"anime\",\"like\",\"watch\",\"look\",\"im\",\"good\",\"one\",\"something\",\"mc\",\"character\"],[73632,45544,34677,23720,23468,19125,17144,16997,15713,14876]]},\"header\":{\"fill\":{\"color\":\"#ff9200\"},\"font\":{\"color\":\"white\",\"size\":12},\"values\":[\"Most Occured Words\",\"Word Count\"]},\"type\":\"table\"}],                        {\"template\":{\"data\":{\"histogram2dcontour\":[{\"type\":\"histogram2dcontour\",\"colorbar\":{\"outlinewidth\":0,\"ticks\":\"\"},\"colorscale\":[[0.0,\"#0d0887\"],[0.1111111111111111,\"#46039f\"],[0.2222222222222222,\"#7201a8\"],[0.3333333333333333,\"#9c179e\"],[0.4444444444444444,\"#bd3786\"],[0.5555555555555556,\"#d8576b\"],[0.6666666666666666,\"#ed7953\"],[0.7777777777777778,\"#fb9f3a\"],[0.8888888888888888,\"#fdca26\"],[1.0,\"#f0f921\"]]}],\"choropleth\":[{\"type\":\"choropleth\",\"colorbar\":{\"outlinewidth\":0,\"ticks\":\"\"}}],\"histogram2d\":[{\"type\":\"histogram2d\",\"colorbar\":{\"outlinewidth\":0,\"ticks\":\"\"},\"colorscale\":[[0.0,\"#0d0887\"],[0.1111111111111111,\"#46039f\"],[0.2222222222222222,\"#7201a8\"],[0.3333333333333333,\"#9c179e\"],[0.4444444444444444,\"#bd3786\"],[0.5555555555555556,\"#d8576b\"],[0.6666666666666666,\"#ed7953\"],[0.7777777777777778,\"#fb9f3a\"],[0.8888888888888888,\"#fdca26\"],[1.0,\"#f0f921\"]]}],\"heatmap\":[{\"type\":\"heatmap\",\"colorbar\":{\"outlinewidth\":0,\"ticks\":\"\"},\"colorscale\":[[0.0,\"#0d0887\"],[0.1111111111111111,\"#46039f\"],[0.2222222222222222,\"#7201a8\"],[0.3333333333333333,\"#9c179e\"],[0.4444444444444444,\"#bd3786\"],[0.5555555555555556,\"#d8576b\"],[0.6666666666666666,\"#ed7953\"],[0.7777777777777778,\"#fb9f3a\"],[0.8888888888888888,\"#fdca26\"],[1.0,\"#f0f921\"]]}],\"heatmapgl\":[{\"type\":\"heatmapgl\",\"colorbar\":{\"outlinewidth\":0,\"ticks\":\"\"},\"colorscale\":[[0.0,\"#0d0887\"],[0.1111111111111111,\"#46039f\"],[0.2222222222222222,\"#7201a8\"],[0.3333333333333333,\"#9c179e\"],[0.4444444444444444,\"#bd3786\"],[0.5555555555555556,\"#d8576b\"],[0.6666666666666666,\"#ed7953\"],[0.7777777777777778,\"#fb9f3a\"],[0.8888888888888888,\"#fdca26\"],[1.0,\"#f0f921\"]]}],\"contourcarpet\":[{\"type\":\"contourcarpet\",\"colorbar\":{\"outlinewidth\":0,\"ticks\":\"\"}}],\"contour\":[{\"type\":\"contour\",\"colorbar\":{\"outlinewidth\":0,\"ticks\":\"\"},\"colorscale\":[[0.0,\"#0d0887\"],[0.1111111111111111,\"#46039f\"],[0.2222222222222222,\"#7201a8\"],[0.3333333333333333,\"#9c179e\"],[0.4444444444444444,\"#bd3786\"],[0.5555555555555556,\"#d8576b\"],[0.6666666666666666,\"#ed7953\"],[0.7777777777777778,\"#fb9f3a\"],[0.8888888888888888,\"#fdca26\"],[1.0,\"#f0f921\"]]}],\"surface\":[{\"type\":\"surface\",\"colorbar\":{\"outlinewidth\":0,\"ticks\":\"\"},\"colorscale\":[[0.0,\"#0d0887\"],[0.1111111111111111,\"#46039f\"],[0.2222222222222222,\"#7201a8\"],[0.3333333333333333,\"#9c179e\"],[0.4444444444444444,\"#bd3786\"],[0.5555555555555556,\"#d8576b\"],[0.6666666666666666,\"#ed7953\"],[0.7777777777777778,\"#fb9f3a\"],[0.8888888888888888,\"#fdca26\"],[1.0,\"#f0f921\"]]}],\"mesh3d\":[{\"type\":\"mesh3d\",\"colorbar\":{\"outlinewidth\":0,\"ticks\":\"\"}}],\"scatter\":[{\"fillpattern\":{\"fillmode\":\"overlay\",\"size\":10,\"solidity\":0.2},\"type\":\"scatter\"}],\"parcoords\":[{\"type\":\"parcoords\",\"line\":{\"colorbar\":{\"outlinewidth\":0,\"ticks\":\"\"}}}],\"scatterpolargl\":[{\"type\":\"scatterpolargl\",\"marker\":{\"colorbar\":{\"outlinewidth\":0,\"ticks\":\"\"}}}],\"bar\":[{\"error_x\":{\"color\":\"#2a3f5f\"},\"error_y\":{\"color\":\"#2a3f5f\"},\"marker\":{\"line\":{\"color\":\"#E5ECF6\",\"width\":0.5},\"pattern\":{\"fillmode\":\"overlay\",\"size\":10,\"solidity\":0.2}},\"type\":\"bar\"}],\"scattergeo\":[{\"type\":\"scattergeo\",\"marker\":{\"colorbar\":{\"outlinewidth\":0,\"ticks\":\"\"}}}],\"scatterpolar\":[{\"type\":\"scatterpolar\",\"marker\":{\"colorbar\":{\"outlinewidth\":0,\"ticks\":\"\"}}}],\"histogram\":[{\"marker\":{\"pattern\":{\"fillmode\":\"overlay\",\"size\":10,\"solidity\":0.2}},\"type\":\"histogram\"}],\"scattergl\":[{\"type\":\"scattergl\",\"marker\":{\"colorbar\":{\"outlinewidth\":0,\"ticks\":\"\"}}}],\"scatter3d\":[{\"type\":\"scatter3d\",\"line\":{\"colorbar\":{\"outlinewidth\":0,\"ticks\":\"\"}},\"marker\":{\"colorbar\":{\"outlinewidth\":0,\"ticks\":\"\"}}}],\"scattermapbox\":[{\"type\":\"scattermapbox\",\"marker\":{\"colorbar\":{\"outlinewidth\":0,\"ticks\":\"\"}}}],\"scatterternary\":[{\"type\":\"scatterternary\",\"marker\":{\"colorbar\":{\"outlinewidth\":0,\"ticks\":\"\"}}}],\"scattercarpet\":[{\"type\":\"scattercarpet\",\"marker\":{\"colorbar\":{\"outlinewidth\":0,\"ticks\":\"\"}}}],\"carpet\":[{\"aaxis\":{\"endlinecolor\":\"#2a3f5f\",\"gridcolor\":\"white\",\"linecolor\":\"white\",\"minorgridcolor\":\"white\",\"startlinecolor\":\"#2a3f5f\"},\"baxis\":{\"endlinecolor\":\"#2a3f5f\",\"gridcolor\":\"white\",\"linecolor\":\"white\",\"minorgridcolor\":\"white\",\"startlinecolor\":\"#2a3f5f\"},\"type\":\"carpet\"}],\"table\":[{\"cells\":{\"fill\":{\"color\":\"#EBF0F8\"},\"line\":{\"color\":\"white\"}},\"header\":{\"fill\":{\"color\":\"#C8D4E3\"},\"line\":{\"color\":\"white\"}},\"type\":\"table\"}],\"barpolar\":[{\"marker\":{\"line\":{\"color\":\"#E5ECF6\",\"width\":0.5},\"pattern\":{\"fillmode\":\"overlay\",\"size\":10,\"solidity\":0.2}},\"type\":\"barpolar\"}],\"pie\":[{\"automargin\":true,\"type\":\"pie\"}]},\"layout\":{\"autotypenumbers\":\"strict\",\"colorway\":[\"#636efa\",\"#EF553B\",\"#00cc96\",\"#ab63fa\",\"#FFA15A\",\"#19d3f3\",\"#FF6692\",\"#B6E880\",\"#FF97FF\",\"#FECB52\"],\"font\":{\"color\":\"#2a3f5f\"},\"hovermode\":\"closest\",\"hoverlabel\":{\"align\":\"left\"},\"paper_bgcolor\":\"white\",\"plot_bgcolor\":\"#E5ECF6\",\"polar\":{\"bgcolor\":\"#E5ECF6\",\"angularaxis\":{\"gridcolor\":\"white\",\"linecolor\":\"white\",\"ticks\":\"\"},\"radialaxis\":{\"gridcolor\":\"white\",\"linecolor\":\"white\",\"ticks\":\"\"}},\"ternary\":{\"bgcolor\":\"#E5ECF6\",\"aaxis\":{\"gridcolor\":\"white\",\"linecolor\":\"white\",\"ticks\":\"\"},\"baxis\":{\"gridcolor\":\"white\",\"linecolor\":\"white\",\"ticks\":\"\"},\"caxis\":{\"gridcolor\":\"white\",\"linecolor\":\"white\",\"ticks\":\"\"}},\"coloraxis\":{\"colorbar\":{\"outlinewidth\":0,\"ticks\":\"\"}},\"colorscale\":{\"sequential\":[[0.0,\"#0d0887\"],[0.1111111111111111,\"#46039f\"],[0.2222222222222222,\"#7201a8\"],[0.3333333333333333,\"#9c179e\"],[0.4444444444444444,\"#bd3786\"],[0.5555555555555556,\"#d8576b\"],[0.6666666666666666,\"#ed7953\"],[0.7777777777777778,\"#fb9f3a\"],[0.8888888888888888,\"#fdca26\"],[1.0,\"#f0f921\"]],\"sequentialminus\":[[0.0,\"#0d0887\"],[0.1111111111111111,\"#46039f\"],[0.2222222222222222,\"#7201a8\"],[0.3333333333333333,\"#9c179e\"],[0.4444444444444444,\"#bd3786\"],[0.5555555555555556,\"#d8576b\"],[0.6666666666666666,\"#ed7953\"],[0.7777777777777778,\"#fb9f3a\"],[0.8888888888888888,\"#fdca26\"],[1.0,\"#f0f921\"]],\"diverging\":[[0,\"#8e0152\"],[0.1,\"#c51b7d\"],[0.2,\"#de77ae\"],[0.3,\"#f1b6da\"],[0.4,\"#fde0ef\"],[0.5,\"#f7f7f7\"],[0.6,\"#e6f5d0\"],[0.7,\"#b8e186\"],[0.8,\"#7fbc41\"],[0.9,\"#4d9221\"],[1,\"#276419\"]]},\"xaxis\":{\"gridcolor\":\"white\",\"linecolor\":\"white\",\"ticks\":\"\",\"title\":{\"standoff\":15},\"zerolinecolor\":\"white\",\"automargin\":true,\"zerolinewidth\":2},\"yaxis\":{\"gridcolor\":\"white\",\"linecolor\":\"white\",\"ticks\":\"\",\"title\":{\"standoff\":15},\"zerolinecolor\":\"white\",\"automargin\":true,\"zerolinewidth\":2},\"scene\":{\"xaxis\":{\"backgroundcolor\":\"#E5ECF6\",\"gridcolor\":\"white\",\"linecolor\":\"white\",\"showbackground\":true,\"ticks\":\"\",\"zerolinecolor\":\"white\",\"gridwidth\":2},\"yaxis\":{\"backgroundcolor\":\"#E5ECF6\",\"gridcolor\":\"white\",\"linecolor\":\"white\",\"showbackground\":true,\"ticks\":\"\",\"zerolinecolor\":\"white\",\"gridwidth\":2},\"zaxis\":{\"backgroundcolor\":\"#E5ECF6\",\"gridcolor\":\"white\",\"linecolor\":\"white\",\"showbackground\":true,\"ticks\":\"\",\"zerolinecolor\":\"white\",\"gridwidth\":2}},\"shapedefaults\":{\"line\":{\"color\":\"#2a3f5f\"}},\"annotationdefaults\":{\"arrowcolor\":\"#2a3f5f\",\"arrowhead\":0,\"arrowwidth\":1},\"geo\":{\"bgcolor\":\"white\",\"landcolor\":\"#E5ECF6\",\"subunitcolor\":\"white\",\"showland\":true,\"showlakes\":true,\"lakecolor\":\"white\"},\"title\":{\"x\":0.05},\"mapbox\":{\"style\":\"light\"}}},\"margin\":{\"l\":0,\"r\":0,\"t\":50,\"b\":0},\"title\":{\"text\":\"Word Count for Anime Reddit Submission\"},\"paper_bgcolor\":\"White\",\"width\":800,\"height\":300},                        {\"responsive\": true}                    ).then(function(){\n",
       "                            \n",
       "var gd = document.getElementById('d6432e48-3252-41b2-a7d4-13cfbd5bb3ee');\n",
       "var x = new MutationObserver(function (mutations, observer) {{\n",
       "        var display = window.getComputedStyle(gd).display;\n",
       "        if (!display || display === 'none') {{\n",
       "            console.log([gd, 'removed!']);\n",
       "            Plotly.purge(gd);\n",
       "            observer.disconnect();\n",
       "        }}\n",
       "}});\n",
       "\n",
       "// Listen for the removal of the full notebook cells\n",
       "var notebookContainer = gd.closest('#notebook-container');\n",
       "if (notebookContainer) {{\n",
       "    x.observe(notebookContainer, {childList: true});\n",
       "}}\n",
       "\n",
       "// Listen for the clearing of the current output cell\n",
       "var outputEl = gd.closest('.output');\n",
       "if (outputEl) {{\n",
       "    x.observe(outputEl, {childList: true});\n",
       "}}\n",
       "\n",
       "                        })                };                });            </script>        </div>"
      ]
     },
     "metadata": {},
     "output_type": "display_data"
    }
   ],
   "source": [
    "# Create a Plotly table\n",
    "fig = go.Figure(data=[go.Table(\n",
    "    header=dict(values=['Most Occured Words', 'Word Count'],\n",
    "                fill_color='#ff9200',\n",
    "                font=dict(color='white', size=12)),\n",
    "    cells=dict(values=[df2['word'], df2['count']])\n",
    ")])\n",
    "\n",
    "# Update layout\n",
    "fig.update_layout(\n",
    "    title='Word Count for Anime Reddit Submission',\n",
    "    margin=dict(l=0, r=0, t=50, b=0),\n",
    "    paper_bgcolor=\"White\",\n",
    "    width=800, \n",
    "    height=300 \n",
    ")\n",
    "\n",
    "fig.write_html(f\"../../data/plots/word_count_table_anime.html\")\n",
    "\n",
    "# Show the figure\n",
    "fig.show()\n",
    "\n"
   ]
  },
  {
   "cell_type": "markdown",
   "metadata": {},
   "source": [
    "Looking at the words people use the most, it seems like people on Reddit really enjoy chatting about their favorite anime and movies. Now, we're going to dig into the comments and pick out the names of the movies and anime that everyone is talking about the most. This way, we can find out which ones are super popular among the community."
   ]
  },
  {
   "cell_type": "markdown",
   "metadata": {},
   "source": [
    "MOST HIGLY RATED MOVIES"
   ]
  },
  {
   "cell_type": "code",
   "execution_count": 1,
   "metadata": {},
   "outputs": [],
   "source": [
    "import pandas as pd\n",
    "import altair as alt"
   ]
  },
  {
   "cell_type": "code",
   "execution_count": 2,
   "metadata": {},
   "outputs": [],
   "source": [
    "positive_movies = pd.read_csv(\"../../data/csv/20_positive_movieReviews.csv\")"
   ]
  },
  {
   "cell_type": "code",
   "execution_count": 50,
   "metadata": {},
   "outputs": [
    {
     "data": {
      "text/html": [
       "<div>\n",
       "<style scoped>\n",
       "    .dataframe tbody tr th:only-of-type {\n",
       "        vertical-align: middle;\n",
       "    }\n",
       "\n",
       "    .dataframe tbody tr th {\n",
       "        vertical-align: top;\n",
       "    }\n",
       "\n",
       "    .dataframe thead th {\n",
       "        text-align: right;\n",
       "    }\n",
       "</style>\n",
       "<table border=\"1\" class=\"dataframe\">\n",
       "  <thead>\n",
       "    <tr style=\"text-align: right;\">\n",
       "      <th></th>\n",
       "      <th>title</th>\n",
       "      <th>average_positive_score</th>\n",
       "      <th>average_negative_score</th>\n",
       "      <th>num_reviews</th>\n",
       "      <th>normalized_positive_score</th>\n",
       "      <th>normalized_negative_score</th>\n",
       "      <th>weighted_rating</th>\n",
       "      <th>rank</th>\n",
       "      <th>rating</th>\n",
       "    </tr>\n",
       "  </thead>\n",
       "  <tbody>\n",
       "    <tr>\n",
       "      <th>0</th>\n",
       "      <td>Jim Allison: Breakthrough</td>\n",
       "      <td>1.000000</td>\n",
       "      <td>8.531452e-22</td>\n",
       "      <td>48</td>\n",
       "      <td>48.000000</td>\n",
       "      <td>4.095097e-20</td>\n",
       "      <td>0.980967</td>\n",
       "      <td>1</td>\n",
       "      <td>98.096718</td>\n",
       "    </tr>\n",
       "    <tr>\n",
       "      <th>1</th>\n",
       "      <td>Hava Nagila (The Movie)</td>\n",
       "      <td>0.986757</td>\n",
       "      <td>1.324329e-02</td>\n",
       "      <td>116</td>\n",
       "      <td>114.463778</td>\n",
       "      <td>1.536221e+00</td>\n",
       "      <td>0.978951</td>\n",
       "      <td>2</td>\n",
       "      <td>97.895060</td>\n",
       "    </tr>\n",
       "    <tr>\n",
       "      <th>2</th>\n",
       "      <td>Trifling Women</td>\n",
       "      <td>0.999248</td>\n",
       "      <td>7.515981e-04</td>\n",
       "      <td>44</td>\n",
       "      <td>43.966930</td>\n",
       "      <td>3.307032e-02</td>\n",
       "      <td>0.978692</td>\n",
       "      <td>3</td>\n",
       "      <td>97.869215</td>\n",
       "    </tr>\n",
       "    <tr>\n",
       "      <th>3</th>\n",
       "      <td>Blinky Bill the Movie</td>\n",
       "      <td>0.998073</td>\n",
       "      <td>1.927482e-03</td>\n",
       "      <td>44</td>\n",
       "      <td>43.915191</td>\n",
       "      <td>8.480921e-02</td>\n",
       "      <td>0.977614</td>\n",
       "      <td>4</td>\n",
       "      <td>97.761426</td>\n",
       "    </tr>\n",
       "    <tr>\n",
       "      <th>4</th>\n",
       "      <td>Molly's Theory of Relativity</td>\n",
       "      <td>0.999998</td>\n",
       "      <td>1.942952e-06</td>\n",
       "      <td>40</td>\n",
       "      <td>39.999922</td>\n",
       "      <td>7.771807e-05</td>\n",
       "      <td>0.977505</td>\n",
       "      <td>5</td>\n",
       "      <td>97.750491</td>\n",
       "    </tr>\n",
       "  </tbody>\n",
       "</table>\n",
       "</div>"
      ],
      "text/plain": [
       "                          title  average_positive_score  \\\n",
       "0     Jim Allison: Breakthrough                1.000000   \n",
       "1       Hava Nagila (The Movie)                0.986757   \n",
       "2                Trifling Women                0.999248   \n",
       "3         Blinky Bill the Movie                0.998073   \n",
       "4  Molly's Theory of Relativity                0.999998   \n",
       "\n",
       "   average_negative_score  num_reviews  normalized_positive_score  \\\n",
       "0            8.531452e-22           48                  48.000000   \n",
       "1            1.324329e-02          116                 114.463778   \n",
       "2            7.515981e-04           44                  43.966930   \n",
       "3            1.927482e-03           44                  43.915191   \n",
       "4            1.942952e-06           40                  39.999922   \n",
       "\n",
       "   normalized_negative_score  weighted_rating  rank     rating  \n",
       "0               4.095097e-20         0.980967     1  98.096718  \n",
       "1               1.536221e+00         0.978951     2  97.895060  \n",
       "2               3.307032e-02         0.978692     3  97.869215  \n",
       "3               8.480921e-02         0.977614     4  97.761426  \n",
       "4               7.771807e-05         0.977505     5  97.750491  "
      ]
     },
     "execution_count": 50,
     "metadata": {},
     "output_type": "execute_result"
    }
   ],
   "source": [
    "positive_movies.head(5)"
   ]
  },
  {
   "cell_type": "code",
   "execution_count": 24,
   "metadata": {},
   "outputs": [],
   "source": [
    "#add a column rank from 1 to 20\n",
    "positive_movies['rank'] = positive_movies.index + 1\n",
    "positive_movies['rating'] = positive_movies['weighted_rating']*100"
   ]
  },
  {
   "cell_type": "code",
   "execution_count": 56,
   "metadata": {},
   "outputs": [],
   "source": [
    "# Creating the Altair bar chart\n",
    "chart = alt.Chart(positive_movies).mark_bar(color = '#006400',opacity=0.5).encode(\n",
    "    y=alt.Y('title', title='Movie Title', sort='-x'),\n",
    "    x=alt.X('rating', title='Movie Rating', scale=alt.Scale(domain=[95, 100])),\n",
    "    tooltip=['title', 'rating']\n",
    ").properties(\n",
    "    title='Movies with the Highest Positive Ratings',\n",
    "    width=800,\n",
    "    height=400\n",
    ")\n"
   ]
  },
  {
   "cell_type": "code",
   "execution_count": 57,
   "metadata": {},
   "outputs": [],
   "source": [
    "# Configuring title font size\n",
    "chart = chart.configure_title(\n",
    "    fontSize=20  # Adjust the title font size as needed\n",
    ")\n",
    "\n",
    "# Configuring axis label font size\n",
    "chart = chart.configure_axis(\n",
    "    labelFontSize=14,\n",
    "    titleFontSize=16\n",
    ")"
   ]
  },
  {
   "cell_type": "code",
   "execution_count": 58,
   "metadata": {},
   "outputs": [
    {
     "data": {
      "text/html": [
       "\n",
       "<div id=\"altair-viz-0fec111370b842dd852938690eb86b6f\"></div>\n",
       "<script type=\"text/javascript\">\n",
       "  var VEGA_DEBUG = (typeof VEGA_DEBUG == \"undefined\") ? {} : VEGA_DEBUG;\n",
       "  (function(spec, embedOpt){\n",
       "    let outputDiv = document.currentScript.previousElementSibling;\n",
       "    if (outputDiv.id !== \"altair-viz-0fec111370b842dd852938690eb86b6f\") {\n",
       "      outputDiv = document.getElementById(\"altair-viz-0fec111370b842dd852938690eb86b6f\");\n",
       "    }\n",
       "    const paths = {\n",
       "      \"vega\": \"https://cdn.jsdelivr.net/npm//vega@5?noext\",\n",
       "      \"vega-lib\": \"https://cdn.jsdelivr.net/npm//vega-lib?noext\",\n",
       "      \"vega-lite\": \"https://cdn.jsdelivr.net/npm//vega-lite@4.17.0?noext\",\n",
       "      \"vega-embed\": \"https://cdn.jsdelivr.net/npm//vega-embed@6?noext\",\n",
       "    };\n",
       "\n",
       "    function maybeLoadScript(lib, version) {\n",
       "      var key = `${lib.replace(\"-\", \"\")}_version`;\n",
       "      return (VEGA_DEBUG[key] == version) ?\n",
       "        Promise.resolve(paths[lib]) :\n",
       "        new Promise(function(resolve, reject) {\n",
       "          var s = document.createElement('script');\n",
       "          document.getElementsByTagName(\"head\")[0].appendChild(s);\n",
       "          s.async = true;\n",
       "          s.onload = () => {\n",
       "            VEGA_DEBUG[key] = version;\n",
       "            return resolve(paths[lib]);\n",
       "          };\n",
       "          s.onerror = () => reject(`Error loading script: ${paths[lib]}`);\n",
       "          s.src = paths[lib];\n",
       "        });\n",
       "    }\n",
       "\n",
       "    function showError(err) {\n",
       "      outputDiv.innerHTML = `<div class=\"error\" style=\"color:red;\">${err}</div>`;\n",
       "      throw err;\n",
       "    }\n",
       "\n",
       "    function displayChart(vegaEmbed) {\n",
       "      vegaEmbed(outputDiv, spec, embedOpt)\n",
       "        .catch(err => showError(`Javascript Error: ${err.message}<br>This usually means there's a typo in your chart specification. See the javascript console for the full traceback.`));\n",
       "    }\n",
       "\n",
       "    if(typeof define === \"function\" && define.amd) {\n",
       "      requirejs.config({paths});\n",
       "      require([\"vega-embed\"], displayChart, err => showError(`Error loading script: ${err.message}`));\n",
       "    } else {\n",
       "      maybeLoadScript(\"vega\", \"5\")\n",
       "        .then(() => maybeLoadScript(\"vega-lite\", \"4.17.0\"))\n",
       "        .then(() => maybeLoadScript(\"vega-embed\", \"6\"))\n",
       "        .catch(showError)\n",
       "        .then(() => displayChart(vegaEmbed));\n",
       "    }\n",
       "  })({\"config\": {\"view\": {\"continuousWidth\": 400, \"continuousHeight\": 300}, \"axis\": {\"labelFontSize\": 14, \"titleFontSize\": 16}, \"title\": {\"fontSize\": 20}}, \"data\": {\"name\": \"data-927a0a2a2f9a5b2443f4c37791e599d2\"}, \"mark\": {\"type\": \"bar\", \"color\": \"#006400\", \"opacity\": 0.5}, \"encoding\": {\"tooltip\": [{\"field\": \"title\", \"type\": \"nominal\"}, {\"field\": \"rating\", \"type\": \"quantitative\"}], \"x\": {\"field\": \"rating\", \"scale\": {\"domain\": [95, 100]}, \"title\": \"Movie Rating\", \"type\": \"quantitative\"}, \"y\": {\"field\": \"title\", \"sort\": \"-x\", \"title\": \"Movie Title\", \"type\": \"nominal\"}}, \"height\": 400, \"title\": \"Movies with the Highest Positive Ratings\", \"width\": 800, \"$schema\": \"https://vega.github.io/schema/vega-lite/v4.17.0.json\", \"datasets\": {\"data-927a0a2a2f9a5b2443f4c37791e599d2\": [{\"title\": \"Jim Allison: Breakthrough\", \"average_positive_score\": 1.0, \"average_negative_score\": 8.53145166666667e-22, \"num_reviews\": 48, \"normalized_positive_score\": 48.0, \"normalized_negative_score\": 4.095096800000001e-20, \"weighted_rating\": 0.9809671839237104, \"rank\": 1, \"rating\": 98.09671839237105}, {\"title\": \"Hava Nagila (The Movie)\", \"average_positive_score\": 0.9867567089655171, \"average_negative_score\": 0.0132432877664241, \"num_reviews\": 116, \"normalized_positive_score\": 114.46377824, \"normalized_negative_score\": 1.5362213809052, \"weighted_rating\": 0.9789505983669412, \"rank\": 2, \"rating\": 97.89505983669412}, {\"title\": \"Trifling Women\", \"average_positive_score\": 0.9992484054545456, \"average_negative_score\": 0.000751598120182, \"num_reviews\": 44, \"normalized_positive_score\": 43.966929840000006, \"normalized_negative_score\": 0.0330703172880118, \"weighted_rating\": 0.9786921542506865, \"rank\": 3, \"rating\": 97.86921542506865}, {\"title\": \"Blinky Bill the Movie\", \"average_positive_score\": 0.9980725209090908, \"average_negative_score\": 0.0019274820155393, \"num_reviews\": 44, \"normalized_positive_score\": 43.91519092, \"normalized_negative_score\": 0.0848092086837319, \"weighted_rating\": 0.9776142600840194, \"rank\": 4, \"rating\": 97.76142600840194}, {\"title\": \"Molly's Theory of Relativity\", \"average_positive_score\": 0.999998057, \"average_negative_score\": 1.942951721449868e-06, \"num_reviews\": 40, \"normalized_positive_score\": 39.99992228, \"normalized_negative_score\": 7.771806885799472e-05, \"weighted_rating\": 0.9775049055462032, \"rank\": 5, \"rating\": 97.75049055462031}, {\"title\": \"Blind Willow, Sleeping Woman\", \"average_positive_score\": 1.0, \"average_negative_score\": 8.522315000009178e-23, \"num_reviews\": 32, \"normalized_positive_score\": 32.0, \"normalized_negative_score\": 2.727140800002937e-21, \"weighted_rating\": 0.9725081545564704, \"rank\": 6, \"rating\": 97.25081545564704}, {\"title\": \"California Typewriter\", \"average_positive_score\": 0.9936297735, \"average_negative_score\": 0.0063702265882423, \"num_reviews\": 40, \"normalized_positive_score\": 39.74519094, \"normalized_negative_score\": 0.2548090635296958, \"weighted_rating\": 0.9717155569098396, \"rank\": 7, \"rating\": 97.17155569098395}, {\"title\": \"Half Magic\", \"average_positive_score\": 0.9950310882352942, \"average_negative_score\": 0.0049689127917765, \"num_reviews\": 34, \"normalized_positive_score\": 33.831057, \"normalized_negative_score\": 0.1689430349204025, \"weighted_rating\": 0.969509225369288, \"rank\": 8, \"rating\": 96.9509225369288}, {\"title\": \"Things Never Said\", \"average_positive_score\": 0.9922669266666668, \"average_negative_score\": 0.0077330784471619, \"num_reviews\": 36, \"normalized_positive_score\": 35.72160936, \"normalized_negative_score\": 0.27839082409783, \"weighted_rating\": 0.9682975731008236, \"rank\": 9, \"rating\": 96.82975731008237}, {\"title\": \"I'm Leaving Now\", \"average_positive_score\": 0.9990313485714284, \"average_negative_score\": 0.0009686501978153, \"num_reviews\": 28, \"normalized_positive_score\": 27.97287776, \"normalized_negative_score\": 0.0271222055388308, \"weighted_rating\": 0.9682241038760292, \"rank\": 10, \"rating\": 96.82241038760291}, {\"title\": \"The Farthest\", \"average_positive_score\": 0.9999902925925924, \"average_negative_score\": 9.70705925925926e-06, \"num_reviews\": 27, \"normalized_positive_score\": 26.9997379, \"normalized_negative_score\": 0.0002620906, \"weighted_rating\": 0.9680655310978368, \"rank\": 11, \"rating\": 96.80655310978368}, {\"title\": \"Bill Cunningham New York\", \"average_positive_score\": 0.9795781553424656, \"average_negative_score\": 0.0204218472346919, \"num_reviews\": 73, \"normalized_positive_score\": 71.50920534, \"normalized_negative_score\": 1.490794848132515, \"weighted_rating\": 0.9677857000523756, \"rank\": 12, \"rating\": 96.77857000523757}, {\"title\": \"Richard Linklater: Dream Is Destiny\", \"average_positive_score\": 0.9953919132258064, \"average_negative_score\": 0.0046080889046451, \"num_reviews\": 31, \"normalized_positive_score\": 30.85714931, \"normalized_negative_score\": 0.142850756044, \"weighted_rating\": 0.9676412249723696, \"rank\": 13, \"rating\": 96.76412249723695}, {\"title\": \"Breaking Fast\", \"average_positive_score\": 0.999389125925926, \"average_negative_score\": 0.0006108749145002, \"num_reviews\": 27, \"normalized_positive_score\": 26.9835064, \"normalized_negative_score\": 0.0164936226915055, \"weighted_rating\": 0.9675419343236432, \"rank\": 14, \"rating\": 96.75419343236432}, {\"title\": \"Moonage Daydream\", \"average_positive_score\": 0.9717051444774194, \"average_negative_score\": 0.028294855095545, \"num_reviews\": 155, \"normalized_positive_score\": 150.614297394, \"normalized_negative_score\": 4.385702539809479, \"weighted_rating\": 0.9661923959624714, \"rank\": 15, \"rating\": 96.61923959624714}, {\"title\": \"Suzi Q\", \"average_positive_score\": 0.9946260866666669, \"average_negative_score\": 0.0053739109042667, \"num_reviews\": 30, \"normalized_positive_score\": 29.8387826, \"normalized_negative_score\": 0.1612173271280015, \"weighted_rating\": 0.9661492989421452, \"rank\": 16, \"rating\": 96.61492989421451}, {\"title\": \"Salvatore: Shoemaker of Dreams\", \"average_positive_score\": 0.992385378125, \"average_negative_score\": 0.0076146208935837, \"num_reviews\": 32, \"normalized_positive_score\": 31.7563321, \"normalized_negative_score\": 0.2436678685946806, \"weighted_rating\": 0.9657396017786928, \"rank\": 17, \"rating\": 96.57396017786928}, {\"title\": \"Is the Man Who Is Tall Happy? An Animated Conversation With Noam Chomsky\", \"average_positive_score\": 0.9876368760526316, \"average_negative_score\": 0.0123631248578947, \"num_reviews\": 38, \"normalized_positive_score\": 37.53020129, \"normalized_negative_score\": 0.4697987446, \"weighted_rating\": 0.9652498774769748, \"rank\": 18, \"rating\": 96.52498774769748}, {\"title\": \"The Eyes of Orson Welles\", \"average_positive_score\": 0.9827869632608698, \"average_negative_score\": 0.0172130355513439, \"num_reviews\": 46, \"normalized_positive_score\": 45.20820031000001, \"normalized_negative_score\": 0.7917996353618221, \"weighted_rating\": 0.964369877480659, \"rank\": 19, \"rating\": 96.4369877480659}, {\"title\": \"Gentleman Jim\", \"average_positive_score\": 0.9999992286956522, \"average_negative_score\": 7.678868595652176e-07, \"num_reviews\": 23, \"normalized_positive_score\": 22.99998226, \"normalized_negative_score\": 1.7661397770000005e-05, \"weighted_rating\": 0.963343549038257, \"rank\": 20, \"rating\": 96.3343549038257}]}}, {\"mode\": \"vega-lite\"});\n",
       "</script>"
      ],
      "text/plain": [
       "alt.Chart(...)"
      ]
     },
     "execution_count": 58,
     "metadata": {},
     "output_type": "execute_result"
    }
   ],
   "source": [
    "chart"
   ]
  },
  {
   "cell_type": "code",
   "execution_count": 49,
   "metadata": {},
   "outputs": [],
   "source": [
    "negative_movies = pd.read_csv('../../data/csv/20_negative_movieReviews.csv')"
   ]
  },
  {
   "cell_type": "code",
   "execution_count": 51,
   "metadata": {},
   "outputs": [],
   "source": [
    "negative_movies['rating'] = negative_movies['weighted_rating']*100"
   ]
  },
  {
   "cell_type": "code",
   "execution_count": 77,
   "metadata": {},
   "outputs": [
    {
     "data": {
      "text/html": [
       "<div>\n",
       "<style scoped>\n",
       "    .dataframe tbody tr th:only-of-type {\n",
       "        vertical-align: middle;\n",
       "    }\n",
       "\n",
       "    .dataframe tbody tr th {\n",
       "        vertical-align: top;\n",
       "    }\n",
       "\n",
       "    .dataframe thead th {\n",
       "        text-align: right;\n",
       "    }\n",
       "</style>\n",
       "<table border=\"1\" class=\"dataframe\">\n",
       "  <thead>\n",
       "    <tr style=\"text-align: right;\">\n",
       "      <th></th>\n",
       "      <th>title</th>\n",
       "      <th>average_positive_score</th>\n",
       "      <th>average_negative_score</th>\n",
       "      <th>num_reviews</th>\n",
       "      <th>normalized_positive_score</th>\n",
       "      <th>normalized_negative_score</th>\n",
       "      <th>weighted_rating</th>\n",
       "      <th>rating</th>\n",
       "    </tr>\n",
       "  </thead>\n",
       "  <tbody>\n",
       "    <tr>\n",
       "      <th>0</th>\n",
       "      <td>Dinner With the President: A Nation's Journey</td>\n",
       "      <td>0.001345</td>\n",
       "      <td>0.998655</td>\n",
       "      <td>12</td>\n",
       "      <td>0.016140</td>\n",
       "      <td>11.983860</td>\n",
       "      <td>0.810848</td>\n",
       "      <td>81.084789</td>\n",
       "    </tr>\n",
       "    <tr>\n",
       "      <th>1</th>\n",
       "      <td>Fangs</td>\n",
       "      <td>0.000113</td>\n",
       "      <td>0.999887</td>\n",
       "      <td>8</td>\n",
       "      <td>0.000903</td>\n",
       "      <td>7.999097</td>\n",
       "      <td>0.749067</td>\n",
       "      <td>74.906688</td>\n",
       "    </tr>\n",
       "    <tr>\n",
       "      <th>2</th>\n",
       "      <td>Elephant Tales</td>\n",
       "      <td>0.002093</td>\n",
       "      <td>0.997907</td>\n",
       "      <td>8</td>\n",
       "      <td>0.016745</td>\n",
       "      <td>7.983255</td>\n",
       "      <td>0.747747</td>\n",
       "      <td>74.774676</td>\n",
       "    </tr>\n",
       "    <tr>\n",
       "      <th>3</th>\n",
       "      <td>Arisaka</td>\n",
       "      <td>0.005490</td>\n",
       "      <td>0.994510</td>\n",
       "      <td>8</td>\n",
       "      <td>0.043917</td>\n",
       "      <td>7.956083</td>\n",
       "      <td>0.745482</td>\n",
       "      <td>74.548237</td>\n",
       "    </tr>\n",
       "    <tr>\n",
       "      <th>4</th>\n",
       "      <td>The Phantom Planet</td>\n",
       "      <td>0.009694</td>\n",
       "      <td>0.990306</td>\n",
       "      <td>8</td>\n",
       "      <td>0.077551</td>\n",
       "      <td>7.922449</td>\n",
       "      <td>0.742680</td>\n",
       "      <td>74.267956</td>\n",
       "    </tr>\n",
       "    <tr>\n",
       "      <th>5</th>\n",
       "      <td>12 in a Box</td>\n",
       "      <td>0.002758</td>\n",
       "      <td>0.997242</td>\n",
       "      <td>6</td>\n",
       "      <td>0.016546</td>\n",
       "      <td>5.983454</td>\n",
       "      <td>0.697316</td>\n",
       "      <td>69.731595</td>\n",
       "    </tr>\n",
       "    <tr>\n",
       "      <th>6</th>\n",
       "      <td>Audrie &amp; Daisy</td>\n",
       "      <td>0.197870</td>\n",
       "      <td>0.802130</td>\n",
       "      <td>16</td>\n",
       "      <td>3.165920</td>\n",
       "      <td>12.834080</td>\n",
       "      <td>0.691189</td>\n",
       "      <td>69.118930</td>\n",
       "    </tr>\n",
       "    <tr>\n",
       "      <th>7</th>\n",
       "      <td>A Tree of Life: The Pittsburgh Synagogue Shooting</td>\n",
       "      <td>0.112926</td>\n",
       "      <td>0.887074</td>\n",
       "      <td>9</td>\n",
       "      <td>1.016336</td>\n",
       "      <td>7.983664</td>\n",
       "      <td>0.690259</td>\n",
       "      <td>69.025924</td>\n",
       "    </tr>\n",
       "    <tr>\n",
       "      <th>8</th>\n",
       "      <td>Tears of Gaza</td>\n",
       "      <td>0.163763</td>\n",
       "      <td>0.836237</td>\n",
       "      <td>12</td>\n",
       "      <td>1.965156</td>\n",
       "      <td>10.034844</td>\n",
       "      <td>0.689034</td>\n",
       "      <td>68.903436</td>\n",
       "    </tr>\n",
       "    <tr>\n",
       "      <th>9</th>\n",
       "      <td>Moscow Zero</td>\n",
       "      <td>0.104067</td>\n",
       "      <td>0.895933</td>\n",
       "      <td>8</td>\n",
       "      <td>0.832539</td>\n",
       "      <td>7.167461</td>\n",
       "      <td>0.679764</td>\n",
       "      <td>67.976394</td>\n",
       "    </tr>\n",
       "    <tr>\n",
       "      <th>10</th>\n",
       "      <td>Of Fish and Foe</td>\n",
       "      <td>0.033334</td>\n",
       "      <td>0.966666</td>\n",
       "      <td>6</td>\n",
       "      <td>0.200005</td>\n",
       "      <td>5.799995</td>\n",
       "      <td>0.678970</td>\n",
       "      <td>67.897006</td>\n",
       "    </tr>\n",
       "    <tr>\n",
       "      <th>11</th>\n",
       "      <td>37</td>\n",
       "      <td>0.141844</td>\n",
       "      <td>0.858156</td>\n",
       "      <td>9</td>\n",
       "      <td>1.276594</td>\n",
       "      <td>7.723406</td>\n",
       "      <td>0.670239</td>\n",
       "      <td>67.023936</td>\n",
       "    </tr>\n",
       "    <tr>\n",
       "      <th>12</th>\n",
       "      <td>Gut Renovation</td>\n",
       "      <td>0.164842</td>\n",
       "      <td>0.835158</td>\n",
       "      <td>10</td>\n",
       "      <td>1.648419</td>\n",
       "      <td>8.351581</td>\n",
       "      <td>0.667235</td>\n",
       "      <td>66.723478</td>\n",
       "    </tr>\n",
       "    <tr>\n",
       "      <th>13</th>\n",
       "      <td>Bloody Birthday</td>\n",
       "      <td>0.093635</td>\n",
       "      <td>0.906365</td>\n",
       "      <td>7</td>\n",
       "      <td>0.655443</td>\n",
       "      <td>6.344557</td>\n",
       "      <td>0.666751</td>\n",
       "      <td>66.675116</td>\n",
       "    </tr>\n",
       "    <tr>\n",
       "      <th>14</th>\n",
       "      <td>Cries From Syria</td>\n",
       "      <td>0.215348</td>\n",
       "      <td>0.784652</td>\n",
       "      <td>14</td>\n",
       "      <td>3.014873</td>\n",
       "      <td>10.985127</td>\n",
       "      <td>0.665268</td>\n",
       "      <td>66.526850</td>\n",
       "    </tr>\n",
       "    <tr>\n",
       "      <th>15</th>\n",
       "      <td>American Relapse</td>\n",
       "      <td>0.127941</td>\n",
       "      <td>0.872059</td>\n",
       "      <td>8</td>\n",
       "      <td>1.023525</td>\n",
       "      <td>6.976474</td>\n",
       "      <td>0.663848</td>\n",
       "      <td>66.384836</td>\n",
       "    </tr>\n",
       "    <tr>\n",
       "      <th>16</th>\n",
       "      <td>The Bad News Bears Go to Japan</td>\n",
       "      <td>0.189228</td>\n",
       "      <td>0.810772</td>\n",
       "      <td>11</td>\n",
       "      <td>2.081504</td>\n",
       "      <td>8.918496</td>\n",
       "      <td>0.660547</td>\n",
       "      <td>66.054678</td>\n",
       "    </tr>\n",
       "    <tr>\n",
       "      <th>17</th>\n",
       "      <td>May Fools</td>\n",
       "      <td>0.203405</td>\n",
       "      <td>0.796596</td>\n",
       "      <td>12</td>\n",
       "      <td>2.440854</td>\n",
       "      <td>9.559146</td>\n",
       "      <td>0.659303</td>\n",
       "      <td>65.930324</td>\n",
       "    </tr>\n",
       "    <tr>\n",
       "      <th>18</th>\n",
       "      <td>Private Violence</td>\n",
       "      <td>0.205662</td>\n",
       "      <td>0.794338</td>\n",
       "      <td>12</td>\n",
       "      <td>2.467950</td>\n",
       "      <td>9.532050</td>\n",
       "      <td>0.657610</td>\n",
       "      <td>65.760974</td>\n",
       "    </tr>\n",
       "    <tr>\n",
       "      <th>19</th>\n",
       "      <td>Radioland Murders</td>\n",
       "      <td>0.108112</td>\n",
       "      <td>0.891888</td>\n",
       "      <td>7</td>\n",
       "      <td>0.756786</td>\n",
       "      <td>6.243214</td>\n",
       "      <td>0.657538</td>\n",
       "      <td>65.753817</td>\n",
       "    </tr>\n",
       "  </tbody>\n",
       "</table>\n",
       "</div>"
      ],
      "text/plain": [
       "                                                title  average_positive_score  \\\n",
       "0       Dinner With the President: A Nation's Journey                0.001345   \n",
       "1                                               Fangs                0.000113   \n",
       "2                                      Elephant Tales                0.002093   \n",
       "3                                             Arisaka                0.005490   \n",
       "4                                  The Phantom Planet                0.009694   \n",
       "5                                         12 in a Box                0.002758   \n",
       "6                                      Audrie & Daisy                0.197870   \n",
       "7   A Tree of Life: The Pittsburgh Synagogue Shooting                0.112926   \n",
       "8                                       Tears of Gaza                0.163763   \n",
       "9                                         Moscow Zero                0.104067   \n",
       "10                                    Of Fish and Foe                0.033334   \n",
       "11                                                 37                0.141844   \n",
       "12                                     Gut Renovation                0.164842   \n",
       "13                                    Bloody Birthday                0.093635   \n",
       "14                                   Cries From Syria                0.215348   \n",
       "15                                   American Relapse                0.127941   \n",
       "16                     The Bad News Bears Go to Japan                0.189228   \n",
       "17                                          May Fools                0.203405   \n",
       "18                                   Private Violence                0.205662   \n",
       "19                                  Radioland Murders                0.108112   \n",
       "\n",
       "    average_negative_score  num_reviews  normalized_positive_score  \\\n",
       "0                 0.998655           12                   0.016140   \n",
       "1                 0.999887            8                   0.000903   \n",
       "2                 0.997907            8                   0.016745   \n",
       "3                 0.994510            8                   0.043917   \n",
       "4                 0.990306            8                   0.077551   \n",
       "5                 0.997242            6                   0.016546   \n",
       "6                 0.802130           16                   3.165920   \n",
       "7                 0.887074            9                   1.016336   \n",
       "8                 0.836237           12                   1.965156   \n",
       "9                 0.895933            8                   0.832539   \n",
       "10                0.966666            6                   0.200005   \n",
       "11                0.858156            9                   1.276594   \n",
       "12                0.835158           10                   1.648419   \n",
       "13                0.906365            7                   0.655443   \n",
       "14                0.784652           14                   3.014873   \n",
       "15                0.872059            8                   1.023525   \n",
       "16                0.810772           11                   2.081504   \n",
       "17                0.796596           12                   2.440854   \n",
       "18                0.794338           12                   2.467950   \n",
       "19                0.891888            7                   0.756786   \n",
       "\n",
       "    normalized_negative_score  weighted_rating     rating  \n",
       "0                   11.983860         0.810848  81.084789  \n",
       "1                    7.999097         0.749067  74.906688  \n",
       "2                    7.983255         0.747747  74.774676  \n",
       "3                    7.956083         0.745482  74.548237  \n",
       "4                    7.922449         0.742680  74.267956  \n",
       "5                    5.983454         0.697316  69.731595  \n",
       "6                   12.834080         0.691189  69.118930  \n",
       "7                    7.983664         0.690259  69.025924  \n",
       "8                   10.034844         0.689034  68.903436  \n",
       "9                    7.167461         0.679764  67.976394  \n",
       "10                   5.799995         0.678970  67.897006  \n",
       "11                   7.723406         0.670239  67.023936  \n",
       "12                   8.351581         0.667235  66.723478  \n",
       "13                   6.344557         0.666751  66.675116  \n",
       "14                  10.985127         0.665268  66.526850  \n",
       "15                   6.976474         0.663848  66.384836  \n",
       "16                   8.918496         0.660547  66.054678  \n",
       "17                   9.559146         0.659303  65.930324  \n",
       "18                   9.532050         0.657610  65.760974  \n",
       "19                   6.243214         0.657538  65.753817  "
      ]
     },
     "execution_count": 77,
     "metadata": {},
     "output_type": "execute_result"
    }
   ],
   "source": [
    "negative_movies"
   ]
  },
  {
   "cell_type": "code",
   "execution_count": 78,
   "metadata": {},
   "outputs": [],
   "source": [
    "# Creating the Altair bar chart\n",
    "chart_neg = alt.Chart(negative_movies).mark_bar(color = '#8B0000',opacity=0.5).encode(\n",
    "    y=alt.Y('title', title='Movie Title', sort='-x'),\n",
    "    x=alt.X('rating', title='Movie Rating', scale=alt.Scale(domain=[60, 85])),\n",
    "    tooltip=['title', 'rating']\n",
    ").properties(\n",
    "    title='Movies with the Highest Negative Ratings',\n",
    "    width=800,\n",
    "    height=400\n",
    ")\n"
   ]
  },
  {
   "cell_type": "code",
   "execution_count": 79,
   "metadata": {},
   "outputs": [],
   "source": [
    "# Configuring title font size\n",
    "chart_neg = chart_neg.configure_title(\n",
    "    fontSize=20  # Adjust the title font size as needed\n",
    ")\n",
    "\n",
    "# Configuring axis label font size\n",
    "chart_neg = chart_neg.configure_axis(\n",
    "    labelFontSize=14,\n",
    "    titleFontSize=16\n",
    ")"
   ]
  },
  {
   "cell_type": "code",
   "execution_count": 80,
   "metadata": {},
   "outputs": [
    {
     "name": "stderr",
     "output_type": "stream",
     "text": [
      "/Users/sangeetha/opt/anaconda3/envs/anly503/lib/python3.10/site-packages/altair/utils/core.py:317: FutureWarning: iteritems is deprecated and will be removed in a future version. Use .items instead.\n",
      "  for col_name, dtype in df.dtypes.iteritems():\n"
     ]
    },
    {
     "data": {
      "text/html": [
       "\n",
       "<div id=\"altair-viz-3482ffdac2d24fc5985f3bb32d2c152c\"></div>\n",
       "<script type=\"text/javascript\">\n",
       "  var VEGA_DEBUG = (typeof VEGA_DEBUG == \"undefined\") ? {} : VEGA_DEBUG;\n",
       "  (function(spec, embedOpt){\n",
       "    let outputDiv = document.currentScript.previousElementSibling;\n",
       "    if (outputDiv.id !== \"altair-viz-3482ffdac2d24fc5985f3bb32d2c152c\") {\n",
       "      outputDiv = document.getElementById(\"altair-viz-3482ffdac2d24fc5985f3bb32d2c152c\");\n",
       "    }\n",
       "    const paths = {\n",
       "      \"vega\": \"https://cdn.jsdelivr.net/npm//vega@5?noext\",\n",
       "      \"vega-lib\": \"https://cdn.jsdelivr.net/npm//vega-lib?noext\",\n",
       "      \"vega-lite\": \"https://cdn.jsdelivr.net/npm//vega-lite@4.17.0?noext\",\n",
       "      \"vega-embed\": \"https://cdn.jsdelivr.net/npm//vega-embed@6?noext\",\n",
       "    };\n",
       "\n",
       "    function maybeLoadScript(lib, version) {\n",
       "      var key = `${lib.replace(\"-\", \"\")}_version`;\n",
       "      return (VEGA_DEBUG[key] == version) ?\n",
       "        Promise.resolve(paths[lib]) :\n",
       "        new Promise(function(resolve, reject) {\n",
       "          var s = document.createElement('script');\n",
       "          document.getElementsByTagName(\"head\")[0].appendChild(s);\n",
       "          s.async = true;\n",
       "          s.onload = () => {\n",
       "            VEGA_DEBUG[key] = version;\n",
       "            return resolve(paths[lib]);\n",
       "          };\n",
       "          s.onerror = () => reject(`Error loading script: ${paths[lib]}`);\n",
       "          s.src = paths[lib];\n",
       "        });\n",
       "    }\n",
       "\n",
       "    function showError(err) {\n",
       "      outputDiv.innerHTML = `<div class=\"error\" style=\"color:red;\">${err}</div>`;\n",
       "      throw err;\n",
       "    }\n",
       "\n",
       "    function displayChart(vegaEmbed) {\n",
       "      vegaEmbed(outputDiv, spec, embedOpt)\n",
       "        .catch(err => showError(`Javascript Error: ${err.message}<br>This usually means there's a typo in your chart specification. See the javascript console for the full traceback.`));\n",
       "    }\n",
       "\n",
       "    if(typeof define === \"function\" && define.amd) {\n",
       "      requirejs.config({paths});\n",
       "      require([\"vega-embed\"], displayChart, err => showError(`Error loading script: ${err.message}`));\n",
       "    } else {\n",
       "      maybeLoadScript(\"vega\", \"5\")\n",
       "        .then(() => maybeLoadScript(\"vega-lite\", \"4.17.0\"))\n",
       "        .then(() => maybeLoadScript(\"vega-embed\", \"6\"))\n",
       "        .catch(showError)\n",
       "        .then(() => displayChart(vegaEmbed));\n",
       "    }\n",
       "  })({\"config\": {\"view\": {\"continuousWidth\": 400, \"continuousHeight\": 300}, \"axis\": {\"labelFontSize\": 14, \"titleFontSize\": 16}, \"title\": {\"fontSize\": 20}}, \"data\": {\"name\": \"data-c4770fafdbe02c7ea2ee59ccf7f1b765\"}, \"mark\": {\"type\": \"bar\", \"color\": \"#8B0000\", \"opacity\": 0.5}, \"encoding\": {\"tooltip\": [{\"field\": \"title\", \"type\": \"nominal\"}, {\"field\": \"rating\", \"type\": \"quantitative\"}], \"x\": {\"field\": \"rating\", \"scale\": {\"domain\": [60, 85]}, \"title\": \"Movie Rating\", \"type\": \"quantitative\"}, \"y\": {\"field\": \"title\", \"sort\": \"-x\", \"title\": \"Movie Title\", \"type\": \"nominal\"}}, \"height\": 400, \"title\": \"Movies with the Highest Negative Ratings\", \"width\": 800, \"$schema\": \"https://vega.github.io/schema/vega-lite/v4.17.0.json\", \"datasets\": {\"data-c4770fafdbe02c7ea2ee59ccf7f1b765\": [{\"title\": \"Dinner With the President: A Nation's Journey\", \"average_positive_score\": 0.0013449588175797, \"average_negative_score\": 0.9986550333333334, \"num_reviews\": 12, \"normalized_positive_score\": 0.016139505810957, \"normalized_negative_score\": 11.9838604, \"weighted_rating\": 0.8108478919403085, \"rating\": 81.08478919403085}, {\"title\": \"Fangs\", \"average_positive_score\": 0.00011290101, \"average_negative_score\": 0.99988708, \"num_reviews\": 8, \"normalized_positive_score\": 0.00090320808, \"normalized_negative_score\": 7.999096639999999, \"weighted_rating\": 0.7490668759204112, \"rating\": 74.90668759204112}, {\"title\": \"Elephant Tales\", \"average_positive_score\": 0.00209309, \"average_negative_score\": 0.9979069, \"num_reviews\": 8, \"normalized_positive_score\": 0.01674472, \"normalized_negative_score\": 7.9832552, \"weighted_rating\": 0.7477467559204113, \"rating\": 74.77467559204113}, {\"title\": \"Arisaka\", \"average_positive_score\": 0.0054896825, \"average_negative_score\": 0.994510325, \"num_reviews\": 8, \"normalized_positive_score\": 0.04391746, \"normalized_negative_score\": 7.9560826, \"weighted_rating\": 0.745482372587078, \"rating\": 74.5482372587078}, {\"title\": \"The Phantom Planet\", \"average_positive_score\": 0.009693876, \"average_negative_score\": 0.9903061, \"num_reviews\": 8, \"normalized_positive_score\": 0.077551008, \"normalized_negative_score\": 7.9224488, \"weighted_rating\": 0.7426795559204112, \"rating\": 74.26795559204112}, {\"title\": \"12 in a Box\", \"average_positive_score\": 0.0027577323666718, \"average_negative_score\": 0.997242275, \"num_reviews\": 6, \"normalized_positive_score\": 0.0165463942000311, \"normalized_negative_score\": 5.98345365, \"weighted_rating\": 0.6973159521044934, \"rating\": 69.73159521044934}, {\"title\": \"Audrie & Daisy\", \"average_positive_score\": 0.1978699861515145, \"average_negative_score\": 0.8021300082483125, \"num_reviews\": 16, \"normalized_positive_score\": 3.165919778424233, \"normalized_negative_score\": 12.834080131973, \"weighted_rating\": 0.6911893001508967, \"rating\": 69.11893001508967}, {\"title\": \"A Tree of Life: The Pittsburgh Synagogue Shooting\", \"average_positive_score\": 0.1129261996662064, \"average_negative_score\": 0.8870738077777778, \"num_reviews\": 9, \"normalized_positive_score\": 1.0163357969958582, \"normalized_negative_score\": 7.98366427, \"weighted_rating\": 0.6902592416188412, \"rating\": 69.02592416188412}, {\"title\": \"Tears of Gaza\", \"average_positive_score\": 0.1637630069124157, \"average_negative_score\": 0.8362369925015368, \"num_reviews\": 12, \"normalized_positive_score\": 1.9651560829489891, \"normalized_negative_score\": 10.03484391001844, \"weighted_rating\": 0.689034361316461, \"rating\": 68.9034361316461}, {\"title\": \"Moscow Zero\", \"average_positive_score\": 0.104067325, \"average_negative_score\": 0.8959326750000001, \"num_reviews\": 8, \"normalized_positive_score\": 0.8325386, \"normalized_negative_score\": 7.1674614000000005, \"weighted_rating\": 0.6797639392537446, \"rating\": 67.97639392537445}, {\"title\": \"Of Fish and Foe\", \"average_positive_score\": 0.0333342232345999, \"average_negative_score\": 0.966665785, \"num_reviews\": 6, \"normalized_positive_score\": 0.2000053394075999, \"normalized_negative_score\": 5.79999471, \"weighted_rating\": 0.6789700581044935, \"rating\": 67.89700581044936}, {\"title\": \"37\", \"average_positive_score\": 0.1418437821211111, \"average_negative_score\": 0.8581562066666666, \"num_reviews\": 9, \"normalized_positive_score\": 1.27659403909, \"normalized_negative_score\": 7.72340586, \"weighted_rating\": 0.6702393639265335, \"rating\": 67.02393639265335}, {\"title\": \"Gut Renovation\", \"average_positive_score\": 0.1648418980545299, \"average_negative_score\": 0.8351581099999998, \"num_reviews\": 10, \"normalized_positive_score\": 1.6484189805452998, \"normalized_negative_score\": 8.351581099999999, \"weighted_rating\": 0.6672347836460667, \"rating\": 66.72347836460666}, {\"title\": \"Bloody Birthday\", \"average_positive_score\": 0.0936347390876285, \"average_negative_score\": 0.90636527, \"num_reviews\": 7, \"normalized_positive_score\": 0.6554431736134, \"normalized_negative_score\": 6.34455689, \"weighted_rating\": 0.666751160094994, \"rating\": 66.6751160094994}, {\"title\": \"Cries From Syria\", \"average_positive_score\": 0.2153480467293071, \"average_negative_score\": 0.7846519376643053, \"num_reviews\": 14, \"normalized_positive_score\": 3.0148726542103, \"normalized_negative_score\": 10.985127127300274, \"weighted_rating\": 0.6652684999080672, \"rating\": 66.52684999080672}, {\"title\": \"American Relapse\", \"average_positive_score\": 0.1279406844121865, \"average_negative_score\": 0.8720593075, \"num_reviews\": 8, \"normalized_positive_score\": 1.0235254752974925, \"normalized_negative_score\": 6.97647446, \"weighted_rating\": 0.6638483609204112, \"rating\": 66.38483609204113}, {\"title\": \"The Bad News Bears Go to Japan\", \"average_positive_score\": 0.1892276627275925, \"average_negative_score\": 0.8107723525272728, \"num_reviews\": 11, \"normalized_positive_score\": 2.081504290003518, \"normalized_negative_score\": 8.9184958778, \"weighted_rating\": 0.660546783256329, \"rating\": 66.05467832563289}, {\"title\": \"May Fools\", \"average_positive_score\": 0.20340451, \"average_negative_score\": 0.7965955, \"num_reviews\": 12, \"normalized_positive_score\": 2.44085412, \"normalized_negative_score\": 9.559146, \"weighted_rating\": 0.6593032419403084, \"rating\": 65.93032419403085}, {\"title\": \"Private Violence\", \"average_positive_score\": 0.2056624924801545, \"average_negative_score\": 0.7943375, \"num_reviews\": 12, \"normalized_positive_score\": 2.4679499097618547, \"normalized_negative_score\": 9.53205, \"weighted_rating\": 0.6576097419403084, \"rating\": 65.76097419403084}, {\"title\": \"Radioland Murders\", \"average_positive_score\": 0.1081122971428571, \"average_negative_score\": 0.891887707142857, \"num_reviews\": 7, \"normalized_positive_score\": 0.75678608, \"normalized_negative_score\": 6.24321395, \"weighted_rating\": 0.6575381655495395, \"rating\": 65.75381655495394}]}}, {\"mode\": \"vega-lite\"});\n",
       "</script>"
      ],
      "text/plain": [
       "alt.Chart(...)"
      ]
     },
     "execution_count": 80,
     "metadata": {},
     "output_type": "execute_result"
    }
   ],
   "source": [
    "chart_neg"
   ]
  },
  {
   "cell_type": "code",
   "execution_count": null,
   "metadata": {},
   "outputs": [],
   "source": []
  },
  {
   "cell_type": "code",
   "execution_count": null,
   "metadata": {},
   "outputs": [],
   "source": []
  }
 ],
 "metadata": {
  "kernelspec": {
   "display_name": "dsan6600",
   "language": "python",
   "name": "python3"
  },
  "language_info": {
   "codemirror_mode": {
    "name": "ipython",
    "version": 3
   },
   "file_extension": ".py",
   "mimetype": "text/x-python",
   "name": "python",
   "nbconvert_exporter": "python",
   "pygments_lexer": "ipython3",
   "version": "3.10.8"
  }
 },
 "nbformat": 4,
 "nbformat_minor": 2
}
