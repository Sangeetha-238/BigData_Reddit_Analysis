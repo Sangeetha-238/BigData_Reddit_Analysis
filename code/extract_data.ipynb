{
  "cells": [
    {
      "cell_type": "code",
      "source": [
        "spark"
      ],
      "outputs": [
        {
          "output_type": "display_data",
          "data": {
            "application/vnd.livy.statement-meta+json": {
              "spark_pool": "9d2667d4-d95f-4c64-adf7-bfab734cf5c0",
              "session_id": "13",
              "statement_id": 6,
              "state": "finished",
              "livy_statement_state": "available",
              "queued_time": "2023-11-10T10:52:30.8861866Z",
              "session_start_time": "2023-11-10T10:52:30.933716Z",
              "execution_start_time": "2023-11-10T10:53:45.5958415Z",
              "execution_finish_time": "2023-11-10T10:53:46.0002598Z",
              "spark_jobs": {
                "numbers": {
                  "UNKNOWN": 0,
                  "SUCCEEDED": 0,
                  "FAILED": 0,
                  "RUNNING": 0
                },
                "jobs": [],
                "limit": 20,
                "rule": "ALL_DESC"
              },
              "parent_msg_id": "c57a6a7e-aeca-41bb-8ab4-008fdb2430d9"
            },
            "text/plain": "StatementMeta(9d2667d4-d95f-4c64-adf7-bfab734cf5c0, 13, 6, Finished, Available)"
          },
          "metadata": {}
        },
        {
          "output_type": "execute_result",
          "execution_count": 11,
          "data": {
            "text/plain": "<pyspark.sql.session.SparkSession at 0x7fef5c9fd880>",
            "text/html": "\n            <div>\n                <p><b>SparkSession - hive</b></p>\n                \n        <div>\n            <p><b>SparkContext</b></p>\n\n            <p><a href=\"http://vm-3da13448:35551\">Spark UI</a></p>\n\n            <dl>\n              <dt>Version</dt>\n                <dd><code>v3.2.2.5.1-100879434</code></dd>\n              <dt>Master</dt>\n                <dd><code>yarn</code></dd>\n              <dt>AppName</dt>\n                <dd><code>Azure ML Experiment</code></dd>\n            </dl>\n        </div>\n        \n            </div>\n        "
          },
          "metadata": {}
        }
      ],
      "execution_count": 1,
      "metadata": {
        "gather": {
          "logged": 1699613626594
        }
      }
    },
    {
      "cell_type": "code",
      "source": [
        "blob_account_name = \"marckvnonprodblob\"\n",
        "blob_container_name = \"bigdata\"\n",
        "# read only\n",
        "blob_sas_token = \"?sv=2021-10-04&st=2023-10-04T01%3A42%3A59Z&se=2024-01-02T02%3A42%3A00Z&sr=c&sp=rlf&sig=w3CH9MbCOpwO7DtHlrahc7AlRPxSZZb8MOgS6TaXLzI%3D\"\n",
        "\n",
        "wasbs_base_url = (\n",
        "    f\"wasbs://{blob_container_name}@{blob_account_name}.blob.core.windows.net/\"\n",
        ")\n",
        "spark.conf.set(\n",
        "    f\"fs.azure.sas.{blob_container_name}.{blob_account_name}.blob.core.windows.net\",\n",
        "    blob_sas_token,\n",
        ")"
      ],
      "outputs": [
        {
          "output_type": "display_data",
          "data": {
            "application/vnd.livy.statement-meta+json": {
              "spark_pool": "9d2667d4-d95f-4c64-adf7-bfab734cf5c0",
              "session_id": "14",
              "statement_id": 10,
              "state": "finished",
              "livy_statement_state": "available",
              "queued_time": "2023-11-10T11:56:38.8171874Z",
              "session_start_time": null,
              "execution_start_time": "2023-11-10T11:56:38.9691255Z",
              "execution_finish_time": "2023-11-10T11:56:39.2613976Z",
              "spark_jobs": {
                "numbers": {
                  "UNKNOWN": 0,
                  "SUCCEEDED": 0,
                  "FAILED": 0,
                  "RUNNING": 0
                },
                "jobs": [],
                "limit": 20,
                "rule": "ALL_DESC"
              },
              "parent_msg_id": "bde8242d-eb78-4a40-88fb-0df7a4705767"
            },
            "text/plain": "StatementMeta(9d2667d4-d95f-4c64-adf7-bfab734cf5c0, 14, 10, Finished, Available)"
          },
          "metadata": {}
        }
      ],
      "execution_count": 5,
      "metadata": {
        "jupyter": {
          "source_hidden": false,
          "outputs_hidden": false
        },
        "nteract": {
          "transient": {
            "deleting": false
          }
        },
        "gather": {
          "logged": 1699617399367
        },
        "editable": true,
        "run_control": {
          "frozen": false
        }
      }
    },
    {
      "cell_type": "code",
      "source": [
        "comments_path = \"reddit-parquet/comments/\"\n",
        "submissions_path = \"reddit-parquet/submissions/\""
      ],
      "outputs": [
        {
          "output_type": "display_data",
          "data": {
            "application/vnd.livy.statement-meta+json": {
              "spark_pool": "9d2667d4-d95f-4c64-adf7-bfab734cf5c0",
              "session_id": "14",
              "statement_id": 13,
              "state": "finished",
              "livy_statement_state": "available",
              "queued_time": "2023-11-10T12:00:37.5474907Z",
              "session_start_time": null,
              "execution_start_time": "2023-11-10T12:00:37.7151032Z",
              "execution_finish_time": "2023-11-10T12:00:38.0266494Z",
              "spark_jobs": {
                "numbers": {
                  "UNKNOWN": 0,
                  "SUCCEEDED": 0,
                  "FAILED": 0,
                  "RUNNING": 0
                },
                "jobs": [],
                "limit": 20,
                "rule": "ALL_DESC"
              },
              "parent_msg_id": "7f334d70-1d8f-40a3-8983-af8f54054b05"
            },
            "text/plain": "StatementMeta(9d2667d4-d95f-4c64-adf7-bfab734cf5c0, 14, 13, Finished, Available)"
          },
          "metadata": {}
        }
      ],
      "execution_count": 8,
      "metadata": {
        "jupyter": {
          "source_hidden": false,
          "outputs_hidden": false
        },
        "nteract": {
          "transient": {
            "deleting": false
          }
        },
        "gather": {
          "logged": 1699617638217
        }
      }
    },
    {
      "cell_type": "code",
      "source": [
        "submissions_df = spark.read.parquet(f\"{wasbs_base_url}{submissions_path}\")"
      ],
      "outputs": [
        {
          "output_type": "display_data",
          "data": {
            "application/vnd.livy.statement-meta+json": {
              "spark_pool": "9d2667d4-d95f-4c64-adf7-bfab734cf5c0",
              "session_id": "14",
              "statement_id": 14,
              "state": "finished",
              "livy_statement_state": "available",
              "queued_time": "2023-11-10T12:00:39.0574698Z",
              "session_start_time": null,
              "execution_start_time": "2023-11-10T12:00:39.2109929Z",
              "execution_finish_time": "2023-11-10T12:00:47.2184047Z",
              "spark_jobs": {
                "numbers": {
                  "UNKNOWN": 0,
                  "SUCCEEDED": 1,
                  "FAILED": 0,
                  "RUNNING": 0
                },
                "jobs": [
                  {
                    "displayName": "parquet at NativeMethodAccessorImpl.java:0",
                    "dataWritten": 0,
                    "dataRead": 0,
                    "rowCount": 0,
                    "usageDescription": "",
                    "jobId": 1,
                    "name": "parquet at NativeMethodAccessorImpl.java:0",
                    "description": "Job group for statement 14:\nsubmissions_df = spark.read.parquet(f\"{wasbs_base_url}{submissions_path}\")",
                    "submissionTime": "2023-11-10T12:00:46.168GMT",
                    "completionTime": "2023-11-10T12:00:46.661GMT",
                    "stageIds": [
                      1
                    ],
                    "jobGroup": "14",
                    "status": "SUCCEEDED",
                    "numTasks": 1,
                    "numActiveTasks": 0,
                    "numCompletedTasks": 1,
                    "numSkippedTasks": 0,
                    "numFailedTasks": 0,
                    "numKilledTasks": 0,
                    "numCompletedIndices": 1,
                    "numActiveStages": 0,
                    "numCompletedStages": 1,
                    "numSkippedStages": 0,
                    "numFailedStages": 0,
                    "killedTasksSummary": {}
                  }
                ],
                "limit": 20,
                "rule": "ALL_DESC"
              },
              "parent_msg_id": "2e5cbac0-fccf-4673-a7a4-651500b4a9c4"
            },
            "text/plain": "StatementMeta(9d2667d4-d95f-4c64-adf7-bfab734cf5c0, 14, 14, Finished, Available)"
          },
          "metadata": {}
        }
      ],
      "execution_count": 9,
      "metadata": {
        "jupyter": {
          "source_hidden": false,
          "outputs_hidden": false
        },
        "nteract": {
          "transient": {
            "deleting": false
          }
        },
        "gather": {
          "logged": 1699617647345
        }
      }
    },
    {
      "cell_type": "code",
      "source": [
        "submissions_filtered = submissions_df.filter(submissions_df.subreddit == \"movies\")"
      ],
      "outputs": [
        {
          "output_type": "display_data",
          "data": {
            "application/vnd.livy.statement-meta+json": {
              "spark_pool": "9d2667d4-d95f-4c64-adf7-bfab734cf5c0",
              "session_id": "14",
              "statement_id": 17,
              "state": "finished",
              "livy_statement_state": "available",
              "queued_time": "2023-11-10T12:09:21.1736424Z",
              "session_start_time": null,
              "execution_start_time": "2023-11-10T12:09:21.3383464Z",
              "execution_finish_time": "2023-11-10T12:09:21.6289532Z",
              "spark_jobs": {
                "numbers": {
                  "UNKNOWN": 0,
                  "SUCCEEDED": 0,
                  "FAILED": 0,
                  "RUNNING": 0
                },
                "jobs": [],
                "limit": 20,
                "rule": "ALL_DESC"
              },
              "parent_msg_id": "6988fca3-c9c3-47cb-896c-954f8676824d"
            },
            "text/plain": "StatementMeta(9d2667d4-d95f-4c64-adf7-bfab734cf5c0, 14, 17, Finished, Available)"
          },
          "metadata": {}
        }
      ],
      "execution_count": 12,
      "metadata": {
        "jupyter": {
          "source_hidden": false,
          "outputs_hidden": false
        },
        "nteract": {
          "transient": {
            "deleting": false
          }
        },
        "gather": {
          "logged": 1699618161784
        }
      }
    },
    {
      "cell_type": "code",
      "source": [
        "submissions_filtered.show()"
      ],
      "outputs": [
        {
          "output_type": "display_data",
          "data": {
            "application/vnd.livy.statement-meta+json": {
              "spark_pool": "9d2667d4-d95f-4c64-adf7-bfab734cf5c0",
              "session_id": "14",
              "statement_id": 18,
              "state": "finished",
              "livy_statement_state": "available",
              "queued_time": "2023-11-10T12:09:24.311103Z",
              "session_start_time": null,
              "execution_start_time": "2023-11-10T12:09:24.5179042Z",
              "execution_finish_time": "2023-11-10T12:09:36.4858122Z",
              "spark_jobs": {
                "numbers": {
                  "UNKNOWN": 0,
                  "SUCCEEDED": 1,
                  "FAILED": 0,
                  "RUNNING": 0
                },
                "jobs": [
                  {
                    "displayName": "showString at NativeMethodAccessorImpl.java:0",
                    "dataWritten": 0,
                    "dataRead": 48136529,
                    "rowCount": 68812,
                    "usageDescription": "",
                    "jobId": 3,
                    "name": "showString at NativeMethodAccessorImpl.java:0",
                    "description": "Job group for statement 18:\nsubmissions_filtered.show()",
                    "submissionTime": "2023-11-10T12:09:25.015GMT",
                    "completionTime": "2023-11-10T12:09:35.318GMT",
                    "stageIds": [
                      3
                    ],
                    "jobGroup": "18",
                    "status": "SUCCEEDED",
                    "numTasks": 1,
                    "numActiveTasks": 0,
                    "numCompletedTasks": 1,
                    "numSkippedTasks": 0,
                    "numFailedTasks": 0,
                    "numKilledTasks": 0,
                    "numCompletedIndices": 1,
                    "numActiveStages": 0,
                    "numCompletedStages": 1,
                    "numSkippedStages": 0,
                    "numFailedStages": 0,
                    "killedTasksSummary": {}
                  }
                ],
                "limit": 20,
                "rule": "ALL_DESC"
              },
              "parent_msg_id": "50fe2391-c863-413b-952b-718339d19064"
            },
            "text/plain": "StatementMeta(9d2667d4-d95f-4c64-adf7-bfab734cf5c0, 14, 18, Finished, Available)"
          },
          "metadata": {}
        },
        {
          "output_type": "stream",
          "name": "stdout",
          "text": "+------------------+------------------+--------+--------------------+--------------+----------------------+-----------------+---------+----------+------------+-------------------+----------------+---------------------+----------------+-------------+----------------+---------------+------+----------+---------+------+------+----------+--------+-------+---------+----------------+----------------------+-------+--------+--------------------+---------------+------+--------------------+--------------------+-------------+------------+--------------+-------------+-------+-----------------------+--------------------+------+----------+--------------------+--------+-----------+---------------------+------------+-------------------+-----+--------------------+--------------------+--------------------+-------+--------+---------+------------+--------------+--------------------+--------------------+----------------------+--------------------+----------------+---------------+--------------------+--------------------+----------------+----+-----+\n|adserver_click_url|adserver_imp_pixel|archived|              author|author_cakeday|author_flair_css_class|author_flair_text|author_id|brand_safe|contest_mode|        created_utc|crosspost_parent|crosspost_parent_list|disable_comments|distinguished|          domain|domain_override|edited|embed_type|embed_url|gilded|hidden|hide_score|href_url|     id|imp_pixel|is_crosspostable|is_reddit_media_domain|is_self|is_video|link_flair_css_class|link_flair_text|locked|               media|         media_embed|mobile_ad_url|num_comments|num_crossposts|original_link|over_18|parent_whitelist_status|           permalink|pinned| post_hint|             preview|promoted|promoted_by|promoted_display_name|promoted_url|       retrieved_on|score|        secure_media|  secure_media_embed|            selftext|spoiler|stickied|subreddit|subreddit_id|suggested_sort|third_party_trackers|third_party_tracking|third_party_tracking_2|           thumbnail|thumbnail_height|thumbnail_width|               title|                 url|whitelist_status|year|month|\n+------------------+------------------+--------+--------------------+--------------+----------------------+-----------------+---------+----------+------------+-------------------+----------------+---------------------+----------------+-------------+----------------+---------------+------+----------+---------+------+------+----------+--------+-------+---------+----------------+----------------------+-------+--------+--------------------+---------------+------+--------------------+--------------------+-------------+------------+--------------+-------------+-------+-----------------------+--------------------+------+----------+--------------------+--------+-----------+---------------------+------------+-------------------+-----+--------------------+--------------------+--------------------+-------+--------+---------+------------+--------------+--------------------+--------------------+----------------------+--------------------+----------------+---------------+--------------------+--------------------+----------------+----+-----+\n|              null|              null|   false|     darkness_escape|          null|                  null|             null|     null|      null|       false|2023-02-22 21:14:46|            null|                 null|            null|         null|    deadline.com|           null| false|      null|     null|     0| false|     false|    null|119dhfb|     null|            true|                 false|  false|   false|                news|           News| false|                null|{null, null, null...|         null|           0|             0|         null|  false|                all_ads|/r/movies/comment...| false|      link|{false, [{cM9Lc_3...|    null|       null|                 null|        null|2023-03-08 23:23:52|   11|                null|{null, null, null...|                    |  false|   false|   movies|    t5_2qh3s|          null|                null|                null|                  null|https://b.thumbs....|              93|            140|Lukita Maxwell Jo...|https://deadline....|         all_ads|2023|    2|\n|              null|              null|   false|         Lili_Danube|          null|                  null|             null|     null|      null|       false|2023-02-22 21:18:33|            null|                 null|            null|         null|     self.movies|           null| false|      null|     null|     0| false|     false|    null|119dmyu|     null|            true|                 false|   true|   false|          discussion|     Discussion| false|                null|{null, null, null...|         null|           8|             0|         null|  false|                all_ads|/r/movies/comment...| false|      null|                null|    null|       null|                 null|        null|2023-03-08 23:23:47|    0|                null|{null, null, null...|Apparently, the r...|  false|   false|   movies|    t5_2qh3s|          null|                null|                null|                  null|                self|            null|           null|It was so weird t...|https://www.reddi...|         all_ads|2023|    2|\n|              null|              null|   false|           [deleted]|          null|                  null|             null|     null|      null|       false|2023-02-22 21:18:45|            null|                 null|            null|         null|                |           null| false|      null|     null|     0| false|     false|    null|119dn86|     null|           false|                 false|   true|   false|      recommendation| Recommendation| false|                null|{null, null, null...|         null|           1|             0|         null|  false|                all_ads|/r/movies/comment...| false|      null|                null|    null|       null|                 null|        null|2023-03-08 23:23:47|    1|                null|{null, null, null...|           [removed]|  false|   false|   movies|    t5_2qh3s|          null|                null|                null|                  null|             default|            null|           null|   Good eco-horrors?|                    |         all_ads|2023|    2|\n|              null|              null|   false|           [deleted]|          null|                  null|             null|     null|      null|       false|2023-02-22 21:19:10|            null|                 null|            null|         null|                |           null| false|      null|     null|     0| false|     false|    null|119dntg|     null|           false|                 false|  false|   false|                news|           News| false|                null|{null, null, null...|         null|           0|             0|         null|  false|                all_ads|/r/movies/comment...| false|      null|                null|    null|       null|                 null|        null|2023-03-08 23:23:46|    1|                null|{null, null, null...|           [deleted]|  false|   false|   movies|    t5_2qh3s|          null|                null|                null|                  null|             default|              78|            140|Jason Momoa Repor...|                    |         all_ads|2023|    2|\n|              null|              null|   false|       spaceraingame|          null|                  null|             null|     null|      null|       false|2023-02-22 21:20:45|            null|                 null|            null|         null|   thedirect.com|           null| false|      null|     null|     0| false|     false|    null|119dqfq|     null|           false|                 false|  false|   false|             article|        Article| false|                null|{null, null, null...|         null|          91|             0|         null|  false|                all_ads|/r/movies/comment...| false|      null|                null|    null|       null|                 null|        null|2023-03-08 23:23:44|   56|                null|{null, null, null...|                    |  false|   false|   movies|    t5_2qh3s|          null|                null|                null|                  null|             default|              78|            140|Jason Momoa Repor...|https://thedirect...|         all_ads|2023|    2|\n|              null|              null|   false|Distinct_Analyst1607|          null|                  null|             null|     null|      null|       false|2023-02-22 21:21:12|            null|                 null|            null|         null|     self.movies|           null| false|      null|     null|     0| false|     false|    null|119dr5j|     null|           false|                 false|   true|   false|       quickquestion|       Question| false|                null|{null, null, null...|         null|           0|             0|         null|  false|                all_ads|/r/movies/comment...| false|      null|                null|    null|       null|                 null|        null|2023-03-08 23:23:43|    1|                null|{null, null, null...|           [removed]|  false|   false|   movies|    t5_2qh3s|          null|                null|                null|                  null|             default|            null|           null|What was the name...|https://www.reddi...|         all_ads|2023|    2|\n|              null|              null|   false|          backupBF01|          null|                  null|             null|     null|      null|       false|2023-02-22 21:25:02|            null|                 null|            null|         null|        youtu.be|           null| false|      null|     null|     0| false|     false|    null|119dx0b|     null|            true|                 false|  false|   false|          discussion|     Discussion| false|{null, {EvilPotte...|{&lt;iframe width...|         null|           5|             0|         null|  false|                all_ads|/r/movies/comment...| false|rich:video|{false, [{L90Be7Q...|    null|       null|                 null|        null|2023-03-08 23:23:38|    0|{null, {EvilPotte...|{&lt;iframe width...|                    |  false|   false|   movies|    t5_2qh3s|          null|                null|                null|                  null|https://a.thumbs....|             105|            140|Stranger Things/H...|https://youtu.be/...|         all_ads|2023|    2|\n|              null|              null|   false|        chrisandy007|          null|                  null|             null|     null|      null|       false|2023-02-22 21:25:23|            null|                 null|            null|         null|     vulture.com|           null| false|      null|     null|     0| false|     false|    null|119dxif|     null|           false|                 false|  false|   false|             article|        Article| false|                null|{null, null, null...|         null|          10|             0|         null|  false|                all_ads|/r/movies/comment...| false|      null|                null|    null|       null|                 null|        null|2023-03-08 23:23:38|    5|                null|{null, null, null...|                    |  false|   false|   movies|    t5_2qh3s|          null|                null|                null|                  null|             default|              73|            140|Marvel VFX worker...|https://www.vultu...|         all_ads|2023|    2|\n|              null|              null|   false|        1aleynatilki|          null|                  null|             null|     null|      null|       false|2023-02-22 21:30:09|            null|                 null|            null|         null|2013download.com|           null| false|      null|     null|     0| false|     false|    null|119e43g|     null|           false|                 false|  false|   false|             article|        Article| false|                null|{null, null, null...|         null|           2|             0|         null|  false|                all_ads|/r/movies/comment...| false|      null|                null|    null|       null|                 null|        null|2023-03-08 23:23:32|    0|                null|{null, null, null...|                    |  false|   false|   movies|    t5_2qh3s|          null|                null|                null|                  null|             default|              78|            140|The Best TV Shows...|https://2013downl...|         all_ads|2023|    2|\n|              null|              null|   false|           champipop|          null|                  null|             null|     null|      null|       false|2023-02-22 21:31:23|            null|                 null|            null|         null|     self.movies|           null| false|      null|     null|     0| false|     false|    null|119e5xf|     null|           false|                 false|   true|   false|       quickquestion|       Question| false|                null|{null, null, null...|         null|           0|             0|         null|  false|                all_ads|/r/movies/comment...| false|      null|                null|    null|       null|                 null|        null|2023-03-08 23:23:30|    1|                null|{null, null, null...|           [removed]|  false|   false|   movies|    t5_2qh3s|          null|                null|                null|                  null|             default|            null|           null|I'm looking for a...|https://www.reddi...|         all_ads|2023|    2|\n|              null|              null|   false|Apprehensive_Unit_74|          null|                  null|             null|     null|      null|       false|2023-02-21 05:28:20|            null|                 null|            null|         null|     self.movies|           null| false|      null|     null|     0| false|     false|    null|117vi7v|     null|           false|                 false|   true|   false|          discussion|     Discussion| false|                null|{null, null, null...|         null|           1|             0|         null|  false|                all_ads|/r/movies/comment...| false|      null|                null|    null|       null|                 null|        null|2023-03-08 23:59:22|    0|                null|{null, null, null...|           [removed]|  false|   false|   movies|    t5_2qh3s|          null|                null|                null|                  null|             default|            null|           null|I can proudly say...|https://www.reddi...|         all_ads|2023|    2|\n|              null|              null|   false|Apprehensive_Unit_74|          null|                  null|             null|     null|      null|       false|2023-02-21 05:35:57|            null|                 null|            null|         null|     self.movies|           null| false|      null|     null|     0| false|     false|    null|117vn5b|     null|           false|                 false|   true|   false|          discussion|     Discussion| false|                null|{null, null, null...|         null|          18|             0|         null|  false|                all_ads|/r/movies/comment...| false|      null|                null|    null|       null|                 null|        null|2023-03-08 23:59:17|    0|                null|{null, null, null...|           [removed]|  false|   false|   movies|    t5_2qh3s|          null|                null|                null|                  null|             default|            null|           null|I can proudly say...|https://www.reddi...|         all_ads|2023|    2|\n|              null|              null|   false|       ChrisEvansFan|          null|                  null|             null|     null|      null|       false|2023-02-21 05:36:02|            null|                 null|            null|         null|     self.movies|           null| false|      null|     null|     0| false|     false|    null|117vn75|     null|            true|                 false|   true|   false|          discussion|     Discussion| false|                null|{null, null, null...|         null|         420|             0|         null|  false|                all_ads|/r/movies/comment...| false|      null|                null|    null|       null|                 null|        null|2023-03-08 23:59:16|  135|                null|{null, null, null...|I think it is bec...|  false|   false|   movies|    t5_2qh3s|          null|                null|                null|                  null|                self|            null|           null|An actor or actre...|https://www.reddi...|         all_ads|2023|    2|\n|              null|              null|   false|     MurdocksTorment|          null|                  null|             null|     null|      null|       false|2023-02-21 05:57:14|            null|                 null|            null|         null|     self.movies|           null| false|      null|     null|     0| false|     false|    null|117w0j8|     null|           false|                 false|   true|   false|      recommendation| Recommendation| false|                null|{null, null, null...|         null|           1|             0|         null|  false|                all_ads|/r/movies/comment...| false|      null|                null|    null|       null|                 null|        null|2023-03-08 23:59:00|    1|                null|{null, null, null...|           [removed]|  false|   false|   movies|    t5_2qh3s|          null|                null|                null|                  null|             default|            null|           null|Please help. I be...|https://www.reddi...|         all_ads|2023|    2|\n|              null|              null|   false|           [deleted]|          null|                  null|             null|     null|      null|       false|2023-02-21 06:01:32|            null|                 null|            null|         null|                |           null| false|      null|     null|     0| false|     false|    null|117w3gm|     null|           false|                 false|   true|   false|          discussion|     Discussion| false|                null|{null, null, null...|         null|           1|             0|         null|  false|                all_ads|/r/movies/comment...| false|      null|                null|    null|       null|                 null|        null|2023-03-08 23:58:57|    1|                null|{null, null, null...|           [removed]|  false|   false|   movies|    t5_2qh3s|          null|                null|                null|                  null|             default|            null|           null|I’d love to see C...|                    |         all_ads|2023|    2|\n|              null|              null|   false|      BubbleBubble93|          null|                  null|             null|     null|      null|       false|2023-02-21 06:06:11|            null|                 null|            null|         null|     self.movies|           null| false|      null|     null|     0| false|     false|    null|117w6ey|     null|           false|                 false|   true|   false|      recommendation| Recommendation| false|                null|{null, null, null...|         null|           1|             0|         null|   true|                all_ads|/r/movies/comment...| false|      null|                null|    null|       null|                 null|        null|2023-03-08 23:58:53|    1|                null|{null, null, null...|           [removed]|  false|   false|   movies|    t5_2qh3s|          null|                null|                null|                  null|             default|            null|           null|What are some goo...|https://www.reddi...|promo_adult_nsfw|2023|    2|\n|              null|              null|   false|    SnooAvocados4581|          null|                  null|             null|     null|      null|       false|2023-02-21 06:07:42|            null|                 null|            null|         null|     self.movies|           null| false|      null|     null|     0| false|     false|    null|117w7c4|     null|            true|                 false|   true|   false|          discussion|     Discussion| false|                null|{null, null, null...|         null|          17|             0|         null|  false|                all_ads|/r/movies/comment...| false|      null|                null|    null|       null|                 null|        null|2023-03-08 23:58:52|    2|                null|{null, null, null...|This is quite a b...|  false|   false|   movies|    t5_2qh3s|          null|                null|                null|                  null|                self|            null|           null|What are some of ...|https://www.reddi...|         all_ads|2023|    2|\n|              null|              null|   false|      BubbleBubble93|          null|                  null|             null|     null|      null|       false|2023-02-21 06:09:39|            null|                 null|            null|         null|     self.movies|           null| false|      null|     null|     0| false|     false|    null|117w8l8|     null|           false|                 false|   true|   false|      recommendation| Recommendation| false|                null|{null, null, null...|         null|           0|             0|         null|  false|                all_ads|/r/movies/comment...| false|      null|                null|    null|       null|                 null|        null|2023-03-08 23:58:51|    1|                null|{null, null, null...|           [removed]|  false|   false|   movies|    t5_2qh3s|          null|                null|                null|                  null|             default|            null|           null|Good thrillers or...|https://www.reddi...|         all_ads|2023|    2|\n|              null|              null|   false|           [deleted]|          null|                  null|             null|     null|      null|       false|2023-02-21 06:13:17|            null|                 null|            null|         null|                |           null| false|      null|     null|     0| false|     false|    null|117waw3|     null|           false|                 false|  false|   false|              Review|         Review| false|                null|{null, null, null...|         null|           0|             0|         null|  false|                all_ads|/r/movies/comment...| false|      null|                null|    null|       null|                 null|        null|2023-03-08 23:58:48|    1|                null|{null, null, null...|           [removed]|  false|   false|   movies|    t5_2qh3s|          null|                null|                null|                  null|             default|              68|            140|Ukraine in Hindsi...|                    |         all_ads|2023|    2|\n|              null|              null|   false|           [deleted]|          null|                  null|             null|     null|      null|       false|2023-02-21 06:19:17|            null|                 null|            null|         null|                |           null| false|      null|     null|     0| false|     false|    null|117wep0|     null|           false|                 false|   true|   false|      recommendation| Recommendation| false|                null|{null, null, null...|         null|           1|             0|         null|  false|                all_ads|/r/movies/comment...| false|      null|                null|    null|       null|                 null|        null|2023-03-08 23:58:43|    1|                null|{null, null, null...|           [removed]|  false|   false|   movies|    t5_2qh3s|          null|                null|                null|                  null|             default|            null|           null|Films about AI or...|                    |         all_ads|2023|    2|\n+------------------+------------------+--------+--------------------+--------------+----------------------+-----------------+---------+----------+------------+-------------------+----------------+---------------------+----------------+-------------+----------------+---------------+------+----------+---------+------+------+----------+--------+-------+---------+----------------+----------------------+-------+--------+--------------------+---------------+------+--------------------+--------------------+-------------+------------+--------------+-------------+-------+-----------------------+--------------------+------+----------+--------------------+--------+-----------+---------------------+------------+-------------------+-----+--------------------+--------------------+--------------------+-------+--------+---------+------------+--------------+--------------------+--------------------+----------------------+--------------------+----------------+---------------+--------------------+--------------------+----------------+----+-----+\nonly showing top 20 rows\n\n"
        }
      ],
      "execution_count": 13,
      "metadata": {
        "jupyter": {
          "source_hidden": false,
          "outputs_hidden": false
        },
        "nteract": {
          "transient": {
            "deleting": false
          }
        },
        "gather": {
          "logged": 1699618176649
        }
      }
    },
    {
      "cell_type": "code",
      "source": [
        "df_save = submissions_filtered.limit(1000).select(\"author_id\", \"title\", \"selftext\").cache()"
      ],
      "outputs": [
        {
          "output_type": "display_data",
          "data": {
            "application/vnd.livy.statement-meta+json": {
              "spark_pool": "9d2667d4-d95f-4c64-adf7-bfab734cf5c0",
              "session_id": "14",
              "statement_id": 21,
              "state": "finished",
              "livy_statement_state": "available",
              "queued_time": "2023-11-10T12:09:43.8739465Z",
              "session_start_time": null,
              "execution_start_time": "2023-11-10T12:09:44.0538576Z",
              "execution_finish_time": "2023-11-10T12:09:44.3504593Z",
              "spark_jobs": {
                "numbers": {
                  "UNKNOWN": 0,
                  "SUCCEEDED": 0,
                  "FAILED": 0,
                  "RUNNING": 0
                },
                "jobs": [],
                "limit": 20,
                "rule": "ALL_DESC"
              },
              "parent_msg_id": "e5db6f22-b557-418c-a0b8-3b7d7bd4506f"
            },
            "text/plain": "StatementMeta(9d2667d4-d95f-4c64-adf7-bfab734cf5c0, 14, 21, Finished, Available)"
          },
          "metadata": {}
        }
      ],
      "execution_count": 16,
      "metadata": {
        "jupyter": {
          "source_hidden": false,
          "outputs_hidden": false
        },
        "nteract": {
          "transient": {
            "deleting": false
          }
        },
        "gather": {
          "logged": 1699618184468
        }
      }
    },
    {
      "cell_type": "code",
      "source": [
        "import os\n",
        "CSV_DIR = os.path.join(\"Users/st1140/fall-2023-reddit-project-team-34/data\", \"csv\")\n",
        "df_save.write.csv(f\"{CSV_DIR}/movies_data.csv\")"
      ],
      "outputs": [
        {
          "output_type": "display_data",
          "data": {
            "application/vnd.livy.statement-meta+json": {
              "spark_pool": "9d2667d4-d95f-4c64-adf7-bfab734cf5c0",
              "session_id": "14",
              "statement_id": 23,
              "state": "finished",
              "livy_statement_state": "available",
              "queued_time": "2023-11-10T12:10:55.0885811Z",
              "session_start_time": null,
              "execution_start_time": "2023-11-10T12:10:55.2634089Z",
              "execution_finish_time": "2023-11-10T12:31:04.8603753Z",
              "spark_jobs": {
                "numbers": {
                  "UNKNOWN": 0,
                  "SUCCEEDED": 1,
                  "FAILED": 0,
                  "RUNNING": 0
                },
                "jobs": [
                  {
                    "displayName": "csv at NativeMethodAccessorImpl.java:0",
                    "dataWritten": 56549862,
                    "dataRead": 78607494098,
                    "rowCount": 892438630,
                    "usageDescription": "",
                    "jobId": 4,
                    "name": "csv at NativeMethodAccessorImpl.java:0",
                    "description": "Job group for statement 23:\nimport os\nCSV_DIR = os.path.join(\"Users/st1140/fall-2023-reddit-project-team-34/data\", \"csv\")\ndf_save.write.csv(f\"{CSV_DIR}/movies_data.csv\")",
                    "submissionTime": "2023-11-10T12:10:56.352GMT",
                    "completionTime": "2023-11-10T12:31:02.952GMT",
                    "stageIds": [
                      5,
                      4
                    ],
                    "jobGroup": "23",
                    "status": "SUCCEEDED",
                    "numTasks": 3081,
                    "numActiveTasks": 0,
                    "numCompletedTasks": 3081,
                    "numSkippedTasks": 0,
                    "numFailedTasks": 0,
                    "numKilledTasks": 0,
                    "numCompletedIndices": 3081,
                    "numActiveStages": 0,
                    "numCompletedStages": 2,
                    "numSkippedStages": 0,
                    "numFailedStages": 0,
                    "killedTasksSummary": {}
                  }
                ],
                "limit": 20,
                "rule": "ALL_DESC"
              },
              "parent_msg_id": "b8743dbb-9e12-4624-b6c5-9ece8175dfa0"
            },
            "text/plain": "StatementMeta(9d2667d4-d95f-4c64-adf7-bfab734cf5c0, 14, 23, Finished, Available)"
          },
          "metadata": {}
        }
      ],
      "execution_count": 18,
      "metadata": {
        "jupyter": {
          "source_hidden": false,
          "outputs_hidden": false
        },
        "nteract": {
          "transient": {
            "deleting": false
          }
        },
        "gather": {
          "logged": 1699619465100
        }
      }
    }
  ],
  "metadata": {
    "kernelspec": {
      "name": "synapse_pyspark",
      "language": "Python",
      "display_name": "Synapse PySpark"
    },
    "language_info": {
      "name": "python",
      "version": "3.8.0",
      "mimetype": "text/x-python",
      "file_extension": ".py",
      "pygments_lexer": "ipython",
      "codemirror_mode": "ipython",
      "nbconvert_exporter": "python"
    },
    "microsoft": {
      "ms_spell_check": {
        "ms_spell_check_language": "en"
      },
      "host": {
        "AzureML": {
          "notebookHasBeenCompleted": true
        }
      }
    },
    "kernel_info": {
      "name": "synapse_pyspark"
    },
    "nteract": {
      "version": "nteract-front-end@1.0.0"
    }
  },
  "nbformat": 4,
  "nbformat_minor": 2
}