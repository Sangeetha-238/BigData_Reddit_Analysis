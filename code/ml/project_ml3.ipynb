{
 "cells": [
  {
   "cell_type": "markdown",
   "id": "314840cc-17d2-4ca7-876e-e3298c0e0fb4",
   "metadata": {},
   "source": [
    "SETUP"
   ]
  },
  {
   "cell_type": "code",
   "execution_count": 3,
   "id": "7da2e14c-17ab-45ac-b1d9-0a16eba406a7",
   "metadata": {
    "tags": []
   },
   "outputs": [
    {
     "name": "stdout",
     "output_type": "stream",
     "text": [
      "Collecting package metadata (current_repodata.json): done\n",
      "Solving environment: done\n",
      "\n",
      "\n",
      "==> WARNING: A newer version of conda exists. <==\n",
      "  current version: 23.3.1\n",
      "  latest version: 23.10.0\n",
      "\n",
      "Please update conda by running\n",
      "\n",
      "    $ conda update -n base -c defaults conda\n",
      "\n",
      "Or to minimize the number of packages updated during conda update use\n",
      "\n",
      "     conda install conda=23.10.0\n",
      "\n",
      "\n",
      "\n",
      "## Package Plan ##\n",
      "\n",
      "  environment location: /opt/conda\n",
      "\n",
      "  added / updated specs:\n",
      "    - openjdk\n",
      "\n",
      "\n",
      "The following packages will be downloaded:\n",
      "\n",
      "    package                    |            build\n",
      "    ---------------------------|-----------------\n",
      "    ca-certificates-2023.08.22 |       h06a4308_0         123 KB\n",
      "    certifi-2023.11.17         |  py310h06a4308_0         158 KB\n",
      "    openjdk-11.0.13            |       h87a67e3_0       341.0 MB\n",
      "    ------------------------------------------------------------\n",
      "                                           Total:       341.3 MB\n",
      "\n",
      "The following NEW packages will be INSTALLED:\n",
      "\n",
      "  openjdk            pkgs/main/linux-64::openjdk-11.0.13-h87a67e3_0 \n",
      "\n",
      "The following packages will be UPDATED:\n",
      "\n",
      "  ca-certificates    conda-forge::ca-certificates-2023.7.2~ --> pkgs/main::ca-certificates-2023.08.22-h06a4308_0 \n",
      "  certifi            conda-forge/noarch::certifi-2023.7.22~ --> pkgs/main/linux-64::certifi-2023.11.17-py310h06a4308_0 \n",
      "\n",
      "\n",
      "\n",
      "Downloading and Extracting Packages\n",
      "certifi-2023.11.17   | 158 KB    |                                       |   0% \n",
      "openjdk-11.0.13      | 341.0 MB  |                                       |   0% \u001b[A\n",
      "\n",
      "ca-certificates-2023 | 123 KB    |                                       |   0% \u001b[A\u001b[A\n",
      "\n",
      "certifi-2023.11.17   | 158 KB    | ##################################### | 100% \u001b[A\u001b[A\n",
      "openjdk-11.0.13      | 341.0 MB  | 5                                     |   1% \u001b[A\n",
      "openjdk-11.0.13      | 341.0 MB  | ##1                                   |   6% \u001b[A\n",
      "openjdk-11.0.13      | 341.0 MB  | ###9                                  |  11% \u001b[A\n",
      "openjdk-11.0.13      | 341.0 MB  | #####7                                |  16% \u001b[A\n",
      "openjdk-11.0.13      | 341.0 MB  | #######5                              |  20% \u001b[A\n",
      "openjdk-11.0.13      | 341.0 MB  | #########1                            |  25% \u001b[A\n",
      "openjdk-11.0.13      | 341.0 MB  | ###########                           |  30% \u001b[A\n",
      "openjdk-11.0.13      | 341.0 MB  | ############8                         |  35% \u001b[A\n",
      "openjdk-11.0.13      | 341.0 MB  | ##############6                       |  40% \u001b[A\n",
      "openjdk-11.0.13      | 341.0 MB  | ################5                     |  45% \u001b[A\n",
      "openjdk-11.0.13      | 341.0 MB  | ##################3                   |  49% \u001b[A\n",
      "openjdk-11.0.13      | 341.0 MB  | ####################                  |  54% \u001b[A\n",
      "openjdk-11.0.13      | 341.0 MB  | #####################9                |  59% \u001b[A\n",
      "openjdk-11.0.13      | 341.0 MB  | #######################7              |  64% \u001b[A\n",
      "openjdk-11.0.13      | 341.0 MB  | #########################5            |  69% \u001b[A\n",
      "openjdk-11.0.13      | 341.0 MB  | ###########################3          |  74% \u001b[A\n",
      "openjdk-11.0.13      | 341.0 MB  | #############################2        |  79% \u001b[A\n",
      "openjdk-11.0.13      | 341.0 MB  | ###############################       |  84% \u001b[A\n",
      "openjdk-11.0.13      | 341.0 MB  | ################################9     |  89% \u001b[A\n",
      "openjdk-11.0.13      | 341.0 MB  | ##################################7   |  94% \u001b[A\n",
      "openjdk-11.0.13      | 341.0 MB  | ####################################6 |  99% \u001b[A\n",
      "                                                                                \u001b[A\n",
      "                                                                                \u001b[A\n",
      "\n",
      "                                                                                \u001b[A\u001b[A\n",
      "Preparing transaction: done\n",
      "Verifying transaction: done\n",
      "Executing transaction: done\n",
      "\n",
      "Note: you may need to restart the kernel to use updated packages.\n",
      "Collecting pyspark==3.4.0\n",
      "  Using cached pyspark-3.4.0-py2.py3-none-any.whl\n",
      "Collecting py4j==0.10.9.7 (from pyspark==3.4.0)\n",
      "  Using cached py4j-0.10.9.7-py2.py3-none-any.whl (200 kB)\n",
      "Installing collected packages: py4j, pyspark\n",
      "Successfully installed py4j-0.10.9.7 pyspark-3.4.0\n",
      "\u001b[33mWARNING: Running pip as the 'root' user can result in broken permissions and conflicting behaviour with the system package manager. It is recommended to use a virtual environment instead: https://pip.pypa.io/warnings/venv\u001b[0m\u001b[33m\n",
      "\u001b[0m\n",
      "\u001b[1m[\u001b[0m\u001b[34;49mnotice\u001b[0m\u001b[1;39;49m]\u001b[0m\u001b[39;49m A new release of pip is available: \u001b[0m\u001b[31;49m23.2.1\u001b[0m\u001b[39;49m -> \u001b[0m\u001b[32;49m23.3.1\u001b[0m\n",
      "\u001b[1m[\u001b[0m\u001b[34;49mnotice\u001b[0m\u001b[1;39;49m]\u001b[0m\u001b[39;49m To update, run: \u001b[0m\u001b[32;49mpip install --upgrade pip\u001b[0m\n",
      "Note: you may need to restart the kernel to use updated packages.\n",
      "Collecting spark-nlp==5.1.3\n",
      "  Obtaining dependency information for spark-nlp==5.1.3 from https://files.pythonhosted.org/packages/cd/7d/bc0eca4c9ec4c9c1d9b28c42c2f07942af70980a7d912d0aceebf8db32dd/spark_nlp-5.1.3-py2.py3-none-any.whl.metadata\n",
      "  Using cached spark_nlp-5.1.3-py2.py3-none-any.whl.metadata (53 kB)\n",
      "Using cached spark_nlp-5.1.3-py2.py3-none-any.whl (537 kB)\n",
      "Installing collected packages: spark-nlp\n",
      "Successfully installed spark-nlp-5.1.3\n",
      "\u001b[33mWARNING: Running pip as the 'root' user can result in broken permissions and conflicting behaviour with the system package manager. It is recommended to use a virtual environment instead: https://pip.pypa.io/warnings/venv\u001b[0m\u001b[33m\n",
      "\u001b[0m\n",
      "\u001b[1m[\u001b[0m\u001b[34;49mnotice\u001b[0m\u001b[1;39;49m]\u001b[0m\u001b[39;49m A new release of pip is available: \u001b[0m\u001b[31;49m23.2.1\u001b[0m\u001b[39;49m -> \u001b[0m\u001b[32;49m23.3.1\u001b[0m\n",
      "\u001b[1m[\u001b[0m\u001b[34;49mnotice\u001b[0m\u001b[1;39;49m]\u001b[0m\u001b[39;49m To update, run: \u001b[0m\u001b[32;49mpip install --upgrade pip\u001b[0m\n",
      "Note: you may need to restart the kernel to use updated packages.\n"
     ]
    },
    {
     "data": {
      "text/html": [
       "<script>Jupyter.notebook.kernel.restart()</script>"
      ],
      "text/plain": [
       "<IPython.core.display.HTML object>"
      ]
     },
     "execution_count": 3,
     "metadata": {},
     "output_type": "execute_result"
    }
   ],
   "source": [
    "# Setup - Run only once per Kernel App\n",
    "%conda install openjdk -y\n",
    "\n",
    "# install PySpark\n",
    "%pip install pyspark==3.4.0\n",
    "\n",
    "# install spark-nlp\n",
    "%pip install spark-nlp==5.1.3\n",
    "\n",
    "# restart kernel\n",
    "from IPython.core.display import HTML\n",
    "HTML(\"<script>Jupyter.notebook.kernel.restart()</script>\")"
   ]
  },
  {
   "cell_type": "code",
   "execution_count": 4,
   "id": "7e69dcde-0905-435e-9eb5-f68106902bb3",
   "metadata": {
    "tags": []
   },
   "outputs": [
    {
     "name": "stdout",
     "output_type": "stream",
     "text": [
      "sagemaker.config INFO - Not applying SDK defaults from location: /etc/xdg/sagemaker/config.yaml\n",
      "sagemaker.config INFO - Not applying SDK defaults from location: /root/.config/sagemaker/config.yaml\n"
     ]
    }
   ],
   "source": [
    "import sagemaker\n",
    "from pyspark.sql.functions import lower, regexp_replace, col, concat_ws\n",
    "from pyspark.ml.feature import Tokenizer, StopWordsRemover\n",
    "from sparknlp.annotator import *\n",
    "from sparknlp.base import *\n",
    "import sparknlp\n",
    "from sparknlp.pretrained import PretrainedPipeline\n",
    "from sparknlp.base import Finisher, DocumentAssembler\n",
    "from sparknlp.annotator import (Tokenizer, Normalizer,\n",
    "                                LemmatizerModel, StopWordsCleaner)\n",
    "from pyspark.sql.functions import length\n",
    "import pyspark.sql.functions as F"
   ]
  },
  {
   "cell_type": "code",
   "execution_count": 5,
   "id": "d269eea4-9966-4bf4-acb6-e56e1a1f15bf",
   "metadata": {
    "tags": []
   },
   "outputs": [
    {
     "name": "stderr",
     "output_type": "stream",
     "text": [
      "Warning: Ignoring non-Spark config property: fs.s3a.aws.credentials.provider\n"
     ]
    },
    {
     "name": "stdout",
     "output_type": "stream",
     "text": [
      ":: loading settings :: url = jar:file:/opt/conda/lib/python3.10/site-packages/pyspark/jars/ivy-2.5.1.jar!/org/apache/ivy/core/settings/ivysettings.xml\n"
     ]
    },
    {
     "name": "stderr",
     "output_type": "stream",
     "text": [
      "Ivy Default Cache set to: /root/.ivy2/cache\n",
      "The jars for the packages stored in: /root/.ivy2/jars\n",
      "com.johnsnowlabs.nlp#spark-nlp_2.12 added as a dependency\n",
      "org.apache.hadoop#hadoop-aws added as a dependency\n",
      ":: resolving dependencies :: org.apache.spark#spark-submit-parent-c3e1ffcb-f042-463c-9791-c46ebebb2fb6;1.0\n",
      "\tconfs: [default]\n",
      "\tfound com.johnsnowlabs.nlp#spark-nlp_2.12;5.1.3 in central\n",
      "\tfound com.typesafe#config;1.4.2 in central\n",
      "\tfound org.rocksdb#rocksdbjni;6.29.5 in central\n",
      "\tfound com.amazonaws#aws-java-sdk-bundle;1.11.828 in central\n",
      "\tfound com.github.universal-automata#liblevenshtein;3.0.0 in central\n",
      "\tfound com.google.protobuf#protobuf-java-util;3.0.0-beta-3 in central\n",
      "\tfound com.google.protobuf#protobuf-java;3.0.0-beta-3 in central\n",
      "\tfound com.google.code.gson#gson;2.3 in central\n",
      "\tfound it.unimi.dsi#fastutil;7.0.12 in central\n",
      "\tfound org.projectlombok#lombok;1.16.8 in central\n",
      "\tfound com.google.cloud#google-cloud-storage;2.20.1 in central\n",
      "\tfound com.google.guava#guava;31.1-jre in central\n",
      "\tfound com.google.guava#failureaccess;1.0.1 in central\n",
      "\tfound com.google.guava#listenablefuture;9999.0-empty-to-avoid-conflict-with-guava in central\n",
      "\tfound com.google.errorprone#error_prone_annotations;2.18.0 in central\n",
      "\tfound com.google.j2objc#j2objc-annotations;1.3 in central\n",
      "\tfound com.google.http-client#google-http-client;1.43.0 in central\n",
      "\tfound io.opencensus#opencensus-contrib-http-util;0.31.1 in central\n",
      "\tfound com.google.http-client#google-http-client-jackson2;1.43.0 in central\n",
      "\tfound com.google.http-client#google-http-client-gson;1.43.0 in central\n",
      "\tfound com.google.api-client#google-api-client;2.2.0 in central\n",
      "\tfound commons-codec#commons-codec;1.15 in central\n",
      "\tfound com.google.oauth-client#google-oauth-client;1.34.1 in central\n",
      "\tfound com.google.http-client#google-http-client-apache-v2;1.43.0 in central\n",
      "\tfound com.google.apis#google-api-services-storage;v1-rev20220705-2.0.0 in central\n",
      "\tfound com.google.code.gson#gson;2.10.1 in central\n",
      "\tfound com.google.cloud#google-cloud-core;2.12.0 in central\n",
      "\tfound io.grpc#grpc-context;1.53.0 in central\n",
      "\tfound com.google.auto.value#auto-value-annotations;1.10.1 in central\n",
      "\tfound com.google.auto.value#auto-value;1.10.1 in central\n",
      "\tfound javax.annotation#javax.annotation-api;1.3.2 in central\n",
      "\tfound commons-logging#commons-logging;1.2 in central\n",
      "\tfound com.google.cloud#google-cloud-core-http;2.12.0 in central\n",
      "\tfound com.google.http-client#google-http-client-appengine;1.43.0 in central\n",
      "\tfound com.google.api#gax-httpjson;0.108.2 in central\n",
      "\tfound com.google.cloud#google-cloud-core-grpc;2.12.0 in central\n",
      "\tfound io.grpc#grpc-alts;1.53.0 in central\n",
      "\tfound io.grpc#grpc-grpclb;1.53.0 in central\n",
      "\tfound org.conscrypt#conscrypt-openjdk-uber;2.5.2 in central\n",
      "\tfound io.grpc#grpc-auth;1.53.0 in central\n",
      "\tfound io.grpc#grpc-protobuf;1.53.0 in central\n",
      "\tfound io.grpc#grpc-protobuf-lite;1.53.0 in central\n",
      "\tfound io.grpc#grpc-core;1.53.0 in central\n",
      "\tfound com.google.api#gax;2.23.2 in central\n",
      "\tfound com.google.api#gax-grpc;2.23.2 in central\n",
      "\tfound com.google.auth#google-auth-library-credentials;1.16.0 in central\n",
      "\tfound com.google.auth#google-auth-library-oauth2-http;1.16.0 in central\n",
      "\tfound com.google.api#api-common;2.6.2 in central\n",
      "\tfound io.opencensus#opencensus-api;0.31.1 in central\n",
      "\tfound com.google.api.grpc#proto-google-iam-v1;1.9.2 in central\n",
      "\tfound com.google.protobuf#protobuf-java;3.21.12 in central\n",
      "\tfound com.google.protobuf#protobuf-java-util;3.21.12 in central\n",
      "\tfound com.google.api.grpc#proto-google-common-protos;2.14.2 in central\n",
      "\tfound org.threeten#threetenbp;1.6.5 in central\n",
      "\tfound com.google.api.grpc#proto-google-cloud-storage-v2;2.20.1-alpha in central\n",
      "\tfound com.google.api.grpc#grpc-google-cloud-storage-v2;2.20.1-alpha in central\n",
      "\tfound com.google.api.grpc#gapic-google-cloud-storage-v2;2.20.1-alpha in central\n",
      "\tfound com.fasterxml.jackson.core#jackson-core;2.14.2 in central\n",
      "\tfound com.google.code.findbugs#jsr305;3.0.2 in central\n",
      "\tfound io.grpc#grpc-api;1.53.0 in central\n",
      "\tfound io.grpc#grpc-stub;1.53.0 in central\n",
      "\tfound org.checkerframework#checker-qual;3.31.0 in central\n",
      "\tfound io.perfmark#perfmark-api;0.26.0 in central\n",
      "\tfound com.google.android#annotations;4.1.1.4 in central\n",
      "\tfound org.codehaus.mojo#animal-sniffer-annotations;1.22 in central\n",
      "\tfound io.opencensus#opencensus-proto;0.2.0 in central\n",
      "\tfound io.grpc#grpc-services;1.53.0 in central\n",
      "\tfound com.google.re2j#re2j;1.6 in central\n",
      "\tfound io.grpc#grpc-netty-shaded;1.53.0 in central\n",
      "\tfound io.grpc#grpc-googleapis;1.53.0 in central\n",
      "\tfound io.grpc#grpc-xds;1.53.0 in central\n",
      "\tfound com.navigamez#greex;1.0 in central\n",
      "\tfound dk.brics.automaton#automaton;1.11-8 in central\n",
      "\tfound com.johnsnowlabs.nlp#tensorflow-cpu_2.12;0.4.4 in central\n",
      "\tfound com.microsoft.onnxruntime#onnxruntime;1.15.0 in central\n",
      "\tfound org.apache.hadoop#hadoop-aws;3.2.2 in central\n",
      ":: resolution report :: resolve 4268ms :: artifacts dl 529ms\n",
      "\t:: modules in use:\n",
      "\tcom.amazonaws#aws-java-sdk-bundle;1.11.828 from central in [default]\n",
      "\tcom.fasterxml.jackson.core#jackson-core;2.14.2 from central in [default]\n",
      "\tcom.github.universal-automata#liblevenshtein;3.0.0 from central in [default]\n",
      "\tcom.google.android#annotations;4.1.1.4 from central in [default]\n",
      "\tcom.google.api#api-common;2.6.2 from central in [default]\n",
      "\tcom.google.api#gax;2.23.2 from central in [default]\n",
      "\tcom.google.api#gax-grpc;2.23.2 from central in [default]\n",
      "\tcom.google.api#gax-httpjson;0.108.2 from central in [default]\n",
      "\tcom.google.api-client#google-api-client;2.2.0 from central in [default]\n",
      "\tcom.google.api.grpc#gapic-google-cloud-storage-v2;2.20.1-alpha from central in [default]\n",
      "\tcom.google.api.grpc#grpc-google-cloud-storage-v2;2.20.1-alpha from central in [default]\n",
      "\tcom.google.api.grpc#proto-google-cloud-storage-v2;2.20.1-alpha from central in [default]\n",
      "\tcom.google.api.grpc#proto-google-common-protos;2.14.2 from central in [default]\n",
      "\tcom.google.api.grpc#proto-google-iam-v1;1.9.2 from central in [default]\n",
      "\tcom.google.apis#google-api-services-storage;v1-rev20220705-2.0.0 from central in [default]\n",
      "\tcom.google.auth#google-auth-library-credentials;1.16.0 from central in [default]\n",
      "\tcom.google.auth#google-auth-library-oauth2-http;1.16.0 from central in [default]\n",
      "\tcom.google.auto.value#auto-value;1.10.1 from central in [default]\n",
      "\tcom.google.auto.value#auto-value-annotations;1.10.1 from central in [default]\n",
      "\tcom.google.cloud#google-cloud-core;2.12.0 from central in [default]\n",
      "\tcom.google.cloud#google-cloud-core-grpc;2.12.0 from central in [default]\n",
      "\tcom.google.cloud#google-cloud-core-http;2.12.0 from central in [default]\n",
      "\tcom.google.cloud#google-cloud-storage;2.20.1 from central in [default]\n",
      "\tcom.google.code.findbugs#jsr305;3.0.2 from central in [default]\n",
      "\tcom.google.code.gson#gson;2.10.1 from central in [default]\n",
      "\tcom.google.errorprone#error_prone_annotations;2.18.0 from central in [default]\n",
      "\tcom.google.guava#failureaccess;1.0.1 from central in [default]\n",
      "\tcom.google.guava#guava;31.1-jre from central in [default]\n",
      "\tcom.google.guava#listenablefuture;9999.0-empty-to-avoid-conflict-with-guava from central in [default]\n",
      "\tcom.google.http-client#google-http-client;1.43.0 from central in [default]\n",
      "\tcom.google.http-client#google-http-client-apache-v2;1.43.0 from central in [default]\n",
      "\tcom.google.http-client#google-http-client-appengine;1.43.0 from central in [default]\n",
      "\tcom.google.http-client#google-http-client-gson;1.43.0 from central in [default]\n",
      "\tcom.google.http-client#google-http-client-jackson2;1.43.0 from central in [default]\n",
      "\tcom.google.j2objc#j2objc-annotations;1.3 from central in [default]\n",
      "\tcom.google.oauth-client#google-oauth-client;1.34.1 from central in [default]\n",
      "\tcom.google.protobuf#protobuf-java;3.21.12 from central in [default]\n",
      "\tcom.google.protobuf#protobuf-java-util;3.21.12 from central in [default]\n",
      "\tcom.google.re2j#re2j;1.6 from central in [default]\n",
      "\tcom.johnsnowlabs.nlp#spark-nlp_2.12;5.1.3 from central in [default]\n",
      "\tcom.johnsnowlabs.nlp#tensorflow-cpu_2.12;0.4.4 from central in [default]\n",
      "\tcom.microsoft.onnxruntime#onnxruntime;1.15.0 from central in [default]\n",
      "\tcom.navigamez#greex;1.0 from central in [default]\n",
      "\tcom.typesafe#config;1.4.2 from central in [default]\n",
      "\tcommons-codec#commons-codec;1.15 from central in [default]\n",
      "\tcommons-logging#commons-logging;1.2 from central in [default]\n",
      "\tdk.brics.automaton#automaton;1.11-8 from central in [default]\n",
      "\tio.grpc#grpc-alts;1.53.0 from central in [default]\n",
      "\tio.grpc#grpc-api;1.53.0 from central in [default]\n",
      "\tio.grpc#grpc-auth;1.53.0 from central in [default]\n",
      "\tio.grpc#grpc-context;1.53.0 from central in [default]\n",
      "\tio.grpc#grpc-core;1.53.0 from central in [default]\n",
      "\tio.grpc#grpc-googleapis;1.53.0 from central in [default]\n",
      "\tio.grpc#grpc-grpclb;1.53.0 from central in [default]\n",
      "\tio.grpc#grpc-netty-shaded;1.53.0 from central in [default]\n",
      "\tio.grpc#grpc-protobuf;1.53.0 from central in [default]\n",
      "\tio.grpc#grpc-protobuf-lite;1.53.0 from central in [default]\n",
      "\tio.grpc#grpc-services;1.53.0 from central in [default]\n",
      "\tio.grpc#grpc-stub;1.53.0 from central in [default]\n",
      "\tio.grpc#grpc-xds;1.53.0 from central in [default]\n",
      "\tio.opencensus#opencensus-api;0.31.1 from central in [default]\n",
      "\tio.opencensus#opencensus-contrib-http-util;0.31.1 from central in [default]\n",
      "\tio.opencensus#opencensus-proto;0.2.0 from central in [default]\n",
      "\tio.perfmark#perfmark-api;0.26.0 from central in [default]\n",
      "\tit.unimi.dsi#fastutil;7.0.12 from central in [default]\n",
      "\tjavax.annotation#javax.annotation-api;1.3.2 from central in [default]\n",
      "\torg.apache.hadoop#hadoop-aws;3.2.2 from central in [default]\n",
      "\torg.checkerframework#checker-qual;3.31.0 from central in [default]\n",
      "\torg.codehaus.mojo#animal-sniffer-annotations;1.22 from central in [default]\n",
      "\torg.conscrypt#conscrypt-openjdk-uber;2.5.2 from central in [default]\n",
      "\torg.projectlombok#lombok;1.16.8 from central in [default]\n",
      "\torg.rocksdb#rocksdbjni;6.29.5 from central in [default]\n",
      "\torg.threeten#threetenbp;1.6.5 from central in [default]\n",
      "\t:: evicted modules:\n",
      "\tcom.google.protobuf#protobuf-java-util;3.0.0-beta-3 by [com.google.protobuf#protobuf-java-util;3.21.12] in [default]\n",
      "\tcom.google.protobuf#protobuf-java;3.0.0-beta-3 by [com.google.protobuf#protobuf-java;3.21.12] in [default]\n",
      "\tcom.google.code.gson#gson;2.3 by [com.google.code.gson#gson;2.10.1] in [default]\n",
      "\tcom.amazonaws#aws-java-sdk-bundle;1.11.563 by [com.amazonaws#aws-java-sdk-bundle;1.11.828] in [default]\n",
      "\t---------------------------------------------------------------------\n",
      "\t|                  |            modules            ||   artifacts   |\n",
      "\t|       conf       | number| search|dwnlded|evicted|| number|dwnlded|\n",
      "\t---------------------------------------------------------------------\n",
      "\t|      default     |   77  |   0   |   0   |   4   ||   73  |   0   |\n",
      "\t---------------------------------------------------------------------\n",
      ":: retrieving :: org.apache.spark#spark-submit-parent-c3e1ffcb-f042-463c-9791-c46ebebb2fb6\n",
      "\tconfs: [default]\n",
      "\t0 artifacts copied, 73 already retrieved (0kB/169ms)\n",
      "23/12/01 03:47:51 WARN NativeCodeLoader: Unable to load native-hadoop library for your platform... using builtin-java classes where applicable\n",
      "Setting default log level to \"WARN\".\n",
      "To adjust logging level use sc.setLogLevel(newLevel). For SparkR, use setLogLevel(newLevel).\n"
     ]
    },
    {
     "name": "stdout",
     "output_type": "stream",
     "text": [
      "3.4.0\n"
     ]
    }
   ],
   "source": [
    "# Import pyspark and build Spark session\n",
    "from pyspark.sql import SparkSession\n",
    "\n",
    "# Import pyspark and build Spark session\n",
    "spark = SparkSession.builder \\\n",
    "    .appName(\"Spark NLP\")\\\n",
    "    .master(\"local[*]\")\\\n",
    "    .config(\"spark.driver.memory\",\"16G\")\\\n",
    "    .config(\"spark.executor.memory\", \"12g\")\\\n",
    "    .config(\"spark.executor.cores\", \"3\")\\\n",
    "    .config(\"spark.jars.packages\", \"com.johnsnowlabs.nlp:spark-nlp_2.12:5.1.3,org.apache.hadoop:hadoop-aws:3.2.2\")\\\n",
    "    .config(\n",
    "            \"fs.s3a.aws.credentials.provider\",\n",
    "            \"com.amazonaws.auth.ContainerCredentialsProvider\"\n",
    "    )\\\n",
    "    .getOrCreate()\n",
    "\n",
    "print(spark.version)"
   ]
  },
  {
   "cell_type": "code",
   "execution_count": 33,
   "id": "87f0c5d9-7424-451b-8fde-bceddf8e78ae",
   "metadata": {
    "tags": []
   },
   "outputs": [],
   "source": [
    "import sagemaker\n",
    "from pyspark.sql.functions import lower, regexp_replace, col, concat_ws, when, length, count\n",
    "from pyspark.ml.feature import Tokenizer, StopWordsRemover,OneHotEncoder, StringIndexer, IndexToString, VectorAssembler,HashingTF, IDF\n",
    "from sparknlp.annotator import *\n",
    "from sparknlp.base import *\n",
    "import sparknlp\n",
    "from sparknlp.pretrained import PretrainedPipeline\n",
    "from sparknlp.base import Finisher, DocumentAssembler\n",
    "from sagemaker.spark.processing import PySparkProcessor\n",
    "from pyspark.ml.evaluation import BinaryClassificationEvaluator, MulticlassClassificationEvaluator\n",
    "from pyspark.sql.functions import udf\n",
    "from pyspark.sql.types import FloatType\n",
    "from pyspark.ml import Pipeline, Model\n",
    "import matplotlib.pyplot as plt\n",
    "import pandas as pd\n",
    "import seaborn as sns\n",
    "import time\n",
    "from sklearn.metrics import confusion_matrix,roc_curve, auc"
   ]
  },
  {
   "cell_type": "markdown",
   "id": "070a7cf2-4ff9-4c66-a683-00bf913ca1cb",
   "metadata": {},
   "source": [
    "DATA CLEANING"
   ]
  },
  {
   "cell_type": "code",
   "execution_count": 34,
   "id": "2ffcd9eb-d1b3-4297-96aa-7dc5b2b708d0",
   "metadata": {
    "tags": []
   },
   "outputs": [],
   "source": [
    "df = spark.read.parquet(\"s3a://project-group34/project/submissions/sentiment_emotion_submissions/\")"
   ]
  },
  {
   "cell_type": "code",
   "execution_count": 35,
   "id": "6b9bf461-ed68-4e1a-9b51-e23a5da82dee",
   "metadata": {
    "tags": []
   },
   "outputs": [
    {
     "name": "stdout",
     "output_type": "stream",
     "text": [
      "root\n",
      " |-- emotion: string (nullable = true)\n",
      " |-- sentiment_score: float (nullable = true)\n",
      " |-- subreddit: string (nullable = true)\n",
      " |-- text: string (nullable = true)\n",
      " |-- score: long (nullable = true)\n",
      " |-- num_comments: long (nullable = true)\n",
      " |-- over_18: boolean (nullable = true)\n",
      " |-- is_self: boolean (nullable = true)\n",
      " |-- is_video: boolean (nullable = true)\n",
      " |-- post_length: integer (nullable = true)\n",
      " |-- hour_of_day: integer (nullable = true)\n",
      " |-- day_of_week: integer (nullable = true)\n",
      " |-- day_of_month: integer (nullable = true)\n",
      " |-- month: integer (nullable = true)\n",
      " |-- year: integer (nullable = true)\n",
      " |-- has_media: boolean (nullable = true)\n",
      "\n"
     ]
    }
   ],
   "source": [
    "df.printSchema()"
   ]
  },
  {
   "cell_type": "code",
   "execution_count": 36,
   "id": "47977ca0-ccfd-4ac4-8ed5-f4b12b111cc2",
   "metadata": {
    "tags": []
   },
   "outputs": [
    {
     "name": "stderr",
     "output_type": "stream",
     "text": [
      "                                                                                \r"
     ]
    },
    {
     "name": "stdout",
     "output_type": "stream",
     "text": [
      "+-------+---------------+---------+----+-----+------------+-------+-------+--------+-----------+-----------+-----------+------------+-----+----+---------+\n",
      "|emotion|sentiment_score|subreddit|text|score|num_comments|over_18|is_self|is_video|post_length|hour_of_day|day_of_week|day_of_month|month|year|has_media|\n",
      "+-------+---------------+---------+----+-----+------------+-------+-------+--------+-----------+-----------+-----------+------------+-----+----+---------+\n",
      "|    734|            734|        0|   0|    0|           0|      0|      0|       0|          0|          0|          0|           0|    0|   0|        0|\n",
      "+-------+---------------+---------+----+-----+------------+-------+-------+--------+-----------+-----------+-----------+------------+-----+----+---------+\n",
      "\n"
     ]
    }
   ],
   "source": [
    "#check missing values\n",
    "missing_vals = df.select([count(when(col(c).isNull(), c)).alias(c) for c in df.columns])\n",
    "missing_vals.show()"
   ]
  },
  {
   "cell_type": "code",
   "execution_count": 37,
   "id": "b1e3996e-a5a7-4a0a-b53d-57de890d634b",
   "metadata": {
    "tags": []
   },
   "outputs": [],
   "source": [
    "# Drop rows with any missing values\n",
    "df = df.dropna()"
   ]
  },
  {
   "cell_type": "code",
   "execution_count": 38,
   "id": "5db76be7-deeb-4e5a-ae87-0d5587a40397",
   "metadata": {
    "tags": []
   },
   "outputs": [
    {
     "name": "stderr",
     "output_type": "stream",
     "text": [
      "[Stage 66:===========================================>              (3 + 1) / 4]\r"
     ]
    },
    {
     "name": "stdout",
     "output_type": "stream",
     "text": [
      "+-------+---------------+---------+----+-----+------------+-------+-------+--------+-----------+-----------+-----------+------------+-----+----+---------+\n",
      "|emotion|sentiment_score|subreddit|text|score|num_comments|over_18|is_self|is_video|post_length|hour_of_day|day_of_week|day_of_month|month|year|has_media|\n",
      "+-------+---------------+---------+----+-----+------------+-------+-------+--------+-----------+-----------+-----------+------------+-----+----+---------+\n",
      "|      0|              0|        0|   0|    0|           0|      0|      0|       0|          0|          0|          0|           0|    0|   0|        0|\n",
      "+-------+---------------+---------+----+-----+------------+-------+-------+--------+-----------+-----------+-----------+------------+-----+----+---------+\n",
      "\n"
     ]
    },
    {
     "name": "stderr",
     "output_type": "stream",
     "text": [
      "                                                                                \r"
     ]
    }
   ],
   "source": [
    "missing_vals = df.select([count(when(col(c).isNull(), c)).alias(c) for c in df.columns])\n",
    "missing_vals.show()"
   ]
  },
  {
   "cell_type": "code",
   "execution_count": 39,
   "id": "199f55cf-0e5e-4cbe-8e1f-e26ae9ddb628",
   "metadata": {
    "tags": []
   },
   "outputs": [
    {
     "name": "stderr",
     "output_type": "stream",
     "text": [
      "                                                                                \r"
     ]
    }
   ],
   "source": [
    "#convert to pandas dataframe\n",
    "pandas_df = df.toPandas()"
   ]
  },
  {
   "cell_type": "code",
   "execution_count": 12,
   "id": "781a5db2-31e2-45b8-90bb-9ba6017246d4",
   "metadata": {
    "tags": []
   },
   "outputs": [
    {
     "data": {
      "text/plain": [
       "count    875024.000000\n",
       "mean         26.623398\n",
       "std         250.544172\n",
       "min           0.000000\n",
       "25%           0.000000\n",
       "50%           1.000000\n",
       "75%           8.000000\n",
       "max       35446.000000\n",
       "Name: num_comments, dtype: float64"
      ]
     },
     "execution_count": 12,
     "metadata": {},
     "output_type": "execute_result"
    }
   ],
   "source": [
    "#get the statistics of num_comments column\n",
    "pandas_df[\"num_comments\"].describe()"
   ]
  },
  {
   "cell_type": "code",
   "execution_count": 13,
   "id": "c554bc86-4acf-4f70-a3df-53770ec9ebbf",
   "metadata": {
    "tags": []
   },
   "outputs": [
    {
     "data": {
      "text/plain": [
       "96353"
      ]
     },
     "execution_count": 13,
     "metadata": {},
     "output_type": "execute_result"
    }
   ],
   "source": [
    "#calculate the records greater than mean value\n",
    "len(pandas_df[pandas_df[\"num_comments\"] >= 27])"
   ]
  },
  {
   "cell_type": "code",
   "execution_count": 18,
   "id": "cc4cb73e-7839-44b5-8d88-a5fa4bbc55f8",
   "metadata": {
    "tags": []
   },
   "outputs": [
    {
     "data": {
      "image/png": "[encoded data removed]",
      "text/plain": [
       "<Figure size 640x480 with 1 Axes>"
      ]
     },
     "metadata": {},
     "output_type": "display_data"
    }
   ],
   "source": [
    "#creating boxplot\n",
    "b_plot = pandas_df.boxplot(column = 'num_comments') \n",
    "b_plot.set_ylim(0,10)\n",
    "plt.show()"
   ]
  },
  {
   "cell_type": "code",
   "execution_count": 40,
   "id": "70e97bcf-cbac-4fb9-b2eb-86145125b79a",
   "metadata": {
    "tags": []
   },
   "outputs": [],
   "source": [
    "# Add a new column 'is_popular'\n",
    "df = df.withColumn('is_popular', when(col('num_comments') >= 27, 1).otherwise(0))"
   ]
  },
  {
   "cell_type": "code",
   "execution_count": 41,
   "id": "a1e4a28b-8614-4435-be29-afce98a1ef9c",
   "metadata": {
    "tags": []
   },
   "outputs": [],
   "source": [
    "#Drop num_comments column\n",
    "df = df.drop(\"num_comments\")"
   ]
  },
  {
   "cell_type": "code",
   "execution_count": 42,
   "id": "38204986-cffc-4647-98af-cefaeb65d866",
   "metadata": {
    "tags": []
   },
   "outputs": [
    {
     "name": "stdout",
     "output_type": "stream",
     "text": [
      "root\n",
      " |-- emotion: string (nullable = true)\n",
      " |-- sentiment_score: float (nullable = true)\n",
      " |-- subreddit: string (nullable = true)\n",
      " |-- text: string (nullable = true)\n",
      " |-- score: long (nullable = true)\n",
      " |-- over_18: boolean (nullable = true)\n",
      " |-- is_self: boolean (nullable = true)\n",
      " |-- is_video: boolean (nullable = true)\n",
      " |-- post_length: integer (nullable = true)\n",
      " |-- hour_of_day: integer (nullable = true)\n",
      " |-- day_of_week: integer (nullable = true)\n",
      " |-- day_of_month: integer (nullable = true)\n",
      " |-- month: integer (nullable = true)\n",
      " |-- year: integer (nullable = true)\n",
      " |-- has_media: boolean (nullable = true)\n",
      " |-- is_popular: integer (nullable = false)\n",
      "\n"
     ]
    }
   ],
   "source": [
    "df.printSchema()"
   ]
  },
  {
   "cell_type": "code",
   "execution_count": 43,
   "id": "7229442e-98d2-45c0-8d64-6187e04feee0",
   "metadata": {
    "tags": []
   },
   "outputs": [
    {
     "name": "stderr",
     "output_type": "stream",
     "text": [
      "[Stage 70:===========================================>              (3 + 1) / 4]\r"
     ]
    },
    {
     "name": "stdout",
     "output_type": "stream",
     "text": [
      "+----------+------+\n",
      "|is_popular| count|\n",
      "+----------+------+\n",
      "|         1| 96353|\n",
      "|         0|778671|\n",
      "+----------+------+\n",
      "\n"
     ]
    },
    {
     "name": "stderr",
     "output_type": "stream",
     "text": [
      "                                                                                \r"
     ]
    }
   ],
   "source": [
    "# get count of values in is_popular column by groupBy \n",
    "popularity_counts = df.groupBy(\"is_popular\").count()\n",
    "\n",
    "# Display the counts\n",
    "popularity_counts.show()"
   ]
  },
  {
   "cell_type": "code",
   "execution_count": 44,
   "id": "84281821-4248-4235-ab0f-7a84d0e9512d",
   "metadata": {
    "tags": []
   },
   "outputs": [
    {
     "name": "stderr",
     "output_type": "stream",
     "text": [
      "                                                                                \r"
     ]
    }
   ],
   "source": [
    "#convert it to pandas\n",
    "popularity_counts_pd = popularity_counts.toPandas()"
   ]
  },
  {
   "cell_type": "code",
   "execution_count": 50,
   "id": "5ae120f2-2cc9-472f-a716-ff86df2dbac9",
   "metadata": {
    "tags": []
   },
   "outputs": [
    {
     "data": {
      "image/png": "[encoded data removed]",
      "text/plain": [
       "<Figure size 640x480 with 1 Axes>"
      ]
     },
     "metadata": {},
     "output_type": "display_data"
    }
   ],
   "source": [
    "# Plot a bar graph\n",
    "popularity_counts_pd.plot(kind='bar', x='is_popular', y='count', color=['#ff4301', '#ff4301'], legend=False)\n",
    "plt.xlabel('Target Variable (is_popular)')\n",
    "plt.ylabel('Count')\n",
    "plt.title('Distribution of Target Variable (is_popular)')\n",
    "plt.xticks(ticks=[1, 0], labels=['Popular','Not Popular'], rotation=0)\n",
    "plt.savefig(\"../../data/plots/is_popular_distribution.png\", dpi=300)\n",
    "plt.show()"
   ]
  },
  {
   "cell_type": "markdown",
   "id": "9e265fc2-0b8e-41a8-bc07-09e7bf91ff25",
   "metadata": {},
   "source": [
    "Downsampling"
   ]
  },
  {
   "cell_type": "code",
   "execution_count": 51,
   "id": "939a337d-afe6-479c-94d7-288daed5d1af",
   "metadata": {
    "tags": []
   },
   "outputs": [],
   "source": [
    "# Separate the data into two DataFrames based on the 'is_popular' value\n",
    "popular_df = df.filter(F.col(\"is_popular\") == 1)\n",
    "not_popular_df = df.filter(F.col(\"is_popular\") == 0)"
   ]
  },
  {
   "cell_type": "code",
   "execution_count": 52,
   "id": "604d179c-62dc-4781-9c85-e77396d41e3e",
   "metadata": {
    "tags": []
   },
   "outputs": [
    {
     "name": "stderr",
     "output_type": "stream",
     "text": [
      "                                                                                \r"
     ]
    }
   ],
   "source": [
    "# Downsample the majority class (is_popular = 0) to match the count of the minority class (is_popular = 1)\n",
    "downsampled_not_popular_df = not_popular_df.sample(False, popular_df.count() / not_popular_df.count())"
   ]
  },
  {
   "cell_type": "code",
   "execution_count": 53,
   "id": "b5a1697b-5082-4d7e-a4d9-d8237dabcf9b",
   "metadata": {
    "tags": []
   },
   "outputs": [],
   "source": [
    "# Combine the downsampled majority class with the minority class\n",
    "downsampled_df = popular_df.union(downsampled_not_popular_df)"
   ]
  },
  {
   "cell_type": "code",
   "execution_count": 65,
   "id": "ceed0f9e-0238-4506-b8cf-107757cb1881",
   "metadata": {
    "tags": []
   },
   "outputs": [
    {
     "name": "stderr",
     "output_type": "stream",
     "text": [
      "                                                                                \r"
     ]
    },
    {
     "data": {
      "text/html": [
       "<div>\n",
       "<style scoped>\n",
       "    .dataframe tbody tr th:only-of-type {\n",
       "        vertical-align: middle;\n",
       "    }\n",
       "\n",
       "    .dataframe tbody tr th {\n",
       "        vertical-align: top;\n",
       "    }\n",
       "\n",
       "    .dataframe thead th {\n",
       "        text-align: right;\n",
       "    }\n",
       "</style>\n",
       "<table border=\"1\" class=\"dataframe\">\n",
       "  <thead>\n",
       "    <tr style=\"text-align: right;\">\n",
       "      <th></th>\n",
       "      <th>is_popular</th>\n",
       "      <th>count</th>\n",
       "    </tr>\n",
       "  </thead>\n",
       "  <tbody>\n",
       "    <tr>\n",
       "      <th>0</th>\n",
       "      <td>1</td>\n",
       "      <td>96353</td>\n",
       "    </tr>\n",
       "    <tr>\n",
       "      <th>1</th>\n",
       "      <td>0</td>\n",
       "      <td>96314</td>\n",
       "    </tr>\n",
       "  </tbody>\n",
       "</table>\n",
       "</div>"
      ],
      "text/plain": [
       "   is_popular  count\n",
       "0           1  96353\n",
       "1           0  96314"
      ]
     },
     "execution_count": 65,
     "metadata": {},
     "output_type": "execute_result"
    }
   ],
   "source": [
    "# Check the counts after downsampling\n",
    "downsampled_df_table=downsampled_df.groupBy(\"is_popular\").count().toPandas()\n",
    "downsampled_df_table"
   ]
  },
  {
   "cell_type": "code",
   "execution_count": 67,
   "id": "c5747978-5a7b-496b-8ef6-9b9ecdfbaf18",
   "metadata": {
    "tags": []
   },
   "outputs": [
    {
     "data": {
      "image/png": "[encoded data removed]",
      "text/plain": [
       "<Figure size 640x480 with 1 Axes>"
      ]
     },
     "metadata": {},
     "output_type": "display_data"
    }
   ],
   "source": [
    "# Plot a bar graph\n",
    "downsampled_df_table.plot(kind='bar', x='is_popular', y='count', color=['#ff4301', '#ff4301'], legend=False)\n",
    "plt.xlabel('Target Variable (is_popular)')\n",
    "plt.ylabel('Count')\n",
    "plt.title('Distribution of Target Variable after Down Sampling')\n",
    "plt.xticks(ticks=[1, 0], labels=['Popular','Not Popular'], rotation=0)\n",
    "plt.savefig(\"../../data/plots/is_popular_distribution_downsampled.png\", dpi=300)\n",
    "plt.show()"
   ]
  },
  {
   "cell_type": "code",
   "execution_count": 19,
   "id": "d4475f28-b6e8-4d85-81f2-d659c5148e9f",
   "metadata": {
    "tags": []
   },
   "outputs": [
    {
     "name": "stdout",
     "output_type": "stream",
     "text": [
      "root\n",
      " |-- emotion: string (nullable = true)\n",
      " |-- sentiment_score: float (nullable = true)\n",
      " |-- subreddit: string (nullable = true)\n",
      " |-- text: string (nullable = true)\n",
      " |-- score: long (nullable = true)\n",
      " |-- over_18: boolean (nullable = true)\n",
      " |-- is_self: boolean (nullable = true)\n",
      " |-- is_video: boolean (nullable = true)\n",
      " |-- post_length: integer (nullable = true)\n",
      " |-- hour_of_day: integer (nullable = true)\n",
      " |-- day_of_week: integer (nullable = true)\n",
      " |-- day_of_month: integer (nullable = true)\n",
      " |-- month: integer (nullable = true)\n",
      " |-- year: integer (nullable = true)\n",
      " |-- has_media: boolean (nullable = true)\n",
      " |-- is_popular: integer (nullable = false)\n",
      "\n"
     ]
    }
   ],
   "source": [
    "downsampled_df.printSchema()"
   ]
  },
  {
   "cell_type": "code",
   "execution_count": 20,
   "id": "b498cabf-0ebe-431b-b620-e76722ca39bb",
   "metadata": {
    "tags": []
   },
   "outputs": [
    {
     "name": "stderr",
     "output_type": "stream",
     "text": [
      "                                                                                \r"
     ]
    }
   ],
   "source": [
    "# Tokenize text\n",
    "tokenizer = Tokenizer(inputCol=\"text\", outputCol=\"words\")\n",
    "tokenized_df = tokenizer.transform(downsampled_df)\n",
    "\n",
    "# Remove stop words\n",
    "remover = StopWordsRemover(inputCol=\"words\", outputCol=\"filtered_words\")\n",
    "df_no_stopwords = remover.transform(tokenized_df)\n",
    "\n",
    "# Vectorize words\n",
    "hashingTF = HashingTF(inputCol=\"filtered_words\", outputCol=\"rawFeatures\")\n",
    "featurizedData = hashingTF.transform(df_no_stopwords)\n",
    "\n",
    "# Optionally, use IDF to rescale the feature vectors\n",
    "idf = IDF(inputCol=\"rawFeatures\", outputCol=\"features\")\n",
    "rescaledData = idf.fit(featurizedData).transform(featurizedData)"
   ]
  },
  {
   "cell_type": "code",
   "execution_count": 21,
   "id": "f47497e5-b491-46ec-a3bf-2487e365ccc8",
   "metadata": {
    "tags": []
   },
   "outputs": [],
   "source": [
    "#drop columns unwanted columns\n",
    "rescaledData = rescaledData.drop(*[\"words\", \"filtered_words\", \"rawFeatures\"])"
   ]
  },
  {
   "cell_type": "code",
   "execution_count": 22,
   "id": "73e72b3f-8db6-4570-8689-12cec1c94681",
   "metadata": {
    "tags": []
   },
   "outputs": [
    {
     "data": {
      "text/plain": [
       "DataFrame[emotion: string, sentiment_score: float, subreddit: string, text: string, score: bigint, over_18: string, is_self: string, is_video: string, post_length: int, hour_of_day: int, day_of_week: int, day_of_month: int, month: int, year: int, has_media: string, is_popular: string, features: vector]"
      ]
     },
     "execution_count": 22,
     "metadata": {},
     "output_type": "execute_result"
    }
   ],
   "source": [
    "#convert datatype to string\n",
    "rescaledData = rescaledData.withColumn(\"over_18\", col(\"over_18\").cast(\"string\"))\n",
    "rescaledData = rescaledData.withColumn(\"is_self\", col(\"is_self\").cast(\"string\"))\n",
    "rescaledData = rescaledData.withColumn(\"is_video\", col(\"is_video\").cast(\"string\"))\n",
    "rescaledData = rescaledData.withColumn(\"has_media\", col(\"has_media\").cast(\"string\"))\n",
    "rescaledData = rescaledData.withColumn(\"is_popular\", col(\"is_popular\").cast(\"string\"))\n",
    "rescaledData = rescaledData.withColumn(\"emotion\", col(\"emotion\").cast(\"string\"))\n",
    "rescaledData"
   ]
  },
  {
   "cell_type": "code",
   "execution_count": 23,
   "id": "839466a4-1939-4ec8-81a0-1226b68007ec",
   "metadata": {
    "tags": []
   },
   "outputs": [
    {
     "name": "stdout",
     "output_type": "stream",
     "text": [
      "root\n",
      " |-- emotion: string (nullable = true)\n",
      " |-- sentiment_score: float (nullable = true)\n",
      " |-- subreddit: string (nullable = true)\n",
      " |-- text: string (nullable = true)\n",
      " |-- score: long (nullable = true)\n",
      " |-- over_18: string (nullable = true)\n",
      " |-- is_self: string (nullable = true)\n",
      " |-- is_video: string (nullable = true)\n",
      " |-- post_length: integer (nullable = true)\n",
      " |-- hour_of_day: integer (nullable = true)\n",
      " |-- day_of_week: integer (nullable = true)\n",
      " |-- day_of_month: integer (nullable = true)\n",
      " |-- month: integer (nullable = true)\n",
      " |-- year: integer (nullable = true)\n",
      " |-- has_media: string (nullable = true)\n",
      " |-- is_popular: string (nullable = false)\n",
      " |-- features: vector (nullable = true)\n",
      "\n"
     ]
    }
   ],
   "source": [
    "# Show the updated schema\n",
    "rescaledData.printSchema()"
   ]
  },
  {
   "cell_type": "code",
   "execution_count": 24,
   "id": "8349fd4b-1f3a-41c5-97cb-e6fdad75a677",
   "metadata": {
    "tags": []
   },
   "outputs": [
    {
     "name": "stderr",
     "output_type": "stream",
     "text": [
      "23/11/30 20:53:35 WARN DAGScheduler: Broadcasting large task binary with size 4.4 MiB\n",
      "                                                                                \r"
     ]
    }
   ],
   "source": [
    "rescaledData.write.parquet(\"s3a://project-group34/project/submissions/cleaned_ML_3/\", mode=\"overwrite\")"
   ]
  },
  {
   "cell_type": "markdown",
   "id": "5e3ddd63-b008-42ab-8549-2bf0a9988ddb",
   "metadata": {},
   "source": [
    "spark job"
   ]
  },
  {
   "cell_type": "code",
   "execution_count": 52,
   "id": "728cedb1-7e94-4888-832e-ddb4d5be555e",
   "metadata": {
    "tags": []
   },
   "outputs": [
    {
     "name": "stdout",
     "output_type": "stream",
     "text": [
      "sagemaker.config INFO - Not applying SDK defaults from location: /etc/xdg/sagemaker/config.yaml\n",
      "sagemaker.config INFO - Not applying SDK defaults from location: /root/.config/sagemaker/config.yaml\n",
      "sagemaker.config INFO - Not applying SDK defaults from location: /etc/xdg/sagemaker/config.yaml\n",
      "sagemaker.config INFO - Not applying SDK defaults from location: /root/.config/sagemaker/config.yaml\n",
      "sagemaker.config INFO - Not applying SDK defaults from location: /etc/xdg/sagemaker/config.yaml\n",
      "sagemaker.config INFO - Not applying SDK defaults from location: /root/.config/sagemaker/config.yaml\n",
      "CPU times: user 89.2 ms, sys: 426 µs, total: 89.6 ms\n",
      "Wall time: 135 ms\n"
     ]
    }
   ],
   "source": [
    "%%time\n",
    "# Setup the PySpark processor to run the job. Note the instance type and instance count parameters. SageMaker will create these many instances of this type for the spark job.\n",
    "role = sagemaker.get_execution_role()\n",
    "spark_processor = PySparkProcessor(\n",
    "    base_job_name=\"sm-spark-project\",\n",
    "    framework_version=\"3.3\",\n",
    "    role=role,\n",
    "    instance_count=8,\n",
    "    instance_type=\"ml.m5.xlarge\",\n",
    "    max_runtime_in_seconds=21600,\n",
    ")\n",
    "\n",
    "# s3 paths\n",
    "session = sagemaker.Session()\n",
    "output_prefix_logs = f\"spark_logs\"\n",
    "\n",
    "configuration = [\n",
    "    {\n",
    "        \"Classification\": \"spark-defaults\",\n",
    "        \"Properties\": {\"spark.executor.memory\": \"12g\", \"spark.executor.cores\": \"4\"},\n",
    "    }\n",
    "]"
   ]
  },
  {
   "cell_type": "markdown",
   "id": "fcbaee83-ecea-46e7-b386-53ea17fcd0ae",
   "metadata": {},
   "source": [
    "PREPROCESSING JOB"
   ]
  },
  {
   "cell_type": "code",
   "execution_count": 26,
   "id": "b5bbf008-5428-4cb8-8524-a4212622808c",
   "metadata": {
    "tags": []
   },
   "outputs": [
    {
     "name": "stdout",
     "output_type": "stream",
     "text": [
      "Overwriting ./code/preprocess_ml3.py\n"
     ]
    }
   ],
   "source": [
    "%%writefile ./code/preprocess_ml3.py\n",
    "\n",
    "import sys\n",
    "import os\n",
    "import logging\n",
    "import argparse\n",
    "# Import pyspark and build Spark session\n",
    "from pyspark.sql import SparkSession\n",
    "from pyspark.ml.feature import OneHotEncoder, StringIndexer, IndexToString, VectorAssembler\n",
    "from pyspark.ml.evaluation import BinaryClassificationEvaluator, MulticlassClassificationEvaluator\n",
    "from pyspark.ml.tuning import ParamGridBuilder, CrossValidator\n",
    "from pyspark.ml import Pipeline, Model\n",
    "import sagemaker\n",
    "from pyspark.sql.functions import lower, regexp_replace, col, concat_ws\n",
    "from pyspark.ml.feature import Tokenizer, StopWordsRemover\n",
    "from pyspark.sql.functions import length\n",
    "\n",
    "\n",
    "logging.basicConfig(format='%(asctime)s,%(levelname)s,%(module)s,%(filename)s,%(lineno)d,%(message)s', level=logging.DEBUG)\n",
    "logger = logging.getLogger()\n",
    "logger.setLevel(logging.DEBUG)\n",
    "logger.addHandler(logging.StreamHandler(sys.stdout))\n",
    "\n",
    "def main():\n",
    "    \n",
    "    parser = argparse.ArgumentParser(description=\"app inputs and outputs\")\n",
    "    parser.add_argument(\"--s3_dataset_path\", type=str, help=\"Path of dataset in S3\")    \n",
    "    args = parser.parse_args()\n",
    "\n",
    "    spark = SparkSession.builder \\\n",
    "    .appName(\"Spark ML\")\\\n",
    "    .config(\"spark.driver.memory\",\"16G\")\\\n",
    "    .config(\"spark.driver.maxResultSize\", \"0\") \\\n",
    "    .config(\"spark.kryoserializer.buffer.max\", \"2000M\")\\\n",
    "    .config(\"spark.jars.packages\", \"com.johnsnowlabs.nlp:spark-nlp_2.12:5.1.3\")\\\n",
    "    .getOrCreate()\n",
    "    \n",
    "    logger.info(f\"Spark version: {spark.version}\")\n",
    "    \n",
    "    # This is needed to save RDDs which is the only way to write nested Dataframes into CSV format\n",
    "    sc = spark.sparkContext\n",
    "    sc._jsc.hadoopConfiguration().set(\n",
    "        \"mapred.output.committer.class\", \"org.apache.hadoop.mapred.FileOutputCommitter\"\n",
    "    )\n",
    "\n",
    "    # Downloading the data from S3 into a Dataframe\n",
    "    logger.info(f\"going to read {args.s3_dataset_path}\")\n",
    "    rescaledData = spark.read.parquet(args.s3_dataset_path, header=True)\n",
    "    vals = [\"movies\", \"anime\"]\n",
    "    rescaledData = rescaledData.where(col(\"subreddit\").isin(vals))\n",
    "    \n",
    "    train_data, test_data, val_data = rescaledData.randomSplit([0.8, 0.15, 0.05], seed=1140)\n",
    "    \n",
    "    # Print the number of records in each dataset\n",
    "    logger.info(\"Number of training records: \" + str(train_data.count()))\n",
    "    logger.info(\"Number of testing records: \" + str(test_data.count()))\n",
    "    logger.info(\"Number of validation records: \" + str(val_data.count()))\n",
    "    \n",
    "    stringIndexer_over_18 = StringIndexer(inputCol=\"over_18\", outputCol=\"over_18_ix\")\n",
    "    stringIndexer_is_self = StringIndexer(inputCol=\"is_self\", outputCol=\"is_self_ix\")\n",
    "    stringIndexer_is_video = StringIndexer(inputCol=\"is_video\", outputCol=\"is_video_ix\")\n",
    "    stringIndexer_has_media = StringIndexer(inputCol=\"has_media\", outputCol=\"has_media_ix\")\n",
    "    stringIndexer_subreddit = StringIndexer(inputCol=\"subreddit\", outputCol=\"subreddit_ix\")\n",
    "    stringIndexer_emotion = StringIndexer(inputCol=\"emotion\", outputCol=\"emotion_ix\")\n",
    "    stringIndexer_is_popular = StringIndexer(inputCol=\"is_popular\", outputCol=\"is_popular_ix\")\n",
    "    \n",
    "    onehot_over_18 = OneHotEncoder(inputCol=\"over_18_ix\", outputCol=\"over_18_vec\")\n",
    "    onehot_is_self = OneHotEncoder(inputCol=\"is_self_ix\", outputCol=\"is_self_vec\")\n",
    "    onehot_is_video = OneHotEncoder(inputCol=\"is_video_ix\", outputCol=\"is_video_vec\")\n",
    "    onehot_has_media = OneHotEncoder(inputCol=\"has_media_ix\", outputCol=\"has_media_vec\")\n",
    "    onehot_has_subreddit = OneHotEncoder(inputCol=\"subreddit_ix\", outputCol=\"subreddit_vec\")\n",
    "    \n",
    "    vectorAssembler_features = VectorAssembler(\n",
    "                                    inputCols=[\"emotion_ix\",\"subreddit_vec\",\"score\",\"over_18_vec\",\"is_self_vec\",\n",
    "                                               \"is_video_vec\",\"post_length\",\"hour_of_day\",\"day_of_week\",\n",
    "                                               \"day_of_month\", \"month\",\"year\", \"has_media_vec\", \"features\"],\n",
    "                                    outputCol=\"combined_features\")\n",
    "\n",
    "    # Define the stages for the pipeline\n",
    "    stages = [\n",
    "        stringIndexer_is_popular,\n",
    "        stringIndexer_emotion,\n",
    "        stringIndexer_subreddit, \n",
    "        stringIndexer_over_18, \n",
    "        stringIndexer_is_self, \n",
    "        stringIndexer_is_video, \n",
    "        stringIndexer_has_media,\n",
    "        onehot_over_18,\n",
    "        onehot_is_self,\n",
    "        onehot_is_video,\n",
    "        onehot_has_media,\n",
    "        onehot_has_subreddit,\n",
    "        vectorAssembler_features\n",
    "    ]\n",
    "\n",
    "    # Define the pipeline without the classifier and evaluator\n",
    "    pipeline = Pipeline(stages=stages)\n",
    "\n",
    "    # Fit the preprocessing part of the pipeline\n",
    "    pipeline_fit = pipeline.fit(train_data)\n",
    "\n",
    "    # Transform the data\n",
    "    transformed_train_data = pipeline_fit.transform(train_data)\n",
    "    transformed_test_data = pipeline_fit.transform(test_data)\n",
    "    \n",
    "    transformed_train_data.write.parquet(\"s3a://project-group34/project/submissions/preprocessed_ML/train_3/\", mode=\"overwrite\")\n",
    "    transformed_test_data.write.parquet(\"s3a://project-group34/project/submissions/preprocessed_ML/test_3/\", mode=\"overwrite\")\n",
    "    \n",
    "if __name__ == \"__main__\":\n",
    "    main()"
   ]
  },
  {
   "cell_type": "code",
   "execution_count": null,
   "id": "926e6b29-2a26-41ee-abb8-1fb83cff8ad1",
   "metadata": {},
   "outputs": [
    {
     "name": "stderr",
     "output_type": "stream",
     "text": [
      "INFO:sagemaker:Creating processing-job with name sm-spark-project-2023-11-30-20-54-24-013\n"
     ]
    },
    {
     "name": "stdout",
     "output_type": "stream",
     "text": [
      ".........................................................................................................!CPU times: user 523 ms, sys: 33.6 ms, total: 557 ms\n",
      "Wall time: 8min 55s\n"
     ]
    }
   ],
   "source": [
    "%%time\n",
    "bucket = \"project-group34\"\n",
    "s3_path = \"s3a://project-group34/project/submissions/cleaned_ML_3/\"\n",
    "\n",
    "# run the job now, the arguments array is provided as command line to the Python script (Spark code in this case).\n",
    "spark_processor.run(\n",
    "    submit_app=\"./code/preprocess_ml3.py\",\n",
    "    arguments=[\n",
    "        \"--s3_dataset_path\",\n",
    "        s3_path,\n",
    "    ],\n",
    "    spark_event_logs_s3_uri=\"s3://{}/{}/spark_event_logs\".format(bucket, output_prefix_logs),\n",
    "    logs=False,\n",
    "    configuration=configuration\n",
    ")"
   ]
  },
  {
   "cell_type": "markdown",
   "id": "e68d0abd-ea42-49a5-b8ea-35a6918bfd4a",
   "metadata": {},
   "source": [
    "MODEL 1 - LOGISTIC REGRESSION"
   ]
  },
  {
   "cell_type": "code",
   "execution_count": 37,
   "id": "5f5cd49e-ec23-4d3f-b321-714a33f8a446",
   "metadata": {},
   "outputs": [
    {
     "name": "stdout",
     "output_type": "stream",
     "text": [
      "Overwriting ./code/ml_train_lr3.py\n"
     ]
    }
   ],
   "source": [
    "%%writefile ./code/ml_train_lr3.py\n",
    "\n",
    "import sys\n",
    "import os\n",
    "import logging\n",
    "import argparse\n",
    "# Import pyspark and build Spark session\n",
    "from pyspark.sql import SparkSession\n",
    "from pyspark.ml.feature import OneHotEncoder, StringIndexer, IndexToString, VectorAssembler\n",
    "from pyspark.ml.classification import LogisticRegression\n",
    "from pyspark.ml.evaluation import BinaryClassificationEvaluator, MulticlassClassificationEvaluator\n",
    "from pyspark.ml.tuning import ParamGridBuilder, CrossValidator\n",
    "from pyspark.ml import Pipeline, Model\n",
    "import sagemaker\n",
    "from pyspark.sql.functions import lower, regexp_replace, col, concat_ws\n",
    "from pyspark.ml.feature import Tokenizer, StopWordsRemover\n",
    "from pyspark.sql.functions import length\n",
    "\n",
    "\n",
    "logging.basicConfig(format='%(asctime)s,%(levelname)s,%(module)s,%(filename)s,%(lineno)d,%(message)s', level=logging.DEBUG)\n",
    "logger = logging.getLogger()\n",
    "logger.setLevel(logging.DEBUG)\n",
    "logger.addHandler(logging.StreamHandler(sys.stdout))\n",
    "\n",
    "def main():\n",
    "\n",
    "    spark = (SparkSession.builder\\\n",
    "             .appName(\"PySparkApp\")\\\n",
    "             .config(\"spark.jars.packages\", \"org.apache.hadoop:hadoop-aws:3.2.2\")\\\n",
    "             .config(\n",
    "                    \"fs.s3a.aws.credentials.provider\",\n",
    "                    \"com.amazonaws.auth.ContainerCredentialsProvider\",\n",
    "                )\\\n",
    "    .getOrCreate()\n",
    ")\n",
    "    \n",
    "    logger.info(f\"Spark version: {spark.version}\")\n",
    "    \n",
    "    # This is needed to save RDDs which is the only way to write nested Dataframes into CSV format\n",
    "    sc = spark.sparkContext\n",
    "    sc._jsc.hadoopConfiguration().set(\n",
    "        \"mapred.output.committer.class\", \"org.apache.hadoop.mapred.FileOutputCommitter\"\n",
    "    )\n",
    "\n",
    "    # Downloading the data from S3 into a Dataframe\n",
    "    transformed_train_data = spark.read.parquet(\"s3a://project-group34/project/submissions/preprocessed_ML/train_3/\")\n",
    "    transformed_test_data = spark.read.parquet(\"s3a://project-group34/project/submissions/preprocessed_ML/test_3/\")\n",
    "    \n",
    "    # RandomForestClassifier without hyperparameter tuning\n",
    "    lr_classifier = LogisticRegression(labelCol=\"is_popular_ix\", \n",
    "                                           featuresCol=\"combined_features\")\n",
    "    labelConverter = IndexToString(inputCol=\"prediction\", \n",
    "                               outputCol=\"predictedPopularity\", \n",
    "                               labels=[\"0\", \"1\"])\n",
    "\n",
    "    # Add the best model and labelConverter to the pipeline\n",
    "    pipeline = Pipeline(stages=[lr_classifier, \n",
    "                                labelConverter])\n",
    "    \n",
    "    # Fit the entire pipeline\n",
    "    pipeline_fit = pipeline.fit(transformed_train_data)\n",
    "    train_predictions = pipeline_fit.transform(transformed_train_data)\n",
    "\n",
    "    # Transform the data with the best model\n",
    "    test_predictions = pipeline_fit.transform(transformed_test_data)\n",
    "    \n",
    "    train_predictions.write.parquet(\"s3a://project-group34/project/submissions/lr/train_pred_3/\", mode=\"overwrite\")    \n",
    "    test_predictions.write.parquet(\"s3a://project-group34/project/submissions/lr/test_pred_3/\", mode=\"overwrite\")\n",
    "    pipeline_fit.save(\"s3a://project-group34/project/submissions/lr/model1/\")\n",
    "    \n",
    "    logger.info(f\"all done...\")\n",
    "    \n",
    "if __name__ == \"__main__\":\n",
    "    main()"
   ]
  },
  {
   "cell_type": "code",
   "execution_count": 38,
   "id": "0a9d276e-4713-4357-b786-1990397ad0f9",
   "metadata": {},
   "outputs": [
    {
     "name": "stderr",
     "output_type": "stream",
     "text": [
      "INFO:sagemaker:Creating processing-job with name sm-spark-project-2023-11-30-21-46-50-083\n"
     ]
    },
    {
     "name": "stdout",
     "output_type": "stream",
     "text": [
      ".........................................................................................................................................................!CPU times: user 629 ms, sys: 47.9 ms, total: 677 ms\n",
      "Wall time: 12min 56s\n"
     ]
    }
   ],
   "source": [
    "%%time\n",
    "bucket = \"project-group34\"\n",
    "\n",
    "# run the job now, the arguments array is provided as command line to the Python script (Spark code in this case).\n",
    "spark_processor.run(\n",
    "    submit_app=\"./code/ml_train_lr3.py\",\n",
    "    spark_event_logs_s3_uri=\"s3://{}/{}/spark_event_logs\".format(bucket, output_prefix_logs),\n",
    "    logs=False,\n",
    "    configuration=configuration\n",
    ")"
   ]
  },
  {
   "cell_type": "markdown",
   "id": "6c177008-8ca2-4420-89e5-54f593334a60",
   "metadata": {},
   "source": [
    "MODEL 2- DECISION TREE"
   ]
  },
  {
   "cell_type": "code",
   "execution_count": null,
   "id": "869a59ea-e831-4e2f-981f-4b830e76589a",
   "metadata": {},
   "outputs": [],
   "source": [
    "%%writefile ./code/ml_train_dt3.py\n",
    "\n",
    "import sys\n",
    "import os\n",
    "import logging\n",
    "import argparse\n",
    "# Import pyspark and build Spark session\n",
    "from pyspark.sql import SparkSession\n",
    "from pyspark.ml.feature import OneHotEncoder, StringIndexer, IndexToString, VectorAssembler\n",
    "from pyspark.ml.classification import GBTClassifier,LogisticRegression, DecisionTreeClassifier\n",
    "from pyspark.ml.evaluation import BinaryClassificationEvaluator, MulticlassClassificationEvaluator\n",
    "from pyspark.ml.tuning import ParamGridBuilder, CrossValidator\n",
    "from pyspark.ml import Pipeline, Model\n",
    "import sagemaker\n",
    "from pyspark.sql.functions import lower, regexp_replace, col, concat_ws\n",
    "from pyspark.ml.feature import Tokenizer, StopWordsRemover\n",
    "from pyspark.sql.functions import length\n",
    "\n",
    "\n",
    "logging.basicConfig(format='%(asctime)s,%(levelname)s,%(module)s,%(filename)s,%(lineno)d,%(message)s', level=logging.DEBUG)\n",
    "logger = logging.getLogger()\n",
    "logger.setLevel(logging.DEBUG)\n",
    "logger.addHandler(logging.StreamHandler(sys.stdout))\n",
    "\n",
    "def main():\n",
    "\n",
    "    spark = (SparkSession.builder\\\n",
    "             .appName(\"PySparkApp\")\\\n",
    "             .config(\"spark.jars.packages\", \"org.apache.hadoop:hadoop-aws:3.2.2\")\\\n",
    "             .config(\n",
    "                    \"fs.s3a.aws.credentials.provider\",\n",
    "                    \"com.amazonaws.auth.ContainerCredentialsProvider\",\n",
    "                )\\\n",
    "    .getOrCreate()\n",
    ")\n",
    "    \n",
    "    logger.info(f\"Spark version: {spark.version}\")\n",
    "    \n",
    "    # This is needed to save RDDs which is the only way to write nested Dataframes into CSV format\n",
    "    sc = spark.sparkContext\n",
    "    sc._jsc.hadoopConfiguration().set(\n",
    "        \"mapred.output.committer.class\", \"org.apache.hadoop.mapred.FileOutputCommitter\"\n",
    "    )\n",
    "\n",
    "    # Downloading the data from S3 into a Dataframe\n",
    "    transformed_train_data = spark.read.parquet(\"s3a://project-group34/project/submissions/preprocessed_ML/train_3/\")\n",
    "    transformed_test_data = spark.read.parquet(\"s3a://project-group34/project/submissions/preprocessed_ML/test_3/\")\n",
    "    \n",
    "    # RandomForestClassifier without hyperparameter tuning\n",
    "    dt_classifier = DecisionTreeClassifier(labelCol=\"is_popular_ix\", \n",
    "                                           featuresCol=\"combined_features\")\n",
    "    labelConverter = IndexToString(inputCol=\"prediction\", \n",
    "                               outputCol=\"predictedPopularity\", \n",
    "                               labels=[\"0\", \"1\"])\n",
    "\n",
    "    # Add the best model and labelConverter to the pipeline\n",
    "    pipeline = Pipeline(stages=[dt_classifier, \n",
    "                                labelConverter])\n",
    "    \n",
    "    # Fit the entire pipeline\n",
    "    pipeline_fit = pipeline.fit(transformed_train_data)\n",
    "    train_predictions = pipeline_fit.transform(transformed_train_data)\n",
    "\n",
    "    # Transform the data with the best model\n",
    "    test_predictions = pipeline_fit.transform(transformed_test_data)\n",
    "    \n",
    "    train_predictions.write.parquet(\"s3a://project-group34/project/submissions/dt/train_pred_3/\", mode=\"overwrite\")    \n",
    "    test_predictions.write.parquet(\"s3a://project-group34/project/submissions/dt/test_pred_3/\", mode=\"overwrite\")\n",
    "    pipeline_fit.save(\"s3a://project-group34/project/submissions/dt/model1/\")\n",
    "    \n",
    "    logger.info(f\"all done...\")\n",
    "    \n",
    "if __name__ == \"__main__\":\n",
    "    main()"
   ]
  },
  {
   "cell_type": "code",
   "execution_count": null,
   "id": "f4c16090-d581-4996-81c3-1c845cd1e728",
   "metadata": {},
   "outputs": [],
   "source": [
    "%%time\n",
    "bucket = \"project-group34\"\n",
    "\n",
    "# run the job now, the arguments array is provided as command line to the Python script (Spark code in this case).\n",
    "spark_processor.run(\n",
    "    submit_app=\"./code/ml_train_dt3.py\",\n",
    "    spark_event_logs_s3_uri=\"s3://{}/{}/spark_event_logs\".format(bucket, output_prefix_logs),\n",
    "    logs=False,\n",
    "    configuration=configuration\n",
    ")"
   ]
  },
  {
   "cell_type": "markdown",
   "id": "34cc6c6f-3a38-43df-8336-eee23ba7b628",
   "metadata": {},
   "source": [
    "EVALUATION"
   ]
  },
  {
   "cell_type": "code",
   "execution_count": 6,
   "id": "5caa7604-618e-4486-a6b2-7fdd2ab10d8d",
   "metadata": {},
   "outputs": [
    {
     "name": "stdout",
     "output_type": "stream",
     "text": [
      "3.4.0\n"
     ]
    }
   ],
   "source": [
    "# Import pyspark and build Spark session\n",
    "from pyspark.sql import SparkSession\n",
    "\n",
    "# Import pyspark and build Spark session\n",
    "spark = SparkSession.builder \\\n",
    "    .appName(\"Spark NLP\")\\\n",
    "    .master(\"local[*]\")\\\n",
    "    .config(\"spark.driver.memory\",\"16G\")\\\n",
    "    .config(\"spark.executor.memory\", \"12g\")\\\n",
    "    .config(\"spark.executor.cores\", \"3\")\\\n",
    "    .config(\"spark.jars.packages\", \"com.johnsnowlabs.nlp:spark-nlp_2.12:5.1.3,org.apache.hadoop:hadoop-aws:3.2.2\")\\\n",
    "    .config(\n",
    "            \"fs.s3a.aws.credentials.provider\",\n",
    "            \"com.amazonaws.auth.ContainerCredentialsProvider\"\n",
    "    )\\\n",
    "    .getOrCreate()\n",
    "\n",
    "print(spark.version)"
   ]
  },
  {
   "cell_type": "code",
   "execution_count": 8,
   "id": "29b035ce-26b6-4267-9a00-32bb463fa7f5",
   "metadata": {},
   "outputs": [
    {
     "name": "stderr",
     "output_type": "stream",
     "text": [
      "23/12/01 03:49:00 WARN MetricsConfig: Cannot locate configuration: tried hadoop-metrics2-s3a-file-system.properties,hadoop-metrics2.properties\n",
      "                                                                                \r"
     ]
    }
   ],
   "source": [
    "transformed_train_lr = spark.read.parquet(\"s3a://project-group34/project/submissions/lr/train_pred_3/\")"
   ]
  },
  {
   "cell_type": "code",
   "execution_count": 9,
   "id": "59cfcc06-7005-4fda-a508-8e604db0d53f",
   "metadata": {},
   "outputs": [
    {
     "name": "stderr",
     "output_type": "stream",
     "text": [
      "                                                                                \r"
     ]
    }
   ],
   "source": [
    "transformed_test_lr = spark.read.parquet(\"s3a://project-group34/project/submissions/lr/test_pred_3/\")"
   ]
  },
  {
   "cell_type": "code",
   "execution_count": 10,
   "id": "58c39642-c9a3-4fd7-994d-19769ea006cf",
   "metadata": {
    "tags": []
   },
   "outputs": [
    {
     "name": "stderr",
     "output_type": "stream",
     "text": [
      "                                                                                \r"
     ]
    }
   ],
   "source": [
    "transformed_train_dt = spark.read.parquet(\"s3a://project-group34/project/submissions/dt/train_pred_3/\")"
   ]
  },
  {
   "cell_type": "code",
   "execution_count": 11,
   "id": "d162e1d7-6476-4b8a-abcd-5f1de69243ee",
   "metadata": {
    "tags": []
   },
   "outputs": [
    {
     "name": "stderr",
     "output_type": "stream",
     "text": [
      "                                                                                \r"
     ]
    }
   ],
   "source": [
    "transformed_test_dt = spark.read.parquet(\"s3a://project-group34/project/submissions/dt/test_pred_3/\")"
   ]
  },
  {
   "cell_type": "code",
   "execution_count": 12,
   "id": "07980e58-01e4-4b5d-af35-1f2950dc5345",
   "metadata": {
    "tags": []
   },
   "outputs": [
    {
     "name": "stderr",
     "output_type": "stream",
     "text": [
      "                                                                                \r"
     ]
    }
   ],
   "source": [
    "evaluator = MulticlassClassificationEvaluator(labelCol=\"is_popular_ix\", predictionCol=\"prediction\", metricName=\"accuracy\")\n",
    "accuracy_lr_train = evaluator.evaluate(transformed_train_lr)\n",
    "accuracy_lr_test = evaluator.evaluate(transformed_test_lr)\n",
    "accuracy_dt_train = evaluator.evaluate(transformed_train_dt)\n",
    "accuracy_dt_test = evaluator.evaluate(transformed_test_dt)"
   ]
  },
  {
   "cell_type": "code",
   "execution_count": 13,
   "id": "1f725cdb-fdb3-462f-b928-d98960ac6842",
   "metadata": {},
   "outputs": [
    {
     "name": "stderr",
     "output_type": "stream",
     "text": [
      "                                                                                \r"
     ]
    }
   ],
   "source": [
    "# Function to calculate metrics\n",
    "def compute_metrics(dataset, label_col, prediction_col):\n",
    "    evaluator = MulticlassClassificationEvaluator(labelCol=label_col, predictionCol=prediction_col)\n",
    "    accuracy = evaluator.evaluate(dataset, {evaluator.metricName: \"accuracy\"})\n",
    "    f1 = evaluator.evaluate(dataset, {evaluator.metricName: \"f1\"})\n",
    "    precision = evaluator.evaluate(dataset, {evaluator.metricName: \"weightedPrecision\"})\n",
    "    recall = evaluator.evaluate(dataset, {evaluator.metricName: \"weightedRecall\"})\n",
    "    return accuracy, f1, precision, recall\n",
    "\n",
    "# Calculate metrics for the default model\n",
    "accuracy_lr_train, f1_lr_train, precision_lr_train, recall_lr_train = compute_metrics(transformed_train_lr, \"is_popular_ix\", \"prediction\")\n",
    "accuracy_lr_test, f1_lr_test, precision_lr_test, recall_lr_test = compute_metrics(transformed_test_lr, \"is_popular_ix\", \"prediction\")\n",
    "\n",
    "# Calculate metrics for the model with hyperparameters\n",
    "accuracy_dt_train, f1_dt_train, precision_dt_train, recall_dt_train = compute_metrics(transformed_train_dt, \"is_popular_ix\", \"prediction\")\n",
    "accuracy_dt_test, f1_dt_test, precision_dt_test, recall_dt_test = compute_metrics(transformed_test_dt, \"is_popular_ix\", \"prediction\")"
   ]
  },
  {
   "cell_type": "code",
   "execution_count": 14,
   "id": "08d83303-64bb-4ddb-9fe7-a3c050d312fc",
   "metadata": {
    "tags": []
   },
   "outputs": [
    {
     "data": {
      "text/html": [
       "<div>\n",
       "<style scoped>\n",
       "    .dataframe tbody tr th:only-of-type {\n",
       "        vertical-align: middle;\n",
       "    }\n",
       "\n",
       "    .dataframe tbody tr th {\n",
       "        vertical-align: top;\n",
       "    }\n",
       "\n",
       "    .dataframe thead th {\n",
       "        text-align: right;\n",
       "    }\n",
       "</style>\n",
       "<table border=\"1\" class=\"dataframe\">\n",
       "  <thead>\n",
       "    <tr style=\"text-align: right;\">\n",
       "      <th></th>\n",
       "      <th>Model</th>\n",
       "      <th>Accuracy Train</th>\n",
       "      <th>Accuracy Test</th>\n",
       "      <th>F1 Score Train</th>\n",
       "      <th>F1 Score Test</th>\n",
       "      <th>Precision Train</th>\n",
       "      <th>Precision Test</th>\n",
       "      <th>Recall Train</th>\n",
       "      <th>Recall Test</th>\n",
       "    </tr>\n",
       "  </thead>\n",
       "  <tbody>\n",
       "    <tr>\n",
       "      <th>0</th>\n",
       "      <td>Logistic Regression</td>\n",
       "      <td>0.934118</td>\n",
       "      <td>0.751146</td>\n",
       "      <td>0.934017</td>\n",
       "      <td>0.750600</td>\n",
       "      <td>0.934704</td>\n",
       "      <td>0.751036</td>\n",
       "      <td>0.934118</td>\n",
       "      <td>0.751146</td>\n",
       "    </tr>\n",
       "    <tr>\n",
       "      <th>1</th>\n",
       "      <td>Decision Tree</td>\n",
       "      <td>0.874378</td>\n",
       "      <td>0.872044</td>\n",
       "      <td>0.874431</td>\n",
       "      <td>0.872105</td>\n",
       "      <td>0.874632</td>\n",
       "      <td>0.872316</td>\n",
       "      <td>0.874378</td>\n",
       "      <td>0.872044</td>\n",
       "    </tr>\n",
       "  </tbody>\n",
       "</table>\n",
       "</div>"
      ],
      "text/plain": [
       "                 Model  Accuracy Train  Accuracy Test  F1 Score Train  \\\n",
       "0  Logistic Regression        0.934118       0.751146        0.934017   \n",
       "1        Decision Tree        0.874378       0.872044        0.874431   \n",
       "\n",
       "   F1 Score Test  Precision Train  Precision Test  Recall Train  Recall Test  \n",
       "0       0.750600         0.934704        0.751036      0.934118     0.751146  \n",
       "1       0.872105         0.874632        0.872316      0.874378     0.872044  "
      ]
     },
     "execution_count": 14,
     "metadata": {},
     "output_type": "execute_result"
    }
   ],
   "source": [
    "# Create a DataFrame with the metrics\n",
    "metrics_data = {\n",
    "    'Model': ['Logistic Regression', 'Decision Tree'],\n",
    "    'Accuracy Train': [accuracy_lr_train, accuracy_dt_train],\n",
    "    'Accuracy Test': [accuracy_lr_test, accuracy_dt_test],\n",
    "    'F1 Score Train': [f1_lr_train, f1_dt_train],\n",
    "    'F1 Score Test': [f1_lr_test, f1_dt_test],\n",
    "    'Precision Train': [precision_lr_train, precision_dt_train],\n",
    "    'Precision Test': [precision_lr_test, precision_dt_test],\n",
    "    'Recall Train': [recall_lr_train, recall_dt_train],\n",
    "    'Recall Test': [recall_lr_test, recall_dt_test]\n",
    "}\n",
    "\n",
    "metrics_df = pd.DataFrame(metrics_data)\n",
    "metrics_df"
   ]
  },
  {
   "cell_type": "code",
   "execution_count": 22,
   "id": "dbbe911e-5ec6-473c-8018-7c58916310f8",
   "metadata": {},
   "outputs": [
    {
     "name": "stderr",
     "output_type": "stream",
     "text": [
      "                                                                                \r"
     ]
    }
   ],
   "source": [
    "y_pred_lr_test = [row['prediction'] for row in transformed_test_lr.select(\"prediction\").collect()]\n",
    "y_orig_lr_test = [row['is_popular_ix'] for row in transformed_test_lr.select(\"is_popular_ix\").collect()]\n",
    "y_pred_dt_test = [row['prediction'] for row in transformed_test_dt.select(\"prediction\").collect()]\n",
    "y_orig_dt_test = [row['is_popular_ix'] for row in transformed_test_dt.select(\"is_popular_ix\").collect()]"
   ]
  },
  {
   "cell_type": "code",
   "execution_count": 23,
   "id": "f8032885-af10-4732-a4c4-b6e2225ab91e",
   "metadata": {
    "tags": []
   },
   "outputs": [],
   "source": [
    "#create confusion matrix\n",
    "cm_lr = confusion_matrix(y_orig_lr_test, y_pred_lr_test)\n",
    "cm_dt = confusion_matrix(y_orig_dt_test, y_pred_dt_test)"
   ]
  },
  {
   "cell_type": "code",
   "execution_count": 25,
   "id": "250567eb-8b53-4cc8-9b4a-591b55dc5bb3",
   "metadata": {
    "tags": []
   },
   "outputs": [
    {
     "data": {
      "image/png": "[encoded data removed]",
      "text/plain": [
       "<Figure size 1000x700 with 2 Axes>"
      ]
     },
     "metadata": {},
     "output_type": "display_data"
    }
   ],
   "source": [
    "# Plot heatmap\n",
    "plt.figure(figsize=(10, 7))\n",
    "sns.heatmap(cm_lr, annot=True, fmt=\"d\", cmap=sns.color_palette(\"YlOrBr\", as_cmap=True), yticklabels=[\"Not popular\", \"Popular\"], xticklabels=[\"Not popular\", \"Popular\"])\n",
    "plt.ylabel('True Label')\n",
    "plt.xlabel('Predicted Label')\n",
    "plt.title('Confusion Matrix for Logistic Regression Model')\n",
    "plt.savefig(\"../../data/plots/confusion_matrix_lr_classification.png\", dpi=300)\n",
    "plt.show()"
   ]
  },
  {
   "cell_type": "code",
   "execution_count": 26,
   "id": "717b76d6-e7e3-44cb-8f25-5a50dce9cca2",
   "metadata": {
    "tags": []
   },
   "outputs": [
    {
     "data": {
      "image/png": "[encoded data removed]",
      "text/plain": [
       "<Figure size 1000x700 with 2 Axes>"
      ]
     },
     "metadata": {},
     "output_type": "display_data"
    }
   ],
   "source": [
    "# Plot heatmap\n",
    "plt.figure(figsize=(10, 7))\n",
    "sns.heatmap(cm_dt, annot=True, fmt=\"d\", cmap=sns.color_palette(\"YlOrBr\", as_cmap=True), yticklabels=[\"Not popular\", \"Popular\"], xticklabels=[\"Not popular\", \"Popular\"])\n",
    "plt.ylabel('True Label')\n",
    "plt.xlabel('Predicted Label')\n",
    "plt.title('Confusion Matrix for Decision Tree Model')\n",
    "plt.savefig(\"../../data/plots/confusion_matrix_dt_classification.png\", dpi=300)\n",
    "plt.show()"
   ]
  },
  {
   "cell_type": "code",
   "execution_count": 29,
   "id": "9477eddf-49d1-463b-a279-00fe4943a509",
   "metadata": {
    "tags": []
   },
   "outputs": [
    {
     "name": "stderr",
     "output_type": "stream",
     "text": [
      "                                                                                \r"
     ]
    }
   ],
   "source": [
    "# Function to extract the probability of the positive class\n",
    "get_probability = udf(lambda v: float(v[1]), FloatType())\n",
    "\n",
    "# Add a new column with the probability for the positive class\n",
    "roc_data_lr = transformed_test_lr.withColumn(\"positive_probability\", get_probability(\"probability\"))\n",
    "roc_data_dt = transformed_test_dt.withColumn(\"positive_probability\", get_probability(\"probability\"))\n",
    "\n",
    "# Collect the data\n",
    "roc_data_lr = roc_data_lr.select(\"positive_probability\", \"is_popular_ix\").toPandas()\n",
    "roc_data_dt = roc_data_dt.select(\"positive_probability\", \"is_popular_ix\").toPandas()\n",
    "\n",
    "# Probabilities and actual labels\n",
    "y_probs_lr = roc_data_lr['positive_probability']\n",
    "y_orig_lr = roc_data_lr['is_popular_ix']\n",
    "y_probs_dt = roc_data_dt['positive_probability']\n",
    "y_orig_dt = roc_data_dt['is_popular_ix']"
   ]
  },
  {
   "cell_type": "code",
   "execution_count": 31,
   "id": "971d523f-9fe3-439d-884c-2e2cc14c3605",
   "metadata": {
    "tags": []
   },
   "outputs": [
    {
     "data": {
      "image/png": "[encoded data removed]",
      "text/plain": [
       "<Figure size 1000x600 with 1 Axes>"
      ]
     },
     "metadata": {},
     "output_type": "display_data"
    }
   ],
   "source": [
    "fpr, tpr, thresholds = roc_curve(y_orig_lr, y_probs_lr) #ROC curve points\n",
    "roc_auc_lr = auc(fpr, tpr) # AUC\n",
    "\n",
    "# Plotting roc curve\n",
    "plt.figure(figsize=(10, 6))\n",
    "plt.plot(fpr, tpr, color='#ff4301', lw=2, label=f'ROC curve (area = {roc_auc_lr:.2f})')\n",
    "plt.plot([0, 1], [0, 1], color='lightgrey', lw=2, linestyle='--')\n",
    "plt.xlim([0.0, 1.0])\n",
    "plt.ylim([0.0, 1.05])\n",
    "plt.xlabel('False Positive Rate')\n",
    "plt.ylabel('True Positive Rate')\n",
    "plt.title('ROC Curve for Logistic Regression Model')\n",
    "plt.legend(loc=\"lower right\")\n",
    "plt.savefig(\"../../data/plots/ROC_lr_classification.png\", dpi=300)\n",
    "plt.show()\n"
   ]
  },
  {
   "cell_type": "code",
   "execution_count": 32,
   "id": "75c58f5f-dac3-4f7e-bc82-e3f29d2c9fa0",
   "metadata": {
    "tags": []
   },
   "outputs": [
    {
     "data": {
      "image/png": "[encoded data removed]",
      "text/plain": [
       "<Figure size 1000x600 with 1 Axes>"
      ]
     },
     "metadata": {},
     "output_type": "display_data"
    }
   ],
   "source": [
    "fpr, tpr, thresholds = roc_curve(y_orig_dt, y_probs_dt) #ROC curve points\n",
    "roc_auc_dt = auc(fpr, tpr) # AUC\n",
    "\n",
    "# Plottings\n",
    "plt.figure(figsize=(10, 6))\n",
    "plt.plot(fpr, tpr, color='#ff4301', lw=2, label=f'ROC curve (area = {roc_auc_dt:.2f})')\n",
    "plt.plot([0, 1], [0, 1], color='lightgrey', lw=2, linestyle='--')\n",
    "plt.xlim([0.0, 1.0])\n",
    "plt.ylim([0.0, 1.05])\n",
    "plt.xlabel('False Positive Rate')\n",
    "plt.ylabel('True Positive Rate')\n",
    "plt.title('ROC Curve for Decision Tree Model')\n",
    "plt.legend(loc=\"lower right\")\n",
    "plt.savefig(\"../../data/plots/ROC_dt_classification.png\", dpi=300)\n",
    "plt.show()"
   ]
  }
 ],
 "metadata": {
  "availableInstances": [
   {
    "_defaultOrder": 0,
    "_isFastLaunch": true,
    "category": "General purpose",
    "gpuNum": 0,
    "hideHardwareSpecs": false,
    "memoryGiB": 4,
    "name": "ml.t3.medium",
    "vcpuNum": 2
   },
   {
    "_defaultOrder": 1,
    "_isFastLaunch": false,
    "category": "General purpose",
    "gpuNum": 0,
    "hideHardwareSpecs": false,
    "memoryGiB": 8,
    "name": "ml.t3.large",
    "vcpuNum": 2
   },
   {
    "_defaultOrder": 2,
    "_isFastLaunch": false,
    "category": "General purpose",
    "gpuNum": 0,
    "hideHardwareSpecs": false,
    "memoryGiB": 16,
    "name": "ml.t3.xlarge",
    "vcpuNum": 4
   },
   {
    "_defaultOrder": 3,
    "_isFastLaunch": false,
    "category": "General purpose",
    "gpuNum": 0,
    "hideHardwareSpecs": false,
    "memoryGiB": 32,
    "name": "ml.t3.2xlarge",
    "vcpuNum": 8
   },
   {
    "_defaultOrder": 4,
    "_isFastLaunch": true,
    "category": "General purpose",
    "gpuNum": 0,
    "hideHardwareSpecs": false,
    "memoryGiB": 8,
    "name": "ml.m5.large",
    "vcpuNum": 2
   },
   {
    "_defaultOrder": 5,
    "_isFastLaunch": false,
    "category": "General purpose",
    "gpuNum": 0,
    "hideHardwareSpecs": false,
    "memoryGiB": 16,
    "name": "ml.m5.xlarge",
    "vcpuNum": 4
   },
   {
    "_defaultOrder": 6,
    "_isFastLaunch": false,
    "category": "General purpose",
    "gpuNum": 0,
    "hideHardwareSpecs": false,
    "memoryGiB": 32,
    "name": "ml.m5.2xlarge",
    "vcpuNum": 8
   },
   {
    "_defaultOrder": 7,
    "_isFastLaunch": false,
    "category": "General purpose",
    "gpuNum": 0,
    "hideHardwareSpecs": false,
    "memoryGiB": 64,
    "name": "ml.m5.4xlarge",
    "vcpuNum": 16
   },
   {
    "_defaultOrder": 8,
    "_isFastLaunch": false,
    "category": "General purpose",
    "gpuNum": 0,
    "hideHardwareSpecs": false,
    "memoryGiB": 128,
    "name": "ml.m5.8xlarge",
    "vcpuNum": 32
   },
   {
    "_defaultOrder": 9,
    "_isFastLaunch": false,
    "category": "General purpose",
    "gpuNum": 0,
    "hideHardwareSpecs": false,
    "memoryGiB": 192,
    "name": "ml.m5.12xlarge",
    "vcpuNum": 48
   },
   {
    "_defaultOrder": 10,
    "_isFastLaunch": false,
    "category": "General purpose",
    "gpuNum": 0,
    "hideHardwareSpecs": false,
    "memoryGiB": 256,
    "name": "ml.m5.16xlarge",
    "vcpuNum": 64
   },
   {
    "_defaultOrder": 11,
    "_isFastLaunch": false,
    "category": "General purpose",
    "gpuNum": 0,
    "hideHardwareSpecs": false,
    "memoryGiB": 384,
    "name": "ml.m5.24xlarge",
    "vcpuNum": 96
   },
   {
    "_defaultOrder": 12,
    "_isFastLaunch": false,
    "category": "General purpose",
    "gpuNum": 0,
    "hideHardwareSpecs": false,
    "memoryGiB": 8,
    "name": "ml.m5d.large",
    "vcpuNum": 2
   },
   {
    "_defaultOrder": 13,
    "_isFastLaunch": false,
    "category": "General purpose",
    "gpuNum": 0,
    "hideHardwareSpecs": false,
    "memoryGiB": 16,
    "name": "ml.m5d.xlarge",
    "vcpuNum": 4
   },
   {
    "_defaultOrder": 14,
    "_isFastLaunch": false,
    "category": "General purpose",
    "gpuNum": 0,
    "hideHardwareSpecs": false,
    "memoryGiB": 32,
    "name": "ml.m5d.2xlarge",
    "vcpuNum": 8
   },
   {
    "_defaultOrder": 15,
    "_isFastLaunch": false,
    "category": "General purpose",
    "gpuNum": 0,
    "hideHardwareSpecs": false,
    "memoryGiB": 64,
    "name": "ml.m5d.4xlarge",
    "vcpuNum": 16
   },
   {
    "_defaultOrder": 16,
    "_isFastLaunch": false,
    "category": "General purpose",
    "gpuNum": 0,
    "hideHardwareSpecs": false,
    "memoryGiB": 128,
    "name": "ml.m5d.8xlarge",
    "vcpuNum": 32
   },
   {
    "_defaultOrder": 17,
    "_isFastLaunch": false,
    "category": "General purpose",
    "gpuNum": 0,
    "hideHardwareSpecs": false,
    "memoryGiB": 192,
    "name": "ml.m5d.12xlarge",
    "vcpuNum": 48
   },
   {
    "_defaultOrder": 18,
    "_isFastLaunch": false,
    "category": "General purpose",
    "gpuNum": 0,
    "hideHardwareSpecs": false,
    "memoryGiB": 256,
    "name": "ml.m5d.16xlarge",
    "vcpuNum": 64
   },
   {
    "_defaultOrder": 19,
    "_isFastLaunch": false,
    "category": "General purpose",
    "gpuNum": 0,
    "hideHardwareSpecs": false,
    "memoryGiB": 384,
    "name": "ml.m5d.24xlarge",
    "vcpuNum": 96
   },
   {
    "_defaultOrder": 20,
    "_isFastLaunch": false,
    "category": "General purpose",
    "gpuNum": 0,
    "hideHardwareSpecs": true,
    "memoryGiB": 0,
    "name": "ml.geospatial.interactive",
    "supportedImageNames": [
     "sagemaker-geospatial-v1-0"
    ],
    "vcpuNum": 0
   },
   {
    "_defaultOrder": 21,
    "_isFastLaunch": true,
    "category": "Compute optimized",
    "gpuNum": 0,
    "hideHardwareSpecs": false,
    "memoryGiB": 4,
    "name": "ml.c5.large",
    "vcpuNum": 2
   },
   {
    "_defaultOrder": 22,
    "_isFastLaunch": false,
    "category": "Compute optimized",
    "gpuNum": 0,
    "hideHardwareSpecs": false,
    "memoryGiB": 8,
    "name": "ml.c5.xlarge",
    "vcpuNum": 4
   },
   {
    "_defaultOrder": 23,
    "_isFastLaunch": false,
    "category": "Compute optimized",
    "gpuNum": 0,
    "hideHardwareSpecs": false,
    "memoryGiB": 16,
    "name": "ml.c5.2xlarge",
    "vcpuNum": 8
   },
   {
    "_defaultOrder": 24,
    "_isFastLaunch": false,
    "category": "Compute optimized",
    "gpuNum": 0,
    "hideHardwareSpecs": false,
    "memoryGiB": 32,
    "name": "ml.c5.4xlarge",
    "vcpuNum": 16
   },
   {
    "_defaultOrder": 25,
    "_isFastLaunch": false,
    "category": "Compute optimized",
    "gpuNum": 0,
    "hideHardwareSpecs": false,
    "memoryGiB": 72,
    "name": "ml.c5.9xlarge",
    "vcpuNum": 36
   },
   {
    "_defaultOrder": 26,
    "_isFastLaunch": false,
    "category": "Compute optimized",
    "gpuNum": 0,
    "hideHardwareSpecs": false,
    "memoryGiB": 96,
    "name": "ml.c5.12xlarge",
    "vcpuNum": 48
   },
   {
    "_defaultOrder": 27,
    "_isFastLaunch": false,
    "category": "Compute optimized",
    "gpuNum": 0,
    "hideHardwareSpecs": false,
    "memoryGiB": 144,
    "name": "ml.c5.18xlarge",
    "vcpuNum": 72
   },
   {
    "_defaultOrder": 28,
    "_isFastLaunch": false,
    "category": "Compute optimized",
    "gpuNum": 0,
    "hideHardwareSpecs": false,
    "memoryGiB": 192,
    "name": "ml.c5.24xlarge",
    "vcpuNum": 96
   },
   {
    "_defaultOrder": 29,
    "_isFastLaunch": true,
    "category": "Accelerated computing",
    "gpuNum": 1,
    "hideHardwareSpecs": false,
    "memoryGiB": 16,
    "name": "ml.g4dn.xlarge",
    "vcpuNum": 4
   },
   {
    "_defaultOrder": 30,
    "_isFastLaunch": false,
    "category": "Accelerated computing",
    "gpuNum": 1,
    "hideHardwareSpecs": false,
    "memoryGiB": 32,
    "name": "ml.g4dn.2xlarge",
    "vcpuNum": 8
   },
   {
    "_defaultOrder": 31,
    "_isFastLaunch": false,
    "category": "Accelerated computing",
    "gpuNum": 1,
    "hideHardwareSpecs": false,
    "memoryGiB": 64,
    "name": "ml.g4dn.4xlarge",
    "vcpuNum": 16
   },
   {
    "_defaultOrder": 32,
    "_isFastLaunch": false,
    "category": "Accelerated computing",
    "gpuNum": 1,
    "hideHardwareSpecs": false,
    "memoryGiB": 128,
    "name": "ml.g4dn.8xlarge",
    "vcpuNum": 32
   },
   {
    "_defaultOrder": 33,
    "_isFastLaunch": false,
    "category": "Accelerated computing",
    "gpuNum": 4,
    "hideHardwareSpecs": false,
    "memoryGiB": 192,
    "name": "ml.g4dn.12xlarge",
    "vcpuNum": 48
   },
   {
    "_defaultOrder": 34,
    "_isFastLaunch": false,
    "category": "Accelerated computing",
    "gpuNum": 1,
    "hideHardwareSpecs": false,
    "memoryGiB": 256,
    "name": "ml.g4dn.16xlarge",
    "vcpuNum": 64
   },
   {
    "_defaultOrder": 35,
    "_isFastLaunch": false,
    "category": "Accelerated computing",
    "gpuNum": 1,
    "hideHardwareSpecs": false,
    "memoryGiB": 61,
    "name": "ml.p3.2xlarge",
    "vcpuNum": 8
   },
   {
    "_defaultOrder": 36,
    "_isFastLaunch": false,
    "category": "Accelerated computing",
    "gpuNum": 4,
    "hideHardwareSpecs": false,
    "memoryGiB": 244,
    "name": "ml.p3.8xlarge",
    "vcpuNum": 32
   },
   {
    "_defaultOrder": 37,
    "_isFastLaunch": false,
    "category": "Accelerated computing",
    "gpuNum": 8,
    "hideHardwareSpecs": false,
    "memoryGiB": 488,
    "name": "ml.p3.16xlarge",
    "vcpuNum": 64
   },
   {
    "_defaultOrder": 38,
    "_isFastLaunch": false,
    "category": "Accelerated computing",
    "gpuNum": 8,
    "hideHardwareSpecs": false,
    "memoryGiB": 768,
    "name": "ml.p3dn.24xlarge",
    "vcpuNum": 96
   },
   {
    "_defaultOrder": 39,
    "_isFastLaunch": false,
    "category": "Memory Optimized",
    "gpuNum": 0,
    "hideHardwareSpecs": false,
    "memoryGiB": 16,
    "name": "ml.r5.large",
    "vcpuNum": 2
   },
   {
    "_defaultOrder": 40,
    "_isFastLaunch": false,
    "category": "Memory Optimized",
    "gpuNum": 0,
    "hideHardwareSpecs": false,
    "memoryGiB": 32,
    "name": "ml.r5.xlarge",
    "vcpuNum": 4
   },
   {
    "_defaultOrder": 41,
    "_isFastLaunch": false,
    "category": "Memory Optimized",
    "gpuNum": 0,
    "hideHardwareSpecs": false,
    "memoryGiB": 64,
    "name": "ml.r5.2xlarge",
    "vcpuNum": 8
   },
   {
    "_defaultOrder": 42,
    "_isFastLaunch": false,
    "category": "Memory Optimized",
    "gpuNum": 0,
    "hideHardwareSpecs": false,
    "memoryGiB": 128,
    "name": "ml.r5.4xlarge",
    "vcpuNum": 16
   },
   {
    "_defaultOrder": 43,
    "_isFastLaunch": false,
    "category": "Memory Optimized",
    "gpuNum": 0,
    "hideHardwareSpecs": false,
    "memoryGiB": 256,
    "name": "ml.r5.8xlarge",
    "vcpuNum": 32
   },
   {
    "_defaultOrder": 44,
    "_isFastLaunch": false,
    "category": "Memory Optimized",
    "gpuNum": 0,
    "hideHardwareSpecs": false,
    "memoryGiB": 384,
    "name": "ml.r5.12xlarge",
    "vcpuNum": 48
   },
   {
    "_defaultOrder": 45,
    "_isFastLaunch": false,
    "category": "Memory Optimized",
    "gpuNum": 0,
    "hideHardwareSpecs": false,
    "memoryGiB": 512,
    "name": "ml.r5.16xlarge",
    "vcpuNum": 64
   },
   {
    "_defaultOrder": 46,
    "_isFastLaunch": false,
    "category": "Memory Optimized",
    "gpuNum": 0,
    "hideHardwareSpecs": false,
    "memoryGiB": 768,
    "name": "ml.r5.24xlarge",
    "vcpuNum": 96
   },
   {
    "_defaultOrder": 47,
    "_isFastLaunch": false,
    "category": "Accelerated computing",
    "gpuNum": 1,
    "hideHardwareSpecs": false,
    "memoryGiB": 16,
    "name": "ml.g5.xlarge",
    "vcpuNum": 4
   },
   {
    "_defaultOrder": 48,
    "_isFastLaunch": false,
    "category": "Accelerated computing",
    "gpuNum": 1,
    "hideHardwareSpecs": false,
    "memoryGiB": 32,
    "name": "ml.g5.2xlarge",
    "vcpuNum": 8
   },
   {
    "_defaultOrder": 49,
    "_isFastLaunch": false,
    "category": "Accelerated computing",
    "gpuNum": 1,
    "hideHardwareSpecs": false,
    "memoryGiB": 64,
    "name": "ml.g5.4xlarge",
    "vcpuNum": 16
   },
   {
    "_defaultOrder": 50,
    "_isFastLaunch": false,
    "category": "Accelerated computing",
    "gpuNum": 1,
    "hideHardwareSpecs": false,
    "memoryGiB": 128,
    "name": "ml.g5.8xlarge",
    "vcpuNum": 32
   },
   {
    "_defaultOrder": 51,
    "_isFastLaunch": false,
    "category": "Accelerated computing",
    "gpuNum": 1,
    "hideHardwareSpecs": false,
    "memoryGiB": 256,
    "name": "ml.g5.16xlarge",
    "vcpuNum": 64
   },
   {
    "_defaultOrder": 52,
    "_isFastLaunch": false,
    "category": "Accelerated computing",
    "gpuNum": 4,
    "hideHardwareSpecs": false,
    "memoryGiB": 192,
    "name": "ml.g5.12xlarge",
    "vcpuNum": 48
   },
   {
    "_defaultOrder": 53,
    "_isFastLaunch": false,
    "category": "Accelerated computing",
    "gpuNum": 4,
    "hideHardwareSpecs": false,
    "memoryGiB": 384,
    "name": "ml.g5.24xlarge",
    "vcpuNum": 96
   },
   {
    "_defaultOrder": 54,
    "_isFastLaunch": false,
    "category": "Accelerated computing",
    "gpuNum": 8,
    "hideHardwareSpecs": false,
    "memoryGiB": 768,
    "name": "ml.g5.48xlarge",
    "vcpuNum": 192
   },
   {
    "_defaultOrder": 55,
    "_isFastLaunch": false,
    "category": "Accelerated computing",
    "gpuNum": 8,
    "hideHardwareSpecs": false,
    "memoryGiB": 1152,
    "name": "ml.p4d.24xlarge",
    "vcpuNum": 96
   },
   {
    "_defaultOrder": 56,
    "_isFastLaunch": false,
    "category": "Accelerated computing",
    "gpuNum": 8,
    "hideHardwareSpecs": false,
    "memoryGiB": 1152,
    "name": "ml.p4de.24xlarge",
    "vcpuNum": 96
   },
   {
    "_defaultOrder": 57,
    "_isFastLaunch": false,
    "category": "Accelerated computing",
    "gpuNum": 0,
    "hideHardwareSpecs": false,
    "memoryGiB": 32,
    "name": "ml.trn1.2xlarge",
    "vcpuNum": 8
   },
   {
    "_defaultOrder": 58,
    "_isFastLaunch": false,
    "category": "Accelerated computing",
    "gpuNum": 0,
    "hideHardwareSpecs": false,
    "memoryGiB": 512,
    "name": "ml.trn1.32xlarge",
    "vcpuNum": 128
   },
   {
    "_defaultOrder": 59,
    "_isFastLaunch": false,
    "category": "Accelerated computing",
    "gpuNum": 0,
    "hideHardwareSpecs": false,
    "memoryGiB": 512,
    "name": "ml.trn1n.32xlarge",
    "vcpuNum": 128
   }
  ],
  "instance_type": "ml.m5.xlarge",
  "kernelspec": {
   "display_name": "Python 3 (Data Science 3.0)",
   "language": "python",
   "name": "python3__SAGEMAKER_INTERNAL__arn:aws:sagemaker:us-east-1:081325390199:image/sagemaker-data-science-310-v1"
  },
  "language_info": {
   "codemirror_mode": {
    "name": "ipython",
    "version": 3
   },
   "file_extension": ".py",
   "mimetype": "text/x-python",
   "name": "python",
   "nbconvert_exporter": "python",
   "pygments_lexer": "ipython3",
   "version": "3.10.6"
  }
 },
 "nbformat": 4,
 "nbformat_minor": 5
}
