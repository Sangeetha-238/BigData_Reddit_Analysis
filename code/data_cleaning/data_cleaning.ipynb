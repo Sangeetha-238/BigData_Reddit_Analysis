{
 "cells": [
  {
   "cell_type": "code",
   "execution_count": 1,
   "metadata": {
    "gather": {
     "logged": 1699668565223
    }
   },
   "outputs": [
    {
     "data": {
      "application/vnd.livy.statement-meta+json": {
       "execution_finish_time": "2023-11-11T02:09:25.0252775Z",
       "execution_start_time": "2023-11-11T02:09:24.6740498Z",
       "livy_statement_state": "available",
       "parent_msg_id": "7e6fe071-d3fd-43f6-acf1-b2df8071ba2c",
       "queued_time": "2023-11-11T02:08:29.7724627Z",
       "session_id": "47",
       "session_start_time": "2023-11-11T02:08:29.810368Z",
       "spark_jobs": {
        "jobs": [],
        "limit": 20,
        "numbers": {
         "FAILED": 0,
         "RUNNING": 0,
         "SUCCEEDED": 0,
         "UNKNOWN": 0
        },
        "rule": "ALL_DESC"
       },
       "spark_pool": "9d2667d4-d95f-4c64-adf7-bfab734cf5c0",
       "state": "finished",
       "statement_id": 6
      },
      "text/plain": [
       "StatementMeta(9d2667d4-d95f-4c64-adf7-bfab734cf5c0, 47, 6, Finished, Available)"
      ]
     },
     "metadata": {},
     "output_type": "display_data"
    },
    {
     "data": {
      "text/html": [
       "\n",
       "            <div>\n",
       "                <p><b>SparkSession - hive</b></p>\n",
       "                \n",
       "        <div>\n",
       "            <p><b>SparkContext</b></p>\n",
       "\n",
       "            <p><a href=\"http://vm-63d98416:33051\">Spark UI</a></p>\n",
       "\n",
       "            <dl>\n",
       "              <dt>Version</dt>\n",
       "                <dd><code>v3.2.2.5.1-100879434</code></dd>\n",
       "              <dt>Master</dt>\n",
       "                <dd><code>yarn</code></dd>\n",
       "              <dt>AppName</dt>\n",
       "                <dd><code>Azure ML Experiment</code></dd>\n",
       "            </dl>\n",
       "        </div>\n",
       "        \n",
       "            </div>\n",
       "        "
      ],
      "text/plain": [
       "<pyspark.sql.session.SparkSession at 0x7fd12a2198e0>"
      ]
     },
     "execution_count": 11,
     "metadata": {},
     "output_type": "execute_result"
    }
   ],
   "source": [
    "spark"
   ]
  },
  {
   "cell_type": "code",
   "execution_count": 15,
   "metadata": {
    "collapsed": false,
    "gather": {
     "logged": 1699670159194
    },
    "jupyter": {
     "outputs_hidden": false,
     "source_hidden": false
    },
    "nteract": {
     "transient": {
      "deleting": false
     }
    }
   },
   "outputs": [
    {
     "data": {
      "application/vnd.livy.statement-meta+json": {
       "execution_finish_time": "2023-11-11T02:35:58.8875309Z",
       "execution_start_time": "2023-11-11T02:35:58.5940576Z",
       "livy_statement_state": "available",
       "parent_msg_id": "ed51c650-6470-4bad-b267-467503e65180",
       "queued_time": "2023-11-11T02:35:58.4766209Z",
       "session_id": "47",
       "session_start_time": null,
       "spark_jobs": {
        "jobs": [],
        "limit": 20,
        "numbers": {
         "FAILED": 0,
         "RUNNING": 0,
         "SUCCEEDED": 0,
         "UNKNOWN": 0
        },
        "rule": "ALL_DESC"
       },
       "spark_pool": "9d2667d4-d95f-4c64-adf7-bfab734cf5c0",
       "state": "finished",
       "statement_id": 20
      },
      "text/plain": [
       "StatementMeta(9d2667d4-d95f-4c64-adf7-bfab734cf5c0, 47, 20, Finished, Available)"
      ]
     },
     "metadata": {},
     "output_type": "display_data"
    }
   ],
   "source": [
    "spark.conf.set(\"spark.sql.execution.arrow.pyspark.enabled\", \"false\")"
   ]
  },
  {
   "cell_type": "markdown",
   "metadata": {},
   "source": [
    "## Import Libraries"
   ]
  },
  {
   "cell_type": "code",
   "execution_count": null,
   "metadata": {},
   "outputs": [],
   "source": [
    "import os\n",
    "from pyspark.sql.functions import col, count, when\n",
    "import pandas as pd\n",
    "from pyspark.sql.functions import length\n",
    "from pyspark.sql import functions as F"
   ]
  },
  {
   "cell_type": "markdown",
   "metadata": {
    "nteract": {
     "transient": {
      "deleting": false
     }
    }
   },
   "source": [
    "## Read Data"
   ]
  },
  {
   "cell_type": "code",
   "execution_count": 16,
   "metadata": {
    "collapsed": false,
    "gather": {
     "logged": 1699670161495
    },
    "jupyter": {
     "outputs_hidden": false,
     "source_hidden": false
    },
    "nteract": {
     "transient": {
      "deleting": false
     }
    }
   },
   "outputs": [
    {
     "data": {
      "application/vnd.livy.statement-meta+json": {
       "execution_finish_time": "2023-11-11T02:36:01.183224Z",
       "execution_start_time": "2023-11-11T02:36:00.9096482Z",
       "livy_statement_state": "available",
       "parent_msg_id": "d4fb8fbe-e61d-416d-8526-8408cd5bc3ed",
       "queued_time": "2023-11-11T02:36:00.8140438Z",
       "session_id": "47",
       "session_start_time": null,
       "spark_jobs": {
        "jobs": [],
        "limit": 20,
        "numbers": {
         "FAILED": 0,
         "RUNNING": 0,
         "SUCCEEDED": 0,
         "UNKNOWN": 0
        },
        "rule": "ALL_DESC"
       },
       "spark_pool": "9d2667d4-d95f-4c64-adf7-bfab734cf5c0",
       "state": "finished",
       "statement_id": 21
      },
      "text/plain": [
       "StatementMeta(9d2667d4-d95f-4c64-adf7-bfab734cf5c0, 47, 21, Finished, Available)"
      ]
     },
     "metadata": {},
     "output_type": "display_data"
    }
   ],
   "source": [
    "datastore = 'azureml://datastores/workspaceblobstore/paths/'"
   ]
  },
  {
   "cell_type": "code",
   "execution_count": 17,
   "metadata": {
    "collapsed": false,
    "gather": {
     "logged": 1699670164958
    },
    "jupyter": {
     "outputs_hidden": false,
     "source_hidden": false
    },
    "nteract": {
     "transient": {
      "deleting": false
     }
    }
   },
   "outputs": [
    {
     "data": {
      "application/vnd.livy.statement-meta+json": {
       "execution_finish_time": "2023-11-11T02:36:04.7056395Z",
       "execution_start_time": "2023-11-11T02:36:01.2824936Z",
       "livy_statement_state": "available",
       "parent_msg_id": "012f45ee-7682-4fd0-a3ae-329cfc947deb",
       "queued_time": "2023-11-11T02:36:00.8151872Z",
       "session_id": "47",
       "session_start_time": null,
       "spark_jobs": {
        "jobs": [
         {
          "completionTime": "2023-11-11T02:36:04.218GMT",
          "dataRead": 0,
          "dataWritten": 0,
          "description": "Job group for statement 22:\nsubmissions_path = 'filtered-submissions'\nsubmissions_df = spark.read.parquet(f\"{datastore}{submissions_path}\")",
          "displayName": "parquet at NativeMethodAccessorImpl.java:0",
          "jobGroup": "22",
          "jobId": 13,
          "killedTasksSummary": {},
          "name": "parquet at NativeMethodAccessorImpl.java:0",
          "numActiveStages": 0,
          "numActiveTasks": 0,
          "numCompletedIndices": 1,
          "numCompletedStages": 1,
          "numCompletedTasks": 1,
          "numFailedStages": 0,
          "numFailedTasks": 0,
          "numKilledTasks": 0,
          "numSkippedStages": 0,
          "numSkippedTasks": 0,
          "numTasks": 1,
          "rowCount": 0,
          "stageIds": [
           13
          ],
          "status": "SUCCEEDED",
          "submissionTime": "2023-11-11T02:36:02.958GMT",
          "usageDescription": ""
         }
        ],
        "limit": 20,
        "numbers": {
         "FAILED": 0,
         "RUNNING": 0,
         "SUCCEEDED": 1,
         "UNKNOWN": 0
        },
        "rule": "ALL_DESC"
       },
       "spark_pool": "9d2667d4-d95f-4c64-adf7-bfab734cf5c0",
       "state": "finished",
       "statement_id": 22
      },
      "text/plain": [
       "StatementMeta(9d2667d4-d95f-4c64-adf7-bfab734cf5c0, 47, 22, Finished, Available)"
      ]
     },
     "metadata": {},
     "output_type": "display_data"
    }
   ],
   "source": [
    "submissions_path = 'filtered-submissions'\n",
    "submissions_df = spark.read.parquet(f\"{datastore}{submissions_path}\")"
   ]
  },
  {
   "cell_type": "markdown",
   "metadata": {
    "nteract": {
     "transient": {
      "deleting": false
     }
    }
   },
   "source": [
    "## Data Processing:"
   ]
  },
  {
   "cell_type": "code",
   "execution_count": 6,
   "metadata": {
    "collapsed": false,
    "gather": {
     "logged": 1699668799872
    },
    "jupyter": {
     "outputs_hidden": false,
     "source_hidden": false
    },
    "nteract": {
     "transient": {
      "deleting": false
     }
    }
   },
   "outputs": [
    {
     "data": {
      "application/vnd.livy.statement-meta+json": {
       "execution_finish_time": "2023-11-11T02:13:19.6807252Z",
       "execution_start_time": "2023-11-11T02:13:19.3899472Z",
       "livy_statement_state": "available",
       "parent_msg_id": "d0f9a470-a479-4953-a9e2-9bd35c18cdda",
       "queued_time": "2023-11-11T02:13:19.285732Z",
       "session_id": "47",
       "session_start_time": null,
       "spark_jobs": {
        "jobs": [],
        "limit": 20,
        "numbers": {
         "FAILED": 0,
         "RUNNING": 0,
         "SUCCEEDED": 0,
         "UNKNOWN": 0
        },
        "rule": "ALL_DESC"
       },
       "spark_pool": "9d2667d4-d95f-4c64-adf7-bfab734cf5c0",
       "state": "finished",
       "statement_id": 11
      },
      "text/plain": [
       "StatementMeta(9d2667d4-d95f-4c64-adf7-bfab734cf5c0, 47, 11, Finished, Available)"
      ]
     },
     "metadata": {},
     "output_type": "display_data"
    }
   ],
   "source": [
    "PLOT_DIR = os.path.join(\"Users/sk2224/fall-2023-reddit-project-team-34/data\", \"plots\")\n",
    "CSV_DIR = os.path.join(\"Users/sk2224/fall-2023-reddit-project-team-34/data\", \"csv\")"
   ]
  },
  {
   "cell_type": "markdown",
   "metadata": {
    "nteract": {
     "transient": {
      "deleting": false
     }
    }
   },
   "source": [
    "Drop unnecessary columns:"
   ]
  },
  {
   "cell_type": "code",
   "execution_count": 5,
   "metadata": {
    "collapsed": false,
    "gather": {
     "logged": 1699652881092
    },
    "jupyter": {
     "outputs_hidden": false,
     "source_hidden": false
    },
    "nteract": {
     "transient": {
      "deleting": false
     }
    }
   },
   "outputs": [
    {
     "data": {
      "application/vnd.livy.statement-meta+json": {
       "execution_finish_time": "2023-11-10T21:48:00.9977114Z",
       "execution_start_time": "2023-11-10T21:48:00.7128201Z",
       "livy_statement_state": "available",
       "parent_msg_id": "507220b9-af53-4f24-ade4-08dc32017daf",
       "queued_time": "2023-11-10T21:48:00.5140521Z",
       "session_id": "2",
       "session_start_time": null,
       "spark_jobs": {
        "jobs": [],
        "limit": 20,
        "numbers": {
         "FAILED": 0,
         "RUNNING": 0,
         "SUCCEEDED": 0,
         "UNKNOWN": 0
        },
        "rule": "ALL_DESC"
       },
       "spark_pool": "87608f1f-5281-477c-8a41-f00a9ddf3071",
       "state": "finished",
       "statement_id": 10
      },
      "text/plain": [
       "StatementMeta(87608f1f-5281-477c-8a41-f00a9ddf3071, 2, 10, Finished, Available)"
      ]
     },
     "metadata": {},
     "output_type": "display_data"
    }
   ],
   "source": [
    "# # List of columns to be dropped\n",
    "# columns_to_drop = [\n",
    "#     'promoted', 'promoted_by', 'promoted_display_name', 'promoted_url',\n",
    "#     'secure_media', 'secure_media_embed', 'thumbnail', 'thumbnail_height', \n",
    "#     'thumbnail_width', 'third_party_trackers', 'third_party_tracking', \n",
    "#     'third_party_tracking_2', 'source', 'retrieved_on', 'suggested_sort', \n",
    "#     'spoiler', 'stickied', 'whitelist_status'\n",
    "# ]\n",
    "\n",
    "# # Dropping the columns\n",
    "# submissions_df = submissions_df.drop(*columns_to_drop)"
   ]
  },
  {
   "cell_type": "markdown",
   "metadata": {
    "nteract": {
     "transient": {
      "deleting": false
     }
    }
   },
   "source": [
    "Shape of the data:"
   ]
  },
  {
   "cell_type": "code",
   "execution_count": 4,
   "metadata": {
    "collapsed": false,
    "gather": {
     "logged": 1699652867890
    },
    "jupyter": {
     "outputs_hidden": false,
     "source_hidden": false
    },
    "nteract": {
     "transient": {
      "deleting": false
     }
    }
   },
   "outputs": [
    {
     "data": {
      "application/vnd.livy.statement-meta+json": {
       "execution_finish_time": "2023-11-10T21:47:47.7912111Z",
       "execution_start_time": "2023-11-10T21:47:47.5121729Z",
       "livy_statement_state": "available",
       "parent_msg_id": "3f6bc2c2-a5de-4473-bd18-a09d9881ca47",
       "queued_time": "2023-11-10T21:47:47.3589727Z",
       "session_id": "2",
       "session_start_time": null,
       "spark_jobs": {
        "jobs": [],
        "limit": 20,
        "numbers": {
         "FAILED": 0,
         "RUNNING": 0,
         "SUCCEEDED": 0,
         "UNKNOWN": 0
        },
        "rule": "ALL_DESC"
       },
       "spark_pool": "87608f1f-5281-477c-8a41-f00a9ddf3071",
       "state": "finished",
       "statement_id": 9
      },
      "text/plain": [
       "StatementMeta(87608f1f-5281-477c-8a41-f00a9ddf3071, 2, 9, Finished, Available)"
      ]
     },
     "metadata": {},
     "output_type": "display_data"
    }
   ],
   "source": [
    "# submissions_row_count = submissions_df.count()\n",
    "# submissions_col_count = len(submissions_df.columns)\n",
    "# print(f\"Shape of the submissions dataframe is {submissions_row_count:,}x{submissions_col_count}\")"
   ]
  },
  {
   "cell_type": "markdown",
   "metadata": {
    "nteract": {
     "transient": {
      "deleting": false
     }
    }
   },
   "source": [
    "Breakdown of subreddit counts:"
   ]
  },
  {
   "cell_type": "code",
   "execution_count": 62,
   "metadata": {
    "collapsed": false,
    "gather": {
     "logged": 1699656482450
    },
    "jupyter": {
     "outputs_hidden": false,
     "source_hidden": false
    },
    "nteract": {
     "transient": {
      "deleting": false
     }
    }
   },
   "outputs": [
    {
     "data": {
      "application/vnd.livy.statement-meta+json": {
       "execution_finish_time": "2023-11-10T22:48:02.2498716Z",
       "execution_start_time": "2023-11-10T22:47:40.5693528Z",
       "livy_statement_state": "available",
       "parent_msg_id": "80ebf5d3-7f65-41f1-9ede-eb137fad9ef4",
       "queued_time": "2023-11-10T22:47:40.4567117Z",
       "session_id": "2",
       "session_start_time": null,
       "spark_jobs": {
        "jobs": [
         {
          "completionTime": "2023-11-10T22:48:00.521GMT",
          "dataRead": 47496,
          "dataWritten": 0,
          "description": "Job group for statement 67:\nsubreddit_count_df = submissions_df.groupBy('subreddit').count().toPandas()",
          "displayName": "toPandas at /tmp/ipykernel_7588/1251409265.py:1",
          "jobGroup": "67",
          "jobId": 21,
          "killedTasksSummary": {},
          "name": "toPandas at /tmp/ipykernel_7588/1251409265.py:1",
          "numActiveStages": 0,
          "numActiveTasks": 0,
          "numCompletedIndices": 1,
          "numCompletedStages": 1,
          "numCompletedTasks": 1,
          "numFailedStages": 0,
          "numFailedTasks": 0,
          "numKilledTasks": 0,
          "numSkippedStages": 1,
          "numSkippedTasks": 100,
          "numTasks": 101,
          "rowCount": 600,
          "stageIds": [
           24,
           23
          ],
          "status": "SUCCEEDED",
          "submissionTime": "2023-11-10T22:48:00.123GMT",
          "usageDescription": ""
         },
         {
          "completionTime": "2023-11-10T22:48:00.045GMT",
          "dataRead": 551661227,
          "dataWritten": 47496,
          "description": "Job group for statement 67:\nsubreddit_count_df = submissions_df.groupBy('subreddit').count().toPandas()",
          "displayName": "toPandas at /tmp/ipykernel_7588/1251409265.py:1",
          "jobGroup": "67",
          "jobId": 20,
          "killedTasksSummary": {},
          "name": "toPandas at /tmp/ipykernel_7588/1251409265.py:1",
          "numActiveStages": 0,
          "numActiveTasks": 0,
          "numCompletedIndices": 100,
          "numCompletedStages": 1,
          "numCompletedTasks": 100,
          "numFailedStages": 0,
          "numFailedTasks": 88,
          "numKilledTasks": 0,
          "numSkippedStages": 0,
          "numSkippedTasks": 0,
          "numTasks": 100,
          "rowCount": 1017568,
          "stageIds": [
           22
          ],
          "status": "SUCCEEDED",
          "submissionTime": "2023-11-10T22:47:40.737GMT",
          "usageDescription": ""
         }
        ],
        "limit": 20,
        "numbers": {
         "FAILED": 0,
         "RUNNING": 0,
         "SUCCEEDED": 2,
         "UNKNOWN": 0
        },
        "rule": "ALL_DESC"
       },
       "spark_pool": "87608f1f-5281-477c-8a41-f00a9ddf3071",
       "state": "finished",
       "statement_id": 67
      },
      "text/plain": [
       "StatementMeta(87608f1f-5281-477c-8a41-f00a9ddf3071, 2, 67, Finished, Available)"
      ]
     },
     "metadata": {},
     "output_type": "display_data"
    }
   ],
   "source": [
    "# subreddit_count_df = submissions_df.groupBy('subreddit').count().toPandas()"
   ]
  },
  {
   "cell_type": "code",
   "execution_count": 6,
   "metadata": {
    "collapsed": false,
    "gather": {
     "logged": 1699658405613
    },
    "jupyter": {
     "outputs_hidden": false,
     "source_hidden": false
    },
    "nteract": {
     "transient": {
      "deleting": false
     }
    }
   },
   "outputs": [
    {
     "data": {
      "application/vnd.livy.statement-meta+json": {
       "execution_finish_time": "2023-11-10T23:20:05.4440717Z",
       "execution_start_time": "2023-11-10T23:19:27.1264458Z",
       "livy_statement_state": "available",
       "parent_msg_id": "4647518d-7a60-4960-8a9d-ab81793385c3",
       "queued_time": "2023-11-10T23:19:27.0082595Z",
       "session_id": "35",
       "session_start_time": null,
       "spark_jobs": {
        "jobs": [
         {
          "completionTime": "2023-11-10T23:20:03.668GMT",
          "dataRead": 47496,
          "dataWritten": 0,
          "description": "Job group for statement 11:\nsubmissions_df.groupBy('subreddit').count().show()",
          "displayName": "showString at NativeMethodAccessorImpl.java:0",
          "jobGroup": "11",
          "jobId": 2,
          "killedTasksSummary": {},
          "name": "showString at NativeMethodAccessorImpl.java:0",
          "numActiveStages": 0,
          "numActiveTasks": 0,
          "numCompletedIndices": 1,
          "numCompletedStages": 1,
          "numCompletedTasks": 1,
          "numFailedStages": 0,
          "numFailedTasks": 0,
          "numKilledTasks": 0,
          "numSkippedStages": 1,
          "numSkippedTasks": 100,
          "numTasks": 101,
          "rowCount": 600,
          "stageIds": [
           2,
           3
          ],
          "status": "SUCCEEDED",
          "submissionTime": "2023-11-10T23:20:03.143GMT",
          "usageDescription": ""
         },
         {
          "completionTime": "2023-11-10T23:20:02.940GMT",
          "dataRead": 551661227,
          "dataWritten": 47496,
          "description": "Job group for statement 11:\nsubmissions_df.groupBy('subreddit').count().show()",
          "displayName": "showString at NativeMethodAccessorImpl.java:0",
          "jobGroup": "11",
          "jobId": 1,
          "killedTasksSummary": {},
          "name": "showString at NativeMethodAccessorImpl.java:0",
          "numActiveStages": 0,
          "numActiveTasks": 0,
          "numCompletedIndices": 100,
          "numCompletedStages": 1,
          "numCompletedTasks": 100,
          "numFailedStages": 0,
          "numFailedTasks": 0,
          "numKilledTasks": 0,
          "numSkippedStages": 0,
          "numSkippedTasks": 0,
          "numTasks": 100,
          "rowCount": 1017568,
          "stageIds": [
           1
          ],
          "status": "SUCCEEDED",
          "submissionTime": "2023-11-10T23:19:28.922GMT",
          "usageDescription": ""
         }
        ],
        "limit": 20,
        "numbers": {
         "FAILED": 0,
         "RUNNING": 0,
         "SUCCEEDED": 2,
         "UNKNOWN": 0
        },
        "rule": "ALL_DESC"
       },
       "spark_pool": "9d2667d4-d95f-4c64-adf7-bfab734cf5c0",
       "state": "finished",
       "statement_id": 11
      },
      "text/plain": [
       "StatementMeta(9d2667d4-d95f-4c64-adf7-bfab734cf5c0, 35, 11, Finished, Available)"
      ]
     },
     "metadata": {},
     "output_type": "display_data"
    },
    {
     "name": "stdout",
     "output_type": "stream",
     "text": [
      "+--------------------+------+\n",
      "|           subreddit| count|\n",
      "+--------------------+------+\n",
      "|               anime|404298|\n",
      "|          television| 89586|\n",
      "|televisionsuggest...|  7991|\n",
      "|              movies|382085|\n",
      "|        Animesuggest| 74101|\n",
      "|    MovieSuggestions| 58907|\n",
      "+--------------------+------+\n",
      "\n"
     ]
    }
   ],
   "source": [
    "submissions_df.groupBy('subreddit').count().show()"
   ]
  },
  {
   "cell_type": "code",
   "execution_count": 65,
   "metadata": {
    "collapsed": false,
    "gather": {
     "logged": 1699656577582
    },
    "jupyter": {
     "outputs_hidden": false,
     "source_hidden": false
    },
    "nteract": {
     "transient": {
      "deleting": false
     }
    }
   },
   "outputs": [
    {
     "data": {
      "application/vnd.livy.statement-meta+json": {
       "execution_finish_time": "2023-11-10T22:49:37.4514979Z",
       "execution_start_time": "2023-11-10T22:49:36.6549032Z",
       "livy_statement_state": "available",
       "parent_msg_id": "3c9c683b-0db3-445a-b5df-1469031bbdff",
       "queued_time": "2023-11-10T22:49:36.5547309Z",
       "session_id": "2",
       "session_start_time": null,
       "spark_jobs": {
        "jobs": [],
        "limit": 20,
        "numbers": {
         "FAILED": 0,
         "RUNNING": 0,
         "SUCCEEDED": 0,
         "UNKNOWN": 0
        },
        "rule": "ALL_DESC"
       },
       "spark_pool": "87608f1f-5281-477c-8a41-f00a9ddf3071",
       "state": "finished",
       "statement_id": 70
      },
      "text/plain": [
       "StatementMeta(87608f1f-5281-477c-8a41-f00a9ddf3071, 2, 70, Finished, Available)"
      ]
     },
     "metadata": {},
     "output_type": "display_data"
    }
   ],
   "source": [
    "# subreddit_count_df.to_csv(f\"{CSV_DIR}/subreddit_count.csv\")"
   ]
  },
  {
   "cell_type": "markdown",
   "metadata": {
    "nteract": {
     "transient": {
      "deleting": false
     }
    }
   },
   "source": [
    "Number of partitions in RDD:"
   ]
  },
  {
   "cell_type": "code",
   "execution_count": 6,
   "metadata": {
    "collapsed": false,
    "gather": {
     "logged": 1699652886470
    },
    "jupyter": {
     "outputs_hidden": false,
     "source_hidden": false
    },
    "nteract": {
     "transient": {
      "deleting": false
     }
    }
   },
   "outputs": [
    {
     "data": {
      "application/vnd.livy.statement-meta+json": {
       "execution_finish_time": "2023-11-10T21:48:06.4065031Z",
       "execution_start_time": "2023-11-10T21:48:05.6267075Z",
       "livy_statement_state": "available",
       "parent_msg_id": "d10e6e50-cc76-4d65-ab70-f113fb5fa594",
       "queued_time": "2023-11-10T21:48:05.4627368Z",
       "session_id": "2",
       "session_start_time": null,
       "spark_jobs": {
        "jobs": [],
        "limit": 20,
        "numbers": {
         "FAILED": 0,
         "RUNNING": 0,
         "SUCCEEDED": 0,
         "UNKNOWN": 0
        },
        "rule": "ALL_DESC"
       },
       "spark_pool": "87608f1f-5281-477c-8a41-f00a9ddf3071",
       "state": "finished",
       "statement_id": 11
      },
      "text/plain": [
       "StatementMeta(87608f1f-5281-477c-8a41-f00a9ddf3071, 2, 11, Finished, Available)"
      ]
     },
     "metadata": {},
     "output_type": "display_data"
    },
    {
     "data": {
      "text/plain": [
       "100"
      ]
     },
     "execution_count": 21,
     "metadata": {},
     "output_type": "execute_result"
    }
   ],
   "source": [
    "# get number of partitions\n",
    "submissions_df.rdd.getNumPartitions()"
   ]
  },
  {
   "cell_type": "markdown",
   "metadata": {
    "nteract": {
     "transient": {
      "deleting": false
     }
    }
   },
   "source": [
    "Columns in the data:"
   ]
  },
  {
   "cell_type": "code",
   "execution_count": 7,
   "metadata": {
    "collapsed": false,
    "gather": {
     "logged": 1699652891453
    },
    "jupyter": {
     "outputs_hidden": false,
     "source_hidden": false
    },
    "nteract": {
     "transient": {
      "deleting": false
     }
    }
   },
   "outputs": [
    {
     "data": {
      "application/vnd.livy.statement-meta+json": {
       "execution_finish_time": "2023-11-10T21:48:10.8772824Z",
       "execution_start_time": "2023-11-10T21:48:10.586467Z",
       "livy_statement_state": "available",
       "parent_msg_id": "0c10c1e8-1214-4587-887a-e12e9019c509",
       "queued_time": "2023-11-10T21:48:10.4110496Z",
       "session_id": "2",
       "session_start_time": null,
       "spark_jobs": {
        "jobs": [],
        "limit": 20,
        "numbers": {
         "FAILED": 0,
         "RUNNING": 0,
         "SUCCEEDED": 0,
         "UNKNOWN": 0
        },
        "rule": "ALL_DESC"
       },
       "spark_pool": "87608f1f-5281-477c-8a41-f00a9ddf3071",
       "state": "finished",
       "statement_id": 12
      },
      "text/plain": [
       "StatementMeta(87608f1f-5281-477c-8a41-f00a9ddf3071, 2, 12, Finished, Available)"
      ]
     },
     "metadata": {},
     "output_type": "display_data"
    },
    {
     "name": "stdout",
     "output_type": "stream",
     "text": [
      "root\n",
      " |-- adserver_click_url: string (nullable = true)\n",
      " |-- adserver_imp_pixel: string (nullable = true)\n",
      " |-- archived: boolean (nullable = true)\n",
      " |-- author: string (nullable = true)\n",
      " |-- author_cakeday: boolean (nullable = true)\n",
      " |-- author_flair_css_class: string (nullable = true)\n",
      " |-- author_flair_text: string (nullable = true)\n",
      " |-- author_id: string (nullable = true)\n",
      " |-- brand_safe: boolean (nullable = true)\n",
      " |-- contest_mode: boolean (nullable = true)\n",
      " |-- created_utc: timestamp (nullable = true)\n",
      " |-- crosspost_parent: string (nullable = true)\n",
      " |-- crosspost_parent_list: array (nullable = true)\n",
      " |    |-- element: struct (containsNull = true)\n",
      " |    |    |-- approved_at_utc: string (nullable = true)\n",
      " |    |    |-- approved_by: string (nullable = true)\n",
      " |    |    |-- archived: boolean (nullable = true)\n",
      " |    |    |-- author: string (nullable = true)\n",
      " |    |    |-- author_flair_css_class: string (nullable = true)\n",
      " |    |    |-- author_flair_text: string (nullable = true)\n",
      " |    |    |-- banned_at_utc: string (nullable = true)\n",
      " |    |    |-- banned_by: string (nullable = true)\n",
      " |    |    |-- brand_safe: boolean (nullable = true)\n",
      " |    |    |-- can_gild: boolean (nullable = true)\n",
      " |    |    |-- can_mod_post: boolean (nullable = true)\n",
      " |    |    |-- clicked: boolean (nullable = true)\n",
      " |    |    |-- contest_mode: boolean (nullable = true)\n",
      " |    |    |-- created: double (nullable = true)\n",
      " |    |    |-- created_utc: double (nullable = true)\n",
      " |    |    |-- distinguished: string (nullable = true)\n",
      " |    |    |-- domain: string (nullable = true)\n",
      " |    |    |-- downs: long (nullable = true)\n",
      " |    |    |-- edited: boolean (nullable = true)\n",
      " |    |    |-- gilded: long (nullable = true)\n",
      " |    |    |-- hidden: boolean (nullable = true)\n",
      " |    |    |-- hide_score: boolean (nullable = true)\n",
      " |    |    |-- id: string (nullable = true)\n",
      " |    |    |-- is_crosspostable: boolean (nullable = true)\n",
      " |    |    |-- is_reddit_media_domain: boolean (nullable = true)\n",
      " |    |    |-- is_self: boolean (nullable = true)\n",
      " |    |    |-- is_video: boolean (nullable = true)\n",
      " |    |    |-- likes: string (nullable = true)\n",
      " |    |    |-- link_flair_css_class: string (nullable = true)\n",
      " |    |    |-- link_flair_text: string (nullable = true)\n",
      " |    |    |-- locked: boolean (nullable = true)\n",
      " |    |    |-- media: string (nullable = true)\n",
      " |    |    |-- mod_reports: array (nullable = true)\n",
      " |    |    |    |-- element: string (containsNull = true)\n",
      " |    |    |-- name: string (nullable = true)\n",
      " |    |    |-- num_comments: long (nullable = true)\n",
      " |    |    |-- num_crossposts: long (nullable = true)\n",
      " |    |    |-- num_reports: string (nullable = true)\n",
      " |    |    |-- over_18: boolean (nullable = true)\n",
      " |    |    |-- parent_whitelist_status: string (nullable = true)\n",
      " |    |    |-- permalink: string (nullable = true)\n",
      " |    |    |-- pinned: boolean (nullable = true)\n",
      " |    |    |-- quarantine: boolean (nullable = true)\n",
      " |    |    |-- removal_reason: string (nullable = true)\n",
      " |    |    |-- report_reasons: string (nullable = true)\n",
      " |    |    |-- saved: boolean (nullable = true)\n",
      " |    |    |-- score: long (nullable = true)\n",
      " |    |    |-- secure_media: string (nullable = true)\n",
      " |    |    |-- selftext: string (nullable = true)\n",
      " |    |    |-- selftext_html: string (nullable = true)\n",
      " |    |    |-- spoiler: boolean (nullable = true)\n",
      " |    |    |-- stickied: boolean (nullable = true)\n",
      " |    |    |-- subreddit: string (nullable = true)\n",
      " |    |    |-- subreddit_id: string (nullable = true)\n",
      " |    |    |-- subreddit_name_prefixed: string (nullable = true)\n",
      " |    |    |-- subreddit_type: string (nullable = true)\n",
      " |    |    |-- suggested_sort: string (nullable = true)\n",
      " |    |    |-- thumbnail: string (nullable = true)\n",
      " |    |    |-- thumbnail_height: string (nullable = true)\n",
      " |    |    |-- thumbnail_width: string (nullable = true)\n",
      " |    |    |-- title: string (nullable = true)\n",
      " |    |    |-- ups: long (nullable = true)\n",
      " |    |    |-- url: string (nullable = true)\n",
      " |    |    |-- user_reports: array (nullable = true)\n",
      " |    |    |    |-- element: string (containsNull = true)\n",
      " |    |    |-- view_count: string (nullable = true)\n",
      " |    |    |-- visited: boolean (nullable = true)\n",
      " |    |    |-- whitelist_status: string (nullable = true)\n",
      " |-- disable_comments: boolean (nullable = true)\n",
      " |-- distinguished: string (nullable = true)\n",
      " |-- domain: string (nullable = true)\n",
      " |-- domain_override: string (nullable = true)\n",
      " |-- edited: string (nullable = true)\n",
      " |-- embed_type: string (nullable = true)\n",
      " |-- embed_url: string (nullable = true)\n",
      " |-- gilded: long (nullable = true)\n",
      " |-- hidden: boolean (nullable = true)\n",
      " |-- hide_score: boolean (nullable = true)\n",
      " |-- href_url: string (nullable = true)\n",
      " |-- id: string (nullable = true)\n",
      " |-- imp_pixel: string (nullable = true)\n",
      " |-- is_crosspostable: boolean (nullable = true)\n",
      " |-- is_reddit_media_domain: boolean (nullable = true)\n",
      " |-- is_self: boolean (nullable = true)\n",
      " |-- is_video: boolean (nullable = true)\n",
      " |-- link_flair_css_class: string (nullable = true)\n",
      " |-- link_flair_text: string (nullable = true)\n",
      " |-- locked: boolean (nullable = true)\n",
      " |-- media: struct (nullable = true)\n",
      " |    |-- event_id: string (nullable = true)\n",
      " |    |-- oembed: struct (nullable = true)\n",
      " |    |    |-- author_name: string (nullable = true)\n",
      " |    |    |-- author_url: string (nullable = true)\n",
      " |    |    |-- cache_age: long (nullable = true)\n",
      " |    |    |-- description: string (nullable = true)\n",
      " |    |    |-- height: long (nullable = true)\n",
      " |    |    |-- html: string (nullable = true)\n",
      " |    |    |-- provider_name: string (nullable = true)\n",
      " |    |    |-- provider_url: string (nullable = true)\n",
      " |    |    |-- thumbnail_height: long (nullable = true)\n",
      " |    |    |-- thumbnail_url: string (nullable = true)\n",
      " |    |    |-- thumbnail_width: long (nullable = true)\n",
      " |    |    |-- title: string (nullable = true)\n",
      " |    |    |-- type: string (nullable = true)\n",
      " |    |    |-- url: string (nullable = true)\n",
      " |    |    |-- version: string (nullable = true)\n",
      " |    |    |-- width: long (nullable = true)\n",
      " |    |-- reddit_video: struct (nullable = true)\n",
      " |    |    |-- dash_url: string (nullable = true)\n",
      " |    |    |-- duration: long (nullable = true)\n",
      " |    |    |-- fallback_url: string (nullable = true)\n",
      " |    |    |-- height: long (nullable = true)\n",
      " |    |    |-- hls_url: string (nullable = true)\n",
      " |    |    |-- is_gif: boolean (nullable = true)\n",
      " |    |    |-- scrubber_media_url: string (nullable = true)\n",
      " |    |    |-- transcoding_status: string (nullable = true)\n",
      " |    |    |-- width: long (nullable = true)\n",
      " |    |-- type: string (nullable = true)\n",
      " |-- media_embed: struct (nullable = true)\n",
      " |    |-- content: string (nullable = true)\n",
      " |    |-- height: long (nullable = true)\n",
      " |    |-- scrolling: boolean (nullable = true)\n",
      " |    |-- width: long (nullable = true)\n",
      " |-- mobile_ad_url: string (nullable = true)\n",
      " |-- num_comments: long (nullable = true)\n",
      " |-- num_crossposts: long (nullable = true)\n",
      " |-- original_link: string (nullable = true)\n",
      " |-- over_18: boolean (nullable = true)\n",
      " |-- parent_whitelist_status: string (nullable = true)\n",
      " |-- permalink: string (nullable = true)\n",
      " |-- pinned: boolean (nullable = true)\n",
      " |-- post_hint: string (nullable = true)\n",
      " |-- preview: struct (nullable = true)\n",
      " |    |-- enabled: boolean (nullable = true)\n",
      " |    |-- images: array (nullable = true)\n",
      " |    |    |-- element: struct (containsNull = true)\n",
      " |    |    |    |-- id: string (nullable = true)\n",
      " |    |    |    |-- resolutions: array (nullable = true)\n",
      " |    |    |    |    |-- element: struct (containsNull = true)\n",
      " |    |    |    |    |    |-- height: long (nullable = true)\n",
      " |    |    |    |    |    |-- url: string (nullable = true)\n",
      " |    |    |    |    |    |-- width: long (nullable = true)\n",
      " |    |    |    |-- source: struct (nullable = true)\n",
      " |    |    |    |    |-- height: long (nullable = true)\n",
      " |    |    |    |    |-- url: string (nullable = true)\n",
      " |    |    |    |    |-- width: long (nullable = true)\n",
      " |    |    |    |-- variants: struct (nullable = true)\n",
      " |    |    |    |    |-- gif: struct (nullable = true)\n",
      " |    |    |    |    |    |-- resolutions: array (nullable = true)\n",
      " |    |    |    |    |    |    |-- element: struct (containsNull = true)\n",
      " |    |    |    |    |    |    |    |-- height: long (nullable = true)\n",
      " |    |    |    |    |    |    |    |-- url: string (nullable = true)\n",
      " |    |    |    |    |    |    |    |-- width: long (nullable = true)\n",
      " |    |    |    |    |    |-- source: struct (nullable = true)\n",
      " |    |    |    |    |    |    |-- height: long (nullable = true)\n",
      " |    |    |    |    |    |    |-- url: string (nullable = true)\n",
      " |    |    |    |    |    |    |-- width: long (nullable = true)\n",
      " |    |    |    |    |-- mp4: struct (nullable = true)\n",
      " |    |    |    |    |    |-- resolutions: array (nullable = true)\n",
      " |    |    |    |    |    |    |-- element: struct (containsNull = true)\n",
      " |    |    |    |    |    |    |    |-- height: long (nullable = true)\n",
      " |    |    |    |    |    |    |    |-- url: string (nullable = true)\n",
      " |    |    |    |    |    |    |    |-- width: long (nullable = true)\n",
      " |    |    |    |    |    |-- source: struct (nullable = true)\n",
      " |    |    |    |    |    |    |-- height: long (nullable = true)\n",
      " |    |    |    |    |    |    |-- url: string (nullable = true)\n",
      " |    |    |    |    |    |    |-- width: long (nullable = true)\n",
      " |    |    |    |    |-- nsfw: struct (nullable = true)\n",
      " |    |    |    |    |    |-- resolutions: array (nullable = true)\n",
      " |    |    |    |    |    |    |-- element: struct (containsNull = true)\n",
      " |    |    |    |    |    |    |    |-- height: long (nullable = true)\n",
      " |    |    |    |    |    |    |    |-- url: string (nullable = true)\n",
      " |    |    |    |    |    |    |    |-- width: long (nullable = true)\n",
      " |    |    |    |    |    |-- source: struct (nullable = true)\n",
      " |    |    |    |    |    |    |-- height: long (nullable = true)\n",
      " |    |    |    |    |    |    |-- url: string (nullable = true)\n",
      " |    |    |    |    |    |    |-- width: long (nullable = true)\n",
      " |    |    |    |    |-- obfuscated: struct (nullable = true)\n",
      " |    |    |    |    |    |-- resolutions: array (nullable = true)\n",
      " |    |    |    |    |    |    |-- element: struct (containsNull = true)\n",
      " |    |    |    |    |    |    |    |-- height: long (nullable = true)\n",
      " |    |    |    |    |    |    |    |-- url: string (nullable = true)\n",
      " |    |    |    |    |    |    |    |-- width: long (nullable = true)\n",
      " |    |    |    |    |    |-- source: struct (nullable = true)\n",
      " |    |    |    |    |    |    |-- height: long (nullable = true)\n",
      " |    |    |    |    |    |    |-- url: string (nullable = true)\n",
      " |    |    |    |    |    |    |-- width: long (nullable = true)\n",
      " |-- score: long (nullable = true)\n",
      " |-- selftext: string (nullable = true)\n",
      " |-- subreddit: string (nullable = true)\n",
      " |-- subreddit_id: string (nullable = true)\n",
      " |-- title: string (nullable = true)\n",
      " |-- url: string (nullable = true)\n",
      "\n"
     ]
    }
   ],
   "source": [
    "# print schema\n",
    "submissions_df.printSchema()"
   ]
  },
  {
   "cell_type": "markdown",
   "metadata": {
    "nteract": {
     "transient": {
      "deleting": false
     }
    }
   },
   "source": [
    "Subset the data for faster processing:"
   ]
  },
  {
   "cell_type": "code",
   "execution_count": 6,
   "metadata": {
    "collapsed": false,
    "gather": {
     "logged": 1699663369370
    },
    "jupyter": {
     "outputs_hidden": false,
     "source_hidden": false
    },
    "nteract": {
     "transient": {
      "deleting": false
     }
    }
   },
   "outputs": [
    {
     "data": {
      "application/vnd.livy.statement-meta+json": {
       "execution_finish_time": "2023-11-11T00:42:49.3018819Z",
       "execution_start_time": "2023-11-11T00:42:48.99465Z",
       "livy_statement_state": "available",
       "parent_msg_id": "a60ca3a5-b02a-4359-9609-628601dfaa24",
       "queued_time": "2023-11-11T00:42:48.8915384Z",
       "session_id": "40",
       "session_start_time": null,
       "spark_jobs": {
        "jobs": [],
        "limit": 20,
        "numbers": {
         "FAILED": 0,
         "RUNNING": 0,
         "SUCCEEDED": 0,
         "UNKNOWN": 0
        },
        "rule": "ALL_DESC"
       },
       "spark_pool": "9d2667d4-d95f-4c64-adf7-bfab734cf5c0",
       "state": "finished",
       "statement_id": 11
      },
      "text/plain": [
       "StatementMeta(9d2667d4-d95f-4c64-adf7-bfab734cf5c0, 40, 11, Finished, Available)"
      ]
     },
     "metadata": {},
     "output_type": "display_data"
    }
   ],
   "source": [
    "submissions_df_small = submissions_df.sample(withReplacement=False, fraction=0.01)"
   ]
  },
  {
   "cell_type": "code",
   "execution_count": 7,
   "metadata": {
    "collapsed": false,
    "gather": {
     "logged": 1699663369779
    },
    "jupyter": {
     "outputs_hidden": false,
     "source_hidden": false
    },
    "nteract": {
     "transient": {
      "deleting": false
     }
    }
   },
   "outputs": [
    {
     "data": {
      "application/vnd.livy.statement-meta+json": {
       "execution_finish_time": "2023-11-11T00:42:49.6957845Z",
       "execution_start_time": "2023-11-11T00:42:49.4059572Z",
       "livy_statement_state": "available",
       "parent_msg_id": "a97cccbf-04b9-4635-8059-110e59126ed2",
       "queued_time": "2023-11-11T00:42:49.12897Z",
       "session_id": "40",
       "session_start_time": null,
       "spark_jobs": {
        "jobs": [],
        "limit": 20,
        "numbers": {
         "FAILED": 0,
         "RUNNING": 0,
         "SUCCEEDED": 0,
         "UNKNOWN": 0
        },
        "rule": "ALL_DESC"
       },
       "spark_pool": "9d2667d4-d95f-4c64-adf7-bfab734cf5c0",
       "state": "finished",
       "statement_id": 12
      },
      "text/plain": [
       "StatementMeta(9d2667d4-d95f-4c64-adf7-bfab734cf5c0, 40, 12, Finished, Available)"
      ]
     },
     "metadata": {},
     "output_type": "display_data"
    }
   ],
   "source": [
    "# take a subset of columns\n",
    "df = submissions_df_small.select(\"subreddit\", \"author\", \"title\", \"selftext\",\n",
    "                             \"created_utc\", \"num_comments\", \"score\", \n",
    "                             \"over_18\", \"media\", \"pinned\", \"locked\", \n",
    "                             \"disable_comments\", \"domain\", \"hidden\", \n",
    "                             \"distinguished\", \"hide_score\")"
   ]
  },
  {
   "cell_type": "code",
   "execution_count": 18,
   "metadata": {
    "collapsed": false,
    "gather": {
     "logged": 1699670182581
    },
    "jupyter": {
     "outputs_hidden": false,
     "source_hidden": false
    },
    "nteract": {
     "transient": {
      "deleting": false
     }
    }
   },
   "outputs": [
    {
     "data": {
      "application/vnd.livy.statement-meta+json": {
       "execution_finish_time": "2023-11-11T02:36:21.9421788Z",
       "execution_start_time": "2023-11-11T02:36:21.607513Z",
       "livy_statement_state": "available",
       "parent_msg_id": "2ae6ab4c-6364-4f21-a366-37670ed576a2",
       "queued_time": "2023-11-11T02:36:21.5157774Z",
       "session_id": "47",
       "session_start_time": null,
       "spark_jobs": {
        "jobs": [],
        "limit": 20,
        "numbers": {
         "FAILED": 0,
         "RUNNING": 0,
         "SUCCEEDED": 0,
         "UNKNOWN": 0
        },
        "rule": "ALL_DESC"
       },
       "spark_pool": "9d2667d4-d95f-4c64-adf7-bfab734cf5c0",
       "state": "finished",
       "statement_id": 23
      },
      "text/plain": [
       "StatementMeta(9d2667d4-d95f-4c64-adf7-bfab734cf5c0, 47, 23, Finished, Available)"
      ]
     },
     "metadata": {},
     "output_type": "display_data"
    }
   ],
   "source": [
    "# take a subset of columns\n",
    "df = submissions_df.select(\"subreddit\", \"author\", \"title\", \"selftext\",\n",
    "                             \"created_utc\", \"num_comments\", \"score\", \n",
    "                             \"over_18\", \"media\", \"pinned\", \"locked\", \n",
    "                             \"disable_comments\", \"domain\", \"hidden\", \n",
    "                             \"distinguished\", \"hide_score\")"
   ]
  },
  {
   "cell_type": "markdown",
   "metadata": {
    "nteract": {
     "transient": {
      "deleting": false
     }
    }
   },
   "source": [
    "Count the missing values in data:"
   ]
  },
  {
   "cell_type": "code",
   "execution_count": 12,
   "metadata": {
    "collapsed": false,
    "gather": {
     "logged": 1699660137480
    },
    "jupyter": {
     "outputs_hidden": false,
     "source_hidden": false
    },
    "nteract": {
     "transient": {
      "deleting": false
     }
    }
   },
   "outputs": [
    {
     "data": {
      "application/vnd.livy.statement-meta+json": {
       "execution_finish_time": "2023-11-10T23:48:57.2871247Z",
       "execution_start_time": "2023-11-10T23:48:55.0608611Z",
       "livy_statement_state": "available",
       "parent_msg_id": "bc885b74-5976-4f2c-9671-ce549c13da71",
       "queued_time": "2023-11-10T23:48:54.9266665Z",
       "session_id": "36",
       "session_start_time": null,
       "spark_jobs": {
        "jobs": [],
        "limit": 20,
        "numbers": {
         "FAILED": 0,
         "RUNNING": 0,
         "SUCCEEDED": 0,
         "UNKNOWN": 0
        },
        "rule": "ALL_DESC"
       },
       "spark_pool": "9d2667d4-d95f-4c64-adf7-bfab734cf5c0",
       "state": "finished",
       "statement_id": 17
      },
      "text/plain": [
       "StatementMeta(9d2667d4-d95f-4c64-adf7-bfab734cf5c0, 36, 17, Finished, Available)"
      ]
     },
     "metadata": {},
     "output_type": "display_data"
    }
   ],
   "source": [
    "# find missing values\n",
    "missing_vals = df.select([count(when(col(c).isNull(), c)).alias(c) for c in df.columns])"
   ]
  },
  {
   "cell_type": "code",
   "execution_count": 13,
   "metadata": {
    "collapsed": false,
    "gather": {
     "logged": 1699660192107
    },
    "jupyter": {
     "outputs_hidden": false,
     "source_hidden": false
    },
    "nteract": {
     "transient": {
      "deleting": false
     }
    }
   },
   "outputs": [
    {
     "data": {
      "application/vnd.livy.statement-meta+json": {
       "execution_finish_time": "2023-11-10T23:49:51.8830188Z",
       "execution_start_time": "2023-11-10T23:49:11.2997932Z",
       "livy_statement_state": "available",
       "parent_msg_id": "7d3b5e7f-ec3e-4072-afc2-d259cd0db9bc",
       "queued_time": "2023-11-10T23:49:11.1525637Z",
       "session_id": "36",
       "session_start_time": null,
       "spark_jobs": {
        "jobs": [
         {
          "completionTime": "2023-11-10T23:49:51.581GMT",
          "dataRead": 8152,
          "dataWritten": 0,
          "description": "Job group for statement 18:\nmissing_vals.show()",
          "displayName": "showString at NativeMethodAccessorImpl.java:0",
          "jobGroup": "18",
          "jobId": 2,
          "killedTasksSummary": {},
          "name": "showString at NativeMethodAccessorImpl.java:0",
          "numActiveStages": 0,
          "numActiveTasks": 0,
          "numCompletedIndices": 1,
          "numCompletedStages": 1,
          "numCompletedTasks": 1,
          "numFailedStages": 0,
          "numFailedTasks": 0,
          "numKilledTasks": 0,
          "numSkippedStages": 1,
          "numSkippedTasks": 100,
          "numTasks": 101,
          "rowCount": 100,
          "stageIds": [
           2,
           3
          ],
          "status": "SUCCEEDED",
          "submissionTime": "2023-11-10T23:49:50.918GMT",
          "usageDescription": ""
         },
         {
          "completionTime": "2023-11-10T23:49:50.732GMT",
          "dataRead": 750694891,
          "dataWritten": 8152,
          "description": "Job group for statement 18:\nmissing_vals.show()",
          "displayName": "showString at NativeMethodAccessorImpl.java:0",
          "jobGroup": "18",
          "jobId": 1,
          "killedTasksSummary": {},
          "name": "showString at NativeMethodAccessorImpl.java:0",
          "numActiveStages": 0,
          "numActiveTasks": 0,
          "numCompletedIndices": 100,
          "numCompletedStages": 1,
          "numCompletedTasks": 100,
          "numFailedStages": 0,
          "numFailedTasks": 0,
          "numKilledTasks": 0,
          "numSkippedStages": 0,
          "numSkippedTasks": 0,
          "numTasks": 100,
          "rowCount": 1017068,
          "stageIds": [
           1
          ],
          "status": "SUCCEEDED",
          "submissionTime": "2023-11-10T23:49:12.073GMT",
          "usageDescription": ""
         }
        ],
        "limit": 20,
        "numbers": {
         "FAILED": 0,
         "RUNNING": 0,
         "SUCCEEDED": 2,
         "UNKNOWN": 0
        },
        "rule": "ALL_DESC"
       },
       "spark_pool": "9d2667d4-d95f-4c64-adf7-bfab734cf5c0",
       "state": "finished",
       "statement_id": 18
      },
      "text/plain": [
       "StatementMeta(9d2667d4-d95f-4c64-adf7-bfab734cf5c0, 36, 18, Finished, Available)"
      ]
     },
     "metadata": {},
     "output_type": "display_data"
    },
    {
     "name": "stdout",
     "output_type": "stream",
     "text": [
      "+---------+------+-----+--------+-----------+------------+-----+-------+------+------+------+----------------+------+------+-------------+----------+\n",
      "|subreddit|author|title|selftext|created_utc|num_comments|score|over_18| media|pinned|locked|disable_comments|domain|hidden|distinguished|hide_score|\n",
      "+---------+------+-----+--------+-----------+------------+-----+-------+------+------+------+----------------+------+------+-------------+----------+\n",
      "|        0|     0|    0|       0|          0|           0|    0|      0|892405|     0|     0|         1016968|  8952|     0|      1015530|         0|\n",
      "+---------+------+-----+--------+-----------+------------+-----+-------+------+------+------+----------------+------+------+-------------+----------+\n",
      "\n"
     ]
    }
   ],
   "source": [
    "missing_vals.show()"
   ]
  },
  {
   "cell_type": "code",
   "execution_count": 15,
   "metadata": {
    "collapsed": false,
    "gather": {
     "logged": 1699660276613
    },
    "jupyter": {
     "outputs_hidden": false,
     "source_hidden": false
    },
    "nteract": {
     "transient": {
      "deleting": false
     }
    }
   },
   "outputs": [
    {
     "data": {
      "application/vnd.livy.statement-meta+json": {
       "execution_finish_time": "2023-11-10T23:51:16.5214747Z",
       "execution_start_time": "2023-11-10T23:51:16.1914969Z",
       "livy_statement_state": "available",
       "parent_msg_id": "65f1f3bd-8b37-4ba4-b965-70ebcb212d83",
       "queued_time": "2023-11-10T23:51:16.0433225Z",
       "session_id": "36",
       "session_start_time": null,
       "spark_jobs": {
        "jobs": [],
        "limit": 20,
        "numbers": {
         "FAILED": 0,
         "RUNNING": 0,
         "SUCCEEDED": 0,
         "UNKNOWN": 0
        },
        "rule": "ALL_DESC"
       },
       "spark_pool": "9d2667d4-d95f-4c64-adf7-bfab734cf5c0",
       "state": "finished",
       "statement_id": 20
      },
      "text/plain": [
       "StatementMeta(9d2667d4-d95f-4c64-adf7-bfab734cf5c0, 36, 20, Finished, Available)"
      ]
     },
     "metadata": {},
     "output_type": "display_data"
    }
   ],
   "source": [
    "# Manually inputting data\n",
    "data = {\n",
    "    'subreddit': [0],\n",
    "    'author': [0],\n",
    "    'title': [0],\n",
    "    'selftext': [0],\n",
    "    'created_utc': [0],\n",
    "    'num_comments': [0],\n",
    "    'score': [0],\n",
    "    'over_18': [0],\n",
    "    'media': [892405],\n",
    "    'pinned': [0],\n",
    "    'locked': [0],\n",
    "    'disable_comments': [1016968],\n",
    "    'domain': [8952],\n",
    "    'hidden': [0],\n",
    "    'distinguished': [1015530],\n",
    "    'hide_score': [0]\n",
    "}\n",
    "\n",
    "# Creating a Pandas DataFrame\n",
    "missing_vals_pd = pd.DataFrame(data)"
   ]
  },
  {
   "cell_type": "code",
   "execution_count": 16,
   "metadata": {
    "collapsed": false,
    "gather": {
     "logged": 1699660278699
    },
    "jupyter": {
     "outputs_hidden": false,
     "source_hidden": false
    },
    "nteract": {
     "transient": {
      "deleting": false
     }
    }
   },
   "outputs": [
    {
     "data": {
      "application/vnd.livy.statement-meta+json": {
       "execution_finish_time": "2023-11-10T23:51:18.6023714Z",
       "execution_start_time": "2023-11-10T23:51:18.3225762Z",
       "livy_statement_state": "available",
       "parent_msg_id": "9de79822-b666-45d3-ac3c-a701b5bee47e",
       "queued_time": "2023-11-10T23:51:18.1734759Z",
       "session_id": "36",
       "session_start_time": null,
       "spark_jobs": {
        "jobs": [],
        "limit": 20,
        "numbers": {
         "FAILED": 0,
         "RUNNING": 0,
         "SUCCEEDED": 0,
         "UNKNOWN": 0
        },
        "rule": "ALL_DESC"
       },
       "spark_pool": "9d2667d4-d95f-4c64-adf7-bfab734cf5c0",
       "state": "finished",
       "statement_id": 21
      },
      "text/plain": [
       "StatementMeta(9d2667d4-d95f-4c64-adf7-bfab734cf5c0, 36, 21, Finished, Available)"
      ]
     },
     "metadata": {},
     "output_type": "display_data"
    },
    {
     "data": {
      "text/html": [
       "<div>\n",
       "<style scoped>\n",
       "    .dataframe tbody tr th:only-of-type {\n",
       "        vertical-align: middle;\n",
       "    }\n",
       "\n",
       "    .dataframe tbody tr th {\n",
       "        vertical-align: top;\n",
       "    }\n",
       "\n",
       "    .dataframe thead th {\n",
       "        text-align: right;\n",
       "    }\n",
       "</style>\n",
       "<table border=\"1\" class=\"dataframe\">\n",
       "  <thead>\n",
       "    <tr style=\"text-align: right;\">\n",
       "      <th></th>\n",
       "      <th>subreddit</th>\n",
       "      <th>author</th>\n",
       "      <th>title</th>\n",
       "      <th>selftext</th>\n",
       "      <th>created_utc</th>\n",
       "      <th>num_comments</th>\n",
       "      <th>score</th>\n",
       "      <th>over_18</th>\n",
       "      <th>media</th>\n",
       "      <th>pinned</th>\n",
       "      <th>locked</th>\n",
       "      <th>disable_comments</th>\n",
       "      <th>domain</th>\n",
       "      <th>hidden</th>\n",
       "      <th>distinguished</th>\n",
       "      <th>hide_score</th>\n",
       "    </tr>\n",
       "  </thead>\n",
       "  <tbody>\n",
       "    <tr>\n",
       "      <th>0</th>\n",
       "      <td>0</td>\n",
       "      <td>0</td>\n",
       "      <td>0</td>\n",
       "      <td>0</td>\n",
       "      <td>0</td>\n",
       "      <td>0</td>\n",
       "      <td>0</td>\n",
       "      <td>0</td>\n",
       "      <td>892405</td>\n",
       "      <td>0</td>\n",
       "      <td>0</td>\n",
       "      <td>1016968</td>\n",
       "      <td>8952</td>\n",
       "      <td>0</td>\n",
       "      <td>1015530</td>\n",
       "      <td>0</td>\n",
       "    </tr>\n",
       "  </tbody>\n",
       "</table>\n",
       "</div>"
      ],
      "text/plain": [
       "   subreddit  author  title  selftext  created_utc  num_comments  score  \\\n",
       "0          0       0      0         0            0             0      0   \n",
       "\n",
       "   over_18   media  pinned  locked  disable_comments  domain  hidden  \\\n",
       "0        0  892405       0       0           1016968    8952       0   \n",
       "\n",
       "   distinguished  hide_score  \n",
       "0        1015530           0  "
      ]
     },
     "execution_count": 41,
     "metadata": {},
     "output_type": "execute_result"
    }
   ],
   "source": [
    "missing_vals_pd"
   ]
  },
  {
   "cell_type": "code",
   "execution_count": 13,
   "metadata": {
    "collapsed": false,
    "gather": {
     "logged": 1699658558916
    },
    "jupyter": {
     "outputs_hidden": false,
     "source_hidden": false
    },
    "nteract": {
     "transient": {
      "deleting": false
     }
    }
   },
   "outputs": [
    {
     "data": {
      "application/vnd.livy.statement-meta+json": {
       "execution_finish_time": "2023-11-10T23:22:38.7546131Z",
       "execution_start_time": "2023-11-10T23:22:00.1027993Z",
       "livy_statement_state": "available",
       "parent_msg_id": "9c5ca014-9178-40ec-9e41-bd92a6de62d2",
       "queued_time": "2023-11-10T23:21:59.9567696Z",
       "session_id": "35",
       "session_start_time": null,
       "spark_jobs": {
        "jobs": [
         {
          "completionTime": "2023-11-10T23:22:38.449GMT",
          "dataRead": 7304,
          "dataWritten": 0,
          "description": "Job group for statement 18:\nmissing_vals_pd = missing_vals.toPandas()",
          "displayName": "toPandas at /tmp/ipykernel_7915/987652583.py:1",
          "jobGroup": "18",
          "jobId": 5,
          "killedTasksSummary": {},
          "name": "toPandas at /tmp/ipykernel_7915/987652583.py:1",
          "numActiveStages": 0,
          "numActiveTasks": 0,
          "numCompletedIndices": 1,
          "numCompletedStages": 1,
          "numCompletedTasks": 1,
          "numFailedStages": 0,
          "numFailedTasks": 0,
          "numKilledTasks": 0,
          "numSkippedStages": 1,
          "numSkippedTasks": 100,
          "numTasks": 101,
          "rowCount": 100,
          "stageIds": [
           6,
           7
          ],
          "status": "SUCCEEDED",
          "submissionTime": "2023-11-10T23:22:37.738GMT",
          "usageDescription": ""
         },
         {
          "completionTime": "2023-11-10T23:22:37.635GMT",
          "dataRead": 750694891,
          "dataWritten": 7304,
          "description": "Job group for statement 18:\nmissing_vals_pd = missing_vals.toPandas()",
          "displayName": "toPandas at /tmp/ipykernel_7915/987652583.py:1",
          "jobGroup": "18",
          "jobId": 4,
          "killedTasksSummary": {},
          "name": "toPandas at /tmp/ipykernel_7915/987652583.py:1",
          "numActiveStages": 0,
          "numActiveTasks": 0,
          "numCompletedIndices": 100,
          "numCompletedStages": 1,
          "numCompletedTasks": 100,
          "numFailedStages": 0,
          "numFailedTasks": 0,
          "numKilledTasks": 0,
          "numSkippedStages": 0,
          "numSkippedTasks": 0,
          "numTasks": 100,
          "rowCount": 1017068,
          "stageIds": [
           5
          ],
          "status": "SUCCEEDED",
          "submissionTime": "2023-11-10T23:22:00.426GMT",
          "usageDescription": ""
         }
        ],
        "limit": 20,
        "numbers": {
         "FAILED": 0,
         "RUNNING": 0,
         "SUCCEEDED": 2,
         "UNKNOWN": 0
        },
        "rule": "ALL_DESC"
       },
       "spark_pool": "9d2667d4-d95f-4c64-adf7-bfab734cf5c0",
       "state": "finished",
       "statement_id": 18
      },
      "text/plain": [
       "StatementMeta(9d2667d4-d95f-4c64-adf7-bfab734cf5c0, 35, 18, Finished, Available)"
      ]
     },
     "metadata": {},
     "output_type": "display_data"
    }
   ],
   "source": [
    "# missing_vals_pd = missing_vals.toPandas()"
   ]
  },
  {
   "cell_type": "code",
   "execution_count": 17,
   "metadata": {
    "collapsed": false,
    "gather": {
     "logged": 1699660285810
    },
    "jupyter": {
     "outputs_hidden": false,
     "source_hidden": false
    },
    "nteract": {
     "transient": {
      "deleting": false
     }
    }
   },
   "outputs": [
    {
     "data": {
      "application/vnd.livy.statement-meta+json": {
       "execution_finish_time": "2023-11-10T23:51:25.740828Z",
       "execution_start_time": "2023-11-10T23:51:25.4557352Z",
       "livy_statement_state": "available",
       "parent_msg_id": "d12f08c0-7981-4e1f-adde-b8d1a05163f1",
       "queued_time": "2023-11-10T23:51:25.2905147Z",
       "session_id": "36",
       "session_start_time": null,
       "spark_jobs": {
        "jobs": [],
        "limit": 20,
        "numbers": {
         "FAILED": 0,
         "RUNNING": 0,
         "SUCCEEDED": 0,
         "UNKNOWN": 0
        },
        "rule": "ALL_DESC"
       },
       "spark_pool": "9d2667d4-d95f-4c64-adf7-bfab734cf5c0",
       "state": "finished",
       "statement_id": 22
      },
      "text/plain": [
       "StatementMeta(9d2667d4-d95f-4c64-adf7-bfab734cf5c0, 36, 22, Finished, Available)"
      ]
     },
     "metadata": {},
     "output_type": "display_data"
    }
   ],
   "source": [
    "# Convert the DataFrame to long format\n",
    "df_long = missing_vals_pd.melt(var_name='Column', value_name='Missing Values')"
   ]
  },
  {
   "cell_type": "code",
   "execution_count": 18,
   "metadata": {
    "collapsed": false,
    "gather": {
     "logged": 1699660287888
    },
    "jupyter": {
     "outputs_hidden": false,
     "source_hidden": false
    },
    "nteract": {
     "transient": {
      "deleting": false
     }
    }
   },
   "outputs": [
    {
     "data": {
      "application/vnd.livy.statement-meta+json": {
       "execution_finish_time": "2023-11-10T23:51:27.7889231Z",
       "execution_start_time": "2023-11-10T23:51:27.4782382Z",
       "livy_statement_state": "available",
       "parent_msg_id": "8f64ea76-2f20-49bb-9840-c646972f2c2b",
       "queued_time": "2023-11-10T23:51:27.2721079Z",
       "session_id": "36",
       "session_start_time": null,
       "spark_jobs": {
        "jobs": [],
        "limit": 20,
        "numbers": {
         "FAILED": 0,
         "RUNNING": 0,
         "SUCCEEDED": 0,
         "UNKNOWN": 0
        },
        "rule": "ALL_DESC"
       },
       "spark_pool": "9d2667d4-d95f-4c64-adf7-bfab734cf5c0",
       "state": "finished",
       "statement_id": 23
      },
      "text/plain": [
       "StatementMeta(9d2667d4-d95f-4c64-adf7-bfab734cf5c0, 36, 23, Finished, Available)"
      ]
     },
     "metadata": {},
     "output_type": "display_data"
    },
    {
     "data": {
      "text/html": [
       "<div>\n",
       "<style scoped>\n",
       "    .dataframe tbody tr th:only-of-type {\n",
       "        vertical-align: middle;\n",
       "    }\n",
       "\n",
       "    .dataframe tbody tr th {\n",
       "        vertical-align: top;\n",
       "    }\n",
       "\n",
       "    .dataframe thead th {\n",
       "        text-align: right;\n",
       "    }\n",
       "</style>\n",
       "<table border=\"1\" class=\"dataframe\">\n",
       "  <thead>\n",
       "    <tr style=\"text-align: right;\">\n",
       "      <th></th>\n",
       "      <th>Column</th>\n",
       "      <th>Missing Values</th>\n",
       "    </tr>\n",
       "  </thead>\n",
       "  <tbody>\n",
       "    <tr>\n",
       "      <th>0</th>\n",
       "      <td>subreddit</td>\n",
       "      <td>0</td>\n",
       "    </tr>\n",
       "    <tr>\n",
       "      <th>1</th>\n",
       "      <td>author</td>\n",
       "      <td>0</td>\n",
       "    </tr>\n",
       "    <tr>\n",
       "      <th>2</th>\n",
       "      <td>title</td>\n",
       "      <td>0</td>\n",
       "    </tr>\n",
       "    <tr>\n",
       "      <th>3</th>\n",
       "      <td>selftext</td>\n",
       "      <td>0</td>\n",
       "    </tr>\n",
       "    <tr>\n",
       "      <th>4</th>\n",
       "      <td>created_utc</td>\n",
       "      <td>0</td>\n",
       "    </tr>\n",
       "    <tr>\n",
       "      <th>5</th>\n",
       "      <td>num_comments</td>\n",
       "      <td>0</td>\n",
       "    </tr>\n",
       "    <tr>\n",
       "      <th>6</th>\n",
       "      <td>score</td>\n",
       "      <td>0</td>\n",
       "    </tr>\n",
       "    <tr>\n",
       "      <th>7</th>\n",
       "      <td>over_18</td>\n",
       "      <td>0</td>\n",
       "    </tr>\n",
       "    <tr>\n",
       "      <th>8</th>\n",
       "      <td>media</td>\n",
       "      <td>892405</td>\n",
       "    </tr>\n",
       "    <tr>\n",
       "      <th>9</th>\n",
       "      <td>pinned</td>\n",
       "      <td>0</td>\n",
       "    </tr>\n",
       "    <tr>\n",
       "      <th>10</th>\n",
       "      <td>locked</td>\n",
       "      <td>0</td>\n",
       "    </tr>\n",
       "    <tr>\n",
       "      <th>11</th>\n",
       "      <td>disable_comments</td>\n",
       "      <td>1016968</td>\n",
       "    </tr>\n",
       "    <tr>\n",
       "      <th>12</th>\n",
       "      <td>domain</td>\n",
       "      <td>8952</td>\n",
       "    </tr>\n",
       "    <tr>\n",
       "      <th>13</th>\n",
       "      <td>hidden</td>\n",
       "      <td>0</td>\n",
       "    </tr>\n",
       "    <tr>\n",
       "      <th>14</th>\n",
       "      <td>distinguished</td>\n",
       "      <td>1015530</td>\n",
       "    </tr>\n",
       "    <tr>\n",
       "      <th>15</th>\n",
       "      <td>hide_score</td>\n",
       "      <td>0</td>\n",
       "    </tr>\n",
       "  </tbody>\n",
       "</table>\n",
       "</div>"
      ],
      "text/plain": [
       "              Column  Missing Values\n",
       "0          subreddit               0\n",
       "1             author               0\n",
       "2              title               0\n",
       "3           selftext               0\n",
       "4        created_utc               0\n",
       "5       num_comments               0\n",
       "6              score               0\n",
       "7            over_18               0\n",
       "8              media          892405\n",
       "9             pinned               0\n",
       "10            locked               0\n",
       "11  disable_comments         1016968\n",
       "12            domain            8952\n",
       "13            hidden               0\n",
       "14     distinguished         1015530\n",
       "15        hide_score               0"
      ]
     },
     "execution_count": 45,
     "metadata": {},
     "output_type": "execute_result"
    }
   ],
   "source": [
    "df_long"
   ]
  },
  {
   "cell_type": "code",
   "execution_count": 20,
   "metadata": {
    "collapsed": false,
    "gather": {
     "logged": 1699660345651
    },
    "jupyter": {
     "outputs_hidden": false,
     "source_hidden": false
    },
    "nteract": {
     "transient": {
      "deleting": false
     }
    }
   },
   "outputs": [
    {
     "data": {
      "application/vnd.livy.statement-meta+json": {
       "execution_finish_time": "2023-11-10T23:52:25.5627963Z",
       "execution_start_time": "2023-11-10T23:52:25.2730375Z",
       "livy_statement_state": "available",
       "parent_msg_id": "8e35439a-4dd6-44f3-bd6f-05453cfdc4f5",
       "queued_time": "2023-11-10T23:52:25.143277Z",
       "session_id": "36",
       "session_start_time": null,
       "spark_jobs": {
        "jobs": [],
        "limit": 20,
        "numbers": {
         "FAILED": 0,
         "RUNNING": 0,
         "SUCCEEDED": 0,
         "UNKNOWN": 0
        },
        "rule": "ALL_DESC"
       },
       "spark_pool": "9d2667d4-d95f-4c64-adf7-bfab734cf5c0",
       "state": "finished",
       "statement_id": 25
      },
      "text/plain": [
       "StatementMeta(9d2667d4-d95f-4c64-adf7-bfab734cf5c0, 36, 25, Finished, Available)"
      ]
     },
     "metadata": {},
     "output_type": "display_data"
    }
   ],
   "source": [
    "df_long.to_csv(f\"{CSV_DIR}/num_missing_val.csv\", index=False)"
   ]
  },
  {
   "cell_type": "markdown",
   "metadata": {
    "nteract": {
     "transient": {
      "deleting": false
     }
    }
   },
   "source": [
    "### Feature Engineering"
   ]
  },
  {
   "cell_type": "markdown",
   "metadata": {
    "nteract": {
     "transient": {
      "deleting": false
     }
    }
   },
   "source": [
    "Counting the length of the posted submission:"
   ]
  },
  {
   "cell_type": "code",
   "execution_count": 19,
   "metadata": {
    "collapsed": false,
    "gather": {
     "logged": 1699670188168
    },
    "jupyter": {
     "outputs_hidden": false,
     "source_hidden": false
    },
    "nteract": {
     "transient": {
      "deleting": false
     }
    }
   },
   "outputs": [
    {
     "data": {
      "application/vnd.livy.statement-meta+json": {
       "execution_finish_time": "2023-11-11T02:36:27.8402218Z",
       "execution_start_time": "2023-11-11T02:36:27.5473973Z",
       "livy_statement_state": "available",
       "parent_msg_id": "cf4e0594-ed2d-41fa-8e8b-8b7e2100c9d3",
       "queued_time": "2023-11-11T02:36:27.4434963Z",
       "session_id": "47",
       "session_start_time": null,
       "spark_jobs": {
        "jobs": [],
        "limit": 20,
        "numbers": {
         "FAILED": 0,
         "RUNNING": 0,
         "SUCCEEDED": 0,
         "UNKNOWN": 0
        },
        "rule": "ALL_DESC"
       },
       "spark_pool": "9d2667d4-d95f-4c64-adf7-bfab734cf5c0",
       "state": "finished",
       "statement_id": 24
      },
      "text/plain": [
       "StatementMeta(9d2667d4-d95f-4c64-adf7-bfab734cf5c0, 47, 24, Finished, Available)"
      ]
     },
     "metadata": {},
     "output_type": "display_data"
    }
   ],
   "source": [
    "# calculate post length\n",
    "df = df.withColumn('post_length', length(df.title) + length(df.selftext))"
   ]
  },
  {
   "cell_type": "markdown",
   "metadata": {
    "nteract": {
     "transient": {
      "deleting": false
     }
    }
   },
   "source": [
    "Extracting meaningful information from datetime column:"
   ]
  },
  {
   "cell_type": "code",
   "execution_count": 20,
   "metadata": {
    "collapsed": false,
    "gather": {
     "logged": 1699670189211
    },
    "jupyter": {
     "outputs_hidden": false,
     "source_hidden": false
    },
    "nteract": {
     "transient": {
      "deleting": false
     }
    }
   },
   "outputs": [
    {
     "data": {
      "application/vnd.livy.statement-meta+json": {
       "execution_finish_time": "2023-11-11T02:36:28.7629658Z",
       "execution_start_time": "2023-11-11T02:36:27.9436395Z",
       "livy_statement_state": "available",
       "parent_msg_id": "41305946-9415-438c-8675-d19217219b21",
       "queued_time": "2023-11-11T02:36:27.785642Z",
       "session_id": "47",
       "session_start_time": null,
       "spark_jobs": {
        "jobs": [],
        "limit": 20,
        "numbers": {
         "FAILED": 0,
         "RUNNING": 0,
         "SUCCEEDED": 0,
         "UNKNOWN": 0
        },
        "rule": "ALL_DESC"
       },
       "spark_pool": "9d2667d4-d95f-4c64-adf7-bfab734cf5c0",
       "state": "finished",
       "statement_id": 25
      },
      "text/plain": [
       "StatementMeta(9d2667d4-d95f-4c64-adf7-bfab734cf5c0, 47, 25, Finished, Available)"
      ]
     },
     "metadata": {},
     "output_type": "display_data"
    }
   ],
   "source": [
    "# convert to datetime\n",
    "df = df.withColumn('created_utc', F.to_timestamp('created_utc'))\n",
    "\n",
    "# Extract time-based features\n",
    "df = df.withColumn('hour_of_day', F.hour('created_utc'))\n",
    "df = df.withColumn('day_of_week', F.dayofweek('created_utc'))  # 1 (Sunday) to 7 (Saturday)\n",
    "# Map each day of the week from numeric to string\n",
    "df = df.withColumn('day_of_week_str', F.expr(\"\"\"\n",
    "    CASE day_of_week \n",
    "        WHEN 1 THEN 'Sunday'\n",
    "        WHEN 2 THEN 'Monday'\n",
    "        WHEN 3 THEN 'Tuesday'\n",
    "        WHEN 4 THEN 'Wednesday'\n",
    "        WHEN 5 THEN 'Thursday'\n",
    "        WHEN 6 THEN 'Friday'\n",
    "        WHEN 7 THEN 'Saturday'\n",
    "    END\n",
    "\"\"\"))\n",
    "df = df.withColumn('day_of_month', F.dayofmonth('created_utc'))\n",
    "df = df.withColumn('month', F.month('created_utc'))\n",
    "df = df.withColumn('year', F.year('created_utc'))"
   ]
  },
  {
   "cell_type": "markdown",
   "metadata": {
    "nteract": {
     "transient": {
      "deleting": false
     }
    }
   },
   "source": [
    "Converting media column to boolean:"
   ]
  },
  {
   "cell_type": "code",
   "execution_count": 21,
   "metadata": {
    "collapsed": false,
    "gather": {
     "logged": 1699670189611
    },
    "jupyter": {
     "outputs_hidden": false,
     "source_hidden": false
    },
    "nteract": {
     "transient": {
      "deleting": false
     }
    }
   },
   "outputs": [
    {
     "data": {
      "application/vnd.livy.statement-meta+json": {
       "execution_finish_time": "2023-11-11T02:36:29.1683499Z",
       "execution_start_time": "2023-11-11T02:36:28.8551881Z",
       "livy_statement_state": "available",
       "parent_msg_id": "fe43b210-87be-43eb-95d5-13fe108a54d5",
       "queued_time": "2023-11-11T02:36:28.2598224Z",
       "session_id": "47",
       "session_start_time": null,
       "spark_jobs": {
        "jobs": [],
        "limit": 20,
        "numbers": {
         "FAILED": 0,
         "RUNNING": 0,
         "SUCCEEDED": 0,
         "UNKNOWN": 0
        },
        "rule": "ALL_DESC"
       },
       "spark_pool": "9d2667d4-d95f-4c64-adf7-bfab734cf5c0",
       "state": "finished",
       "statement_id": 26
      },
      "text/plain": [
       "StatementMeta(9d2667d4-d95f-4c64-adf7-bfab734cf5c0, 47, 26, Finished, Available)"
      ]
     },
     "metadata": {},
     "output_type": "display_data"
    }
   ],
   "source": [
    "# convert missing values to False\n",
    "df = df.withColumn('has_media', F.col('media').isNotNull())"
   ]
  },
  {
   "cell_type": "code",
   "execution_count": 22,
   "metadata": {
    "collapsed": false,
    "gather": {
     "logged": 1699670217915
    },
    "jupyter": {
     "outputs_hidden": false,
     "source_hidden": false
    },
    "nteract": {
     "transient": {
      "deleting": false
     }
    }
   },
   "outputs": [
    {
     "data": {
      "application/vnd.livy.statement-meta+json": {
       "execution_finish_time": "2023-11-11T02:36:57.6589366Z",
       "execution_start_time": "2023-11-11T02:36:57.3741298Z",
       "livy_statement_state": "available",
       "parent_msg_id": "ab9001cb-eca8-4696-9f13-968183c6c434",
       "queued_time": "2023-11-11T02:36:57.2840099Z",
       "session_id": "47",
       "session_start_time": null,
       "spark_jobs": {
        "jobs": [],
        "limit": 20,
        "numbers": {
         "FAILED": 0,
         "RUNNING": 0,
         "SUCCEEDED": 0,
         "UNKNOWN": 0
        },
        "rule": "ALL_DESC"
       },
       "spark_pool": "9d2667d4-d95f-4c64-adf7-bfab734cf5c0",
       "state": "finished",
       "statement_id": 27
      },
      "text/plain": [
       "StatementMeta(9d2667d4-d95f-4c64-adf7-bfab734cf5c0, 47, 27, Finished, Available)"
      ]
     },
     "metadata": {},
     "output_type": "display_data"
    }
   ],
   "source": [
    "# drop unnecessary columns\n",
    "df = df.drop(*[\"media\", \"created_utc\", \"disable_comments\", \"distinguished\"])"
   ]
  },
  {
   "cell_type": "code",
   "execution_count": 23,
   "metadata": {
    "collapsed": false,
    "gather": {
     "logged": 1699670220119
    },
    "jupyter": {
     "outputs_hidden": false,
     "source_hidden": false
    },
    "nteract": {
     "transient": {
      "deleting": false
     }
    }
   },
   "outputs": [
    {
     "data": {
      "application/vnd.livy.statement-meta+json": {
       "execution_finish_time": "2023-11-11T02:36:59.9483238Z",
       "execution_start_time": "2023-11-11T02:36:59.6536652Z",
       "livy_statement_state": "available",
       "parent_msg_id": "beac504a-bc49-4f7a-b1b7-c769ceadf377",
       "queued_time": "2023-11-11T02:36:59.2989065Z",
       "session_id": "47",
       "session_start_time": null,
       "spark_jobs": {
        "jobs": [],
        "limit": 20,
        "numbers": {
         "FAILED": 0,
         "RUNNING": 0,
         "SUCCEEDED": 0,
         "UNKNOWN": 0
        },
        "rule": "ALL_DESC"
       },
       "spark_pool": "9d2667d4-d95f-4c64-adf7-bfab734cf5c0",
       "state": "finished",
       "statement_id": 28
      },
      "text/plain": [
       "StatementMeta(9d2667d4-d95f-4c64-adf7-bfab734cf5c0, 47, 28, Finished, Available)"
      ]
     },
     "metadata": {},
     "output_type": "display_data"
    },
    {
     "name": "stdout",
     "output_type": "stream",
     "text": [
      "root\n",
      " |-- subreddit: string (nullable = true)\n",
      " |-- author: string (nullable = true)\n",
      " |-- title: string (nullable = true)\n",
      " |-- selftext: string (nullable = true)\n",
      " |-- num_comments: long (nullable = true)\n",
      " |-- score: long (nullable = true)\n",
      " |-- over_18: boolean (nullable = true)\n",
      " |-- pinned: boolean (nullable = true)\n",
      " |-- locked: boolean (nullable = true)\n",
      " |-- domain: string (nullable = true)\n",
      " |-- hidden: boolean (nullable = true)\n",
      " |-- hide_score: boolean (nullable = true)\n",
      " |-- post_length: integer (nullable = true)\n",
      " |-- hour_of_day: integer (nullable = true)\n",
      " |-- day_of_week: integer (nullable = true)\n",
      " |-- day_of_week_str: string (nullable = true)\n",
      " |-- day_of_month: integer (nullable = true)\n",
      " |-- month: integer (nullable = true)\n",
      " |-- year: integer (nullable = true)\n",
      " |-- has_media: boolean (nullable = false)\n",
      "\n"
     ]
    }
   ],
   "source": [
    "df.printSchema()"
   ]
  },
  {
   "cell_type": "markdown",
   "metadata": {
    "nteract": {
     "transient": {
      "deleting": false
     }
    }
   },
   "source": [
    "## Read CSVs exported from the Spark Job"
   ]
  },
  {
   "cell_type": "code",
   "execution_count": 11,
   "metadata": {
    "collapsed": false,
    "gather": {
     "logged": 1699669147149
    },
    "jupyter": {
     "outputs_hidden": false,
     "source_hidden": false
    },
    "nteract": {
     "transient": {
      "deleting": false
     }
    }
   },
   "outputs": [
    {
     "data": {
      "application/vnd.livy.statement-meta+json": {
       "execution_finish_time": "2023-11-11T02:19:06.9043178Z",
       "execution_start_time": "2023-11-11T02:18:50.4576387Z",
       "livy_statement_state": "available",
       "parent_msg_id": "40550176-9985-4677-bd7b-2e65e25a6dba",
       "queued_time": "2023-11-11T02:18:50.3648965Z",
       "session_id": "47",
       "session_start_time": null,
       "spark_jobs": {
        "jobs": [
         {
          "completionTime": "2023-11-11T02:19:05.498GMT",
          "dataRead": 866653,
          "dataWritten": 0,
          "description": "Job group for statement 16:\n# Define the path to your CSV file\ncsv_file_path_1 = f\"{datastore}csv/subreddit_count_eda.csv\"\ncsv_file_path_2 = f\"{datastore}csv/num_missing_val_eda.csv\"\ncsv_file_path_3 = f\"{datastore}csv/datetime_counts_eda.csv\"\n\n# Read the CSV file using PySpark\ndf_subreddit_count = spark.read.csv(csv_file_path_1, header=True, inferSchema=True)\ndf_num_missing = spark.read.csv(csv_file_path_2, header=True, inferSchema=True)\ndf_datetime = spark.read.csv(csv_file_path_3, header=True, inferSchema=True)",
          "displayName": "csv at NativeMethodAccessorImpl.java:0",
          "jobGroup": "16",
          "jobId": 9,
          "killedTasksSummary": {},
          "name": "csv at NativeMethodAccessorImpl.java:0",
          "numActiveStages": 0,
          "numActiveTasks": 0,
          "numCompletedIndices": 7,
          "numCompletedStages": 1,
          "numCompletedTasks": 7,
          "numFailedStages": 0,
          "numFailedTasks": 0,
          "numKilledTasks": 0,
          "numSkippedStages": 0,
          "numSkippedTasks": 0,
          "numTasks": 7,
          "rowCount": 26173,
          "stageIds": [
           9
          ],
          "status": "SUCCEEDED",
          "submissionTime": "2023-11-11T02:19:03.484GMT",
          "usageDescription": ""
         },
         {
          "completionTime": "2023-11-11T02:19:03.393GMT",
          "dataRead": 65536,
          "dataWritten": 0,
          "description": "Job group for statement 16:\n# Define the path to your CSV file\ncsv_file_path_1 = f\"{datastore}csv/subreddit_count_eda.csv\"\ncsv_file_path_2 = f\"{datastore}csv/num_missing_val_eda.csv\"\ncsv_file_path_3 = f\"{datastore}csv/datetime_counts_eda.csv\"\n\n# Read the CSV file using PySpark\ndf_subreddit_count = spark.read.csv(csv_file_path_1, header=True, inferSchema=True)\ndf_num_missing = spark.read.csv(csv_file_path_2, header=True, inferSchema=True)\ndf_datetime = spark.read.csv(csv_file_path_3, header=True, inferSchema=True)",
          "displayName": "csv at NativeMethodAccessorImpl.java:0",
          "jobGroup": "16",
          "jobId": 8,
          "killedTasksSummary": {},
          "name": "csv at NativeMethodAccessorImpl.java:0",
          "numActiveStages": 0,
          "numActiveTasks": 0,
          "numCompletedIndices": 1,
          "numCompletedStages": 1,
          "numCompletedTasks": 1,
          "numFailedStages": 0,
          "numFailedTasks": 0,
          "numKilledTasks": 0,
          "numSkippedStages": 0,
          "numSkippedTasks": 0,
          "numTasks": 1,
          "rowCount": 1,
          "stageIds": [
           8
          ],
          "status": "SUCCEEDED",
          "submissionTime": "2023-11-11T02:19:03.176GMT",
          "usageDescription": ""
         },
         {
          "completionTime": "2023-11-11T02:19:02.675GMT",
          "dataRead": 199,
          "dataWritten": 0,
          "description": "Job group for statement 16:\n# Define the path to your CSV file\ncsv_file_path_1 = f\"{datastore}csv/subreddit_count_eda.csv\"\ncsv_file_path_2 = f\"{datastore}csv/num_missing_val_eda.csv\"\ncsv_file_path_3 = f\"{datastore}csv/datetime_counts_eda.csv\"\n\n# Read the CSV file using PySpark\ndf_subreddit_count = spark.read.csv(csv_file_path_1, header=True, inferSchema=True)\ndf_num_missing = spark.read.csv(csv_file_path_2, header=True, inferSchema=True)\ndf_datetime = spark.read.csv(csv_file_path_3, header=True, inferSchema=True)",
          "displayName": "csv at NativeMethodAccessorImpl.java:0",
          "jobGroup": "16",
          "jobId": 7,
          "killedTasksSummary": {},
          "name": "csv at NativeMethodAccessorImpl.java:0",
          "numActiveStages": 0,
          "numActiveTasks": 0,
          "numCompletedIndices": 1,
          "numCompletedStages": 1,
          "numCompletedTasks": 1,
          "numFailedStages": 0,
          "numFailedTasks": 0,
          "numKilledTasks": 0,
          "numSkippedStages": 0,
          "numSkippedTasks": 0,
          "numTasks": 1,
          "rowCount": 2,
          "stageIds": [
           7
          ],
          "status": "SUCCEEDED",
          "submissionTime": "2023-11-11T02:19:00.389GMT",
          "usageDescription": ""
         },
         {
          "completionTime": "2023-11-11T02:19:00.282GMT",
          "dataRead": 199,
          "dataWritten": 0,
          "description": "Job group for statement 16:\n# Define the path to your CSV file\ncsv_file_path_1 = f\"{datastore}csv/subreddit_count_eda.csv\"\ncsv_file_path_2 = f\"{datastore}csv/num_missing_val_eda.csv\"\ncsv_file_path_3 = f\"{datastore}csv/datetime_counts_eda.csv\"\n\n# Read the CSV file using PySpark\ndf_subreddit_count = spark.read.csv(csv_file_path_1, header=True, inferSchema=True)\ndf_num_missing = spark.read.csv(csv_file_path_2, header=True, inferSchema=True)\ndf_datetime = spark.read.csv(csv_file_path_3, header=True, inferSchema=True)",
          "displayName": "csv at NativeMethodAccessorImpl.java:0",
          "jobGroup": "16",
          "jobId": 6,
          "killedTasksSummary": {},
          "name": "csv at NativeMethodAccessorImpl.java:0",
          "numActiveStages": 0,
          "numActiveTasks": 0,
          "numCompletedIndices": 1,
          "numCompletedStages": 1,
          "numCompletedTasks": 1,
          "numFailedStages": 0,
          "numFailedTasks": 0,
          "numKilledTasks": 0,
          "numSkippedStages": 0,
          "numSkippedTasks": 0,
          "numTasks": 1,
          "rowCount": 1,
          "stageIds": [
           6
          ],
          "status": "SUCCEEDED",
          "submissionTime": "2023-11-11T02:19:00.019GMT",
          "usageDescription": ""
         },
         {
          "completionTime": "2023-11-11T02:18:59.747GMT",
          "dataRead": 129,
          "dataWritten": 0,
          "description": "Job group for statement 16:\n# Define the path to your CSV file\ncsv_file_path_1 = f\"{datastore}csv/subreddit_count_eda.csv\"\ncsv_file_path_2 = f\"{datastore}csv/num_missing_val_eda.csv\"\ncsv_file_path_3 = f\"{datastore}csv/datetime_counts_eda.csv\"\n\n# Read the CSV file using PySpark\ndf_subreddit_count = spark.read.csv(csv_file_path_1, header=True, inferSchema=True)\ndf_num_missing = spark.read.csv(csv_file_path_2, header=True, inferSchema=True)\ndf_datetime = spark.read.csv(csv_file_path_3, header=True, inferSchema=True)",
          "displayName": "csv at NativeMethodAccessorImpl.java:0",
          "jobGroup": "16",
          "jobId": 5,
          "killedTasksSummary": {},
          "name": "csv at NativeMethodAccessorImpl.java:0",
          "numActiveStages": 0,
          "numActiveTasks": 0,
          "numCompletedIndices": 1,
          "numCompletedStages": 1,
          "numCompletedTasks": 1,
          "numFailedStages": 0,
          "numFailedTasks": 0,
          "numKilledTasks": 0,
          "numSkippedStages": 0,
          "numSkippedTasks": 0,
          "numTasks": 1,
          "rowCount": 7,
          "stageIds": [
           5
          ],
          "status": "SUCCEEDED",
          "submissionTime": "2023-11-11T02:18:51.273GMT",
          "usageDescription": ""
         },
         {
          "completionTime": "2023-11-11T02:18:51.179GMT",
          "dataRead": 129,
          "dataWritten": 0,
          "description": "Job group for statement 16:\n# Define the path to your CSV file\ncsv_file_path_1 = f\"{datastore}csv/subreddit_count_eda.csv\"\ncsv_file_path_2 = f\"{datastore}csv/num_missing_val_eda.csv\"\ncsv_file_path_3 = f\"{datastore}csv/datetime_counts_eda.csv\"\n\n# Read the CSV file using PySpark\ndf_subreddit_count = spark.read.csv(csv_file_path_1, header=True, inferSchema=True)\ndf_num_missing = spark.read.csv(csv_file_path_2, header=True, inferSchema=True)\ndf_datetime = spark.read.csv(csv_file_path_3, header=True, inferSchema=True)",
          "displayName": "csv at NativeMethodAccessorImpl.java:0",
          "jobGroup": "16",
          "jobId": 4,
          "killedTasksSummary": {},
          "name": "csv at NativeMethodAccessorImpl.java:0",
          "numActiveStages": 0,
          "numActiveTasks": 0,
          "numCompletedIndices": 1,
          "numCompletedStages": 1,
          "numCompletedTasks": 1,
          "numFailedStages": 0,
          "numFailedTasks": 0,
          "numKilledTasks": 0,
          "numSkippedStages": 0,
          "numSkippedTasks": 0,
          "numTasks": 1,
          "rowCount": 1,
          "stageIds": [
           4
          ],
          "status": "SUCCEEDED",
          "submissionTime": "2023-11-11T02:18:50.953GMT",
          "usageDescription": ""
         }
        ],
        "limit": 20,
        "numbers": {
         "FAILED": 0,
         "RUNNING": 0,
         "SUCCEEDED": 6,
         "UNKNOWN": 0
        },
        "rule": "ALL_DESC"
       },
       "spark_pool": "9d2667d4-d95f-4c64-adf7-bfab734cf5c0",
       "state": "finished",
       "statement_id": 16
      },
      "text/plain": [
       "StatementMeta(9d2667d4-d95f-4c64-adf7-bfab734cf5c0, 47, 16, Finished, Available)"
      ]
     },
     "metadata": {},
     "output_type": "display_data"
    }
   ],
   "source": [
    "# Define the path to your CSV file\n",
    "csv_file_path_1 = f\"{datastore}csv/subreddit_count_eda.csv\"\n",
    "csv_file_path_2 = f\"{datastore}csv/num_missing_val_eda.csv\"\n",
    "csv_file_path_3 = f\"{datastore}csv/datetime_counts_eda.csv\"\n",
    "\n",
    "# Read the CSV file using PySpark\n",
    "df_subreddit_count = spark.read.csv(csv_file_path_1, header=True, inferSchema=True)\n",
    "df_num_missing = spark.read.csv(csv_file_path_2, header=True, inferSchema=True)\n",
    "df_datetime = spark.read.csv(csv_file_path_3, header=True, inferSchema=True)"
   ]
  },
  {
   "cell_type": "code",
   "execution_count": 12,
   "metadata": {
    "collapsed": false,
    "gather": {
     "logged": 1699669157316
    },
    "jupyter": {
     "outputs_hidden": false,
     "source_hidden": false
    },
    "nteract": {
     "transient": {
      "deleting": false
     }
    }
   },
   "outputs": [
    {
     "data": {
      "application/vnd.livy.statement-meta+json": {
       "execution_finish_time": "2023-11-11T02:19:17.1451544Z",
       "execution_start_time": "2023-11-11T02:19:13.6591358Z",
       "livy_statement_state": "available",
       "parent_msg_id": "8bfb86f0-2958-42b8-bfd0-1ca3355fb7b3",
       "queued_time": "2023-11-11T02:19:13.565377Z",
       "session_id": "47",
       "session_start_time": null,
       "spark_jobs": {
        "jobs": [
         {
          "completionTime": "2023-11-11T02:19:15.959GMT",
          "dataRead": 866653,
          "dataWritten": 0,
          "description": "Job group for statement 17:\ndf_subreddit_count_pd = df_subreddit_count.toPandas()\ndf_num_missing_pd = df_num_missing.toPandas()\ndf_datetime_pd = df_datetime.toPandas()",
          "displayName": "toPandas at /tmp/ipykernel_6333/1124625825.py:3",
          "jobGroup": "17",
          "jobId": 12,
          "killedTasksSummary": {},
          "name": "toPandas at /tmp/ipykernel_6333/1124625825.py:3",
          "numActiveStages": 0,
          "numActiveTasks": 0,
          "numCompletedIndices": 7,
          "numCompletedStages": 1,
          "numCompletedTasks": 7,
          "numFailedStages": 0,
          "numFailedTasks": 0,
          "numKilledTasks": 0,
          "numSkippedStages": 0,
          "numSkippedTasks": 0,
          "numTasks": 7,
          "rowCount": 26166,
          "stageIds": [
           12
          ],
          "status": "SUCCEEDED",
          "submissionTime": "2023-11-11T02:19:14.989GMT",
          "usageDescription": ""
         },
         {
          "completionTime": "2023-11-11T02:19:14.849GMT",
          "dataRead": 199,
          "dataWritten": 0,
          "description": "Job group for statement 17:\ndf_subreddit_count_pd = df_subreddit_count.toPandas()\ndf_num_missing_pd = df_num_missing.toPandas()\ndf_datetime_pd = df_datetime.toPandas()",
          "displayName": "toPandas at /tmp/ipykernel_6333/1124625825.py:2",
          "jobGroup": "17",
          "jobId": 11,
          "killedTasksSummary": {},
          "name": "toPandas at /tmp/ipykernel_6333/1124625825.py:2",
          "numActiveStages": 0,
          "numActiveTasks": 0,
          "numCompletedIndices": 1,
          "numCompletedStages": 1,
          "numCompletedTasks": 1,
          "numFailedStages": 0,
          "numFailedTasks": 0,
          "numKilledTasks": 0,
          "numSkippedStages": 0,
          "numSkippedTasks": 0,
          "numTasks": 1,
          "rowCount": 1,
          "stageIds": [
           11
          ],
          "status": "SUCCEEDED",
          "submissionTime": "2023-11-11T02:19:14.567GMT",
          "usageDescription": ""
         },
         {
          "completionTime": "2023-11-11T02:19:14.316GMT",
          "dataRead": 129,
          "dataWritten": 0,
          "description": "Job group for statement 17:\ndf_subreddit_count_pd = df_subreddit_count.toPandas()\ndf_num_missing_pd = df_num_missing.toPandas()\ndf_datetime_pd = df_datetime.toPandas()",
          "displayName": "toPandas at /tmp/ipykernel_6333/1124625825.py:1",
          "jobGroup": "17",
          "jobId": 10,
          "killedTasksSummary": {},
          "name": "toPandas at /tmp/ipykernel_6333/1124625825.py:1",
          "numActiveStages": 0,
          "numActiveTasks": 0,
          "numCompletedIndices": 1,
          "numCompletedStages": 1,
          "numCompletedTasks": 1,
          "numFailedStages": 0,
          "numFailedTasks": 0,
          "numKilledTasks": 0,
          "numSkippedStages": 0,
          "numSkippedTasks": 0,
          "numTasks": 1,
          "rowCount": 6,
          "stageIds": [
           10
          ],
          "status": "SUCCEEDED",
          "submissionTime": "2023-11-11T02:19:13.750GMT",
          "usageDescription": ""
         }
        ],
        "limit": 20,
        "numbers": {
         "FAILED": 0,
         "RUNNING": 0,
         "SUCCEEDED": 3,
         "UNKNOWN": 0
        },
        "rule": "ALL_DESC"
       },
       "spark_pool": "9d2667d4-d95f-4c64-adf7-bfab734cf5c0",
       "state": "finished",
       "statement_id": 17
      },
      "text/plain": [
       "StatementMeta(9d2667d4-d95f-4c64-adf7-bfab734cf5c0, 47, 17, Finished, Available)"
      ]
     },
     "metadata": {},
     "output_type": "display_data"
    }
   ],
   "source": [
    "df_subreddit_count_pd = df_subreddit_count.toPandas()\n",
    "df_num_missing_pd = df_num_missing.toPandas()\n",
    "df_datetime_pd = df_datetime.toPandas()"
   ]
  }
 ],
 "metadata": {
  "kernel_info": {
   "name": "synapse_pyspark"
  },
  "kernelspec": {
   "display_name": "Synapse PySpark",
   "language": "Python",
   "name": "synapse_pyspark"
  },
  "language_info": {
   "codemirror_mode": "ipython",
   "file_extension": ".py",
   "mimetype": "text/x-python",
   "name": "python",
   "nbconvert_exporter": "python",
   "pygments_lexer": "ipython",
   "version": "3.8.0"
  },
  "microsoft": {
   "host": {
    "AzureML": {
     "notebookHasBeenCompleted": true
    }
   },
   "ms_spell_check": {
    "ms_spell_check_language": "en"
   }
  },
  "nteract": {
   "version": "nteract-front-end@1.0.0"
  }
 },
 "nbformat": 4,
 "nbformat_minor": 4
}
