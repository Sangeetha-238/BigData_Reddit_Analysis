{
  "cells": [
    {
      "cell_type": "code",
      "source": [
        "spark"
      ],
      "outputs": [
        {
          "output_type": "display_data",
          "data": {
            "application/vnd.livy.statement-meta+json": {
              "spark_pool": "9d2667d4-d95f-4c64-adf7-bfab734cf5c0",
              "session_id": "47",
              "statement_id": 6,
              "state": "finished",
              "livy_statement_state": "available",
              "queued_time": "2023-11-11T02:08:29.7724627Z",
              "session_start_time": "2023-11-11T02:08:29.810368Z",
              "execution_start_time": "2023-11-11T02:09:24.6740498Z",
              "execution_finish_time": "2023-11-11T02:09:25.0252775Z",
              "spark_jobs": {
                "numbers": {
                  "FAILED": 0,
                  "SUCCEEDED": 0,
                  "RUNNING": 0,
                  "UNKNOWN": 0
                },
                "jobs": [],
                "limit": 20,
                "rule": "ALL_DESC"
              },
              "parent_msg_id": "7e6fe071-d3fd-43f6-acf1-b2df8071ba2c"
            },
            "text/plain": "StatementMeta(9d2667d4-d95f-4c64-adf7-bfab734cf5c0, 47, 6, Finished, Available)"
          },
          "metadata": {}
        },
        {
          "output_type": "execute_result",
          "execution_count": 11,
          "data": {
            "text/plain": "<pyspark.sql.session.SparkSession at 0x7fd12a2198e0>",
            "text/html": "\n            <div>\n                <p><b>SparkSession - hive</b></p>\n                \n        <div>\n            <p><b>SparkContext</b></p>\n\n            <p><a href=\"http://vm-63d98416:33051\">Spark UI</a></p>\n\n            <dl>\n              <dt>Version</dt>\n                <dd><code>v3.2.2.5.1-100879434</code></dd>\n              <dt>Master</dt>\n                <dd><code>yarn</code></dd>\n              <dt>AppName</dt>\n                <dd><code>Azure ML Experiment</code></dd>\n            </dl>\n        </div>\n        \n            </div>\n        "
          },
          "metadata": {}
        }
      ],
      "execution_count": 1,
      "metadata": {
        "gather": {
          "logged": 1699668565223
        }
      }
    },
    {
      "cell_type": "code",
      "source": [
        "spark.conf.set(\"spark.sql.execution.arrow.pyspark.enabled\", \"false\")"
      ],
      "outputs": [
        {
          "output_type": "display_data",
          "data": {
            "application/vnd.livy.statement-meta+json": {
              "spark_pool": "9d2667d4-d95f-4c64-adf7-bfab734cf5c0",
              "session_id": "47",
              "statement_id": 20,
              "state": "finished",
              "livy_statement_state": "available",
              "queued_time": "2023-11-11T02:35:58.4766209Z",
              "session_start_time": null,
              "execution_start_time": "2023-11-11T02:35:58.5940576Z",
              "execution_finish_time": "2023-11-11T02:35:58.8875309Z",
              "spark_jobs": {
                "numbers": {
                  "FAILED": 0,
                  "SUCCEEDED": 0,
                  "RUNNING": 0,
                  "UNKNOWN": 0
                },
                "jobs": [],
                "limit": 20,
                "rule": "ALL_DESC"
              },
              "parent_msg_id": "ed51c650-6470-4bad-b267-467503e65180"
            },
            "text/plain": "StatementMeta(9d2667d4-d95f-4c64-adf7-bfab734cf5c0, 47, 20, Finished, Available)"
          },
          "metadata": {}
        }
      ],
      "execution_count": 15,
      "metadata": {
        "jupyter": {
          "source_hidden": false,
          "outputs_hidden": false
        },
        "nteract": {
          "transient": {
            "deleting": false
          }
        },
        "gather": {
          "logged": 1699670159194
        }
      }
    },
    {
      "cell_type": "markdown",
      "source": [
        "## Read Data"
      ],
      "metadata": {
        "nteract": {
          "transient": {
            "deleting": false
          }
        }
      }
    },
    {
      "cell_type": "code",
      "source": [
        "datastore = 'azureml://datastores/workspaceblobstore/paths/'"
      ],
      "outputs": [
        {
          "output_type": "display_data",
          "data": {
            "application/vnd.livy.statement-meta+json": {
              "spark_pool": "9d2667d4-d95f-4c64-adf7-bfab734cf5c0",
              "session_id": "47",
              "statement_id": 21,
              "state": "finished",
              "livy_statement_state": "available",
              "queued_time": "2023-11-11T02:36:00.8140438Z",
              "session_start_time": null,
              "execution_start_time": "2023-11-11T02:36:00.9096482Z",
              "execution_finish_time": "2023-11-11T02:36:01.183224Z",
              "spark_jobs": {
                "numbers": {
                  "FAILED": 0,
                  "SUCCEEDED": 0,
                  "RUNNING": 0,
                  "UNKNOWN": 0
                },
                "jobs": [],
                "limit": 20,
                "rule": "ALL_DESC"
              },
              "parent_msg_id": "d4fb8fbe-e61d-416d-8526-8408cd5bc3ed"
            },
            "text/plain": "StatementMeta(9d2667d4-d95f-4c64-adf7-bfab734cf5c0, 47, 21, Finished, Available)"
          },
          "metadata": {}
        }
      ],
      "execution_count": 16,
      "metadata": {
        "jupyter": {
          "source_hidden": false,
          "outputs_hidden": false
        },
        "nteract": {
          "transient": {
            "deleting": false
          }
        },
        "gather": {
          "logged": 1699670161495
        }
      }
    },
    {
      "cell_type": "code",
      "source": [
        "submissions_path = 'filtered-submissions'\n",
        "submissions_df = spark.read.parquet(f\"{datastore}{submissions_path}\")"
      ],
      "outputs": [
        {
          "output_type": "display_data",
          "data": {
            "application/vnd.livy.statement-meta+json": {
              "spark_pool": "9d2667d4-d95f-4c64-adf7-bfab734cf5c0",
              "session_id": "47",
              "statement_id": 22,
              "state": "finished",
              "livy_statement_state": "available",
              "queued_time": "2023-11-11T02:36:00.8151872Z",
              "session_start_time": null,
              "execution_start_time": "2023-11-11T02:36:01.2824936Z",
              "execution_finish_time": "2023-11-11T02:36:04.7056395Z",
              "spark_jobs": {
                "numbers": {
                  "FAILED": 0,
                  "SUCCEEDED": 1,
                  "RUNNING": 0,
                  "UNKNOWN": 0
                },
                "jobs": [
                  {
                    "displayName": "parquet at NativeMethodAccessorImpl.java:0",
                    "dataWritten": 0,
                    "dataRead": 0,
                    "rowCount": 0,
                    "usageDescription": "",
                    "jobId": 13,
                    "name": "parquet at NativeMethodAccessorImpl.java:0",
                    "description": "Job group for statement 22:\nsubmissions_path = 'filtered-submissions'\nsubmissions_df = spark.read.parquet(f\"{datastore}{submissions_path}\")",
                    "submissionTime": "2023-11-11T02:36:02.958GMT",
                    "completionTime": "2023-11-11T02:36:04.218GMT",
                    "stageIds": [
                      13
                    ],
                    "jobGroup": "22",
                    "status": "SUCCEEDED",
                    "numTasks": 1,
                    "numActiveTasks": 0,
                    "numCompletedTasks": 1,
                    "numSkippedTasks": 0,
                    "numFailedTasks": 0,
                    "numKilledTasks": 0,
                    "numCompletedIndices": 1,
                    "numActiveStages": 0,
                    "numCompletedStages": 1,
                    "numSkippedStages": 0,
                    "numFailedStages": 0,
                    "killedTasksSummary": {}
                  }
                ],
                "limit": 20,
                "rule": "ALL_DESC"
              },
              "parent_msg_id": "012f45ee-7682-4fd0-a3ae-329cfc947deb"
            },
            "text/plain": "StatementMeta(9d2667d4-d95f-4c64-adf7-bfab734cf5c0, 47, 22, Finished, Available)"
          },
          "metadata": {}
        }
      ],
      "execution_count": 17,
      "metadata": {
        "jupyter": {
          "source_hidden": false,
          "outputs_hidden": false
        },
        "nteract": {
          "transient": {
            "deleting": false
          }
        },
        "gather": {
          "logged": 1699670164958
        }
      }
    },
    {
      "cell_type": "markdown",
      "source": [
        "## Data Processing:"
      ],
      "metadata": {
        "nteract": {
          "transient": {
            "deleting": false
          }
        }
      }
    },
    {
      "cell_type": "code",
      "source": [
        "import os\n",
        "\n",
        "PLOT_DIR = os.path.join(\"Users/sk2224/fall-2023-reddit-project-team-34/data\", \"plots\")\n",
        "CSV_DIR = os.path.join(\"Users/sk2224/fall-2023-reddit-project-team-34/data\", \"csv\")"
      ],
      "outputs": [
        {
          "output_type": "display_data",
          "data": {
            "application/vnd.livy.statement-meta+json": {
              "spark_pool": "9d2667d4-d95f-4c64-adf7-bfab734cf5c0",
              "session_id": "47",
              "statement_id": 11,
              "state": "finished",
              "livy_statement_state": "available",
              "queued_time": "2023-11-11T02:13:19.285732Z",
              "session_start_time": null,
              "execution_start_time": "2023-11-11T02:13:19.3899472Z",
              "execution_finish_time": "2023-11-11T02:13:19.6807252Z",
              "spark_jobs": {
                "numbers": {
                  "FAILED": 0,
                  "SUCCEEDED": 0,
                  "RUNNING": 0,
                  "UNKNOWN": 0
                },
                "jobs": [],
                "limit": 20,
                "rule": "ALL_DESC"
              },
              "parent_msg_id": "d0f9a470-a479-4953-a9e2-9bd35c18cdda"
            },
            "text/plain": "StatementMeta(9d2667d4-d95f-4c64-adf7-bfab734cf5c0, 47, 11, Finished, Available)"
          },
          "metadata": {}
        }
      ],
      "execution_count": 6,
      "metadata": {
        "jupyter": {
          "source_hidden": false,
          "outputs_hidden": false
        },
        "nteract": {
          "transient": {
            "deleting": false
          }
        },
        "gather": {
          "logged": 1699668799872
        }
      }
    },
    {
      "cell_type": "markdown",
      "source": [
        "Drop unnecessary columns:"
      ],
      "metadata": {
        "nteract": {
          "transient": {
            "deleting": false
          }
        }
      }
    },
    {
      "cell_type": "code",
      "source": [
        "# # List of columns to be dropped\n",
        "# columns_to_drop = [\n",
        "#     'promoted', 'promoted_by', 'promoted_display_name', 'promoted_url',\n",
        "#     'secure_media', 'secure_media_embed', 'thumbnail', 'thumbnail_height', \n",
        "#     'thumbnail_width', 'third_party_trackers', 'third_party_tracking', \n",
        "#     'third_party_tracking_2', 'source', 'retrieved_on', 'suggested_sort', \n",
        "#     'spoiler', 'stickied', 'whitelist_status'\n",
        "# ]\n",
        "\n",
        "# # Dropping the columns\n",
        "# submissions_df = submissions_df.drop(*columns_to_drop)"
      ],
      "outputs": [
        {
          "output_type": "display_data",
          "data": {
            "application/vnd.livy.statement-meta+json": {
              "spark_pool": "87608f1f-5281-477c-8a41-f00a9ddf3071",
              "session_id": "2",
              "statement_id": 10,
              "state": "finished",
              "livy_statement_state": "available",
              "queued_time": "2023-11-10T21:48:00.5140521Z",
              "session_start_time": null,
              "execution_start_time": "2023-11-10T21:48:00.7128201Z",
              "execution_finish_time": "2023-11-10T21:48:00.9977114Z",
              "spark_jobs": {
                "numbers": {
                  "RUNNING": 0,
                  "FAILED": 0,
                  "UNKNOWN": 0,
                  "SUCCEEDED": 0
                },
                "jobs": [],
                "limit": 20,
                "rule": "ALL_DESC"
              },
              "parent_msg_id": "507220b9-af53-4f24-ade4-08dc32017daf"
            },
            "text/plain": "StatementMeta(87608f1f-5281-477c-8a41-f00a9ddf3071, 2, 10, Finished, Available)"
          },
          "metadata": {}
        }
      ],
      "execution_count": 5,
      "metadata": {
        "jupyter": {
          "source_hidden": false,
          "outputs_hidden": false
        },
        "nteract": {
          "transient": {
            "deleting": false
          }
        },
        "gather": {
          "logged": 1699652881092
        }
      }
    },
    {
      "cell_type": "markdown",
      "source": [
        "Shape of the data:"
      ],
      "metadata": {
        "nteract": {
          "transient": {
            "deleting": false
          }
        }
      }
    },
    {
      "cell_type": "code",
      "source": [
        "# submissions_row_count = submissions_df.count()\n",
        "# submissions_col_count = len(submissions_df.columns)\n",
        "# print(f\"Shape of the submissions dataframe is {submissions_row_count:,}x{submissions_col_count}\")"
      ],
      "outputs": [
        {
          "output_type": "display_data",
          "data": {
            "application/vnd.livy.statement-meta+json": {
              "spark_pool": "87608f1f-5281-477c-8a41-f00a9ddf3071",
              "session_id": "2",
              "statement_id": 9,
              "state": "finished",
              "livy_statement_state": "available",
              "queued_time": "2023-11-10T21:47:47.3589727Z",
              "session_start_time": null,
              "execution_start_time": "2023-11-10T21:47:47.5121729Z",
              "execution_finish_time": "2023-11-10T21:47:47.7912111Z",
              "spark_jobs": {
                "numbers": {
                  "RUNNING": 0,
                  "FAILED": 0,
                  "UNKNOWN": 0,
                  "SUCCEEDED": 0
                },
                "jobs": [],
                "limit": 20,
                "rule": "ALL_DESC"
              },
              "parent_msg_id": "3f6bc2c2-a5de-4473-bd18-a09d9881ca47"
            },
            "text/plain": "StatementMeta(87608f1f-5281-477c-8a41-f00a9ddf3071, 2, 9, Finished, Available)"
          },
          "metadata": {}
        }
      ],
      "execution_count": 4,
      "metadata": {
        "jupyter": {
          "source_hidden": false,
          "outputs_hidden": false
        },
        "nteract": {
          "transient": {
            "deleting": false
          }
        },
        "gather": {
          "logged": 1699652867890
        }
      }
    },
    {
      "cell_type": "markdown",
      "source": [
        "Breakdown of subreddit counts:"
      ],
      "metadata": {
        "nteract": {
          "transient": {
            "deleting": false
          }
        }
      }
    },
    {
      "cell_type": "code",
      "source": [
        "# subreddit_count_df = submissions_df.groupBy('subreddit').count().toPandas()"
      ],
      "outputs": [
        {
          "output_type": "display_data",
          "data": {
            "application/vnd.livy.statement-meta+json": {
              "spark_pool": "87608f1f-5281-477c-8a41-f00a9ddf3071",
              "session_id": "2",
              "statement_id": 67,
              "state": "finished",
              "livy_statement_state": "available",
              "queued_time": "2023-11-10T22:47:40.4567117Z",
              "session_start_time": null,
              "execution_start_time": "2023-11-10T22:47:40.5693528Z",
              "execution_finish_time": "2023-11-10T22:48:02.2498716Z",
              "spark_jobs": {
                "numbers": {
                  "RUNNING": 0,
                  "FAILED": 0,
                  "UNKNOWN": 0,
                  "SUCCEEDED": 2
                },
                "jobs": [
                  {
                    "displayName": "toPandas at /tmp/ipykernel_7588/1251409265.py:1",
                    "dataWritten": 0,
                    "dataRead": 47496,
                    "rowCount": 600,
                    "usageDescription": "",
                    "jobId": 21,
                    "name": "toPandas at /tmp/ipykernel_7588/1251409265.py:1",
                    "description": "Job group for statement 67:\nsubreddit_count_df = submissions_df.groupBy('subreddit').count().toPandas()",
                    "submissionTime": "2023-11-10T22:48:00.123GMT",
                    "completionTime": "2023-11-10T22:48:00.521GMT",
                    "stageIds": [
                      24,
                      23
                    ],
                    "jobGroup": "67",
                    "status": "SUCCEEDED",
                    "numTasks": 101,
                    "numActiveTasks": 0,
                    "numCompletedTasks": 1,
                    "numSkippedTasks": 100,
                    "numFailedTasks": 0,
                    "numKilledTasks": 0,
                    "numCompletedIndices": 1,
                    "numActiveStages": 0,
                    "numCompletedStages": 1,
                    "numSkippedStages": 1,
                    "numFailedStages": 0,
                    "killedTasksSummary": {}
                  },
                  {
                    "displayName": "toPandas at /tmp/ipykernel_7588/1251409265.py:1",
                    "dataWritten": 47496,
                    "dataRead": 551661227,
                    "rowCount": 1017568,
                    "usageDescription": "",
                    "jobId": 20,
                    "name": "toPandas at /tmp/ipykernel_7588/1251409265.py:1",
                    "description": "Job group for statement 67:\nsubreddit_count_df = submissions_df.groupBy('subreddit').count().toPandas()",
                    "submissionTime": "2023-11-10T22:47:40.737GMT",
                    "completionTime": "2023-11-10T22:48:00.045GMT",
                    "stageIds": [
                      22
                    ],
                    "jobGroup": "67",
                    "status": "SUCCEEDED",
                    "numTasks": 100,
                    "numActiveTasks": 0,
                    "numCompletedTasks": 100,
                    "numSkippedTasks": 0,
                    "numFailedTasks": 88,
                    "numKilledTasks": 0,
                    "numCompletedIndices": 100,
                    "numActiveStages": 0,
                    "numCompletedStages": 1,
                    "numSkippedStages": 0,
                    "numFailedStages": 0,
                    "killedTasksSummary": {}
                  }
                ],
                "limit": 20,
                "rule": "ALL_DESC"
              },
              "parent_msg_id": "80ebf5d3-7f65-41f1-9ede-eb137fad9ef4"
            },
            "text/plain": "StatementMeta(87608f1f-5281-477c-8a41-f00a9ddf3071, 2, 67, Finished, Available)"
          },
          "metadata": {}
        }
      ],
      "execution_count": 62,
      "metadata": {
        "jupyter": {
          "source_hidden": false,
          "outputs_hidden": false
        },
        "nteract": {
          "transient": {
            "deleting": false
          }
        },
        "gather": {
          "logged": 1699656482450
        }
      }
    },
    {
      "cell_type": "code",
      "source": [
        "submissions_df.groupBy('subreddit').count().show()"
      ],
      "outputs": [
        {
          "output_type": "display_data",
          "data": {
            "application/vnd.livy.statement-meta+json": {
              "spark_pool": "9d2667d4-d95f-4c64-adf7-bfab734cf5c0",
              "session_id": "35",
              "statement_id": 11,
              "state": "finished",
              "livy_statement_state": "available",
              "queued_time": "2023-11-10T23:19:27.0082595Z",
              "session_start_time": null,
              "execution_start_time": "2023-11-10T23:19:27.1264458Z",
              "execution_finish_time": "2023-11-10T23:20:05.4440717Z",
              "spark_jobs": {
                "numbers": {
                  "FAILED": 0,
                  "SUCCEEDED": 2,
                  "RUNNING": 0,
                  "UNKNOWN": 0
                },
                "jobs": [
                  {
                    "displayName": "showString at NativeMethodAccessorImpl.java:0",
                    "dataWritten": 0,
                    "dataRead": 47496,
                    "rowCount": 600,
                    "usageDescription": "",
                    "jobId": 2,
                    "name": "showString at NativeMethodAccessorImpl.java:0",
                    "description": "Job group for statement 11:\nsubmissions_df.groupBy('subreddit').count().show()",
                    "submissionTime": "2023-11-10T23:20:03.143GMT",
                    "completionTime": "2023-11-10T23:20:03.668GMT",
                    "stageIds": [
                      2,
                      3
                    ],
                    "jobGroup": "11",
                    "status": "SUCCEEDED",
                    "numTasks": 101,
                    "numActiveTasks": 0,
                    "numCompletedTasks": 1,
                    "numSkippedTasks": 100,
                    "numFailedTasks": 0,
                    "numKilledTasks": 0,
                    "numCompletedIndices": 1,
                    "numActiveStages": 0,
                    "numCompletedStages": 1,
                    "numSkippedStages": 1,
                    "numFailedStages": 0,
                    "killedTasksSummary": {}
                  },
                  {
                    "displayName": "showString at NativeMethodAccessorImpl.java:0",
                    "dataWritten": 47496,
                    "dataRead": 551661227,
                    "rowCount": 1017568,
                    "usageDescription": "",
                    "jobId": 1,
                    "name": "showString at NativeMethodAccessorImpl.java:0",
                    "description": "Job group for statement 11:\nsubmissions_df.groupBy('subreddit').count().show()",
                    "submissionTime": "2023-11-10T23:19:28.922GMT",
                    "completionTime": "2023-11-10T23:20:02.940GMT",
                    "stageIds": [
                      1
                    ],
                    "jobGroup": "11",
                    "status": "SUCCEEDED",
                    "numTasks": 100,
                    "numActiveTasks": 0,
                    "numCompletedTasks": 100,
                    "numSkippedTasks": 0,
                    "numFailedTasks": 0,
                    "numKilledTasks": 0,
                    "numCompletedIndices": 100,
                    "numActiveStages": 0,
                    "numCompletedStages": 1,
                    "numSkippedStages": 0,
                    "numFailedStages": 0,
                    "killedTasksSummary": {}
                  }
                ],
                "limit": 20,
                "rule": "ALL_DESC"
              },
              "parent_msg_id": "4647518d-7a60-4960-8a9d-ab81793385c3"
            },
            "text/plain": "StatementMeta(9d2667d4-d95f-4c64-adf7-bfab734cf5c0, 35, 11, Finished, Available)"
          },
          "metadata": {}
        },
        {
          "output_type": "stream",
          "name": "stdout",
          "text": "+--------------------+------+\n|           subreddit| count|\n+--------------------+------+\n|               anime|404298|\n|          television| 89586|\n|televisionsuggest...|  7991|\n|              movies|382085|\n|        Animesuggest| 74101|\n|    MovieSuggestions| 58907|\n+--------------------+------+\n\n"
        }
      ],
      "execution_count": 6,
      "metadata": {
        "jupyter": {
          "source_hidden": false,
          "outputs_hidden": false
        },
        "nteract": {
          "transient": {
            "deleting": false
          }
        },
        "gather": {
          "logged": 1699658405613
        }
      }
    },
    {
      "cell_type": "code",
      "source": [
        "# subreddit_count_df.to_csv(f\"{CSV_DIR}/subreddit_count.csv\")"
      ],
      "outputs": [
        {
          "output_type": "display_data",
          "data": {
            "application/vnd.livy.statement-meta+json": {
              "spark_pool": "87608f1f-5281-477c-8a41-f00a9ddf3071",
              "session_id": "2",
              "statement_id": 70,
              "state": "finished",
              "livy_statement_state": "available",
              "queued_time": "2023-11-10T22:49:36.5547309Z",
              "session_start_time": null,
              "execution_start_time": "2023-11-10T22:49:36.6549032Z",
              "execution_finish_time": "2023-11-10T22:49:37.4514979Z",
              "spark_jobs": {
                "numbers": {
                  "RUNNING": 0,
                  "FAILED": 0,
                  "UNKNOWN": 0,
                  "SUCCEEDED": 0
                },
                "jobs": [],
                "limit": 20,
                "rule": "ALL_DESC"
              },
              "parent_msg_id": "3c9c683b-0db3-445a-b5df-1469031bbdff"
            },
            "text/plain": "StatementMeta(87608f1f-5281-477c-8a41-f00a9ddf3071, 2, 70, Finished, Available)"
          },
          "metadata": {}
        }
      ],
      "execution_count": 65,
      "metadata": {
        "jupyter": {
          "source_hidden": false,
          "outputs_hidden": false
        },
        "nteract": {
          "transient": {
            "deleting": false
          }
        },
        "gather": {
          "logged": 1699656577582
        }
      }
    },
    {
      "cell_type": "markdown",
      "source": [
        "Number of partitions in RDD:"
      ],
      "metadata": {
        "nteract": {
          "transient": {
            "deleting": false
          }
        }
      }
    },
    {
      "cell_type": "code",
      "source": [
        "submissions_df.rdd.getNumPartitions()"
      ],
      "outputs": [
        {
          "output_type": "display_data",
          "data": {
            "application/vnd.livy.statement-meta+json": {
              "spark_pool": "87608f1f-5281-477c-8a41-f00a9ddf3071",
              "session_id": "2",
              "statement_id": 11,
              "state": "finished",
              "livy_statement_state": "available",
              "queued_time": "2023-11-10T21:48:05.4627368Z",
              "session_start_time": null,
              "execution_start_time": "2023-11-10T21:48:05.6267075Z",
              "execution_finish_time": "2023-11-10T21:48:06.4065031Z",
              "spark_jobs": {
                "numbers": {
                  "RUNNING": 0,
                  "FAILED": 0,
                  "UNKNOWN": 0,
                  "SUCCEEDED": 0
                },
                "jobs": [],
                "limit": 20,
                "rule": "ALL_DESC"
              },
              "parent_msg_id": "d10e6e50-cc76-4d65-ab70-f113fb5fa594"
            },
            "text/plain": "StatementMeta(87608f1f-5281-477c-8a41-f00a9ddf3071, 2, 11, Finished, Available)"
          },
          "metadata": {}
        },
        {
          "output_type": "execute_result",
          "execution_count": 21,
          "data": {
            "text/plain": "100"
          },
          "metadata": {}
        }
      ],
      "execution_count": 6,
      "metadata": {
        "jupyter": {
          "source_hidden": false,
          "outputs_hidden": false
        },
        "nteract": {
          "transient": {
            "deleting": false
          }
        },
        "gather": {
          "logged": 1699652886470
        }
      }
    },
    {
      "cell_type": "markdown",
      "source": [
        "Columns in the data:"
      ],
      "metadata": {
        "nteract": {
          "transient": {
            "deleting": false
          }
        }
      }
    },
    {
      "cell_type": "code",
      "source": [
        "submissions_df.printSchema()"
      ],
      "outputs": [
        {
          "output_type": "display_data",
          "data": {
            "application/vnd.livy.statement-meta+json": {
              "spark_pool": "87608f1f-5281-477c-8a41-f00a9ddf3071",
              "session_id": "2",
              "statement_id": 12,
              "state": "finished",
              "livy_statement_state": "available",
              "queued_time": "2023-11-10T21:48:10.4110496Z",
              "session_start_time": null,
              "execution_start_time": "2023-11-10T21:48:10.586467Z",
              "execution_finish_time": "2023-11-10T21:48:10.8772824Z",
              "spark_jobs": {
                "numbers": {
                  "RUNNING": 0,
                  "FAILED": 0,
                  "UNKNOWN": 0,
                  "SUCCEEDED": 0
                },
                "jobs": [],
                "limit": 20,
                "rule": "ALL_DESC"
              },
              "parent_msg_id": "0c10c1e8-1214-4587-887a-e12e9019c509"
            },
            "text/plain": "StatementMeta(87608f1f-5281-477c-8a41-f00a9ddf3071, 2, 12, Finished, Available)"
          },
          "metadata": {}
        },
        {
          "output_type": "stream",
          "name": "stdout",
          "text": "root\n |-- adserver_click_url: string (nullable = true)\n |-- adserver_imp_pixel: string (nullable = true)\n |-- archived: boolean (nullable = true)\n |-- author: string (nullable = true)\n |-- author_cakeday: boolean (nullable = true)\n |-- author_flair_css_class: string (nullable = true)\n |-- author_flair_text: string (nullable = true)\n |-- author_id: string (nullable = true)\n |-- brand_safe: boolean (nullable = true)\n |-- contest_mode: boolean (nullable = true)\n |-- created_utc: timestamp (nullable = true)\n |-- crosspost_parent: string (nullable = true)\n |-- crosspost_parent_list: array (nullable = true)\n |    |-- element: struct (containsNull = true)\n |    |    |-- approved_at_utc: string (nullable = true)\n |    |    |-- approved_by: string (nullable = true)\n |    |    |-- archived: boolean (nullable = true)\n |    |    |-- author: string (nullable = true)\n |    |    |-- author_flair_css_class: string (nullable = true)\n |    |    |-- author_flair_text: string (nullable = true)\n |    |    |-- banned_at_utc: string (nullable = true)\n |    |    |-- banned_by: string (nullable = true)\n |    |    |-- brand_safe: boolean (nullable = true)\n |    |    |-- can_gild: boolean (nullable = true)\n |    |    |-- can_mod_post: boolean (nullable = true)\n |    |    |-- clicked: boolean (nullable = true)\n |    |    |-- contest_mode: boolean (nullable = true)\n |    |    |-- created: double (nullable = true)\n |    |    |-- created_utc: double (nullable = true)\n |    |    |-- distinguished: string (nullable = true)\n |    |    |-- domain: string (nullable = true)\n |    |    |-- downs: long (nullable = true)\n |    |    |-- edited: boolean (nullable = true)\n |    |    |-- gilded: long (nullable = true)\n |    |    |-- hidden: boolean (nullable = true)\n |    |    |-- hide_score: boolean (nullable = true)\n |    |    |-- id: string (nullable = true)\n |    |    |-- is_crosspostable: boolean (nullable = true)\n |    |    |-- is_reddit_media_domain: boolean (nullable = true)\n |    |    |-- is_self: boolean (nullable = true)\n |    |    |-- is_video: boolean (nullable = true)\n |    |    |-- likes: string (nullable = true)\n |    |    |-- link_flair_css_class: string (nullable = true)\n |    |    |-- link_flair_text: string (nullable = true)\n |    |    |-- locked: boolean (nullable = true)\n |    |    |-- media: string (nullable = true)\n |    |    |-- mod_reports: array (nullable = true)\n |    |    |    |-- element: string (containsNull = true)\n |    |    |-- name: string (nullable = true)\n |    |    |-- num_comments: long (nullable = true)\n |    |    |-- num_crossposts: long (nullable = true)\n |    |    |-- num_reports: string (nullable = true)\n |    |    |-- over_18: boolean (nullable = true)\n |    |    |-- parent_whitelist_status: string (nullable = true)\n |    |    |-- permalink: string (nullable = true)\n |    |    |-- pinned: boolean (nullable = true)\n |    |    |-- quarantine: boolean (nullable = true)\n |    |    |-- removal_reason: string (nullable = true)\n |    |    |-- report_reasons: string (nullable = true)\n |    |    |-- saved: boolean (nullable = true)\n |    |    |-- score: long (nullable = true)\n |    |    |-- secure_media: string (nullable = true)\n |    |    |-- selftext: string (nullable = true)\n |    |    |-- selftext_html: string (nullable = true)\n |    |    |-- spoiler: boolean (nullable = true)\n |    |    |-- stickied: boolean (nullable = true)\n |    |    |-- subreddit: string (nullable = true)\n |    |    |-- subreddit_id: string (nullable = true)\n |    |    |-- subreddit_name_prefixed: string (nullable = true)\n |    |    |-- subreddit_type: string (nullable = true)\n |    |    |-- suggested_sort: string (nullable = true)\n |    |    |-- thumbnail: string (nullable = true)\n |    |    |-- thumbnail_height: string (nullable = true)\n |    |    |-- thumbnail_width: string (nullable = true)\n |    |    |-- title: string (nullable = true)\n |    |    |-- ups: long (nullable = true)\n |    |    |-- url: string (nullable = true)\n |    |    |-- user_reports: array (nullable = true)\n |    |    |    |-- element: string (containsNull = true)\n |    |    |-- view_count: string (nullable = true)\n |    |    |-- visited: boolean (nullable = true)\n |    |    |-- whitelist_status: string (nullable = true)\n |-- disable_comments: boolean (nullable = true)\n |-- distinguished: string (nullable = true)\n |-- domain: string (nullable = true)\n |-- domain_override: string (nullable = true)\n |-- edited: string (nullable = true)\n |-- embed_type: string (nullable = true)\n |-- embed_url: string (nullable = true)\n |-- gilded: long (nullable = true)\n |-- hidden: boolean (nullable = true)\n |-- hide_score: boolean (nullable = true)\n |-- href_url: string (nullable = true)\n |-- id: string (nullable = true)\n |-- imp_pixel: string (nullable = true)\n |-- is_crosspostable: boolean (nullable = true)\n |-- is_reddit_media_domain: boolean (nullable = true)\n |-- is_self: boolean (nullable = true)\n |-- is_video: boolean (nullable = true)\n |-- link_flair_css_class: string (nullable = true)\n |-- link_flair_text: string (nullable = true)\n |-- locked: boolean (nullable = true)\n |-- media: struct (nullable = true)\n |    |-- event_id: string (nullable = true)\n |    |-- oembed: struct (nullable = true)\n |    |    |-- author_name: string (nullable = true)\n |    |    |-- author_url: string (nullable = true)\n |    |    |-- cache_age: long (nullable = true)\n |    |    |-- description: string (nullable = true)\n |    |    |-- height: long (nullable = true)\n |    |    |-- html: string (nullable = true)\n |    |    |-- provider_name: string (nullable = true)\n |    |    |-- provider_url: string (nullable = true)\n |    |    |-- thumbnail_height: long (nullable = true)\n |    |    |-- thumbnail_url: string (nullable = true)\n |    |    |-- thumbnail_width: long (nullable = true)\n |    |    |-- title: string (nullable = true)\n |    |    |-- type: string (nullable = true)\n |    |    |-- url: string (nullable = true)\n |    |    |-- version: string (nullable = true)\n |    |    |-- width: long (nullable = true)\n |    |-- reddit_video: struct (nullable = true)\n |    |    |-- dash_url: string (nullable = true)\n |    |    |-- duration: long (nullable = true)\n |    |    |-- fallback_url: string (nullable = true)\n |    |    |-- height: long (nullable = true)\n |    |    |-- hls_url: string (nullable = true)\n |    |    |-- is_gif: boolean (nullable = true)\n |    |    |-- scrubber_media_url: string (nullable = true)\n |    |    |-- transcoding_status: string (nullable = true)\n |    |    |-- width: long (nullable = true)\n |    |-- type: string (nullable = true)\n |-- media_embed: struct (nullable = true)\n |    |-- content: string (nullable = true)\n |    |-- height: long (nullable = true)\n |    |-- scrolling: boolean (nullable = true)\n |    |-- width: long (nullable = true)\n |-- mobile_ad_url: string (nullable = true)\n |-- num_comments: long (nullable = true)\n |-- num_crossposts: long (nullable = true)\n |-- original_link: string (nullable = true)\n |-- over_18: boolean (nullable = true)\n |-- parent_whitelist_status: string (nullable = true)\n |-- permalink: string (nullable = true)\n |-- pinned: boolean (nullable = true)\n |-- post_hint: string (nullable = true)\n |-- preview: struct (nullable = true)\n |    |-- enabled: boolean (nullable = true)\n |    |-- images: array (nullable = true)\n |    |    |-- element: struct (containsNull = true)\n |    |    |    |-- id: string (nullable = true)\n |    |    |    |-- resolutions: array (nullable = true)\n |    |    |    |    |-- element: struct (containsNull = true)\n |    |    |    |    |    |-- height: long (nullable = true)\n |    |    |    |    |    |-- url: string (nullable = true)\n |    |    |    |    |    |-- width: long (nullable = true)\n |    |    |    |-- source: struct (nullable = true)\n |    |    |    |    |-- height: long (nullable = true)\n |    |    |    |    |-- url: string (nullable = true)\n |    |    |    |    |-- width: long (nullable = true)\n |    |    |    |-- variants: struct (nullable = true)\n |    |    |    |    |-- gif: struct (nullable = true)\n |    |    |    |    |    |-- resolutions: array (nullable = true)\n |    |    |    |    |    |    |-- element: struct (containsNull = true)\n |    |    |    |    |    |    |    |-- height: long (nullable = true)\n |    |    |    |    |    |    |    |-- url: string (nullable = true)\n |    |    |    |    |    |    |    |-- width: long (nullable = true)\n |    |    |    |    |    |-- source: struct (nullable = true)\n |    |    |    |    |    |    |-- height: long (nullable = true)\n |    |    |    |    |    |    |-- url: string (nullable = true)\n |    |    |    |    |    |    |-- width: long (nullable = true)\n |    |    |    |    |-- mp4: struct (nullable = true)\n |    |    |    |    |    |-- resolutions: array (nullable = true)\n |    |    |    |    |    |    |-- element: struct (containsNull = true)\n |    |    |    |    |    |    |    |-- height: long (nullable = true)\n |    |    |    |    |    |    |    |-- url: string (nullable = true)\n |    |    |    |    |    |    |    |-- width: long (nullable = true)\n |    |    |    |    |    |-- source: struct (nullable = true)\n |    |    |    |    |    |    |-- height: long (nullable = true)\n |    |    |    |    |    |    |-- url: string (nullable = true)\n |    |    |    |    |    |    |-- width: long (nullable = true)\n |    |    |    |    |-- nsfw: struct (nullable = true)\n |    |    |    |    |    |-- resolutions: array (nullable = true)\n |    |    |    |    |    |    |-- element: struct (containsNull = true)\n |    |    |    |    |    |    |    |-- height: long (nullable = true)\n |    |    |    |    |    |    |    |-- url: string (nullable = true)\n |    |    |    |    |    |    |    |-- width: long (nullable = true)\n |    |    |    |    |    |-- source: struct (nullable = true)\n |    |    |    |    |    |    |-- height: long (nullable = true)\n |    |    |    |    |    |    |-- url: string (nullable = true)\n |    |    |    |    |    |    |-- width: long (nullable = true)\n |    |    |    |    |-- obfuscated: struct (nullable = true)\n |    |    |    |    |    |-- resolutions: array (nullable = true)\n |    |    |    |    |    |    |-- element: struct (containsNull = true)\n |    |    |    |    |    |    |    |-- height: long (nullable = true)\n |    |    |    |    |    |    |    |-- url: string (nullable = true)\n |    |    |    |    |    |    |    |-- width: long (nullable = true)\n |    |    |    |    |    |-- source: struct (nullable = true)\n |    |    |    |    |    |    |-- height: long (nullable = true)\n |    |    |    |    |    |    |-- url: string (nullable = true)\n |    |    |    |    |    |    |-- width: long (nullable = true)\n |-- score: long (nullable = true)\n |-- selftext: string (nullable = true)\n |-- subreddit: string (nullable = true)\n |-- subreddit_id: string (nullable = true)\n |-- title: string (nullable = true)\n |-- url: string (nullable = true)\n\n"
        }
      ],
      "execution_count": 7,
      "metadata": {
        "jupyter": {
          "source_hidden": false,
          "outputs_hidden": false
        },
        "nteract": {
          "transient": {
            "deleting": false
          }
        },
        "gather": {
          "logged": 1699652891453
        }
      }
    },
    {
      "cell_type": "markdown",
      "source": [
        "Subset the data for faster processing:"
      ],
      "metadata": {
        "nteract": {
          "transient": {
            "deleting": false
          }
        }
      }
    },
    {
      "cell_type": "code",
      "source": [
        "submissions_df_small = submissions_df.sample(withReplacement=False, fraction=0.01)"
      ],
      "outputs": [
        {
          "output_type": "display_data",
          "data": {
            "application/vnd.livy.statement-meta+json": {
              "spark_pool": "9d2667d4-d95f-4c64-adf7-bfab734cf5c0",
              "session_id": "40",
              "statement_id": 11,
              "state": "finished",
              "livy_statement_state": "available",
              "queued_time": "2023-11-11T00:42:48.8915384Z",
              "session_start_time": null,
              "execution_start_time": "2023-11-11T00:42:48.99465Z",
              "execution_finish_time": "2023-11-11T00:42:49.3018819Z",
              "spark_jobs": {
                "numbers": {
                  "FAILED": 0,
                  "SUCCEEDED": 0,
                  "RUNNING": 0,
                  "UNKNOWN": 0
                },
                "jobs": [],
                "limit": 20,
                "rule": "ALL_DESC"
              },
              "parent_msg_id": "a60ca3a5-b02a-4359-9609-628601dfaa24"
            },
            "text/plain": "StatementMeta(9d2667d4-d95f-4c64-adf7-bfab734cf5c0, 40, 11, Finished, Available)"
          },
          "metadata": {}
        }
      ],
      "execution_count": 6,
      "metadata": {
        "jupyter": {
          "source_hidden": false,
          "outputs_hidden": false
        },
        "nteract": {
          "transient": {
            "deleting": false
          }
        },
        "gather": {
          "logged": 1699663369370
        }
      }
    },
    {
      "cell_type": "code",
      "source": [
        "# take a subset of columns\n",
        "df = submissions_df_small.select(\"subreddit\", \"author\", \"title\", \"selftext\",\n",
        "                             \"created_utc\", \"num_comments\", \"score\", \n",
        "                             \"over_18\", \"media\", \"pinned\", \"locked\", \n",
        "                             \"disable_comments\", \"domain\", \"hidden\", \n",
        "                             \"distinguished\", \"hide_score\")"
      ],
      "outputs": [
        {
          "output_type": "display_data",
          "data": {
            "application/vnd.livy.statement-meta+json": {
              "spark_pool": "9d2667d4-d95f-4c64-adf7-bfab734cf5c0",
              "session_id": "40",
              "statement_id": 12,
              "state": "finished",
              "livy_statement_state": "available",
              "queued_time": "2023-11-11T00:42:49.12897Z",
              "session_start_time": null,
              "execution_start_time": "2023-11-11T00:42:49.4059572Z",
              "execution_finish_time": "2023-11-11T00:42:49.6957845Z",
              "spark_jobs": {
                "numbers": {
                  "FAILED": 0,
                  "SUCCEEDED": 0,
                  "RUNNING": 0,
                  "UNKNOWN": 0
                },
                "jobs": [],
                "limit": 20,
                "rule": "ALL_DESC"
              },
              "parent_msg_id": "a97cccbf-04b9-4635-8059-110e59126ed2"
            },
            "text/plain": "StatementMeta(9d2667d4-d95f-4c64-adf7-bfab734cf5c0, 40, 12, Finished, Available)"
          },
          "metadata": {}
        }
      ],
      "execution_count": 7,
      "metadata": {
        "jupyter": {
          "source_hidden": false,
          "outputs_hidden": false
        },
        "nteract": {
          "transient": {
            "deleting": false
          }
        },
        "gather": {
          "logged": 1699663369779
        }
      }
    },
    {
      "cell_type": "code",
      "source": [
        "# take a subset of columns\n",
        "df = submissions_df.select(\"subreddit\", \"author\", \"title\", \"selftext\",\n",
        "                             \"created_utc\", \"num_comments\", \"score\", \n",
        "                             \"over_18\", \"media\", \"pinned\", \"locked\", \n",
        "                             \"disable_comments\", \"domain\", \"hidden\", \n",
        "                             \"distinguished\", \"hide_score\")"
      ],
      "outputs": [
        {
          "output_type": "display_data",
          "data": {
            "application/vnd.livy.statement-meta+json": {
              "spark_pool": "9d2667d4-d95f-4c64-adf7-bfab734cf5c0",
              "session_id": "47",
              "statement_id": 23,
              "state": "finished",
              "livy_statement_state": "available",
              "queued_time": "2023-11-11T02:36:21.5157774Z",
              "session_start_time": null,
              "execution_start_time": "2023-11-11T02:36:21.607513Z",
              "execution_finish_time": "2023-11-11T02:36:21.9421788Z",
              "spark_jobs": {
                "numbers": {
                  "FAILED": 0,
                  "SUCCEEDED": 0,
                  "RUNNING": 0,
                  "UNKNOWN": 0
                },
                "jobs": [],
                "limit": 20,
                "rule": "ALL_DESC"
              },
              "parent_msg_id": "2ae6ab4c-6364-4f21-a366-37670ed576a2"
            },
            "text/plain": "StatementMeta(9d2667d4-d95f-4c64-adf7-bfab734cf5c0, 47, 23, Finished, Available)"
          },
          "metadata": {}
        }
      ],
      "execution_count": 18,
      "metadata": {
        "jupyter": {
          "source_hidden": false,
          "outputs_hidden": false
        },
        "nteract": {
          "transient": {
            "deleting": false
          }
        },
        "gather": {
          "logged": 1699670182581
        }
      }
    },
    {
      "cell_type": "markdown",
      "source": [
        "Count the missing values in data:"
      ],
      "metadata": {
        "nteract": {
          "transient": {
            "deleting": false
          }
        }
      }
    },
    {
      "cell_type": "code",
      "source": [
        "from pyspark.sql.functions import col, count, when\n",
        "\n",
        "missing_vals = df.select([count(when(col(c).isNull(), c)).alias(c) for c in df.columns])"
      ],
      "outputs": [
        {
          "output_type": "display_data",
          "data": {
            "application/vnd.livy.statement-meta+json": {
              "spark_pool": "9d2667d4-d95f-4c64-adf7-bfab734cf5c0",
              "session_id": "36",
              "statement_id": 17,
              "state": "finished",
              "livy_statement_state": "available",
              "queued_time": "2023-11-10T23:48:54.9266665Z",
              "session_start_time": null,
              "execution_start_time": "2023-11-10T23:48:55.0608611Z",
              "execution_finish_time": "2023-11-10T23:48:57.2871247Z",
              "spark_jobs": {
                "numbers": {
                  "FAILED": 0,
                  "SUCCEEDED": 0,
                  "RUNNING": 0,
                  "UNKNOWN": 0
                },
                "jobs": [],
                "limit": 20,
                "rule": "ALL_DESC"
              },
              "parent_msg_id": "bc885b74-5976-4f2c-9671-ce549c13da71"
            },
            "text/plain": "StatementMeta(9d2667d4-d95f-4c64-adf7-bfab734cf5c0, 36, 17, Finished, Available)"
          },
          "metadata": {}
        }
      ],
      "execution_count": 12,
      "metadata": {
        "jupyter": {
          "source_hidden": false,
          "outputs_hidden": false
        },
        "nteract": {
          "transient": {
            "deleting": false
          }
        },
        "gather": {
          "logged": 1699660137480
        }
      }
    },
    {
      "cell_type": "code",
      "source": [
        "missing_vals.show()"
      ],
      "outputs": [
        {
          "output_type": "display_data",
          "data": {
            "application/vnd.livy.statement-meta+json": {
              "spark_pool": "9d2667d4-d95f-4c64-adf7-bfab734cf5c0",
              "session_id": "36",
              "statement_id": 18,
              "state": "finished",
              "livy_statement_state": "available",
              "queued_time": "2023-11-10T23:49:11.1525637Z",
              "session_start_time": null,
              "execution_start_time": "2023-11-10T23:49:11.2997932Z",
              "execution_finish_time": "2023-11-10T23:49:51.8830188Z",
              "spark_jobs": {
                "numbers": {
                  "FAILED": 0,
                  "SUCCEEDED": 2,
                  "RUNNING": 0,
                  "UNKNOWN": 0
                },
                "jobs": [
                  {
                    "displayName": "showString at NativeMethodAccessorImpl.java:0",
                    "dataWritten": 0,
                    "dataRead": 8152,
                    "rowCount": 100,
                    "usageDescription": "",
                    "jobId": 2,
                    "name": "showString at NativeMethodAccessorImpl.java:0",
                    "description": "Job group for statement 18:\nmissing_vals.show()",
                    "submissionTime": "2023-11-10T23:49:50.918GMT",
                    "completionTime": "2023-11-10T23:49:51.581GMT",
                    "stageIds": [
                      2,
                      3
                    ],
                    "jobGroup": "18",
                    "status": "SUCCEEDED",
                    "numTasks": 101,
                    "numActiveTasks": 0,
                    "numCompletedTasks": 1,
                    "numSkippedTasks": 100,
                    "numFailedTasks": 0,
                    "numKilledTasks": 0,
                    "numCompletedIndices": 1,
                    "numActiveStages": 0,
                    "numCompletedStages": 1,
                    "numSkippedStages": 1,
                    "numFailedStages": 0,
                    "killedTasksSummary": {}
                  },
                  {
                    "displayName": "showString at NativeMethodAccessorImpl.java:0",
                    "dataWritten": 8152,
                    "dataRead": 750694891,
                    "rowCount": 1017068,
                    "usageDescription": "",
                    "jobId": 1,
                    "name": "showString at NativeMethodAccessorImpl.java:0",
                    "description": "Job group for statement 18:\nmissing_vals.show()",
                    "submissionTime": "2023-11-10T23:49:12.073GMT",
                    "completionTime": "2023-11-10T23:49:50.732GMT",
                    "stageIds": [
                      1
                    ],
                    "jobGroup": "18",
                    "status": "SUCCEEDED",
                    "numTasks": 100,
                    "numActiveTasks": 0,
                    "numCompletedTasks": 100,
                    "numSkippedTasks": 0,
                    "numFailedTasks": 0,
                    "numKilledTasks": 0,
                    "numCompletedIndices": 100,
                    "numActiveStages": 0,
                    "numCompletedStages": 1,
                    "numSkippedStages": 0,
                    "numFailedStages": 0,
                    "killedTasksSummary": {}
                  }
                ],
                "limit": 20,
                "rule": "ALL_DESC"
              },
              "parent_msg_id": "7d3b5e7f-ec3e-4072-afc2-d259cd0db9bc"
            },
            "text/plain": "StatementMeta(9d2667d4-d95f-4c64-adf7-bfab734cf5c0, 36, 18, Finished, Available)"
          },
          "metadata": {}
        },
        {
          "output_type": "stream",
          "name": "stdout",
          "text": "+---------+------+-----+--------+-----------+------------+-----+-------+------+------+------+----------------+------+------+-------------+----------+\n|subreddit|author|title|selftext|created_utc|num_comments|score|over_18| media|pinned|locked|disable_comments|domain|hidden|distinguished|hide_score|\n+---------+------+-----+--------+-----------+------------+-----+-------+------+------+------+----------------+------+------+-------------+----------+\n|        0|     0|    0|       0|          0|           0|    0|      0|892405|     0|     0|         1016968|  8952|     0|      1015530|         0|\n+---------+------+-----+--------+-----------+------------+-----+-------+------+------+------+----------------+------+------+-------------+----------+\n\n"
        }
      ],
      "execution_count": 13,
      "metadata": {
        "jupyter": {
          "source_hidden": false,
          "outputs_hidden": false
        },
        "nteract": {
          "transient": {
            "deleting": false
          }
        },
        "gather": {
          "logged": 1699660192107
        }
      }
    },
    {
      "cell_type": "code",
      "source": [
        "import pandas as pd\n",
        "\n",
        "\n",
        "# Manually inputting data\n",
        "data = {\n",
        "    'subreddit': [0],\n",
        "    'author': [0],\n",
        "    'title': [0],\n",
        "    'selftext': [0],\n",
        "    'created_utc': [0],\n",
        "    'num_comments': [0],\n",
        "    'score': [0],\n",
        "    'over_18': [0],\n",
        "    'media': [892405],\n",
        "    'pinned': [0],\n",
        "    'locked': [0],\n",
        "    'disable_comments': [1016968],\n",
        "    'domain': [8952],\n",
        "    'hidden': [0],\n",
        "    'distinguished': [1015530],\n",
        "    'hide_score': [0]\n",
        "}\n",
        "\n",
        "# Creating a Pandas DataFrame\n",
        "missing_vals_pd = pd.DataFrame(data)"
      ],
      "outputs": [
        {
          "output_type": "display_data",
          "data": {
            "application/vnd.livy.statement-meta+json": {
              "spark_pool": "9d2667d4-d95f-4c64-adf7-bfab734cf5c0",
              "session_id": "36",
              "statement_id": 20,
              "state": "finished",
              "livy_statement_state": "available",
              "queued_time": "2023-11-10T23:51:16.0433225Z",
              "session_start_time": null,
              "execution_start_time": "2023-11-10T23:51:16.1914969Z",
              "execution_finish_time": "2023-11-10T23:51:16.5214747Z",
              "spark_jobs": {
                "numbers": {
                  "FAILED": 0,
                  "SUCCEEDED": 0,
                  "RUNNING": 0,
                  "UNKNOWN": 0
                },
                "jobs": [],
                "limit": 20,
                "rule": "ALL_DESC"
              },
              "parent_msg_id": "65f1f3bd-8b37-4ba4-b965-70ebcb212d83"
            },
            "text/plain": "StatementMeta(9d2667d4-d95f-4c64-adf7-bfab734cf5c0, 36, 20, Finished, Available)"
          },
          "metadata": {}
        }
      ],
      "execution_count": 15,
      "metadata": {
        "jupyter": {
          "source_hidden": false,
          "outputs_hidden": false
        },
        "nteract": {
          "transient": {
            "deleting": false
          }
        },
        "gather": {
          "logged": 1699660276613
        }
      }
    },
    {
      "cell_type": "code",
      "source": [
        "missing_vals_pd"
      ],
      "outputs": [
        {
          "output_type": "display_data",
          "data": {
            "application/vnd.livy.statement-meta+json": {
              "spark_pool": "9d2667d4-d95f-4c64-adf7-bfab734cf5c0",
              "session_id": "36",
              "statement_id": 21,
              "state": "finished",
              "livy_statement_state": "available",
              "queued_time": "2023-11-10T23:51:18.1734759Z",
              "session_start_time": null,
              "execution_start_time": "2023-11-10T23:51:18.3225762Z",
              "execution_finish_time": "2023-11-10T23:51:18.6023714Z",
              "spark_jobs": {
                "numbers": {
                  "FAILED": 0,
                  "SUCCEEDED": 0,
                  "RUNNING": 0,
                  "UNKNOWN": 0
                },
                "jobs": [],
                "limit": 20,
                "rule": "ALL_DESC"
              },
              "parent_msg_id": "9de79822-b666-45d3-ac3c-a701b5bee47e"
            },
            "text/plain": "StatementMeta(9d2667d4-d95f-4c64-adf7-bfab734cf5c0, 36, 21, Finished, Available)"
          },
          "metadata": {}
        },
        {
          "output_type": "execute_result",
          "execution_count": 41,
          "data": {
            "text/plain": "   subreddit  author  title  selftext  created_utc  num_comments  score  \\\n0          0       0      0         0            0             0      0   \n\n   over_18   media  pinned  locked  disable_comments  domain  hidden  \\\n0        0  892405       0       0           1016968    8952       0   \n\n   distinguished  hide_score  \n0        1015530           0  ",
            "text/html": "<div>\n<style scoped>\n    .dataframe tbody tr th:only-of-type {\n        vertical-align: middle;\n    }\n\n    .dataframe tbody tr th {\n        vertical-align: top;\n    }\n\n    .dataframe thead th {\n        text-align: right;\n    }\n</style>\n<table border=\"1\" class=\"dataframe\">\n  <thead>\n    <tr style=\"text-align: right;\">\n      <th></th>\n      <th>subreddit</th>\n      <th>author</th>\n      <th>title</th>\n      <th>selftext</th>\n      <th>created_utc</th>\n      <th>num_comments</th>\n      <th>score</th>\n      <th>over_18</th>\n      <th>media</th>\n      <th>pinned</th>\n      <th>locked</th>\n      <th>disable_comments</th>\n      <th>domain</th>\n      <th>hidden</th>\n      <th>distinguished</th>\n      <th>hide_score</th>\n    </tr>\n  </thead>\n  <tbody>\n    <tr>\n      <th>0</th>\n      <td>0</td>\n      <td>0</td>\n      <td>0</td>\n      <td>0</td>\n      <td>0</td>\n      <td>0</td>\n      <td>0</td>\n      <td>0</td>\n      <td>892405</td>\n      <td>0</td>\n      <td>0</td>\n      <td>1016968</td>\n      <td>8952</td>\n      <td>0</td>\n      <td>1015530</td>\n      <td>0</td>\n    </tr>\n  </tbody>\n</table>\n</div>"
          },
          "metadata": {}
        }
      ],
      "execution_count": 16,
      "metadata": {
        "jupyter": {
          "source_hidden": false,
          "outputs_hidden": false
        },
        "nteract": {
          "transient": {
            "deleting": false
          }
        },
        "gather": {
          "logged": 1699660278699
        }
      }
    },
    {
      "cell_type": "code",
      "source": [
        "# missing_vals_pd = missing_vals.toPandas()"
      ],
      "outputs": [
        {
          "output_type": "display_data",
          "data": {
            "application/vnd.livy.statement-meta+json": {
              "spark_pool": "9d2667d4-d95f-4c64-adf7-bfab734cf5c0",
              "session_id": "35",
              "statement_id": 18,
              "state": "finished",
              "livy_statement_state": "available",
              "queued_time": "2023-11-10T23:21:59.9567696Z",
              "session_start_time": null,
              "execution_start_time": "2023-11-10T23:22:00.1027993Z",
              "execution_finish_time": "2023-11-10T23:22:38.7546131Z",
              "spark_jobs": {
                "numbers": {
                  "FAILED": 0,
                  "SUCCEEDED": 2,
                  "RUNNING": 0,
                  "UNKNOWN": 0
                },
                "jobs": [
                  {
                    "displayName": "toPandas at /tmp/ipykernel_7915/987652583.py:1",
                    "dataWritten": 0,
                    "dataRead": 7304,
                    "rowCount": 100,
                    "usageDescription": "",
                    "jobId": 5,
                    "name": "toPandas at /tmp/ipykernel_7915/987652583.py:1",
                    "description": "Job group for statement 18:\nmissing_vals_pd = missing_vals.toPandas()",
                    "submissionTime": "2023-11-10T23:22:37.738GMT",
                    "completionTime": "2023-11-10T23:22:38.449GMT",
                    "stageIds": [
                      6,
                      7
                    ],
                    "jobGroup": "18",
                    "status": "SUCCEEDED",
                    "numTasks": 101,
                    "numActiveTasks": 0,
                    "numCompletedTasks": 1,
                    "numSkippedTasks": 100,
                    "numFailedTasks": 0,
                    "numKilledTasks": 0,
                    "numCompletedIndices": 1,
                    "numActiveStages": 0,
                    "numCompletedStages": 1,
                    "numSkippedStages": 1,
                    "numFailedStages": 0,
                    "killedTasksSummary": {}
                  },
                  {
                    "displayName": "toPandas at /tmp/ipykernel_7915/987652583.py:1",
                    "dataWritten": 7304,
                    "dataRead": 750694891,
                    "rowCount": 1017068,
                    "usageDescription": "",
                    "jobId": 4,
                    "name": "toPandas at /tmp/ipykernel_7915/987652583.py:1",
                    "description": "Job group for statement 18:\nmissing_vals_pd = missing_vals.toPandas()",
                    "submissionTime": "2023-11-10T23:22:00.426GMT",
                    "completionTime": "2023-11-10T23:22:37.635GMT",
                    "stageIds": [
                      5
                    ],
                    "jobGroup": "18",
                    "status": "SUCCEEDED",
                    "numTasks": 100,
                    "numActiveTasks": 0,
                    "numCompletedTasks": 100,
                    "numSkippedTasks": 0,
                    "numFailedTasks": 0,
                    "numKilledTasks": 0,
                    "numCompletedIndices": 100,
                    "numActiveStages": 0,
                    "numCompletedStages": 1,
                    "numSkippedStages": 0,
                    "numFailedStages": 0,
                    "killedTasksSummary": {}
                  }
                ],
                "limit": 20,
                "rule": "ALL_DESC"
              },
              "parent_msg_id": "9c5ca014-9178-40ec-9e41-bd92a6de62d2"
            },
            "text/plain": "StatementMeta(9d2667d4-d95f-4c64-adf7-bfab734cf5c0, 35, 18, Finished, Available)"
          },
          "metadata": {}
        }
      ],
      "execution_count": 13,
      "metadata": {
        "jupyter": {
          "source_hidden": false,
          "outputs_hidden": false
        },
        "nteract": {
          "transient": {
            "deleting": false
          }
        },
        "gather": {
          "logged": 1699658558916
        }
      }
    },
    {
      "cell_type": "code",
      "source": [
        "# Convert the DataFrame to long format\n",
        "df_long = missing_vals_pd.melt(var_name='Column', value_name='Missing Values')"
      ],
      "outputs": [
        {
          "output_type": "display_data",
          "data": {
            "application/vnd.livy.statement-meta+json": {
              "spark_pool": "9d2667d4-d95f-4c64-adf7-bfab734cf5c0",
              "session_id": "36",
              "statement_id": 22,
              "state": "finished",
              "livy_statement_state": "available",
              "queued_time": "2023-11-10T23:51:25.2905147Z",
              "session_start_time": null,
              "execution_start_time": "2023-11-10T23:51:25.4557352Z",
              "execution_finish_time": "2023-11-10T23:51:25.740828Z",
              "spark_jobs": {
                "numbers": {
                  "FAILED": 0,
                  "SUCCEEDED": 0,
                  "RUNNING": 0,
                  "UNKNOWN": 0
                },
                "jobs": [],
                "limit": 20,
                "rule": "ALL_DESC"
              },
              "parent_msg_id": "d12f08c0-7981-4e1f-adde-b8d1a05163f1"
            },
            "text/plain": "StatementMeta(9d2667d4-d95f-4c64-adf7-bfab734cf5c0, 36, 22, Finished, Available)"
          },
          "metadata": {}
        }
      ],
      "execution_count": 17,
      "metadata": {
        "jupyter": {
          "source_hidden": false,
          "outputs_hidden": false
        },
        "nteract": {
          "transient": {
            "deleting": false
          }
        },
        "gather": {
          "logged": 1699660285810
        }
      }
    },
    {
      "cell_type": "code",
      "source": [
        "df_long"
      ],
      "outputs": [
        {
          "output_type": "display_data",
          "data": {
            "application/vnd.livy.statement-meta+json": {
              "spark_pool": "9d2667d4-d95f-4c64-adf7-bfab734cf5c0",
              "session_id": "36",
              "statement_id": 23,
              "state": "finished",
              "livy_statement_state": "available",
              "queued_time": "2023-11-10T23:51:27.2721079Z",
              "session_start_time": null,
              "execution_start_time": "2023-11-10T23:51:27.4782382Z",
              "execution_finish_time": "2023-11-10T23:51:27.7889231Z",
              "spark_jobs": {
                "numbers": {
                  "FAILED": 0,
                  "SUCCEEDED": 0,
                  "RUNNING": 0,
                  "UNKNOWN": 0
                },
                "jobs": [],
                "limit": 20,
                "rule": "ALL_DESC"
              },
              "parent_msg_id": "8f64ea76-2f20-49bb-9840-c646972f2c2b"
            },
            "text/plain": "StatementMeta(9d2667d4-d95f-4c64-adf7-bfab734cf5c0, 36, 23, Finished, Available)"
          },
          "metadata": {}
        },
        {
          "output_type": "execute_result",
          "execution_count": 45,
          "data": {
            "text/plain": "              Column  Missing Values\n0          subreddit               0\n1             author               0\n2              title               0\n3           selftext               0\n4        created_utc               0\n5       num_comments               0\n6              score               0\n7            over_18               0\n8              media          892405\n9             pinned               0\n10            locked               0\n11  disable_comments         1016968\n12            domain            8952\n13            hidden               0\n14     distinguished         1015530\n15        hide_score               0",
            "text/html": "<div>\n<style scoped>\n    .dataframe tbody tr th:only-of-type {\n        vertical-align: middle;\n    }\n\n    .dataframe tbody tr th {\n        vertical-align: top;\n    }\n\n    .dataframe thead th {\n        text-align: right;\n    }\n</style>\n<table border=\"1\" class=\"dataframe\">\n  <thead>\n    <tr style=\"text-align: right;\">\n      <th></th>\n      <th>Column</th>\n      <th>Missing Values</th>\n    </tr>\n  </thead>\n  <tbody>\n    <tr>\n      <th>0</th>\n      <td>subreddit</td>\n      <td>0</td>\n    </tr>\n    <tr>\n      <th>1</th>\n      <td>author</td>\n      <td>0</td>\n    </tr>\n    <tr>\n      <th>2</th>\n      <td>title</td>\n      <td>0</td>\n    </tr>\n    <tr>\n      <th>3</th>\n      <td>selftext</td>\n      <td>0</td>\n    </tr>\n    <tr>\n      <th>4</th>\n      <td>created_utc</td>\n      <td>0</td>\n    </tr>\n    <tr>\n      <th>5</th>\n      <td>num_comments</td>\n      <td>0</td>\n    </tr>\n    <tr>\n      <th>6</th>\n      <td>score</td>\n      <td>0</td>\n    </tr>\n    <tr>\n      <th>7</th>\n      <td>over_18</td>\n      <td>0</td>\n    </tr>\n    <tr>\n      <th>8</th>\n      <td>media</td>\n      <td>892405</td>\n    </tr>\n    <tr>\n      <th>9</th>\n      <td>pinned</td>\n      <td>0</td>\n    </tr>\n    <tr>\n      <th>10</th>\n      <td>locked</td>\n      <td>0</td>\n    </tr>\n    <tr>\n      <th>11</th>\n      <td>disable_comments</td>\n      <td>1016968</td>\n    </tr>\n    <tr>\n      <th>12</th>\n      <td>domain</td>\n      <td>8952</td>\n    </tr>\n    <tr>\n      <th>13</th>\n      <td>hidden</td>\n      <td>0</td>\n    </tr>\n    <tr>\n      <th>14</th>\n      <td>distinguished</td>\n      <td>1015530</td>\n    </tr>\n    <tr>\n      <th>15</th>\n      <td>hide_score</td>\n      <td>0</td>\n    </tr>\n  </tbody>\n</table>\n</div>"
          },
          "metadata": {}
        }
      ],
      "execution_count": 18,
      "metadata": {
        "jupyter": {
          "source_hidden": false,
          "outputs_hidden": false
        },
        "nteract": {
          "transient": {
            "deleting": false
          }
        },
        "gather": {
          "logged": 1699660287888
        }
      }
    },
    {
      "cell_type": "code",
      "source": [
        "df_long.to_csv(f\"{CSV_DIR}/num_missing_val.csv\", index=False)"
      ],
      "outputs": [
        {
          "output_type": "display_data",
          "data": {
            "application/vnd.livy.statement-meta+json": {
              "spark_pool": "9d2667d4-d95f-4c64-adf7-bfab734cf5c0",
              "session_id": "36",
              "statement_id": 25,
              "state": "finished",
              "livy_statement_state": "available",
              "queued_time": "2023-11-10T23:52:25.143277Z",
              "session_start_time": null,
              "execution_start_time": "2023-11-10T23:52:25.2730375Z",
              "execution_finish_time": "2023-11-10T23:52:25.5627963Z",
              "spark_jobs": {
                "numbers": {
                  "FAILED": 0,
                  "SUCCEEDED": 0,
                  "RUNNING": 0,
                  "UNKNOWN": 0
                },
                "jobs": [],
                "limit": 20,
                "rule": "ALL_DESC"
              },
              "parent_msg_id": "8e35439a-4dd6-44f3-bd6f-05453cfdc4f5"
            },
            "text/plain": "StatementMeta(9d2667d4-d95f-4c64-adf7-bfab734cf5c0, 36, 25, Finished, Available)"
          },
          "metadata": {}
        }
      ],
      "execution_count": 20,
      "metadata": {
        "jupyter": {
          "source_hidden": false,
          "outputs_hidden": false
        },
        "nteract": {
          "transient": {
            "deleting": false
          }
        },
        "gather": {
          "logged": 1699660345651
        }
      }
    },
    {
      "cell_type": "markdown",
      "source": [
        "### Feature Engineering"
      ],
      "metadata": {
        "nteract": {
          "transient": {
            "deleting": false
          }
        }
      }
    },
    {
      "cell_type": "markdown",
      "source": [
        "Counting the length of the posted submission:"
      ],
      "metadata": {
        "nteract": {
          "transient": {
            "deleting": false
          }
        }
      }
    },
    {
      "cell_type": "code",
      "source": [
        "from pyspark.sql.functions import length\n",
        "\n",
        "# Assuming your DataFrame is named `df`\n",
        "df = df.withColumn('post_length', length(df.title) + length(df.selftext))"
      ],
      "outputs": [
        {
          "output_type": "display_data",
          "data": {
            "application/vnd.livy.statement-meta+json": {
              "spark_pool": "9d2667d4-d95f-4c64-adf7-bfab734cf5c0",
              "session_id": "47",
              "statement_id": 24,
              "state": "finished",
              "livy_statement_state": "available",
              "queued_time": "2023-11-11T02:36:27.4434963Z",
              "session_start_time": null,
              "execution_start_time": "2023-11-11T02:36:27.5473973Z",
              "execution_finish_time": "2023-11-11T02:36:27.8402218Z",
              "spark_jobs": {
                "numbers": {
                  "FAILED": 0,
                  "SUCCEEDED": 0,
                  "RUNNING": 0,
                  "UNKNOWN": 0
                },
                "jobs": [],
                "limit": 20,
                "rule": "ALL_DESC"
              },
              "parent_msg_id": "cf4e0594-ed2d-41fa-8e8b-8b7e2100c9d3"
            },
            "text/plain": "StatementMeta(9d2667d4-d95f-4c64-adf7-bfab734cf5c0, 47, 24, Finished, Available)"
          },
          "metadata": {}
        }
      ],
      "execution_count": 19,
      "metadata": {
        "jupyter": {
          "source_hidden": false,
          "outputs_hidden": false
        },
        "nteract": {
          "transient": {
            "deleting": false
          }
        },
        "gather": {
          "logged": 1699670188168
        }
      }
    },
    {
      "cell_type": "markdown",
      "source": [
        "Extracting meaningful information from datetime column:"
      ],
      "metadata": {
        "nteract": {
          "transient": {
            "deleting": false
          }
        }
      }
    },
    {
      "cell_type": "code",
      "source": [
        "from pyspark.sql import functions as F\n",
        "\n",
        "df = df.withColumn('created_utc', F.to_timestamp('created_utc'))\n",
        "\n",
        "# Extract time-based features\n",
        "df = df.withColumn('hour_of_day', F.hour('created_utc'))\n",
        "df = df.withColumn('day_of_week', F.dayofweek('created_utc'))  # 1 (Sunday) to 7 (Saturday)\n",
        "# Map each day of the week from numeric to string\n",
        "df = df.withColumn('day_of_week_str', F.expr(\"\"\"\n",
        "    CASE day_of_week \n",
        "        WHEN 1 THEN 'Sunday'\n",
        "        WHEN 2 THEN 'Monday'\n",
        "        WHEN 3 THEN 'Tuesday'\n",
        "        WHEN 4 THEN 'Wednesday'\n",
        "        WHEN 5 THEN 'Thursday'\n",
        "        WHEN 6 THEN 'Friday'\n",
        "        WHEN 7 THEN 'Saturday'\n",
        "    END\n",
        "\"\"\"))\n",
        "df = df.withColumn('day_of_month', F.dayofmonth('created_utc'))\n",
        "df = df.withColumn('month', F.month('created_utc'))\n",
        "df = df.withColumn('year', F.year('created_utc'))"
      ],
      "outputs": [
        {
          "output_type": "display_data",
          "data": {
            "application/vnd.livy.statement-meta+json": {
              "spark_pool": "9d2667d4-d95f-4c64-adf7-bfab734cf5c0",
              "session_id": "47",
              "statement_id": 25,
              "state": "finished",
              "livy_statement_state": "available",
              "queued_time": "2023-11-11T02:36:27.785642Z",
              "session_start_time": null,
              "execution_start_time": "2023-11-11T02:36:27.9436395Z",
              "execution_finish_time": "2023-11-11T02:36:28.7629658Z",
              "spark_jobs": {
                "numbers": {
                  "FAILED": 0,
                  "SUCCEEDED": 0,
                  "RUNNING": 0,
                  "UNKNOWN": 0
                },
                "jobs": [],
                "limit": 20,
                "rule": "ALL_DESC"
              },
              "parent_msg_id": "41305946-9415-438c-8675-d19217219b21"
            },
            "text/plain": "StatementMeta(9d2667d4-d95f-4c64-adf7-bfab734cf5c0, 47, 25, Finished, Available)"
          },
          "metadata": {}
        }
      ],
      "execution_count": 20,
      "metadata": {
        "jupyter": {
          "source_hidden": false,
          "outputs_hidden": false
        },
        "nteract": {
          "transient": {
            "deleting": false
          }
        },
        "gather": {
          "logged": 1699670189211
        }
      }
    },
    {
      "cell_type": "markdown",
      "source": [
        "Converting media column to boolean:"
      ],
      "metadata": {
        "nteract": {
          "transient": {
            "deleting": false
          }
        }
      }
    },
    {
      "cell_type": "code",
      "source": [
        "df = df.withColumn('has_media', F.col('media').isNotNull())"
      ],
      "outputs": [
        {
          "output_type": "display_data",
          "data": {
            "application/vnd.livy.statement-meta+json": {
              "spark_pool": "9d2667d4-d95f-4c64-adf7-bfab734cf5c0",
              "session_id": "47",
              "statement_id": 26,
              "state": "finished",
              "livy_statement_state": "available",
              "queued_time": "2023-11-11T02:36:28.2598224Z",
              "session_start_time": null,
              "execution_start_time": "2023-11-11T02:36:28.8551881Z",
              "execution_finish_time": "2023-11-11T02:36:29.1683499Z",
              "spark_jobs": {
                "numbers": {
                  "FAILED": 0,
                  "SUCCEEDED": 0,
                  "RUNNING": 0,
                  "UNKNOWN": 0
                },
                "jobs": [],
                "limit": 20,
                "rule": "ALL_DESC"
              },
              "parent_msg_id": "fe43b210-87be-43eb-95d5-13fe108a54d5"
            },
            "text/plain": "StatementMeta(9d2667d4-d95f-4c64-adf7-bfab734cf5c0, 47, 26, Finished, Available)"
          },
          "metadata": {}
        }
      ],
      "execution_count": 21,
      "metadata": {
        "jupyter": {
          "source_hidden": false,
          "outputs_hidden": false
        },
        "nteract": {
          "transient": {
            "deleting": false
          }
        },
        "gather": {
          "logged": 1699670189611
        }
      }
    },
    {
      "cell_type": "code",
      "source": [
        "df = df.drop(*[\"media\", \"created_utc\", \"disable_comments\", \"distinguished\"])"
      ],
      "outputs": [
        {
          "output_type": "display_data",
          "data": {
            "application/vnd.livy.statement-meta+json": {
              "spark_pool": "9d2667d4-d95f-4c64-adf7-bfab734cf5c0",
              "session_id": "47",
              "statement_id": 27,
              "state": "finished",
              "livy_statement_state": "available",
              "queued_time": "2023-11-11T02:36:57.2840099Z",
              "session_start_time": null,
              "execution_start_time": "2023-11-11T02:36:57.3741298Z",
              "execution_finish_time": "2023-11-11T02:36:57.6589366Z",
              "spark_jobs": {
                "numbers": {
                  "FAILED": 0,
                  "SUCCEEDED": 0,
                  "RUNNING": 0,
                  "UNKNOWN": 0
                },
                "jobs": [],
                "limit": 20,
                "rule": "ALL_DESC"
              },
              "parent_msg_id": "ab9001cb-eca8-4696-9f13-968183c6c434"
            },
            "text/plain": "StatementMeta(9d2667d4-d95f-4c64-adf7-bfab734cf5c0, 47, 27, Finished, Available)"
          },
          "metadata": {}
        }
      ],
      "execution_count": 22,
      "metadata": {
        "jupyter": {
          "source_hidden": false,
          "outputs_hidden": false
        },
        "nteract": {
          "transient": {
            "deleting": false
          }
        },
        "gather": {
          "logged": 1699670217915
        }
      }
    },
    {
      "cell_type": "code",
      "source": [
        "df.printSchema()"
      ],
      "outputs": [
        {
          "output_type": "display_data",
          "data": {
            "application/vnd.livy.statement-meta+json": {
              "spark_pool": "9d2667d4-d95f-4c64-adf7-bfab734cf5c0",
              "session_id": "47",
              "statement_id": 28,
              "state": "finished",
              "livy_statement_state": "available",
              "queued_time": "2023-11-11T02:36:59.2989065Z",
              "session_start_time": null,
              "execution_start_time": "2023-11-11T02:36:59.6536652Z",
              "execution_finish_time": "2023-11-11T02:36:59.9483238Z",
              "spark_jobs": {
                "numbers": {
                  "FAILED": 0,
                  "SUCCEEDED": 0,
                  "RUNNING": 0,
                  "UNKNOWN": 0
                },
                "jobs": [],
                "limit": 20,
                "rule": "ALL_DESC"
              },
              "parent_msg_id": "beac504a-bc49-4f7a-b1b7-c769ceadf377"
            },
            "text/plain": "StatementMeta(9d2667d4-d95f-4c64-adf7-bfab734cf5c0, 47, 28, Finished, Available)"
          },
          "metadata": {}
        },
        {
          "output_type": "stream",
          "name": "stdout",
          "text": "root\n |-- subreddit: string (nullable = true)\n |-- author: string (nullable = true)\n |-- title: string (nullable = true)\n |-- selftext: string (nullable = true)\n |-- num_comments: long (nullable = true)\n |-- score: long (nullable = true)\n |-- over_18: boolean (nullable = true)\n |-- pinned: boolean (nullable = true)\n |-- locked: boolean (nullable = true)\n |-- domain: string (nullable = true)\n |-- hidden: boolean (nullable = true)\n |-- hide_score: boolean (nullable = true)\n |-- post_length: integer (nullable = true)\n |-- hour_of_day: integer (nullable = true)\n |-- day_of_week: integer (nullable = true)\n |-- day_of_week_str: string (nullable = true)\n |-- day_of_month: integer (nullable = true)\n |-- month: integer (nullable = true)\n |-- year: integer (nullable = true)\n |-- has_media: boolean (nullable = false)\n\n"
        }
      ],
      "execution_count": 23,
      "metadata": {
        "jupyter": {
          "source_hidden": false,
          "outputs_hidden": false
        },
        "nteract": {
          "transient": {
            "deleting": false
          }
        },
        "gather": {
          "logged": 1699670220119
        }
      }
    },
    {
      "cell_type": "markdown",
      "source": [
        "## Read CSVs exported from the Spark Job"
      ],
      "metadata": {
        "nteract": {
          "transient": {
            "deleting": false
          }
        }
      }
    },
    {
      "cell_type": "code",
      "source": [
        "import pandas as pd"
      ],
      "outputs": [
        {
          "output_type": "display_data",
          "data": {
            "application/vnd.livy.statement-meta+json": {
              "spark_pool": "9d2667d4-d95f-4c64-adf7-bfab734cf5c0",
              "session_id": "47",
              "statement_id": 8,
              "state": "finished",
              "livy_statement_state": "available",
              "queued_time": "2023-11-11T02:13:08.2748351Z",
              "session_start_time": null,
              "execution_start_time": "2023-11-11T02:13:08.3720905Z",
              "execution_finish_time": "2023-11-11T02:13:09.1645905Z",
              "spark_jobs": {
                "numbers": {
                  "FAILED": 0,
                  "SUCCEEDED": 0,
                  "RUNNING": 0,
                  "UNKNOWN": 0
                },
                "jobs": [],
                "limit": 20,
                "rule": "ALL_DESC"
              },
              "parent_msg_id": "41a6ea70-e0b8-40a9-b124-0c72dd261696"
            },
            "text/plain": "StatementMeta(9d2667d4-d95f-4c64-adf7-bfab734cf5c0, 47, 8, Finished, Available)"
          },
          "metadata": {}
        }
      ],
      "execution_count": 3,
      "metadata": {
        "jupyter": {
          "source_hidden": false,
          "outputs_hidden": false
        },
        "nteract": {
          "transient": {
            "deleting": false
          }
        },
        "gather": {
          "logged": 1699668789387
        }
      }
    },
    {
      "cell_type": "code",
      "source": [
        "# Define the path to your CSV file\n",
        "csv_file_path_1 = f\"{datastore}csv/subreddit_count_eda.csv\"\n",
        "csv_file_path_2 = f\"{datastore}csv/num_missing_val_eda.csv\"\n",
        "csv_file_path_3 = f\"{datastore}csv/datetime_counts_eda.csv\"\n",
        "\n",
        "# Read the CSV file using PySpark\n",
        "df_subreddit_count = spark.read.csv(csv_file_path_1, header=True, inferSchema=True)\n",
        "df_num_missing = spark.read.csv(csv_file_path_2, header=True, inferSchema=True)\n",
        "df_datetime = spark.read.csv(csv_file_path_3, header=True, inferSchema=True)"
      ],
      "outputs": [
        {
          "output_type": "display_data",
          "data": {
            "application/vnd.livy.statement-meta+json": {
              "spark_pool": "9d2667d4-d95f-4c64-adf7-bfab734cf5c0",
              "session_id": "47",
              "statement_id": 16,
              "state": "finished",
              "livy_statement_state": "available",
              "queued_time": "2023-11-11T02:18:50.3648965Z",
              "session_start_time": null,
              "execution_start_time": "2023-11-11T02:18:50.4576387Z",
              "execution_finish_time": "2023-11-11T02:19:06.9043178Z",
              "spark_jobs": {
                "numbers": {
                  "FAILED": 0,
                  "SUCCEEDED": 6,
                  "RUNNING": 0,
                  "UNKNOWN": 0
                },
                "jobs": [
                  {
                    "displayName": "csv at NativeMethodAccessorImpl.java:0",
                    "dataWritten": 0,
                    "dataRead": 866653,
                    "rowCount": 26173,
                    "usageDescription": "",
                    "jobId": 9,
                    "name": "csv at NativeMethodAccessorImpl.java:0",
                    "description": "Job group for statement 16:\n# Define the path to your CSV file\ncsv_file_path_1 = f\"{datastore}csv/subreddit_count_eda.csv\"\ncsv_file_path_2 = f\"{datastore}csv/num_missing_val_eda.csv\"\ncsv_file_path_3 = f\"{datastore}csv/datetime_counts_eda.csv\"\n\n# Read the CSV file using PySpark\ndf_subreddit_count = spark.read.csv(csv_file_path_1, header=True, inferSchema=True)\ndf_num_missing = spark.read.csv(csv_file_path_2, header=True, inferSchema=True)\ndf_datetime = spark.read.csv(csv_file_path_3, header=True, inferSchema=True)",
                    "submissionTime": "2023-11-11T02:19:03.484GMT",
                    "completionTime": "2023-11-11T02:19:05.498GMT",
                    "stageIds": [
                      9
                    ],
                    "jobGroup": "16",
                    "status": "SUCCEEDED",
                    "numTasks": 7,
                    "numActiveTasks": 0,
                    "numCompletedTasks": 7,
                    "numSkippedTasks": 0,
                    "numFailedTasks": 0,
                    "numKilledTasks": 0,
                    "numCompletedIndices": 7,
                    "numActiveStages": 0,
                    "numCompletedStages": 1,
                    "numSkippedStages": 0,
                    "numFailedStages": 0,
                    "killedTasksSummary": {}
                  },
                  {
                    "displayName": "csv at NativeMethodAccessorImpl.java:0",
                    "dataWritten": 0,
                    "dataRead": 65536,
                    "rowCount": 1,
                    "usageDescription": "",
                    "jobId": 8,
                    "name": "csv at NativeMethodAccessorImpl.java:0",
                    "description": "Job group for statement 16:\n# Define the path to your CSV file\ncsv_file_path_1 = f\"{datastore}csv/subreddit_count_eda.csv\"\ncsv_file_path_2 = f\"{datastore}csv/num_missing_val_eda.csv\"\ncsv_file_path_3 = f\"{datastore}csv/datetime_counts_eda.csv\"\n\n# Read the CSV file using PySpark\ndf_subreddit_count = spark.read.csv(csv_file_path_1, header=True, inferSchema=True)\ndf_num_missing = spark.read.csv(csv_file_path_2, header=True, inferSchema=True)\ndf_datetime = spark.read.csv(csv_file_path_3, header=True, inferSchema=True)",
                    "submissionTime": "2023-11-11T02:19:03.176GMT",
                    "completionTime": "2023-11-11T02:19:03.393GMT",
                    "stageIds": [
                      8
                    ],
                    "jobGroup": "16",
                    "status": "SUCCEEDED",
                    "numTasks": 1,
                    "numActiveTasks": 0,
                    "numCompletedTasks": 1,
                    "numSkippedTasks": 0,
                    "numFailedTasks": 0,
                    "numKilledTasks": 0,
                    "numCompletedIndices": 1,
                    "numActiveStages": 0,
                    "numCompletedStages": 1,
                    "numSkippedStages": 0,
                    "numFailedStages": 0,
                    "killedTasksSummary": {}
                  },
                  {
                    "displayName": "csv at NativeMethodAccessorImpl.java:0",
                    "dataWritten": 0,
                    "dataRead": 199,
                    "rowCount": 2,
                    "usageDescription": "",
                    "jobId": 7,
                    "name": "csv at NativeMethodAccessorImpl.java:0",
                    "description": "Job group for statement 16:\n# Define the path to your CSV file\ncsv_file_path_1 = f\"{datastore}csv/subreddit_count_eda.csv\"\ncsv_file_path_2 = f\"{datastore}csv/num_missing_val_eda.csv\"\ncsv_file_path_3 = f\"{datastore}csv/datetime_counts_eda.csv\"\n\n# Read the CSV file using PySpark\ndf_subreddit_count = spark.read.csv(csv_file_path_1, header=True, inferSchema=True)\ndf_num_missing = spark.read.csv(csv_file_path_2, header=True, inferSchema=True)\ndf_datetime = spark.read.csv(csv_file_path_3, header=True, inferSchema=True)",
                    "submissionTime": "2023-11-11T02:19:00.389GMT",
                    "completionTime": "2023-11-11T02:19:02.675GMT",
                    "stageIds": [
                      7
                    ],
                    "jobGroup": "16",
                    "status": "SUCCEEDED",
                    "numTasks": 1,
                    "numActiveTasks": 0,
                    "numCompletedTasks": 1,
                    "numSkippedTasks": 0,
                    "numFailedTasks": 0,
                    "numKilledTasks": 0,
                    "numCompletedIndices": 1,
                    "numActiveStages": 0,
                    "numCompletedStages": 1,
                    "numSkippedStages": 0,
                    "numFailedStages": 0,
                    "killedTasksSummary": {}
                  },
                  {
                    "displayName": "csv at NativeMethodAccessorImpl.java:0",
                    "dataWritten": 0,
                    "dataRead": 199,
                    "rowCount": 1,
                    "usageDescription": "",
                    "jobId": 6,
                    "name": "csv at NativeMethodAccessorImpl.java:0",
                    "description": "Job group for statement 16:\n# Define the path to your CSV file\ncsv_file_path_1 = f\"{datastore}csv/subreddit_count_eda.csv\"\ncsv_file_path_2 = f\"{datastore}csv/num_missing_val_eda.csv\"\ncsv_file_path_3 = f\"{datastore}csv/datetime_counts_eda.csv\"\n\n# Read the CSV file using PySpark\ndf_subreddit_count = spark.read.csv(csv_file_path_1, header=True, inferSchema=True)\ndf_num_missing = spark.read.csv(csv_file_path_2, header=True, inferSchema=True)\ndf_datetime = spark.read.csv(csv_file_path_3, header=True, inferSchema=True)",
                    "submissionTime": "2023-11-11T02:19:00.019GMT",
                    "completionTime": "2023-11-11T02:19:00.282GMT",
                    "stageIds": [
                      6
                    ],
                    "jobGroup": "16",
                    "status": "SUCCEEDED",
                    "numTasks": 1,
                    "numActiveTasks": 0,
                    "numCompletedTasks": 1,
                    "numSkippedTasks": 0,
                    "numFailedTasks": 0,
                    "numKilledTasks": 0,
                    "numCompletedIndices": 1,
                    "numActiveStages": 0,
                    "numCompletedStages": 1,
                    "numSkippedStages": 0,
                    "numFailedStages": 0,
                    "killedTasksSummary": {}
                  },
                  {
                    "displayName": "csv at NativeMethodAccessorImpl.java:0",
                    "dataWritten": 0,
                    "dataRead": 129,
                    "rowCount": 7,
                    "usageDescription": "",
                    "jobId": 5,
                    "name": "csv at NativeMethodAccessorImpl.java:0",
                    "description": "Job group for statement 16:\n# Define the path to your CSV file\ncsv_file_path_1 = f\"{datastore}csv/subreddit_count_eda.csv\"\ncsv_file_path_2 = f\"{datastore}csv/num_missing_val_eda.csv\"\ncsv_file_path_3 = f\"{datastore}csv/datetime_counts_eda.csv\"\n\n# Read the CSV file using PySpark\ndf_subreddit_count = spark.read.csv(csv_file_path_1, header=True, inferSchema=True)\ndf_num_missing = spark.read.csv(csv_file_path_2, header=True, inferSchema=True)\ndf_datetime = spark.read.csv(csv_file_path_3, header=True, inferSchema=True)",
                    "submissionTime": "2023-11-11T02:18:51.273GMT",
                    "completionTime": "2023-11-11T02:18:59.747GMT",
                    "stageIds": [
                      5
                    ],
                    "jobGroup": "16",
                    "status": "SUCCEEDED",
                    "numTasks": 1,
                    "numActiveTasks": 0,
                    "numCompletedTasks": 1,
                    "numSkippedTasks": 0,
                    "numFailedTasks": 0,
                    "numKilledTasks": 0,
                    "numCompletedIndices": 1,
                    "numActiveStages": 0,
                    "numCompletedStages": 1,
                    "numSkippedStages": 0,
                    "numFailedStages": 0,
                    "killedTasksSummary": {}
                  },
                  {
                    "displayName": "csv at NativeMethodAccessorImpl.java:0",
                    "dataWritten": 0,
                    "dataRead": 129,
                    "rowCount": 1,
                    "usageDescription": "",
                    "jobId": 4,
                    "name": "csv at NativeMethodAccessorImpl.java:0",
                    "description": "Job group for statement 16:\n# Define the path to your CSV file\ncsv_file_path_1 = f\"{datastore}csv/subreddit_count_eda.csv\"\ncsv_file_path_2 = f\"{datastore}csv/num_missing_val_eda.csv\"\ncsv_file_path_3 = f\"{datastore}csv/datetime_counts_eda.csv\"\n\n# Read the CSV file using PySpark\ndf_subreddit_count = spark.read.csv(csv_file_path_1, header=True, inferSchema=True)\ndf_num_missing = spark.read.csv(csv_file_path_2, header=True, inferSchema=True)\ndf_datetime = spark.read.csv(csv_file_path_3, header=True, inferSchema=True)",
                    "submissionTime": "2023-11-11T02:18:50.953GMT",
                    "completionTime": "2023-11-11T02:18:51.179GMT",
                    "stageIds": [
                      4
                    ],
                    "jobGroup": "16",
                    "status": "SUCCEEDED",
                    "numTasks": 1,
                    "numActiveTasks": 0,
                    "numCompletedTasks": 1,
                    "numSkippedTasks": 0,
                    "numFailedTasks": 0,
                    "numKilledTasks": 0,
                    "numCompletedIndices": 1,
                    "numActiveStages": 0,
                    "numCompletedStages": 1,
                    "numSkippedStages": 0,
                    "numFailedStages": 0,
                    "killedTasksSummary": {}
                  }
                ],
                "limit": 20,
                "rule": "ALL_DESC"
              },
              "parent_msg_id": "40550176-9985-4677-bd7b-2e65e25a6dba"
            },
            "text/plain": "StatementMeta(9d2667d4-d95f-4c64-adf7-bfab734cf5c0, 47, 16, Finished, Available)"
          },
          "metadata": {}
        }
      ],
      "execution_count": 11,
      "metadata": {
        "jupyter": {
          "source_hidden": false,
          "outputs_hidden": false
        },
        "nteract": {
          "transient": {
            "deleting": false
          }
        },
        "gather": {
          "logged": 1699669147149
        }
      }
    },
    {
      "cell_type": "code",
      "source": [
        "df_subreddit_count_pd = df_subreddit_count.toPandas()\n",
        "df_num_missing_pd = df_num_missing.toPandas()\n",
        "df_datetime_pd = df_datetime.toPandas()"
      ],
      "outputs": [
        {
          "output_type": "display_data",
          "data": {
            "application/vnd.livy.statement-meta+json": {
              "spark_pool": "9d2667d4-d95f-4c64-adf7-bfab734cf5c0",
              "session_id": "47",
              "statement_id": 17,
              "state": "finished",
              "livy_statement_state": "available",
              "queued_time": "2023-11-11T02:19:13.565377Z",
              "session_start_time": null,
              "execution_start_time": "2023-11-11T02:19:13.6591358Z",
              "execution_finish_time": "2023-11-11T02:19:17.1451544Z",
              "spark_jobs": {
                "numbers": {
                  "FAILED": 0,
                  "SUCCEEDED": 3,
                  "RUNNING": 0,
                  "UNKNOWN": 0
                },
                "jobs": [
                  {
                    "displayName": "toPandas at /tmp/ipykernel_6333/1124625825.py:3",
                    "dataWritten": 0,
                    "dataRead": 866653,
                    "rowCount": 26166,
                    "usageDescription": "",
                    "jobId": 12,
                    "name": "toPandas at /tmp/ipykernel_6333/1124625825.py:3",
                    "description": "Job group for statement 17:\ndf_subreddit_count_pd = df_subreddit_count.toPandas()\ndf_num_missing_pd = df_num_missing.toPandas()\ndf_datetime_pd = df_datetime.toPandas()",
                    "submissionTime": "2023-11-11T02:19:14.989GMT",
                    "completionTime": "2023-11-11T02:19:15.959GMT",
                    "stageIds": [
                      12
                    ],
                    "jobGroup": "17",
                    "status": "SUCCEEDED",
                    "numTasks": 7,
                    "numActiveTasks": 0,
                    "numCompletedTasks": 7,
                    "numSkippedTasks": 0,
                    "numFailedTasks": 0,
                    "numKilledTasks": 0,
                    "numCompletedIndices": 7,
                    "numActiveStages": 0,
                    "numCompletedStages": 1,
                    "numSkippedStages": 0,
                    "numFailedStages": 0,
                    "killedTasksSummary": {}
                  },
                  {
                    "displayName": "toPandas at /tmp/ipykernel_6333/1124625825.py:2",
                    "dataWritten": 0,
                    "dataRead": 199,
                    "rowCount": 1,
                    "usageDescription": "",
                    "jobId": 11,
                    "name": "toPandas at /tmp/ipykernel_6333/1124625825.py:2",
                    "description": "Job group for statement 17:\ndf_subreddit_count_pd = df_subreddit_count.toPandas()\ndf_num_missing_pd = df_num_missing.toPandas()\ndf_datetime_pd = df_datetime.toPandas()",
                    "submissionTime": "2023-11-11T02:19:14.567GMT",
                    "completionTime": "2023-11-11T02:19:14.849GMT",
                    "stageIds": [
                      11
                    ],
                    "jobGroup": "17",
                    "status": "SUCCEEDED",
                    "numTasks": 1,
                    "numActiveTasks": 0,
                    "numCompletedTasks": 1,
                    "numSkippedTasks": 0,
                    "numFailedTasks": 0,
                    "numKilledTasks": 0,
                    "numCompletedIndices": 1,
                    "numActiveStages": 0,
                    "numCompletedStages": 1,
                    "numSkippedStages": 0,
                    "numFailedStages": 0,
                    "killedTasksSummary": {}
                  },
                  {
                    "displayName": "toPandas at /tmp/ipykernel_6333/1124625825.py:1",
                    "dataWritten": 0,
                    "dataRead": 129,
                    "rowCount": 6,
                    "usageDescription": "",
                    "jobId": 10,
                    "name": "toPandas at /tmp/ipykernel_6333/1124625825.py:1",
                    "description": "Job group for statement 17:\ndf_subreddit_count_pd = df_subreddit_count.toPandas()\ndf_num_missing_pd = df_num_missing.toPandas()\ndf_datetime_pd = df_datetime.toPandas()",
                    "submissionTime": "2023-11-11T02:19:13.750GMT",
                    "completionTime": "2023-11-11T02:19:14.316GMT",
                    "stageIds": [
                      10
                    ],
                    "jobGroup": "17",
                    "status": "SUCCEEDED",
                    "numTasks": 1,
                    "numActiveTasks": 0,
                    "numCompletedTasks": 1,
                    "numSkippedTasks": 0,
                    "numFailedTasks": 0,
                    "numKilledTasks": 0,
                    "numCompletedIndices": 1,
                    "numActiveStages": 0,
                    "numCompletedStages": 1,
                    "numSkippedStages": 0,
                    "numFailedStages": 0,
                    "killedTasksSummary": {}
                  }
                ],
                "limit": 20,
                "rule": "ALL_DESC"
              },
              "parent_msg_id": "8bfb86f0-2958-42b8-bfd0-1ca3355fb7b3"
            },
            "text/plain": "StatementMeta(9d2667d4-d95f-4c64-adf7-bfab734cf5c0, 47, 17, Finished, Available)"
          },
          "metadata": {}
        }
      ],
      "execution_count": 12,
      "metadata": {
        "jupyter": {
          "source_hidden": false,
          "outputs_hidden": false
        },
        "nteract": {
          "transient": {
            "deleting": false
          }
        },
        "gather": {
          "logged": 1699669157316
        }
      }
    }
  ],
  "metadata": {
    "kernelspec": {
      "name": "synapse_pyspark",
      "language": "Python",
      "display_name": "Synapse PySpark"
    },
    "language_info": {
      "name": "python",
      "version": "3.8.0",
      "mimetype": "text/x-python",
      "file_extension": ".py",
      "pygments_lexer": "ipython",
      "codemirror_mode": "ipython",
      "nbconvert_exporter": "python"
    },
    "microsoft": {
      "ms_spell_check": {
        "ms_spell_check_language": "en"
      },
      "host": {
        "AzureML": {
          "notebookHasBeenCompleted": true
        }
      }
    },
    "kernel_info": {
      "name": "synapse_pyspark"
    },
    "nteract": {
      "version": "nteract-front-end@1.0.0"
    }
  },
  "nbformat": 4,
  "nbformat_minor": 2
}